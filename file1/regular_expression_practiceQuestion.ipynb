{
 "cells": [
  {
   "cell_type": "markdown",
   "id": "3f1a8b0b",
   "metadata": {},
   "source": [
    "REGULAR EXPRESSION PRACTICE QUESTIONS"
   ]
  },
  {
   "cell_type": "markdown",
   "id": "9fb1a1eb",
   "metadata": {},
   "source": [
    "Q1. Write a Regex pattern in python program to check that a string contain only a certain set of character"
   ]
  },
  {
   "cell_type": "code",
   "execution_count": 26,
   "id": "d162c763",
   "metadata": {},
   "outputs": [
    {
     "name": "stdout",
     "output_type": "stream",
     "text": [
      "Apple\n",
      "cost\n",
      "Rs\n",
      "129\n",
      "and\n",
      "pinapple\n",
      "cost\n",
      "RS\n",
      "150\n"
     ]
    }
   ],
   "source": [
    "import re\n",
    "text='Apple cost Rs 129 and pinapple cost RS 150'\n",
    "pattern=r'([a-zA-z0-9]+)'\n",
    "result=re.finditer(pattern,text)\n",
    "for match in result:\n",
    "     print(match.group(1))"
   ]
  },
  {
   "cell_type": "markdown",
   "id": "c881819e",
   "metadata": {},
   "source": [
    "Q2 Write a regex pattern that matches a string that has an a followed by zero or more b's"
   ]
  },
  {
   "cell_type": "code",
   "execution_count": 30,
   "id": "a70e1700",
   "metadata": {},
   "outputs": [
    {
     "name": "stdout",
     "output_type": "stream",
     "text": [
      "0 6\n"
     ]
    }
   ],
   "source": [
    "text1='abbbbbcde'\n",
    "pattern1=r'ab*'\n",
    "result=re.search(pattern1,text1)\n",
    "print(result.start(),result.end())"
   ]
  },
  {
   "cell_type": "markdown",
   "id": "b0e26250",
   "metadata": {},
   "source": [
    "Q3 Write a regex pattern that matches a string that has an a followed by one or more b's"
   ]
  },
  {
   "cell_type": "code",
   "execution_count": 31,
   "id": "8d41d434",
   "metadata": {},
   "outputs": [
    {
     "name": "stdout",
     "output_type": "stream",
     "text": [
      "0 6\n"
     ]
    }
   ],
   "source": [
    "text2='abbbbbcde'\n",
    "pattern2=r'ab+'\n",
    "result=re.search(pattern1,text1)\n",
    "print(result.start(),result.end())"
   ]
  },
  {
   "cell_type": "code",
   "execution_count": null,
   "id": "c44f7651",
   "metadata": {},
   "outputs": [],
   "source": [
    "Q4 Write a regex pattern that matches a string that has an a followed by zero or one b"
   ]
  },
  {
   "cell_type": "code",
   "execution_count": 65,
   "id": "ad0ae0c1",
   "metadata": {},
   "outputs": [
    {
     "name": "stdout",
     "output_type": "stream",
     "text": [
      "<re.Match object; span=(0, 2), match='ab'>\n",
      "0 2\n"
     ]
    }
   ],
   "source": [
    "text3='abb ab debcde'\n",
    "pattern3=r'ab?'\n",
    "result=re.search(pattern3,text3)\n",
    "print(result)\n",
    "print(result.start(),result.end())"
   ]
  },
  {
   "cell_type": "code",
   "execution_count": null,
   "id": "86bee162",
   "metadata": {},
   "outputs": [],
   "source": [
    "Q5 Write a regex pattern that matches a string that has an a followed by three b"
   ]
  },
  {
   "cell_type": "code",
   "execution_count": 60,
   "id": "3127043d",
   "metadata": {},
   "outputs": [
    {
     "name": "stdout",
     "output_type": "stream",
     "text": [
      "<re.Match object; span=(0, 4), match='abbb'>\n",
      "0 4\n"
     ]
    }
   ],
   "source": [
    "text4='abbbcdebcde'\n",
    "pattern4=r'ab{3}'\n",
    "result=re.search(pattern4,text4)\n",
    "print(result)\n",
    "print(result.start(),result.end())"
   ]
  },
  {
   "cell_type": "code",
   "execution_count": null,
   "id": "da4b0096",
   "metadata": {},
   "outputs": [],
   "source": [
    "Q6 Write a regex pattern that matches a string that has an a followed by two or three b"
   ]
  },
  {
   "cell_type": "code",
   "execution_count": 59,
   "id": "292d0864",
   "metadata": {},
   "outputs": [
    {
     "name": "stdout",
     "output_type": "stream",
     "text": [
      "<re.Match object; span=(0, 3), match='abb'>\n",
      "0 3\n"
     ]
    }
   ],
   "source": [
    "text5='abbabbbcdebcde'\n",
    "pattern5=r'ab{2,3}'\n",
    "result=re.search(pattern5,text5)\n",
    "print(result)\n",
    "print(result.start(),result.end())"
   ]
  },
  {
   "cell_type": "markdown",
   "id": "89e77b1f",
   "metadata": {},
   "source": [
    "Q7 Write a regex pattern that matches a string that has an a followed by anything ending in 'b'"
   ]
  },
  {
   "cell_type": "code",
   "execution_count": 57,
   "id": "a3df1de9",
   "metadata": {},
   "outputs": [
    {
     "name": "stdout",
     "output_type": "stream",
     "text": [
      "<re.Match object; span=(0, 4), match='abbb'>\n",
      "0 4\n"
     ]
    }
   ],
   "source": [
    "text6='abbbcdebcdb'\n",
    "pattern6=r'a.+b\\b|a.+b$'\n",
    "result=re.search(pattern5,text5)\n",
    "print(result)\n",
    "print(result.start(),result.end())"
   ]
  },
  {
   "cell_type": "markdown",
   "id": "577ee6b6",
   "metadata": {},
   "source": [
    "Q8 Write a regex pattern that matches a word at the beginning of a string"
   ]
  },
  {
   "cell_type": "code",
   "execution_count": 56,
   "id": "11b6526c",
   "metadata": {},
   "outputs": [
    {
     "name": "stdout",
     "output_type": "stream",
     "text": [
      "<re.Match object; span=(0, 7), match='welcome'>\n",
      "0 7\n"
     ]
    }
   ],
   "source": [
    "text7='welcome 230124  welcome to the world of data science'\n",
    "pattern7=r'^welcome|\\A welcome'\n",
    "result=re.search(pattern7,text7)\n",
    "print(result)\n",
    "print(result.start(),result.end())"
   ]
  },
  {
   "cell_type": "markdown",
   "id": "06b27b72",
   "metadata": {},
   "source": [
    "Q9 Write a regex pattern that matches a word at the end of a string"
   ]
  },
  {
   "cell_type": "code",
   "execution_count": 55,
   "id": "4b9374ff",
   "metadata": {},
   "outputs": [
    {
     "name": "stdout",
     "output_type": "stream",
     "text": [
      "<re.Match object; span=(44, 51), match='welcome'>\n",
      "44 51\n"
     ]
    }
   ],
   "source": [
    "text8='welcome 230124 to the world of data science welcome'\n",
    "pattern8=r'\\B welcome|welcome$'\n",
    "result=re.search(pattern8,text8)\n",
    "print(result)\n",
    "print(result.start(),result.end())"
   ]
  },
  {
   "cell_type": "code",
   "execution_count": null,
   "id": "6d8b696d",
   "metadata": {},
   "outputs": [],
   "source": [
    "Q10 Write a regex pattern in python program to find all words that are 4 digits long in a string"
   ]
  },
  {
   "cell_type": "code",
   "execution_count": 79,
   "id": "d3935641",
   "metadata": {},
   "outputs": [
    {
     "name": "stdout",
     "output_type": "stream",
     "text": [
      "0132\n",
      "1458\n",
      "2725\n"
     ]
    }
   ],
   "source": [
    "text9='01 0132 231875 1458 301 2725'\n",
    "pattern9=re.compile(r'(\\b\\d{4}\\b)')\n",
    "result=pattern9.finditer(text9)\n",
    "for match in result:\n",
    "    print(match.group(1))\n",
    "#print(result.start(),result.end())"
   ]
  },
  {
   "cell_type": "code",
   "execution_count": null,
   "id": "464e3247",
   "metadata": {},
   "outputs": [],
   "source": []
  },
  {
   "cell_type": "code",
   "execution_count": null,
   "id": "72aeb531",
   "metadata": {},
   "outputs": [],
   "source": []
  }
 ],
 "metadata": {
  "kernelspec": {
   "display_name": "Python 3 (ipykernel)",
   "language": "python",
   "name": "python3"
  },
  "language_info": {
   "codemirror_mode": {
    "name": "ipython",
    "version": 3
   },
   "file_extension": ".py",
   "mimetype": "text/x-python",
   "name": "python",
   "nbconvert_exporter": "python",
   "pygments_lexer": "ipython3",
   "version": "3.11.4"
  }
 },
 "nbformat": 4,
 "nbformat_minor": 5
}
