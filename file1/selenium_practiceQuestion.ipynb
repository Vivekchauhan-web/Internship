{
 "cells": [
  {
   "cell_type": "code",
   "execution_count": null,
   "id": "67080e99",
   "metadata": {},
   "outputs": [],
   "source": []
  },
  {
   "cell_type": "markdown",
   "id": "dd67219c",
   "metadata": {},
   "source": [
    "Q1: Write a python program to scrape data for “Data Analyst” Job position in “Bangalore” location. \n",
    "You have to scrape the job-title, job-location, company_name, experience_required. You have to \n",
    "scrape first 10 jobs data.\n"
   ]
  },
  {
   "cell_type": "code",
   "execution_count": 1,
   "id": "b6419e38",
   "metadata": {},
   "outputs": [],
   "source": [
    "import selenium\n",
    "import pandas as pd \n",
    "from selenium import webdriver\n",
    "import warnings\n",
    "warnings .filterwarnings('ignore')\n",
    "from selenium.webdriver.common.by import By"
   ]
  },
  {
   "cell_type": "code",
   "execution_count": null,
   "id": "74b05976",
   "metadata": {},
   "outputs": [],
   "source": [
    "driver=webdriver.Chrome()"
   ]
  },
  {
   "cell_type": "code",
   "execution_count": null,
   "id": "e08bdc77",
   "metadata": {},
   "outputs": [],
   "source": [
    "driver.get('https://www.naukri.com/')"
   ]
  },
  {
   "cell_type": "code",
   "execution_count": null,
   "id": "380697e1",
   "metadata": {},
   "outputs": [],
   "source": [
    "designation=driver.find_element(By.CLASS_NAME,\"suggestor-input\")\n",
    "designation.send_keys('Data Analyst')"
   ]
  },
  {
   "cell_type": "code",
   "execution_count": null,
   "id": "6ac92e8b",
   "metadata": {},
   "outputs": [],
   "source": [
    "location=driver.find_element(By.XPATH,'/html/body/div[1]/div[6]/div/div/div[5]/div/div/div/div[1]/div/input')\n",
    "location.send_keys('Banglore')"
   ]
  },
  {
   "cell_type": "code",
   "execution_count": null,
   "id": "0fc2aee7",
   "metadata": {},
   "outputs": [],
   "source": [
    "search=driver.find_element(By.CLASS_NAME,'qsbSubmit')\n",
    "search.click()"
   ]
  },
  {
   "cell_type": "code",
   "execution_count": null,
   "id": "4153d8fb",
   "metadata": {},
   "outputs": [],
   "source": [
    "job_title=[]\n",
    "company_names=[]\n",
    "job_location=[]\n",
    "experience_required=[]"
   ]
  },
  {
   "cell_type": "code",
   "execution_count": null,
   "id": "0479ff9b",
   "metadata": {},
   "outputs": [],
   "source": [
    "title_tagss=driver.find_elements(By.XPATH,'//div[@class=\"cust-job-tuple layout-wrapper lay-2 sjw__tuple \"]/div/a')\n",
    "for i in title_tagss:\n",
    "    title=i.text\n",
    "    job_title.append(title)\n",
    "print(job_title)"
   ]
  },
  {
   "cell_type": "code",
   "execution_count": null,
   "id": "9ca14b08",
   "metadata": {},
   "outputs": [],
   "source": [
    "companytags1=driver.find_elements(By.XPATH,'//div[@class=\" row2\"]/span/a[1]')\n",
    "for i in companytags1:\n",
    "    company=i.text\n",
    "    company_names.append(company)\n",
    "print(company_names)"
   ]
  },
  {
   "cell_type": "code",
   "execution_count": null,
   "id": "910f3e4e",
   "metadata": {},
   "outputs": [],
   "source": [
    "joblocations=driver.find_elements(By.XPATH,'//span[@class=\"locWdth\"]')\n",
    "for i in joblocations:\n",
    "    loc=i.text\n",
    "    job_location.append(loc)\n",
    "print(job_location)"
   ]
  },
  {
   "cell_type": "code",
   "execution_count": null,
   "id": "31243b82",
   "metadata": {},
   "outputs": [],
   "source": [
    "experience_tag=driver.find_elements(By.XPATH,'//span[@class=\"expwdth\"]')\n",
    "for i in experience_tag:\n",
    "    exp=i.text\n",
    "    experience_required.append(exp)\n",
    "print(experience_required)"
   ]
  },
  {
   "cell_type": "code",
   "execution_count": null,
   "id": "5581b903",
   "metadata": {},
   "outputs": [],
   "source": [
    "print(len(job_title),len(job_location),len(experience_required),len(company_names))"
   ]
  },
  {
   "cell_type": "code",
   "execution_count": null,
   "id": "7ac27876",
   "metadata": {},
   "outputs": [],
   "source": [
    "df=pd.DataFrame({'Job_Title':job_title,'Company':company_names,'Location':job_location,'Experience':experience_required})"
   ]
  },
  {
   "cell_type": "code",
   "execution_count": null,
   "id": "455ee077",
   "metadata": {},
   "outputs": [],
   "source": [
    "df"
   ]
  },
  {
   "cell_type": "markdown",
   "id": "3b2aff0b",
   "metadata": {},
   "source": [
    "Q2: Write a python program to scrape data for ““Data Scientist” Job position in “Bangalore” location. \n",
    "You have to scrape the job-title, job-location, company_name, experience_required. You have to \n",
    "scrape first 10 jobs data."
   ]
  },
  {
   "cell_type": "code",
   "execution_count": 13,
   "id": "bd39461a",
   "metadata": {},
   "outputs": [],
   "source": [
    "driver1=webdriver.Chrome()"
   ]
  },
  {
   "cell_type": "code",
   "execution_count": 21,
   "id": "fc57778a",
   "metadata": {},
   "outputs": [],
   "source": [
    "driver1.get('https://www.naukri.com/')"
   ]
  },
  {
   "cell_type": "code",
   "execution_count": 23,
   "id": "735e4e07",
   "metadata": {},
   "outputs": [],
   "source": [
    "designation1=driver1.find_element(By.CLASS_NAME,\"suggestor-input \")\n",
    "designation1.send_keys('Data Scientist')"
   ]
  },
  {
   "cell_type": "code",
   "execution_count": 25,
   "id": "802ab950",
   "metadata": {},
   "outputs": [],
   "source": [
    "location1=driver1.find_element(By.XPATH,'/html/body/div[1]/div[6]/div/div/div[5]/div/div/div/div[1]/div/input')\n",
    "location1.send_keys('Banglore')"
   ]
  },
  {
   "cell_type": "code",
   "execution_count": 26,
   "id": "f9ed470a",
   "metadata": {},
   "outputs": [],
   "source": [
    "search1=driver1.find_element(By.CLASS_NAME,\"qsbSubmit\")\n",
    "search1.click()"
   ]
  },
  {
   "cell_type": "code",
   "execution_count": 52,
   "id": "15bc0476",
   "metadata": {},
   "outputs": [],
   "source": [
    "job_title1=[]\n",
    "job_location1=[]\n",
    "experience_required1=[]\n",
    "company_name1=[]"
   ]
  },
  {
   "cell_type": "code",
   "execution_count": 53,
   "id": "a57f5a93",
   "metadata": {},
   "outputs": [
    {
     "name": "stdout",
     "output_type": "stream",
     "text": [
      "['Senior Data Scientist, Reporting', 'Data Scientist, Marketing', 'Sr. Data Scientist (Python, ML, SQL, + )', 'Data Scientist', 'Xoriant is hiring Senior Generative AI Engineer !', 'GenAI Data Scientist', 'Data Scientist II', 'Data Scientist-', 'Data Scientist - Senior Associate - P&T Labs', 'Data Scientist']\n"
     ]
    }
   ],
   "source": [
    "job_tag=driver1.find_elements(By.XPATH,'//div[@class=\"cust-job-tuple layout-wrapper lay-2 sjw__tuple \"]/div/a')\n",
    "for i in job_tag[0:10]:\n",
    "    job_title1.append(i.text.strip())\n",
    "print(job_title1)"
   ]
  },
  {
   "cell_type": "code",
   "execution_count": 54,
   "id": "e25f9938",
   "metadata": {},
   "outputs": [
    {
     "name": "stdout",
     "output_type": "stream",
     "text": [
      "['Coursera', 'Coursera', 'Visa Inc', 'Ford', 'Xoriant', 'Ford', 'Uber', 'Visa Inc', 'PwC Service Delivery Center', 'Tata Consultancy Services (TCS)']\n"
     ]
    }
   ],
   "source": [
    "com_tag=driver1.find_elements(By.XPATH,'//span[@class=\" comp-dtls-wrap\"]/a[1]')\n",
    "for i in com_tag[0:10]:\n",
    "    company_name1.append(i.text)\n",
    "print(company_name1)"
   ]
  },
  {
   "cell_type": "code",
   "execution_count": 55,
   "id": "b6d7f14a",
   "metadata": {},
   "outputs": [
    {
     "name": "stdout",
     "output_type": "stream",
     "text": [
      "['6-7 Yrs', '4-6 Yrs', '0-8 Yrs', '3-6 Yrs', '5-10 Yrs', '5-6 Yrs', '4-9 Yrs', '3-7 Yrs', '4-6 Yrs', '6-8 Yrs']\n"
     ]
    }
   ],
   "source": [
    "exp_tag=driver1.find_elements(By.XPATH,'//span[@class=\"expwdth\"]')\n",
    "for i in exp_tag[0:10]:\n",
    "    experience_required1.append(i.text)\n",
    "print(experience_required1)"
   ]
  },
  {
   "cell_type": "code",
   "execution_count": 56,
   "id": "cd523f1e",
   "metadata": {},
   "outputs": [
    {
     "name": "stdout",
     "output_type": "stream",
     "text": [
      "['Kolkata, Mumbai, New Delhi, Hyderabad/Secunderabad, Pune, Chennai, Bangalore/Bengaluru', 'Kolkata, Mumbai, New Delhi, Hyderabad/Secunderabad, Pune, Chennai, Bangalore/Bengaluru', 'Bengaluru', 'Kolkata, Mumbai, New Delhi, Hyderabad, Pune, Chennai, Bengaluru', 'Hybrid - Pune, Maharashtra, Bangalore Rural, Karnataka, Mumbai (All Areas)', 'Kolkata, Mumbai, New Delhi, Hyderabad, Pune, Chennai, Bengaluru', 'Bengaluru', 'Bengaluru', 'Mumbai, Hyderabad, Bengaluru', 'Bengaluru, Mumbai (All Areas)']\n"
     ]
    }
   ],
   "source": [
    "loc_tag=driver1.find_elements(By.XPATH,'//span[@class=\"locWdth\"]')\n",
    "for i in loc_tag[0:10]:\n",
    "    job_location1.append(i.text.strip())\n",
    "print(job_location1)"
   ]
  },
  {
   "cell_type": "code",
   "execution_count": 57,
   "id": "06d12dfe",
   "metadata": {},
   "outputs": [],
   "source": [
    "df2=pd.DataFrame({'Title':job_title1,'Company':company_name1,'Location':job_location1,'Experience':experience_required1})"
   ]
  },
  {
   "cell_type": "code",
   "execution_count": 58,
   "id": "ca4ad0a4",
   "metadata": {},
   "outputs": [
    {
     "name": "stdout",
     "output_type": "stream",
     "text": [
      "10 10 10 10\n"
     ]
    }
   ],
   "source": [
    "print(len(job_title1),len(company_name1),len(job_location1),len(experience_required1))"
   ]
  },
  {
   "cell_type": "code",
   "execution_count": 59,
   "id": "99456b2a",
   "metadata": {},
   "outputs": [
    {
     "data": {
      "text/html": [
       "<div>\n",
       "<style scoped>\n",
       "    .dataframe tbody tr th:only-of-type {\n",
       "        vertical-align: middle;\n",
       "    }\n",
       "\n",
       "    .dataframe tbody tr th {\n",
       "        vertical-align: top;\n",
       "    }\n",
       "\n",
       "    .dataframe thead th {\n",
       "        text-align: right;\n",
       "    }\n",
       "</style>\n",
       "<table border=\"1\" class=\"dataframe\">\n",
       "  <thead>\n",
       "    <tr style=\"text-align: right;\">\n",
       "      <th></th>\n",
       "      <th>Title</th>\n",
       "      <th>Company</th>\n",
       "      <th>Location</th>\n",
       "      <th>Experience</th>\n",
       "    </tr>\n",
       "  </thead>\n",
       "  <tbody>\n",
       "    <tr>\n",
       "      <th>0</th>\n",
       "      <td>Senior Data Scientist, Reporting</td>\n",
       "      <td>Coursera</td>\n",
       "      <td>Kolkata, Mumbai, New Delhi, Hyderabad/Secunder...</td>\n",
       "      <td>6-7 Yrs</td>\n",
       "    </tr>\n",
       "    <tr>\n",
       "      <th>1</th>\n",
       "      <td>Data Scientist, Marketing</td>\n",
       "      <td>Coursera</td>\n",
       "      <td>Kolkata, Mumbai, New Delhi, Hyderabad/Secunder...</td>\n",
       "      <td>4-6 Yrs</td>\n",
       "    </tr>\n",
       "    <tr>\n",
       "      <th>2</th>\n",
       "      <td>Sr. Data Scientist (Python, ML, SQL, + )</td>\n",
       "      <td>Visa Inc</td>\n",
       "      <td>Bengaluru</td>\n",
       "      <td>0-8 Yrs</td>\n",
       "    </tr>\n",
       "    <tr>\n",
       "      <th>3</th>\n",
       "      <td>Data Scientist</td>\n",
       "      <td>Ford</td>\n",
       "      <td>Kolkata, Mumbai, New Delhi, Hyderabad, Pune, C...</td>\n",
       "      <td>3-6 Yrs</td>\n",
       "    </tr>\n",
       "    <tr>\n",
       "      <th>4</th>\n",
       "      <td>Xoriant is hiring Senior Generative AI Engineer !</td>\n",
       "      <td>Xoriant</td>\n",
       "      <td>Hybrid - Pune, Maharashtra, Bangalore Rural, K...</td>\n",
       "      <td>5-10 Yrs</td>\n",
       "    </tr>\n",
       "    <tr>\n",
       "      <th>5</th>\n",
       "      <td>GenAI Data Scientist</td>\n",
       "      <td>Ford</td>\n",
       "      <td>Kolkata, Mumbai, New Delhi, Hyderabad, Pune, C...</td>\n",
       "      <td>5-6 Yrs</td>\n",
       "    </tr>\n",
       "    <tr>\n",
       "      <th>6</th>\n",
       "      <td>Data Scientist II</td>\n",
       "      <td>Uber</td>\n",
       "      <td>Bengaluru</td>\n",
       "      <td>4-9 Yrs</td>\n",
       "    </tr>\n",
       "    <tr>\n",
       "      <th>7</th>\n",
       "      <td>Data Scientist-</td>\n",
       "      <td>Visa Inc</td>\n",
       "      <td>Bengaluru</td>\n",
       "      <td>3-7 Yrs</td>\n",
       "    </tr>\n",
       "    <tr>\n",
       "      <th>8</th>\n",
       "      <td>Data Scientist - Senior Associate - P&amp;T Labs</td>\n",
       "      <td>PwC Service Delivery Center</td>\n",
       "      <td>Mumbai, Hyderabad, Bengaluru</td>\n",
       "      <td>4-6 Yrs</td>\n",
       "    </tr>\n",
       "    <tr>\n",
       "      <th>9</th>\n",
       "      <td>Data Scientist</td>\n",
       "      <td>Tata Consultancy Services (TCS)</td>\n",
       "      <td>Bengaluru, Mumbai (All Areas)</td>\n",
       "      <td>6-8 Yrs</td>\n",
       "    </tr>\n",
       "  </tbody>\n",
       "</table>\n",
       "</div>"
      ],
      "text/plain": [
       "                                               Title  \\\n",
       "0                   Senior Data Scientist, Reporting   \n",
       "1                          Data Scientist, Marketing   \n",
       "2           Sr. Data Scientist (Python, ML, SQL, + )   \n",
       "3                                     Data Scientist   \n",
       "4  Xoriant is hiring Senior Generative AI Engineer !   \n",
       "5                               GenAI Data Scientist   \n",
       "6                                  Data Scientist II   \n",
       "7                                    Data Scientist-   \n",
       "8       Data Scientist - Senior Associate - P&T Labs   \n",
       "9                                     Data Scientist   \n",
       "\n",
       "                           Company  \\\n",
       "0                         Coursera   \n",
       "1                         Coursera   \n",
       "2                         Visa Inc   \n",
       "3                             Ford   \n",
       "4                          Xoriant   \n",
       "5                             Ford   \n",
       "6                             Uber   \n",
       "7                         Visa Inc   \n",
       "8      PwC Service Delivery Center   \n",
       "9  Tata Consultancy Services (TCS)   \n",
       "\n",
       "                                            Location Experience  \n",
       "0  Kolkata, Mumbai, New Delhi, Hyderabad/Secunder...    6-7 Yrs  \n",
       "1  Kolkata, Mumbai, New Delhi, Hyderabad/Secunder...    4-6 Yrs  \n",
       "2                                          Bengaluru    0-8 Yrs  \n",
       "3  Kolkata, Mumbai, New Delhi, Hyderabad, Pune, C...    3-6 Yrs  \n",
       "4  Hybrid - Pune, Maharashtra, Bangalore Rural, K...   5-10 Yrs  \n",
       "5  Kolkata, Mumbai, New Delhi, Hyderabad, Pune, C...    5-6 Yrs  \n",
       "6                                          Bengaluru    4-9 Yrs  \n",
       "7                                          Bengaluru    3-7 Yrs  \n",
       "8                       Mumbai, Hyderabad, Bengaluru    4-6 Yrs  \n",
       "9                      Bengaluru, Mumbai (All Areas)    6-8 Yrs  "
      ]
     },
     "execution_count": 59,
     "metadata": {},
     "output_type": "execute_result"
    }
   ],
   "source": [
    "df2"
   ]
  },
  {
   "cell_type": "markdown",
   "id": "f7334071",
   "metadata": {},
   "source": [
    "Q3: Scrape data of first 100 sunglasses listings on flipkart.com. You have to scrape four attributes:\n",
    "1. Brand \n",
    "2. ProductDescription \n",
    "3. Price\n",
    "4. Discount"
   ]
  },
  {
   "cell_type": "code",
   "execution_count": 152,
   "id": "f75cace1",
   "metadata": {},
   "outputs": [],
   "source": [
    "driver2=webdriver.Chrome()"
   ]
  },
  {
   "cell_type": "code",
   "execution_count": 153,
   "id": "31940334",
   "metadata": {},
   "outputs": [],
   "source": [
    "driver2.get('https://www.flipkart.com/')"
   ]
  },
  {
   "cell_type": "code",
   "execution_count": 154,
   "id": "36e11646",
   "metadata": {},
   "outputs": [],
   "source": [
    "search2=driver2.find_element(By.XPATH,'/html/body/div[1]/div/div[1]/div/div/div/div/div[1]/div/div[1]/div/div[1]/div[1]/header/div[1]/div[2]/form/div/div/input')\n",
    "search2.send_keys('sunglasses')"
   ]
  },
  {
   "cell_type": "code",
   "execution_count": 164,
   "id": "8aab6fa0",
   "metadata": {},
   "outputs": [],
   "source": [
    "\n",
    "brand_name=[]"
   ]
  },
  {
   "cell_type": "code",
   "execution_count": 165,
   "id": "6b0b576e",
   "metadata": {},
   "outputs": [],
   "source": [
    "import time\n",
    "# first 100 brand names from first 4 pages\n",
    "for page in range(0,4):\n",
    "    brand=driver2.find_elements(By.XPATH,'//div[@class=\"_2WkVRV\"]')\n",
    "    for i in brand[0:25]:\n",
    "\n",
    "        brand_name.append(i.text)\n",
    "    next_button=driver2.find_element(By.XPATH,'/html/body/div/div/div[3]/div[1]/div[2]/div[12]/div/div/nav/a[11]')\n",
    "    next_button.click()\n",
    "    time.sleep(3)\n",
    "    brand= driver2.find_elements(By.XPATH, '//div[@class=\"_2WkVRV\"]')\n"
   ]
  },
  {
   "cell_type": "code",
   "execution_count": 166,
   "id": "ef5728cf",
   "metadata": {},
   "outputs": [
    {
     "data": {
      "text/plain": [
       "100"
      ]
     },
     "execution_count": 166,
     "metadata": {},
     "output_type": "execute_result"
    }
   ],
   "source": [
    "len(brand_name)"
   ]
  },
  {
   "cell_type": "code",
   "execution_count": 167,
   "id": "824e2a95",
   "metadata": {},
   "outputs": [],
   "source": [
    "prod_desc=[]"
   ]
  },
  {
   "cell_type": "code",
   "execution_count": 168,
   "id": "c10174df",
   "metadata": {},
   "outputs": [],
   "source": [
    "# first 100 product description from first 4 pages\n",
    "for page in range(0,4):\n",
    "    product_describe=driver2.find_elements(By.XPATH,'//a[@class=\"IRpwTa\"]')\n",
    "    for i in product_describe[0:25]:\n",
    "\n",
    "        prod_desc.append(i.text)\n",
    "    next_button=driver2.find_element(By.XPATH,'/html/body/div/div/div[3]/div[1]/div[2]/div[12]/div/div/nav/a[11]')\n",
    "    next_button.click()\n",
    "    time.sleep(3)\n",
    "    product_describe=driver2.find_elements(By.XPATH,'//a[@class=\"IRpwTa\"]')\n"
   ]
  },
  {
   "cell_type": "code",
   "execution_count": 173,
   "id": "d1699c04",
   "metadata": {},
   "outputs": [
    {
     "data": {
      "text/plain": [
       "100"
      ]
     },
     "execution_count": 173,
     "metadata": {},
     "output_type": "execute_result"
    }
   ],
   "source": [
    "len(prod_desc)"
   ]
  },
  {
   "cell_type": "code",
   "execution_count": 158,
   "id": "48a6d7f2",
   "metadata": {},
   "outputs": [],
   "source": [
    "prod_price=[]"
   ]
  },
  {
   "cell_type": "code",
   "execution_count": 159,
   "id": "20d81b48",
   "metadata": {},
   "outputs": [],
   "source": [
    "# first 100 product price from first 4 pages \n",
    "for page in range(0,4):\n",
    "    product_pricetag=driver2.find_elements(By.XPATH,'//div[@class=\"_30jeq3\"]')\n",
    "    for i in product_pricetag[0:25]:\n",
    "\n",
    "        prod_price.append(i.text)\n",
    "    next_button=driver2.find_element(By.XPATH,'/html/body/div/div/div[3]/div[1]/div[2]/div[12]/div/div/nav/a[11]')\n",
    "    next_button.click()\n",
    "    time.sleep(3)\n",
    "    product_pricetag=driver2.find_elements(By.XPATH,'//div[@class=\"_30jeq3\"]')\n"
   ]
  },
  {
   "cell_type": "code",
   "execution_count": 169,
   "id": "a0cf66e0",
   "metadata": {},
   "outputs": [
    {
     "data": {
      "text/plain": [
       "100"
      ]
     },
     "execution_count": 169,
     "metadata": {},
     "output_type": "execute_result"
    }
   ],
   "source": [
    "len(prod_price)"
   ]
  },
  {
   "cell_type": "code",
   "execution_count": 170,
   "id": "90583f79",
   "metadata": {},
   "outputs": [],
   "source": [
    "prod_discount=[]"
   ]
  },
  {
   "cell_type": "code",
   "execution_count": 171,
   "id": "0b912e9f",
   "metadata": {},
   "outputs": [],
   "source": [
    "# first 100 product price from first 4 pages \n",
    "for page in range(0,4):\n",
    "    product_disc=driver2.find_elements(By.XPATH,'//div[@class=\"_3Ay6Sb\"]/span')\n",
    "    for i in product_disc[0:25]:\n",
    "\n",
    "        prod_discount.append(i.text)\n",
    "    next_button=driver2.find_element(By.XPATH,'/html/body/div/div/div[3]/div[1]/div[2]/div[12]/div/div/nav/a[11]')\n",
    "    next_button.click()\n",
    "    time.sleep(3)\n",
    "    product_disc=driver2.find_elements(By.XPATH,'//div[@class=\"_3Ay6Sb\"]/span')\n"
   ]
  },
  {
   "cell_type": "code",
   "execution_count": 172,
   "id": "23c020bb",
   "metadata": {},
   "outputs": [
    {
     "data": {
      "text/plain": [
       "100"
      ]
     },
     "execution_count": 172,
     "metadata": {},
     "output_type": "execute_result"
    }
   ],
   "source": [
    "len(prod_discount)"
   ]
  },
  {
   "cell_type": "code",
   "execution_count": 174,
   "id": "df8e6598",
   "metadata": {},
   "outputs": [],
   "source": [
    "dfflipkart=pd.DataFrame({'Brand':brand_name,'Product_Description':prod_desc,'Product_price':prod_price,'Discount':prod_discount})"
   ]
  },
  {
   "cell_type": "code",
   "execution_count": 175,
   "id": "b41ed63d",
   "metadata": {},
   "outputs": [
    {
     "data": {
      "text/html": [
       "<div>\n",
       "<style scoped>\n",
       "    .dataframe tbody tr th:only-of-type {\n",
       "        vertical-align: middle;\n",
       "    }\n",
       "\n",
       "    .dataframe tbody tr th {\n",
       "        vertical-align: top;\n",
       "    }\n",
       "\n",
       "    .dataframe thead th {\n",
       "        text-align: right;\n",
       "    }\n",
       "</style>\n",
       "<table border=\"1\" class=\"dataframe\">\n",
       "  <thead>\n",
       "    <tr style=\"text-align: right;\">\n",
       "      <th></th>\n",
       "      <th>Brand</th>\n",
       "      <th>Product_Description</th>\n",
       "      <th>Product_price</th>\n",
       "      <th>Discount</th>\n",
       "    </tr>\n",
       "  </thead>\n",
       "  <tbody>\n",
       "    <tr>\n",
       "      <th>0</th>\n",
       "      <td>NuVew</td>\n",
       "      <td>UV Protection Over-sized, Wayfarer Sunglasses ...</td>\n",
       "      <td>₹449</td>\n",
       "      <td>74% off</td>\n",
       "    </tr>\n",
       "    <tr>\n",
       "      <th>1</th>\n",
       "      <td>AISLIN</td>\n",
       "      <td>UV Protection, Gradient Butterfly, Retro Squar...</td>\n",
       "      <td>₹525</td>\n",
       "      <td>75% off</td>\n",
       "    </tr>\n",
       "    <tr>\n",
       "      <th>2</th>\n",
       "      <td>john jacobs</td>\n",
       "      <td>Polarized, UV Protection Wayfarer Sunglasses (49)</td>\n",
       "      <td>₹3,022</td>\n",
       "      <td>49% off</td>\n",
       "    </tr>\n",
       "    <tr>\n",
       "      <th>3</th>\n",
       "      <td>Singco India</td>\n",
       "      <td>UV Protection, Riding Glasses, Gradient Clubma...</td>\n",
       "      <td>₹249</td>\n",
       "      <td>87% off</td>\n",
       "    </tr>\n",
       "    <tr>\n",
       "      <th>4</th>\n",
       "      <td>john jacobs</td>\n",
       "      <td>UV Protection Over-sized Sunglasses (52)</td>\n",
       "      <td>₹1,413</td>\n",
       "      <td>76% off</td>\n",
       "    </tr>\n",
       "    <tr>\n",
       "      <th>...</th>\n",
       "      <td>...</td>\n",
       "      <td>...</td>\n",
       "      <td>...</td>\n",
       "      <td>...</td>\n",
       "    </tr>\n",
       "    <tr>\n",
       "      <th>95</th>\n",
       "      <td>NuVew</td>\n",
       "      <td>UV Protection, Gradient Wayfarer Sunglasses (61)</td>\n",
       "      <td>₹330</td>\n",
       "      <td>73% off</td>\n",
       "    </tr>\n",
       "    <tr>\n",
       "      <th>96</th>\n",
       "      <td>AISLIN</td>\n",
       "      <td>UV Protection, Polarized Clubmaster, Retro Squ...</td>\n",
       "      <td>₹565</td>\n",
       "      <td>74% off</td>\n",
       "    </tr>\n",
       "    <tr>\n",
       "      <th>97</th>\n",
       "      <td>ROYAL SON</td>\n",
       "      <td>UV Protection Wayfarer Sunglasses (54)</td>\n",
       "      <td>₹854</td>\n",
       "      <td>65% off</td>\n",
       "    </tr>\n",
       "    <tr>\n",
       "      <th>98</th>\n",
       "      <td>IRUS</td>\n",
       "      <td>Polarized Rectangular Sunglasses (60)</td>\n",
       "      <td>₹459</td>\n",
       "      <td>48% off</td>\n",
       "    </tr>\n",
       "    <tr>\n",
       "      <th>99</th>\n",
       "      <td>IDEE</td>\n",
       "      <td>Polarized, UV Protection Retro Square Sunglass...</td>\n",
       "      <td>₹1,729</td>\n",
       "      <td>39% off</td>\n",
       "    </tr>\n",
       "  </tbody>\n",
       "</table>\n",
       "<p>100 rows × 4 columns</p>\n",
       "</div>"
      ],
      "text/plain": [
       "           Brand                                Product_Description  \\\n",
       "0          NuVew  UV Protection Over-sized, Wayfarer Sunglasses ...   \n",
       "1         AISLIN  UV Protection, Gradient Butterfly, Retro Squar...   \n",
       "2    john jacobs  Polarized, UV Protection Wayfarer Sunglasses (49)   \n",
       "3   Singco India  UV Protection, Riding Glasses, Gradient Clubma...   \n",
       "4    john jacobs           UV Protection Over-sized Sunglasses (52)   \n",
       "..           ...                                                ...   \n",
       "95         NuVew   UV Protection, Gradient Wayfarer Sunglasses (61)   \n",
       "96        AISLIN  UV Protection, Polarized Clubmaster, Retro Squ...   \n",
       "97     ROYAL SON             UV Protection Wayfarer Sunglasses (54)   \n",
       "98          IRUS              Polarized Rectangular Sunglasses (60)   \n",
       "99          IDEE  Polarized, UV Protection Retro Square Sunglass...   \n",
       "\n",
       "   Product_price Discount  \n",
       "0           ₹449  74% off  \n",
       "1           ₹525  75% off  \n",
       "2         ₹3,022  49% off  \n",
       "3           ₹249  87% off  \n",
       "4         ₹1,413  76% off  \n",
       "..           ...      ...  \n",
       "95          ₹330  73% off  \n",
       "96          ₹565  74% off  \n",
       "97          ₹854  65% off  \n",
       "98          ₹459  48% off  \n",
       "99        ₹1,729  39% off  \n",
       "\n",
       "[100 rows x 4 columns]"
      ]
     },
     "execution_count": 175,
     "metadata": {},
     "output_type": "execute_result"
    }
   ],
   "source": [
    "dfflipkart"
   ]
  },
  {
   "cell_type": "code",
   "execution_count": null,
   "id": "1254c852",
   "metadata": {},
   "outputs": [],
   "source": []
  },
  {
   "cell_type": "code",
   "execution_count": null,
   "id": "504adca0",
   "metadata": {},
   "outputs": [],
   "source": []
  },
  {
   "cell_type": "code",
   "execution_count": null,
   "id": "1553a77f",
   "metadata": {},
   "outputs": [],
   "source": []
  },
  {
   "cell_type": "code",
   "execution_count": null,
   "id": "ba119c3d",
   "metadata": {},
   "outputs": [],
   "source": []
  },
  {
   "cell_type": "code",
   "execution_count": null,
   "id": "7257307f",
   "metadata": {},
   "outputs": [],
   "source": []
  },
  {
   "cell_type": "code",
   "execution_count": null,
   "id": "a2de3b52",
   "metadata": {},
   "outputs": [],
   "source": []
  },
  {
   "cell_type": "code",
   "execution_count": null,
   "id": "8950882d",
   "metadata": {},
   "outputs": [],
   "source": []
  },
  {
   "cell_type": "code",
   "execution_count": null,
   "id": "3ca1fe4f",
   "metadata": {},
   "outputs": [],
   "source": []
  },
  {
   "cell_type": "code",
   "execution_count": null,
   "id": "a7cec24c",
   "metadata": {},
   "outputs": [],
   "source": []
  },
  {
   "cell_type": "code",
   "execution_count": null,
   "id": "9b21dbce",
   "metadata": {},
   "outputs": [],
   "source": []
  },
  {
   "cell_type": "code",
   "execution_count": null,
   "id": "be3f14b9",
   "metadata": {},
   "outputs": [],
   "source": []
  },
  {
   "cell_type": "code",
   "execution_count": null,
   "id": "b67e56b6",
   "metadata": {},
   "outputs": [],
   "source": []
  },
  {
   "cell_type": "code",
   "execution_count": null,
   "id": "6fe587a7",
   "metadata": {},
   "outputs": [],
   "source": []
  },
  {
   "cell_type": "code",
   "execution_count": null,
   "id": "a5075ee4",
   "metadata": {},
   "outputs": [],
   "source": []
  },
  {
   "cell_type": "code",
   "execution_count": null,
   "id": "ecc9cac9",
   "metadata": {},
   "outputs": [],
   "source": []
  },
  {
   "cell_type": "code",
   "execution_count": null,
   "id": "96495080",
   "metadata": {},
   "outputs": [],
   "source": []
  },
  {
   "cell_type": "code",
   "execution_count": null,
   "id": "bb35bec3",
   "metadata": {},
   "outputs": [],
   "source": []
  },
  {
   "cell_type": "code",
   "execution_count": null,
   "id": "6b19f480",
   "metadata": {},
   "outputs": [],
   "source": []
  }
 ],
 "metadata": {
  "kernelspec": {
   "display_name": "Python 3 (ipykernel)",
   "language": "python",
   "name": "python3"
  },
  "language_info": {
   "codemirror_mode": {
    "name": "ipython",
    "version": 3
   },
   "file_extension": ".py",
   "mimetype": "text/x-python",
   "name": "python",
   "nbconvert_exporter": "python",
   "pygments_lexer": "ipython3",
   "version": "3.11.4"
  }
 },
 "nbformat": 4,
 "nbformat_minor": 5
}
