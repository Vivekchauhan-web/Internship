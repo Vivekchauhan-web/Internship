{
 "cells": [
  {
   "cell_type": "markdown",
   "id": "3339bf23",
   "metadata": {},
   "source": [
    "1.Write a program to display IMDBS top rated 100 movies data(name ,rating, year of release) and make Dataframe"
   ]
  },
  {
   "cell_type": "code",
   "execution_count": null,
   "id": "67151aef",
   "metadata": {},
   "outputs": [],
   "source": [
    "def IMDB_top(MoviePage):\n",
    "    Movie_name=[]\n",
    "    rating=[]\n",
    "    year_release=[]\n",
    "    soup=MoviePage.content\n",
    "    soup=BeautifulSoup(soup,\"html.parser\")\n",
    "    for i in soup.find_all('h3',class_=\"lister-item-header\"):\n",
    "        Movie_name.append(i.text.replace(\"\\n\",\"\"))\n",
    "    \n",
    "    for i in soup.find_all('div',class_=\"ipl-rating-star small\"):\n",
    "        rating.append(i.text.replace(\"\\n\",\"\"))\n",
    "    \n",
    "    for i in soup.find_all('span',class_=\"lister-item-year text-muted unbold\"):\n",
    "        year_release.append(i.text)\n",
    "    \n",
    "    dict={'MovieName':Movie_name,\"Rating\":rating,\"year_of_release\":year_release}\n",
    "    df=pd.DataFrame(dict)\n",
    "    print(df)"
   ]
  },
  {
   "cell_type": "code",
   "execution_count": 4,
   "id": "7de507db",
   "metadata": {},
   "outputs": [
    {
     "name": "stdout",
     "output_type": "stream",
     "text": [
      "                           MovieName Rating year_of_release\n",
      "0              1.The Godfather(1972)    9.2          (1972)\n",
      "1   2.The Shawshank Redemption(1994)    9.3          (1994)\n",
      "2           3.Schindler's List(1993)      9          (1993)\n",
      "3                4.Raging Bull(1980)    8.1          (1980)\n",
      "4                 5.Casablanca(1942)    8.5          (1942)\n",
      "..                               ...    ...             ...\n",
      "95              96.Rear Window(1954)    8.5          (1954)\n",
      "96            97.The Third Man(1949)    8.1          (1949)\n",
      "97    98.Rebel Without a Cause(1955)    7.6          (1955)\n",
      "98       99.North by Northwest(1959)    8.3          (1959)\n",
      "99     100.Yankee Doodle Dandy(1942)    7.6          (1942)\n",
      "\n",
      "[100 rows x 3 columns]\n"
     ]
    }
   ],
   "source": [
    "from bs4 import BeautifulSoup\n",
    "import requests\n",
    "import pandas as pd\n",
    "Mresponse=requests.get('https://www.imdb.com/list/ls055592025/')\n",
    "IMDB_top(Mresponse)"
   ]
  },
  {
   "cell_type": "markdown",
   "id": "bab6d1a6",
   "metadata": {},
   "source": [
    "2.Write a python program to scrape product name, price and discounts from 'https://peachmode.com"
   ]
  },
  {
   "cell_type": "code",
   "execution_count": 5,
   "id": "3cd2e2d4",
   "metadata": {},
   "outputs": [
    {
     "name": "stdout",
     "output_type": "stream",
     "text": [
      "Product_name\n",
      "['TMN - Women Pink Vegan Leather Golden Chain Sling Bag']\n",
      "Discount_Price\n",
      "['₹449.00']\n",
      "Actual_Price\n",
      "['₹899.00']\n"
     ]
    }
   ],
   "source": [
    "import requests\n",
    "PeachResponse=requests.get('https://peachmode.com/products/tmn-women-pink-vegan-leather-golden-chain-sling-bag')\n",
    "#def Peach(PeachPage):\n",
    "soup=PeachResponse.content\n",
    "soup=BeautifulSoup(soup,'html.parser')\n",
    "product_name=[]\n",
    "Discount_price=[]\n",
    "Actual_price=[]\n",
    "#our_text=soup.select_one(' div a span ')\n",
    "#print(our_text.text)\n",
    "\n",
    "print(\"Product_name\")\n",
    "for i in soup.find_all('h1',class_=\"product-meta__title heading h4\"):\n",
    "    product_name.append(i.text)\n",
    "   # print(soup.text)\n",
    "print(product_name)\n",
    "print(\"Discount_Price\")\n",
    "for i in soup.find_all('span',class_=\"price price--highlight price--large\"):\n",
    "    Discount_price.append(i.text.replace('\\nSale price',\"\"))\n",
    "print(Discount_price)\n",
    "print(\"Actual_Price\")\n",
    "for i in soup.find_all('span',class_=\"price price--compare\"):\n",
    "    Actual_price.append(i.text.replace('\\nRegular price',\"\"))\n",
    "print(Actual_price)"
   ]
  },
  {
   "cell_type": "code",
   "execution_count": null,
   "id": "0148f67c",
   "metadata": {},
   "outputs": [],
   "source": []
  },
  {
   "cell_type": "markdown",
   "id": "216f46ac",
   "metadata": {},
   "source": [
    "Q3.- visit https://www.cnbc.com/world/?region=world and scrap-\n",
    "a) headings\n",
    "b) date\n",
    "c) News link\n",
    "\n"
   ]
  },
  {
   "cell_type": "code",
   "execution_count": 6,
   "id": "ab0d5887",
   "metadata": {},
   "outputs": [],
   "source": [
    "import requests\n",
    "def cnbc(page):\n",
    "#webpage=requests.get('https://www.cnbc.com/world/?region=world')\n",
    "    cnbcsoup=BeautifulSoup(page.content,\"html.parser\")\n",
    "    heading=[]\n",
    "    date=[]\n",
    "    News_link=[]\n",
    "    for i in cnbcsoup.find_all('a',class_=\"LatestNews-headline\"):\n",
    "        heading.append(i.text.strip())\n",
    "#print(heading)\n",
    "    for i in cnbcsoup.find_all('a',class_=\"LatestNews-headline\"):\n",
    "        News_link.append(i['href'])\n",
    "#print(News_link)\n",
    "    for i in cnbcsoup.find_all('time'):\n",
    "        date.append(i.text)\n",
    "#print(date)\n",
    "    df=pd.DataFrame({'News_Heading':heading,\"News_link\":News_link,\"Date\":date})\n",
    "    print(df)\n"
   ]
  },
  {
   "cell_type": "code",
   "execution_count": 7,
   "id": "52217d35",
   "metadata": {},
   "outputs": [
    {
     "name": "stdout",
     "output_type": "stream",
     "text": [
      "                                         News_Heading  \\\n",
      "0   Why millionaires may have hit their Social Sec...   \n",
      "1   College AI degree programs are booming. Will t...   \n",
      "2   Stocks enter 'belief' phase with most investor...   \n",
      "3   Newlywed couple went $44,000 into credit card ...   \n",
      "4   Immigration is 'taking pressure off' the job m...   \n",
      "5   Venture capital firm's plan to buy nonprofit h...   \n",
      "6   Top stocks to play the future of energy from a...   \n",
      "7   Ride the bull market with these undervalued st...   \n",
      "8                  How Nescafé instant coffee is made   \n",
      "9   Upstart airlines Avelo and Breeze prepare for ...   \n",
      "10  OpenAI says in memo that Musk's claims ‘stem f...   \n",
      "11  Waymo wins approval to expand robotaxi service...   \n",
      "12  CEO explains why RadNet is piloting mammogram ...   \n",
      "13  Cramer's Lightning Round: 'Not recommending' G...   \n",
      "14  Cramer's week ahead: Watch for earnings from T...   \n",
      "15  Super Micro joining S&P 500 after stock price ...   \n",
      "16  Change Healthcare sets up a new electronic pre...   \n",
      "17  Lockheed Martin looks to acquire spacecraft ma...   \n",
      "18  Google Gemini head removes social media profil...   \n",
      "19  Reddit seeking a valuation of up to $6.5 billi...   \n",
      "20  NASA shuts down satellite refueling project af...   \n",
      "21  Fed Chair Powell and jobs data take center sta...   \n",
      "22  Here are the Nasdaq’s most beloved stocks that...   \n",
      "23  What worked and didn't work this week from AI ...   \n",
      "24  Judge rejects AstraZeneca’s challenge to Medic...   \n",
      "25  What to know about this hot AI stock up nearly...   \n",
      "26  Dell shares have best day since return to stoc...   \n",
      "27  Appliances don't last like they used to, exper...   \n",
      "28  Co-defendant in Sen. Bob Menendez corruption c...   \n",
      "29  Stocks making the biggest moves midday: Spirit...   \n",
      "\n",
      "                                            News_link          Date  \n",
      "0   https://www.cnbc.com/2024/03/02/millionaires-r...    17 Min Ago  \n",
      "1   https://www.cnbc.com/2024/03/02/college-ai-deg...    24 Min Ago  \n",
      "2   https://www.cnbc.com/2024/03/02/stocks-enter-b...    39 Min Ago  \n",
      "3   https://www.cnbc.com/2024/03/02/newlyweds-went...    47 Min Ago  \n",
      "4   https://www.cnbc.com/2024/03/02/immigration-ta...    47 Min Ago  \n",
      "5   https://www.cnbc.com/2024/03/02/heres-why-gene...    47 Min Ago  \n",
      "6   https://www.cnbc.com/2024/03/02/top-stocks-to-...    48 Min Ago  \n",
      "7   https://www.cnbc.com/2024/03/02/ride-the-bull-...    57 Min Ago  \n",
      "8   https://www.cnbc.com/2024/03/02/how-nescaf-ins...   2 Hours Ago  \n",
      "9   https://www.cnbc.com/2024/03/02/upstart-airlin...   2 Hours Ago  \n",
      "10  https://www.cnbc.com/2024/03/01/openai-says-mu...  11 Hours Ago  \n",
      "11  https://www.cnbc.com/2024/03/01/waymo-approved...  15 Hours Ago  \n",
      "12  https://www.cnbc.com/2024/03/01/ceo-explains-w...  15 Hours Ago  \n",
      "13  https://www.cnbc.com/2024/03/01/cramers-lightn...  15 Hours Ago  \n",
      "14  https://www.cnbc.com/2024/03/01/cramers-week-a...  15 Hours Ago  \n",
      "15  https://www.cnbc.com/2024/03/01/super-micro-jo...  15 Hours Ago  \n",
      "16  https://www.cnbc.com/2024/03/01/change-healthc...  16 Hours Ago  \n",
      "17  https://www.cnbc.com/2024/03/01/lockheed-marti...  16 Hours Ago  \n",
      "18  https://www.cnbc.com/2024/03/01/google-gemini-...  17 Hours Ago  \n",
      "19  https://www.cnbc.com/2024/03/01/reddit-seeking...  18 Hours Ago  \n",
      "20  https://www.cnbc.com/2024/03/01/nasa-shuts-dow...  18 Hours Ago  \n",
      "21  https://www.cnbc.com/2024/03/01/fed-chair-powe...  19 Hours Ago  \n",
      "22  https://www.cnbc.com/2024/03/01/the-nasdaqs-mo...  19 Hours Ago  \n",
      "23  https://www.cnbc.com/2024/03/01/what-worked-di...  19 Hours Ago  \n",
      "24  https://www.cnbc.com/2024/03/01/medicare-drug-...  20 Hours Ago  \n",
      "25  https://www.cnbc.com/2024/03/01/people-didnt-s...  20 Hours Ago  \n",
      "26  https://www.cnbc.com/2024/03/01/dell-shares-ha...  20 Hours Ago  \n",
      "27  https://www.cnbc.com/2024/03/01/household-appl...  20 Hours Ago  \n",
      "28  https://www.cnbc.com/2024/03/01/co-defendant-i...  21 Hours Ago  \n",
      "29  https://www.cnbc.com/2024/03/01/stocks-making-...  21 Hours Ago  \n"
     ]
    }
   ],
   "source": [
    "webpageResponse=requests.get('https://www.cnbc.com/world/?region=world')\n",
    "cnbc(webpageResponse)"
   ]
  },
  {
   "cell_type": "markdown",
   "id": "6787ae59",
   "metadata": {},
   "source": [
    "Q4.visit https://www.keaipublishing.com/en/journals/artificial-intelligence-in-agriculture/most-downloaded-articles/ and scrap-\n",
    "\n",
    "a) Paper title\n",
    "\n",
    "b) date\n",
    "\n",
    "c) Author"
   ]
  },
  {
   "cell_type": "code",
   "execution_count": 8,
   "id": "540e52bb",
   "metadata": {},
   "outputs": [],
   "source": [
    "def kei(keipage):\n",
    "\n",
    "    keisoup=BeautifulSoup(keipage.content,\"html.parser\")\n",
    "    paper_title=[]\n",
    "    author=[]\n",
    "    date=[]\n",
    "    for i in keisoup.find_all('h2',class_=\"h5 article-title\"):\n",
    "        paper_title.append(i.text.strip())\n",
    "    #print(paper_title)\n",
    "    for i in keisoup.find_all('p',class_=\"article-authors\"):\n",
    "        author.append(i.text.replace(' |',' ,'))\n",
    "    #print(author)\n",
    "    for i in keisoup.find_all('p',class_=\"article-date\"):\n",
    "        date.append(i.text)\n",
    "    #print(date)\n",
    "    df1=pd.DataFrame({'Paper_Title':paper_title,\"Author\":author,\"Date\":date})\n",
    "    print(df1)"
   ]
  },
  {
   "cell_type": "code",
   "execution_count": 9,
   "id": "3db0c866",
   "metadata": {},
   "outputs": [
    {
     "name": "stdout",
     "output_type": "stream",
     "text": [
      "                                          Paper_Title  \\\n",
      "0   Implementation of artificial intelligence in a...   \n",
      "1               Review of agricultural IoT technology   \n",
      "2   A comprehensive review on automation in agricu...   \n",
      "3   Automation and digitization of agriculture usi...   \n",
      "4   Applications of electronic nose (e-nose) and e...   \n",
      "5             Fruit ripeness classification: A survey   \n",
      "6   A review of imaging techniques for plant disea...   \n",
      "7   Deep learning based computer vision approaches...   \n",
      "8   Comparison of CNN-based deep learning architec...   \n",
      "9   Transfer Learning for Multi-Crop Leaf Disease ...   \n",
      "10  Plant disease detection using hybrid model bas...   \n",
      "11  Machine learning in nutrient management: A review   \n",
      "12  DeepRice: A deep learning and deep feature bas...   \n",
      "13  How artificial intelligence uses to achieve th...   \n",
      "14  Machine learning for weed–plant discrimination...   \n",
      "15  Examining the interplay between artificial int...   \n",
      "16  Deep convolutional neural network models for w...   \n",
      "17  A systematic review of machine learning techni...   \n",
      "18  A review on computer vision systems in monitor...   \n",
      "19  Crop diagnostic system: A robust disease detec...   \n",
      "20  Artificial cognition for applications in smart...   \n",
      "21  Explainable artificial intelligence and interp...   \n",
      "22         Blockchain: A new safeguard for agri-foods   \n",
      "23  Study on body temperature detection of pig bas...   \n",
      "24  Vision Intelligence for Smart Sheep Farming: A...   \n",
      "\n",
      "                                               Author            Date  \n",
      "0    Tanha Talaviya ,  Dhara Shah ,  Nivedita Pate...            2020  \n",
      "1          Jinyuan Xu ,  Baoxing Gu ,  Guangzhao Tian            2022  \n",
      "2    Kirtan Jha ,  Aalap Doshi ,  Poojan Patel ,  ...       June 2019  \n",
      "3                            A. Subeesh ,  C.R. Mehta            2021  \n",
      "4                               Juzhong Tan ,  Jie Xu            2020  \n",
      "5    Matteo Rizzo ,  Matteo Marcuzzo ,  Alessandro...      March 2023  \n",
      "6        Vijai Singh ,  Namita Sharma ,  Shikha Singh            2020  \n",
      "7    V.G. Dhanya ,  A. Subeesh ,  N.L. Kushwaha , ...            2022  \n",
      "8    Md Taimur Ahad ,  Yan Li ,  Bo Song ,  Touhid...  September 2023  \n",
      "9              Ananda S. Paymode ,  Vandana B. Malode            2022  \n",
      "10                         Punam Bedi ,  Pushkar Gole            2021  \n",
      "11   Oumnia Ennaji ,  Leonardus Vergütz ,  Achraf ...  September 2023  \n",
      "12   P. Isaac Ritharson ,  Kumudha Raimond ,  X. A...      March 2024  \n",
      "13            Vilani Sachithra ,  L.D.C.S. Subhashini       June 2023  \n",
      "14   Filbert H. Juwono ,  W.K. Wong ,  Seema Verma...   December 2023  \n",
      "15   Abderahman Rejeb ,  Karim Rejeb ,  Suhaiza Za...            2022  \n",
      "16   A. Subeesh ,  S. Bhole ,  K. Singh ,  N.S. Ch...            2022  \n",
      "17   Md Ekramul Hossain ,  Muhammad Ashad Kabir , ...            2022  \n",
      "18   Cedric Okinda ,  Innocent Nyalala ,  Tchalla ...            2020  \n",
      "19               R. Abbasi ,  P. Martinez ,  R. Ahmad   December 2023  \n",
      "20   Misbah Pathan ,  Nivedita Patel ,  Hiteshri Y...            2020  \n",
      "21                                       Masahiro Ryo            2022  \n",
      "22    Jie Xu ,  Shuang Guo ,  David Xie ,  Yaxuan Yan            2020  \n",
      "23          Zaiqin Zhang ,  Hang Zhang ,  Tonghai Liu      March 2019  \n",
      "24   Galib Muhammad Shahriar Himel ,  Md. Masudul ...      March 2024  \n"
     ]
    }
   ],
   "source": [
    "url='https://www.keaipublishing.com/en/journals/artificial-intelligence-in-agriculture/most-downloaded-articles/'\n",
    "keiresponse=requests.get(url)\n",
    "kei(keiresponse)\n"
   ]
  },
  {
   "cell_type": "code",
   "execution_count": null,
   "id": "5db53339",
   "metadata": {},
   "outputs": [],
   "source": []
  },
  {
   "cell_type": "code",
   "execution_count": null,
   "id": "d2e5c5bc",
   "metadata": {},
   "outputs": [],
   "source": []
  },
  {
   "cell_type": "markdown",
   "id": "692ae6d8",
   "metadata": {},
   "source": [
    "5.Write a python program to scrape first 10 product details which include product name , price , Image URL from\n",
    "https://www.bewakoof.com/bestseller?sort=popular ."
   ]
  },
  {
   "cell_type": "code",
   "execution_count": 10,
   "id": "69f18c01",
   "metadata": {},
   "outputs": [],
   "source": [
    "def bewkoof(bewKoofPage):\n",
    "\n",
    "    product_title=[]\n",
    "    images=[]\n",
    "    Actual_price=[]\n",
    "    price=[]\n",
    "   # response=requests.get('https://www.bewakoof.com/bestseller?sort=popular')\n",
    "    soup=bewKoofPage.content\n",
    "    soup=BeautifulSoup(soup,\"html.parser\")\n",
    "#print(soup.text)\n",
    "#print (\"product Name\")\n",
    "    for i in soup.find_all('div',class_=\"productNaming bkf-ellipsis\"):\n",
    "    \n",
    "        product_title.append(i.text.replace(\"Bewakoof®\",\"\"))\n",
    "    #print(product_title)\n",
    "#print(\"Product Image\")\n",
    "    for i in soup.find_all('img',class_=\"productImgTag\"):\n",
    "        images.append(i['src'])\n",
    "#print(images)\n",
    "\n",
    "    for i in soup.find_all('div',class_=\"loyaltyPriceBox\"):\n",
    "    \n",
    "        price.append(i.text.replace(\"For TriBe Members\",\"\"))\n",
    "#print(price)\n",
    "    df=pd.DataFrame({'Product_Name':product_title,'Image_Url':images,'Price':price})\n",
    "    print(df)\n",
    "#print(price)\n",
    "   # price=contents.content\n",
    "    \n",
    "    #Actual_price.append(i.text)\n",
    "#print(Actual_price)"
   ]
  },
  {
   "cell_type": "code",
   "execution_count": 11,
   "id": "7276ff22",
   "metadata": {},
   "outputs": [
    {
     "name": "stdout",
     "output_type": "stream",
     "text": [
      "                                        Product_Name  \\\n",
      "0  bewakoof x looney tunesWomen's Blue Round in B...   \n",
      "1                               Men's Jet Black Vest   \n",
      "2  bewakoof x dcMen's Black Batman Outline Logo T...   \n",
      "3  Men's Blue Rider Vroom Panda Graphic Printed T...   \n",
      "4                    Women's Black Boyfriend T-shirt   \n",
      "5                      Women's Red Boyfriend T-shirt   \n",
      "6  bewakoof x marvelMen's Black Iron Man of War G...   \n",
      "7                                Men's Black T-shirt   \n",
      "8                                Men's White T-shirt   \n",
      "9  bewakoof x dcMen's Black Batman Outline Logo (...   \n",
      "\n",
      "                                           Image_Url Price  \n",
      "0  https://images.bewakoof.com/t640/women-s-blue-...  ₹449  \n",
      "1  https://images.bewakoof.com/t640/jet-black-ves...  ₹349  \n",
      "2  https://images.bewakoof.com/t640/men-s-black-b...  ₹369  \n",
      "3  https://images.bewakoof.com/t640/men-s-blue-ri...  ₹409  \n",
      "4  https://images.bewakoof.com/t640/women-s-black...  ₹369  \n",
      "5  https://images.bewakoof.com/t640/women-s-red-b...  ₹319  \n",
      "6  https://images.bewakoof.com/t640/iron-man-of-w...  ₹329  \n",
      "7  https://images.bewakoof.com/t640/men-s-black-t...  ₹459  \n",
      "8  https://images.bewakoof.com/t640/men-s-white-t...  ₹409  \n",
      "9  https://images.bewakoof.com/t640/men-s-black-b...  ₹459  \n"
     ]
    }
   ],
   "source": [
    "url='https://www.bewakoof.com/bestseller?sort=popular'\n",
    "bewkoofResponse=requests.get(url)\n",
    "bewkoof(bewkoofResponse)"
   ]
  },
  {
   "cell_type": "code",
   "execution_count": null,
   "id": "97d3cf14",
   "metadata": {},
   "outputs": [],
   "source": []
  },
  {
   "cell_type": "code",
   "execution_count": null,
   "id": "c4fc64fe",
   "metadata": {},
   "outputs": [],
   "source": []
  },
  {
   "cell_type": "markdown",
   "id": "d4017024",
   "metadata": {},
   "source": [
    " 6.Write a python program to scrape first 10 product details which include product name , price , Image URL from\n",
    "https://www.nobroker.com/"
   ]
  },
  {
   "cell_type": "code",
   "execution_count": 22,
   "id": "3e5bf195",
   "metadata": {},
   "outputs": [],
   "source": [
    "def nobroker(BrokPage):\n",
    "#url='https://www.nobroker.in/property/rent/bangalore/multiple?searchParam=W3sibGF0IjoxMi45NzgzNjkyLCJsb24iOjc3LjY0MDgzNTYsInBsYWNlSWQiOiJDaElKa1FOM0dLUVdyanNSTmhCUUpyaEdEN1UiLCJwbGFjZU5hbWUiOiJJbmRpcmFuYWdhciJ9LHsibGF0IjoxMi45MzA3NzM1LCJsb24iOjc3LjU4MzgzMDIsInBsYWNlSWQiOiJDaElKMmRkbFo1Z1ZyanNSaDFCT0FhZi1vcnMiLCJwbGFjZU5hbWUiOiJKYXlhbmFnYXIifSx7ImxhdCI6MTIuOTc5Nzk0NywibG9uIjo3Ny41NDgzMjgyLCJwbGFjZUlkIjoiQ2hJSndTclNZLWs5cmpzUlhEcnJDUDYxVEhFIiwicGxhY2VOYW1lIjoiUmFqYWppIE5hZ2FyIEluZHVzdHJpYWwgVG93biwgUmFqYWppbmFnYXIifV0=&radius=2.0&sharedAccomodation=0&tenantType=MALE&accomodationType=PRIVATE_ROOM&city=bangalore&locality=Indiranagar,Jayanagar,Rajaji%20Nagar%20Industrial%20Town,%20Rajajinagar'\n",
    "    \n",
    "    location=[ ]\n",
    "    Area=[]\n",
    "    Deposit_price=[]\n",
    "    rent=[]\n",
    "    #House_Title=[ ]\n",
    "#response=requests.get(url)\n",
    "    #soup=BrokPage.content\n",
    "    soup=BeautifulSoup(BrokPage.content,'html.parser')\n",
    "   ##for i in soup.find_all('div',class_=\"overflow-hidden overflow-ellipsis whitespace-nowrap max-w-80pe po:max-w-full\"):\n",
    "        #House_Title.append(i.text)\n",
    "    #print(House_title)\n",
    "    for i in soup.find_all('div',class_=\"mt-0.5p overflow-hidden overflow-ellipsis whitespace-nowrap max-w-70 text-gray-light leading-4 po:mb-0.1p po:max-w-95\"):\n",
    "        location.append(i.text)\n",
    "    print(location)\n",
    "    for i in soup.find_all('div',class_=\"flex flex-col w-33pe items-center tp:w-half po:w-full\"):\n",
    "        Area.append(i.text)\n",
    "    print(Area)\n",
    "    for i in soup.find_all('div',id=\"roomType\"):\n",
    "   # re.append(i.text)\n",
    "        Deposit_price.append(i.text)\n",
    "    print(Deposit_price)\n",
    "    for i in soup.find_all('div',id=\"minimumRent\"):\n",
    "   # re.append(i.text)\n",
    "        rent.append(i.text)\n",
    "    print(rent)\n",
    "    #df4=pd.DataFrame({'Location':location,'Area':Area,'Deposit_Price':Deposit_price,'Rent':rent})\n",
    "   # print(df4)"
   ]
  },
  {
   "cell_type": "code",
   "execution_count": 23,
   "id": "f2cab54e",
   "metadata": {},
   "outputs": [
    {
     "name": "stdout",
     "output_type": "stream",
     "text": [
      "['Standalone Building, 2nd Block, Near Ashoka Pillar Monument', 'Standalone Building, 26th Main , 9th Block,near Apollo Pharmacy', 'Independent House, 6th Cross Road. 13th Main Road, Near Ozone Health Care Center, Doopanahalli', 'Standalone Building, 3rd Block East,LIC Colony,near,Medicure Hospital As Health Matters', '16th A Main Rd, behind  Ample Mart', 'Independent House, Bannerughatta Approach Road Layout, near  Carmel Convent School', 'Standalone Building, HAL 3rd Stage, Near Chinmaya Mission', 'Independent House, HAL 3rd Stage, Near Chinmaya Mission', 'Independent House, Stage 2 near Indiranagar Metro Station', 'Standalone Building, 5th Block,Near Eat First ', 'Independent House, 11th main road, opposite Khazana', 'Independent House, Rajaji Nagar Industrial Town, Near Shaneshwara Punya Kshetra(Temple)', 'Standalone Building, Jayanagara 9th Block near RV Institute of Management', 'Independent House, Himalaya Super Mart', 'Independent House, Tata Silk Farm, 6B Main, Behind kumarans school', 'standalone building, , H Colony, Near Silicon City Public School', 'Independent House,  Sarvagna Nagar Near Government High School', 'Independent House, HAL 3rd Stage, 1st Block, Near St.Thomas Public School', 'Independent House,  Church Main Road near St. Thomas Public School ', '8th Cross Road', 'Standalone building, Halasuru, Karnataka, India', 'Metro Station Rd Near Halasuru Metro Station', 'Independent House, Near Halsuru Police Station', 'Standalone Building, Mahatma Gandhi Road Bazaar St Near Manohar Jewellers', 'Independent House, Ulsoor Market Road Near Pooja Pharma hanuman temple', 'standalone building, HAL Old Airport Rd, HAL 2nd Stage near Leela palace', 'Independent House, Near BEML Hospital, Bagmane Tech Park back gate', 'Standalone Building, GM Palya, Near BEML Hospital', 'Independent House, GM Palya,Near BEML Hospital ', 'Independent House, Near Hotel Ganesh (Vegeterian)', \"standalone building, Tavarekere Main Road,  Near Prestige St. John's Wood\", 'Standalone Building, 10th cross,siddapura road ,near Elegance Lalbagh View Apartment', 'Independent House, Tavarekere, Maruti Nagar, 1st Stage, near Sri Venkateshwara First Grade College', 'Standalone Building, Dharmaram College Post , Bharathi Layout Near Christ school', '1st Main Rd Near Christ School', 'Standalone Building, Tavarekere Main Road Near Lakshmi Theatre - Tavarakere', 'Independent House,  1st Main Road, 6th Cross Balaji Nagar Near Good Earth High School', '1st Stage, Near Taverekere Post Office', 'Independent House,  Narayanappa Garden,, Near Sri Vidya Ganapati Temple', 'Independent House, Tavarekere Main Rd Near Apollo Pharmacy', '20th Main Rd  Near Gangothri Bar and Restaurant', 'Independent House,  Sarvagna Nagar Near Government High School', 'Independent House, HAL 3rd Stage, 1st Block, Near St.Thomas Public School', 'Independent House,  Church Main Road near St. Thomas Public School ', '8th Cross Road', 'Standalone building, Halasuru, Karnataka, India', 'Metro Station Rd Near Halasuru Metro Station', 'Independent House, Near Halsuru Police Station', 'Standalone Building, Mahatma Gandhi Road Bazaar St Near Manohar Jewellers', 'Independent House, Ulsoor Market Road Near Pooja Pharma hanuman temple', 'standalone building, HAL Old Airport Rd, HAL 2nd Stage near Leela palace', 'Independent House, Near BEML Hospital, Bagmane Tech Park back gate', 'Standalone Building, GM Palya, Near BEML Hospital', 'Independent House, GM Palya,Near BEML Hospital ', 'Independent House, Near Hotel Ganesh (Vegeterian)', \"standalone building, Tavarekere Main Road,  Near Prestige St. John's Wood\", 'Standalone Building, 10th cross,siddapura road ,near Elegance Lalbagh View Apartment', 'Independent House, Tavarekere, Maruti Nagar, 1st Stage, near Sri Venkateshwara First Grade College', 'Standalone Building, Dharmaram College Post , Bharathi Layout Near Christ school', '1st Main Rd Near Christ School', 'Standalone Building, Tavarekere Main Road Near Lakshmi Theatre - Tavarakere', 'Independent House,  1st Main Road, 6th Cross Balaji Nagar Near Good Earth High School', '1st Stage, Near Taverekere Post Office', 'Independent House,  Narayanappa Garden,, Near Sri Vidya Ganapati Temple', 'Independent House, Tavarekere Main Rd Near Apollo Pharmacy', '20th Main Rd  Near Gangothri Bar and Restaurant']\n",
      "['700 sqftBuiltup', '850 sqftBuiltup', '450 sqftBuiltup', '900 sqftBuiltup', '550 sqftBuiltup', '600 sqftBuiltup', '400 sqftBuiltup', '800 sqftBuiltup', '1,000 sqftBuiltup', '1,200 sqftBuiltup', '2,400 sqftBuiltup', '450 sqftBuiltup', '950 sqftBuiltup', '2,400 sqftBuiltup', '500 sqftBuiltup', '600 sqftBuiltup', '850 sqftBuiltup', '450 sqftBuiltup', '1,200 sqftBuiltup', '1,450 sqftBuiltup', '1,100 sqftBuiltup', '500 sqftBuiltup', '250 sqftBuiltup', '400 sqftBuiltup', '920 sqftBuiltup', '550 sqftBuiltup', '1,000 sqftBuiltup', '400 sqftBuiltup', '950 sqftBuiltup', '250 sqftBuiltup', '1,000 sqftBuiltup', '1,300 sqftBuiltup', '680 sqftBuiltup', '400 sqftBuiltup', '650 sqftBuiltup', '400 sqftBuiltup', '300 sqftBuiltup', '600 sqftBuiltup', '550 sqftBuiltup', '400 sqftBuiltup', '1,000 sqftBuiltup', '850 sqftBuiltup', '450 sqftBuiltup', '1,200 sqftBuiltup', '1,450 sqftBuiltup', '1,100 sqftBuiltup', '500 sqftBuiltup', '250 sqftBuiltup', '400 sqftBuiltup', '920 sqftBuiltup', '550 sqftBuiltup', '1,000 sqftBuiltup', '400 sqftBuiltup', '950 sqftBuiltup', '250 sqftBuiltup', '1,000 sqftBuiltup', '1,300 sqftBuiltup', '680 sqftBuiltup', '400 sqftBuiltup', '650 sqftBuiltup', '400 sqftBuiltup', '300 sqftBuiltup', '600 sqftBuiltup', '550 sqftBuiltup', '400 sqftBuiltup', '1,000 sqftBuiltup']\n",
      "['₹2,50,000', '₹2,00,000', '₹1,00,000', '₹1,80,000', '₹1,00,000', '₹50,000', '₹7,00,000', '₹8,00,000', '₹3,50,000', '₹3,00,000', '₹6,00,000', '₹1,00,000', '₹1,50,000', '₹6,50,000', '₹85,000', '₹40,000', '₹1,80,000', '₹1,00,000', '₹80,000', '₹3,00,000', '₹2,20,000', '₹1,50,000', '₹50,000', '₹80,000', '₹1,50,000', '₹50,000', '₹3,00,000', '₹40,000', '₹60,000', '₹20,000', '₹75,000', '₹2,80,000', '₹12,00,000', '₹50,000', '₹75,000', '₹50,000', '₹30,000', '₹35,000', '₹50,000', '₹40,000', '₹2,80,000', '₹1,80,000', '₹1,00,000', '₹80,000', '₹3,00,000', '₹2,20,000', '₹1,50,000', '₹50,000', '₹80,000', '₹1,50,000', '₹50,000', '₹3,00,000', '₹40,000', '₹60,000', '₹20,000', '₹75,000', '₹2,80,000', '₹12,00,000', '₹50,000', '₹75,000', '₹50,000', '₹30,000', '₹35,000', '₹50,000', '₹40,000', '₹2,80,000']\n",
      "['₹ 28,000No Extra Maintenance', '₹ 26,000No Extra Maintenance', '₹ 17,000No Extra Maintenance', '₹ 18,000No Extra Maintenance', '₹ 14,500No Extra Maintenance', '₹ 15,000No Extra Maintenance', 'Only DepositNo Extra Maintenance', 'Only DepositNo Extra Maintenance', '₹ 35,000No Extra Maintenance', '₹ 50,000No Extra Maintenance', '₹ 60,000No Extra Maintenance', '₹ 10,000No Extra Maintenance', '₹ 18,000No Extra Maintenance', '₹ 65,000No Extra Maintenance', '₹ 8,500No Extra Maintenance', '₹ 13,000No Extra Maintenance', '₹ 18,000No Extra Maintenance', '₹ 10,000No Extra Maintenance', '₹ 21,000No Extra Maintenance', '₹ 70,000No Extra Maintenance', '₹ 25,000No Extra Maintenance', '₹ 26,000No Extra Maintenance', '₹ 10,000No Extra Maintenance', '₹ 12,500No Extra Maintenance', '₹ 28,000No Extra Maintenance', '₹ 12,000No Extra Maintenance', '₹ 30,000No Extra Maintenance', '₹ 13,000No Extra Maintenance', '₹ 19,000No Extra Maintenance', '₹ 4,500No Extra Maintenance', '₹ 20,000No Extra Maintenance', '₹ 28,000No Extra Maintenance', 'Only DepositNo Extra Maintenance', '₹ 20,000No Extra Maintenance', '₹ 18,000No Extra Maintenance', '₹ 18,000No Extra Maintenance', '₹ 6,500No Extra Maintenance', '₹ 15,000No Extra Maintenance', '₹ 11,000No Extra Maintenance', '₹ 8,000No Extra Maintenance', '₹ 28,000No Extra Maintenance', '₹ 18,000No Extra Maintenance', '₹ 10,000No Extra Maintenance', '₹ 21,000No Extra Maintenance', '₹ 70,000No Extra Maintenance', '₹ 25,000No Extra Maintenance', '₹ 26,000No Extra Maintenance', '₹ 10,000No Extra Maintenance', '₹ 12,500No Extra Maintenance', '₹ 28,000No Extra Maintenance', '₹ 12,000No Extra Maintenance', '₹ 30,000No Extra Maintenance', '₹ 13,000No Extra Maintenance', '₹ 19,000No Extra Maintenance', '₹ 4,500No Extra Maintenance', '₹ 20,000No Extra Maintenance', '₹ 28,000No Extra Maintenance', 'Only DepositNo Extra Maintenance', '₹ 20,000No Extra Maintenance', '₹ 18,000No Extra Maintenance', '₹ 18,000No Extra Maintenance', '₹ 6,500No Extra Maintenance', '₹ 15,000No Extra Maintenance', '₹ 11,000No Extra Maintenance', '₹ 8,000No Extra Maintenance', '₹ 28,000No Extra Maintenance']\n"
     ]
    }
   ],
   "source": [
    "url='https://www.nobroker.in/property/rent/bangalore/multiple?searchParam=W3sibGF0IjoxMi45NzgzNjkyLCJsb24iOjc3LjY0MDgzNTYsInBsYWNlSWQiOiJDaElKa1FOM0dLUVdyanNSTmhCUUpyaEdEN1UiLCJwbGFjZU5hbWUiOiJJbmRpcmFuYWdhciJ9LHsibGF0IjoxMi45MzA3NzM1LCJsb24iOjc3LjU4MzgzMDIsInBsYWNlSWQiOiJDaElKMmRkbFo1Z1ZyanNSaDFCT0FhZi1vcnMiLCJwbGFjZU5hbWUiOiJKYXlhbmFnYXIifSx7ImxhdCI6MTIuOTc5Nzk0NywibG9uIjo3Ny41NDgzMjgyLCJwbGFjZUlkIjoiQ2hJSndTclNZLWs5cmpzUlhEcnJDUDYxVEhFIiwicGxhY2VOYW1lIjoiUmFqYWppIE5hZ2FyIEluZHVzdHJpYWwgVG93biwgUmFqYWppbmFnYXIifV0=&radius=2.0&sharedAccomodation=0&tenantType=MALE&accomodationType=PRIVATE_ROOM&city=bangalore&locality=Indiranagar,Jayanagar,Rajaji%20Nagar%20Industrial%20Town,%20Rajajinagar'\n",
    "ResponseBroker=requests.get(url)\n",
    "nobroker(ResponseBroker)"
   ]
  },
  {
   "cell_type": "code",
   "execution_count": null,
   "id": "236ad9b8",
   "metadata": {},
   "outputs": [],
   "source": []
  },
  {
   "cell_type": "code",
   "execution_count": null,
   "id": "4bd12b8d",
   "metadata": {},
   "outputs": [],
   "source": []
  },
  {
   "cell_type": "code",
   "execution_count": null,
   "id": "60f15742",
   "metadata": {},
   "outputs": [],
   "source": []
  },
  {
   "cell_type": "code",
   "execution_count": null,
   "id": "176f7427",
   "metadata": {},
   "outputs": [],
   "source": []
  },
  {
   "cell_type": "code",
   "execution_count": null,
   "id": "d0895f9f",
   "metadata": {},
   "outputs": [],
   "source": []
  },
  {
   "cell_type": "code",
   "execution_count": null,
   "id": "ed170e46",
   "metadata": {},
   "outputs": [],
   "source": []
  },
  {
   "cell_type": "code",
   "execution_count": null,
   "id": "9c94f270",
   "metadata": {},
   "outputs": [],
   "source": []
  },
  {
   "cell_type": "code",
   "execution_count": null,
   "id": "e97ae8d5",
   "metadata": {},
   "outputs": [],
   "source": []
  },
  {
   "cell_type": "code",
   "execution_count": null,
   "id": "d9421548",
   "metadata": {},
   "outputs": [],
   "source": []
  },
  {
   "cell_type": "code",
   "execution_count": null,
   "id": "208650ee",
   "metadata": {},
   "outputs": [],
   "source": []
  },
  {
   "cell_type": "code",
   "execution_count": null,
   "id": "e7049fa8",
   "metadata": {},
   "outputs": [],
   "source": []
  },
  {
   "cell_type": "code",
   "execution_count": null,
   "id": "05cac2b9",
   "metadata": {},
   "outputs": [],
   "source": []
  },
  {
   "cell_type": "code",
   "execution_count": null,
   "id": "0d782e7d",
   "metadata": {},
   "outputs": [],
   "source": []
  },
  {
   "cell_type": "code",
   "execution_count": null,
   "id": "721d07c5",
   "metadata": {},
   "outputs": [],
   "source": []
  },
  {
   "cell_type": "code",
   "execution_count": null,
   "id": "825a170a",
   "metadata": {},
   "outputs": [],
   "source": []
  },
  {
   "cell_type": "code",
   "execution_count": null,
   "id": "1874eddd",
   "metadata": {},
   "outputs": [],
   "source": []
  },
  {
   "cell_type": "code",
   "execution_count": null,
   "id": "40a8c757",
   "metadata": {},
   "outputs": [],
   "source": []
  },
  {
   "cell_type": "code",
   "execution_count": null,
   "id": "0f125884",
   "metadata": {},
   "outputs": [],
   "source": []
  },
  {
   "cell_type": "code",
   "execution_count": null,
   "id": "4ec2f5e5",
   "metadata": {},
   "outputs": [],
   "source": []
  },
  {
   "cell_type": "code",
   "execution_count": null,
   "id": "f04b1a98",
   "metadata": {},
   "outputs": [],
   "source": []
  },
  {
   "cell_type": "code",
   "execution_count": null,
   "id": "90b8f11c",
   "metadata": {},
   "outputs": [],
   "source": []
  },
  {
   "cell_type": "code",
   "execution_count": null,
   "id": "9cad8ead",
   "metadata": {},
   "outputs": [],
   "source": []
  },
  {
   "cell_type": "code",
   "execution_count": null,
   "id": "f43fa809",
   "metadata": {},
   "outputs": [],
   "source": []
  },
  {
   "cell_type": "code",
   "execution_count": null,
   "id": "bac757da",
   "metadata": {},
   "outputs": [],
   "source": []
  },
  {
   "cell_type": "code",
   "execution_count": null,
   "id": "d9e030e2",
   "metadata": {},
   "outputs": [],
   "source": []
  },
  {
   "cell_type": "code",
   "execution_count": null,
   "id": "9559ac67",
   "metadata": {},
   "outputs": [],
   "source": []
  },
  {
   "cell_type": "code",
   "execution_count": null,
   "id": "8ed96cb2",
   "metadata": {},
   "outputs": [],
   "source": []
  },
  {
   "cell_type": "code",
   "execution_count": null,
   "id": "8898479b",
   "metadata": {},
   "outputs": [],
   "source": []
  },
  {
   "cell_type": "code",
   "execution_count": null,
   "id": "032bcee8",
   "metadata": {},
   "outputs": [],
   "source": []
  },
  {
   "cell_type": "code",
   "execution_count": null,
   "id": "cfe96e61",
   "metadata": {},
   "outputs": [],
   "source": []
  },
  {
   "cell_type": "code",
   "execution_count": null,
   "id": "af13cd4e",
   "metadata": {},
   "outputs": [],
   "source": []
  },
  {
   "cell_type": "code",
   "execution_count": null,
   "id": "a875d46a",
   "metadata": {},
   "outputs": [],
   "source": []
  },
  {
   "cell_type": "code",
   "execution_count": null,
   "id": "fda899a6",
   "metadata": {},
   "outputs": [],
   "source": []
  },
  {
   "cell_type": "code",
   "execution_count": null,
   "id": "32915fd7",
   "metadata": {},
   "outputs": [],
   "source": []
  },
  {
   "cell_type": "code",
   "execution_count": null,
   "id": "64293538",
   "metadata": {},
   "outputs": [],
   "source": []
  },
  {
   "cell_type": "code",
   "execution_count": null,
   "id": "e6dd4aae",
   "metadata": {},
   "outputs": [],
   "source": []
  },
  {
   "cell_type": "code",
   "execution_count": null,
   "id": "b8099cd8",
   "metadata": {},
   "outputs": [],
   "source": []
  },
  {
   "cell_type": "code",
   "execution_count": null,
   "id": "44768111",
   "metadata": {},
   "outputs": [],
   "source": []
  },
  {
   "cell_type": "code",
   "execution_count": null,
   "id": "8d2f687d",
   "metadata": {},
   "outputs": [],
   "source": []
  },
  {
   "cell_type": "code",
   "execution_count": null,
   "id": "32fc119b",
   "metadata": {},
   "outputs": [],
   "source": []
  },
  {
   "cell_type": "code",
   "execution_count": null,
   "id": "53b59254",
   "metadata": {},
   "outputs": [],
   "source": []
  }
 ],
 "metadata": {
  "kernelspec": {
   "display_name": "Python 3 (ipykernel)",
   "language": "python",
   "name": "python3"
  },
  "language_info": {
   "codemirror_mode": {
    "name": "ipython",
    "version": 3
   },
   "file_extension": ".py",
   "mimetype": "text/x-python",
   "name": "python",
   "nbconvert_exporter": "python",
   "pygments_lexer": "ipython3",
   "version": "3.11.4"
  }
 },
 "nbformat": 4,
 "nbformat_minor": 5
}
