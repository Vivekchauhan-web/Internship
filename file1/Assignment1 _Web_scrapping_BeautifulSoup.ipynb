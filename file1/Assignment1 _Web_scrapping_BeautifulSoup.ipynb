{
 "cells": [
  {
   "cell_type": "markdown",
   "id": "9c048701",
   "metadata": {},
   "source": [
    "1.Write a python program to display all the header tag from wikipedia.org"
   ]
  },
  {
   "cell_type": "code",
   "execution_count": 4,
   "id": "07f8fbf6",
   "metadata": {},
   "outputs": [],
   "source": [
    "def htm_header(page):\n",
    "    head_soup=BeautifulSoup(page.content)\n",
    "    header=head_soup.find_all(['h1','h2','h3'])\n",
    "    print(header)\n",
    "\n",
    "\n",
    "\n",
    "\n",
    "\n"
   ]
  },
  {
   "cell_type": "code",
   "execution_count": 17,
   "id": "9fb9777a",
   "metadata": {},
   "outputs": [
    {
     "name": "stdout",
     "output_type": "stream",
     "text": [
      "[<h1 class=\"firstHeading mw-first-heading\" id=\"firstHeading\" style=\"display: none\"><span class=\"mw-page-title-main\">Main Page</span></h1>, <h1><span class=\"mw-headline\" id=\"Welcome_to_Wikipedia\">Welcome to <a href=\"/wiki/Wikipedia\" title=\"Wikipedia\">Wikipedia</a></span></h1>, <h2 class=\"mp-h2\" id=\"mp-tfa-h2\"><span id=\"From_today.27s_featured_article\"></span><span class=\"mw-headline\" id=\"From_today's_featured_article\">From today's featured article</span></h2>, <h2 class=\"mp-h2\" id=\"mp-dyk-h2\"><span class=\"mw-headline\" id=\"Did_you_know_...\">Did you know ...</span></h2>, <h2 class=\"mp-h2\" id=\"mp-itn-h2\"><span class=\"mw-headline\" id=\"In_the_news\">In the news</span></h2>, <h2 class=\"mp-h2\" id=\"mp-otd-h2\"><span class=\"mw-headline\" id=\"On_this_day\">On this day</span></h2>, <h2 class=\"mp-h2\" id=\"mp-tfp-h2\"><span id=\"Today.27s_featured_picture\"></span><span class=\"mw-headline\" id=\"Today's_featured_picture\">Today's featured picture</span></h2>, <h2 class=\"mp-h2\" id=\"mp-other\"><span class=\"mw-headline\" id=\"Other_areas_of_Wikipedia\">Other areas of Wikipedia</span></h2>, <h2 class=\"mp-h2\" id=\"mp-sister\"><span id=\"Wikipedia.27s_sister_projects\"></span><span class=\"mw-headline\" id=\"Wikipedia's_sister_projects\">Wikipedia's sister projects</span></h2>, <h2 class=\"mp-h2\" id=\"mp-lang\"><span class=\"mw-headline\" id=\"Wikipedia_languages\">Wikipedia languages</span></h2>]\n"
     ]
    }
   ],
   "source": [
    "response=requests.get('https://en.wikipedia.org/wiki/Main_Page')\n",
    "htm_header(response)"
   ]
  },
  {
   "cell_type": "markdown",
   "id": "b6134318",
   "metadata": {},
   "source": [
    "2.Write a program to display IMDBS top rated 100 movies data(name ,rating, year of release) and make Dataframe "
   ]
  },
  {
   "cell_type": "code",
   "execution_count": 18,
   "id": "1a175571",
   "metadata": {},
   "outputs": [],
   "source": [
    "def IMDB_top(MoviePage):\n",
    "    Movie_name=[]\n",
    "    rating=[]\n",
    "    year_release=[]\n",
    "    soup=MoviePage.content\n",
    "    soup=BeautifulSoup(soup,\"html.parser\")\n",
    "    for i in soup.find_all('h3',class_=\"lister-item-header\"):\n",
    "        Movie_name.append(i.text.replace(\"\\n\",\"\"))\n",
    "    \n",
    "    for i in soup.find_all('div',class_=\"ipl-rating-star small\"):\n",
    "        rating.append(i.text.replace(\"\\n\",\"\"))\n",
    "    \n",
    "    for i in soup.find_all('span',class_=\"lister-item-year text-muted unbold\"):\n",
    "        year_release.append(i.text)\n",
    "    \n",
    "    dict={'MovieName':Movie_name,\"Rating\":rating,\"year_of_release\":year_release}\n",
    "    df=pd.DataFrame(dict)\n",
    "    print(df)"
   ]
  },
  {
   "cell_type": "code",
   "execution_count": 19,
   "id": "9930cd21",
   "metadata": {},
   "outputs": [
    {
     "name": "stdout",
     "output_type": "stream",
     "text": [
      "                           MovieName Rating year_of_release\n",
      "0              1.The Godfather(1972)    9.2          (1972)\n",
      "1   2.The Shawshank Redemption(1994)    9.3          (1994)\n",
      "2           3.Schindler's List(1993)      9          (1993)\n",
      "3                4.Raging Bull(1980)    8.1          (1980)\n",
      "4                 5.Casablanca(1942)    8.5          (1942)\n",
      "..                               ...    ...             ...\n",
      "95              96.Rear Window(1954)    8.5          (1954)\n",
      "96            97.The Third Man(1949)    8.1          (1949)\n",
      "97    98.Rebel Without a Cause(1955)    7.6          (1955)\n",
      "98       99.North by Northwest(1959)    8.3          (1959)\n",
      "99     100.Yankee Doodle Dandy(1942)    7.6          (1942)\n",
      "\n",
      "[100 rows x 3 columns]\n"
     ]
    }
   ],
   "source": [
    "import pandas as pd\n",
    "Mresponse=requests.get('https://www.imdb.com/list/ls055592025/')\n",
    "IMDB_top(Mresponse)"
   ]
  },
  {
   "cell_type": "markdown",
   "id": "f3d89b66",
   "metadata": {},
   "source": [
    "4.Write a python program to display list of respected former president of India(Name and term of service)and make dataframe"
   ]
  },
  {
   "cell_type": "code",
   "execution_count": 75,
   "id": "e5e866d7",
   "metadata": {},
   "outputs": [],
   "source": [
    "def list_presidents(lstPres):\n",
    "    president_lst=[]\n",
    "    soup=lstPres.content\n",
    "    soup=BeautifulSoup(soup,\"html.parser\")\n",
    "    for i in soup.find_all('div',class_=\"desc-sec\"):\n",
    "        president_lst.append(i.text.replace(\"\\n\",\" \"))\n",
    "    \n",
    "    df=pd.DataFrame(president_lst,columns=['President List'])\n",
    "    print(df)"
   ]
  },
  {
   "cell_type": "code",
   "execution_count": 76,
   "id": "0efb6ace",
   "metadata": {},
   "outputs": [
    {
     "name": "stdout",
     "output_type": "stream",
     "text": [
      "                                       President List\n",
      "0       Shri Ram Nath Kovind 14th President of India \n",
      "1      Shri Pranab Mukherjee 13th President of India \n",
      "2    Smt Pratibha Devisingh Patil 12th President o...\n",
      "3     DR. A.P.J. Abdul Kalam 11th President of India \n",
      "4       Shri K. R. Narayanan 10th President of India \n",
      "5    Dr Shankar Dayal Sharma 9th  President of India \n",
      "6         Shri R Venkataraman 8th President of India \n",
      "7            Giani Zail Singh 7th President of India \n",
      "8    Shri Neelam Sanjiva Reddy 6th President of In...\n",
      "9    Dr. Fakhruddin Ali Ahmed 5th President of India \n",
      "10   Shri Varahagiri Venkata Giri 4th President of...\n",
      "11           Dr. Zakir Husain 3rd President of India \n",
      "12   Dr. Sarvepalli Radhakrishnan 2nd President of...\n",
      "13        Dr. Rajendra Prasad 1st President of India \n"
     ]
    }
   ],
   "source": [
    "PResponse=requests.get('https://presidentofindia.gov.in/index.php/former-presidents')\n",
    "list_presidents(PResponse)"
   ]
  },
  {
   "cell_type": "code",
   "execution_count": null,
   "id": "abc2106c",
   "metadata": {},
   "outputs": [],
   "source": []
  },
  {
   "cell_type": "code",
   "execution_count": null,
   "id": "56f2e844",
   "metadata": {},
   "outputs": [],
   "source": []
  },
  {
   "cell_type": "code",
   "execution_count": 68,
   "id": "422f1acc",
   "metadata": {},
   "outputs": [
    {
     "name": "stdout",
     "output_type": "stream",
     "text": [
      "Empty DataFrame\n",
      "Columns: [Name, Term]\n",
      "Index: []\n"
     ]
    }
   ],
   "source": [
    "# import requests and BeautifulSoup libraries\n",
    "import requests\n",
    "from bs4 import BeautifulSoup\n",
    "import pandas as pd\n",
    "\n",
    "# get the HTML content of the web page\n",
    "url = \"https://presidentofindia.nic.in/former-presidents\"\n",
    "response = requests.get(url)\n",
    "html = response.content\n",
    "\n",
    "# create a soup object from the HTML content\n",
    "soup = BeautifulSoup(html, \"html.parser\") # or \"lxml\"\n",
    "\n",
    "# find the table element that contains the list of former presidents\n",
    "table = soup.find(\"table\", class_=\"table table-bordered\")\n",
    "\n",
    "# find all the table row elements that contain the data of each president\n",
    "rows = soup.find_all(\"tr\")\n",
    "\n",
    "# create an empty DataFrame to store the data\n",
    "df = pd.DataFrame(columns=[\"Name\", \"Term\"])\n",
    "\n",
    "# loop through the table row elements and extract the name and term of service of each president\n",
    "for row in rows[1:]: # skip the first row as it is the header\n",
    "    # find all the table data elements in the row\n",
    "    data = row.find_all(\"td\")\n",
    "    # get the name and term of service of the president\n",
    "    name = data[0].get_text().strip()\n",
    "    term = data[1].get_text().strip()\n",
    "    # append the name and term of service to the DataFrame\n",
    "    df = df.append({\"Name\": name, \"Term\": term}, ignore_index=True)\n",
    "\n",
    "# display the DataFrame\n",
    "print(df)\n"
   ]
  },
  {
   "cell_type": "code",
   "execution_count": null,
   "id": "4e7cc429",
   "metadata": {},
   "outputs": [],
   "source": []
  },
  {
   "cell_type": "code",
   "execution_count": null,
   "id": "31f76146",
   "metadata": {},
   "outputs": [],
   "source": []
  },
  {
   "cell_type": "code",
   "execution_count": null,
   "id": "7cc506a0",
   "metadata": {},
   "outputs": [],
   "source": []
  }
 ],
 "metadata": {
  "kernelspec": {
   "display_name": "Python 3 (ipykernel)",
   "language": "python",
   "name": "python3"
  },
  "language_info": {
   "codemirror_mode": {
    "name": "ipython",
    "version": 3
   },
   "file_extension": ".py",
   "mimetype": "text/x-python",
   "name": "python",
   "nbconvert_exporter": "python",
   "pygments_lexer": "ipython3",
   "version": "3.11.4"
  }
 },
 "nbformat": 4,
 "nbformat_minor": 5
}
