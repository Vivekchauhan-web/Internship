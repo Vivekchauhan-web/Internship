{
 "cells": [
  {
   "cell_type": "markdown",
   "id": "3339bf23",
   "metadata": {},
   "source": [
    "1.Write a program to display IMDBS top rated 100 movies data(name ,rating, year of release) and make Dataframe"
   ]
  },
  {
   "cell_type": "code",
   "execution_count": 1,
   "id": "67151aef",
   "metadata": {},
   "outputs": [],
   "source": [
    "def IMDB_top(MoviePage):\n",
    "    Movie_name=[]\n",
    "    rating=[]\n",
    "    year_release=[]\n",
    "    soup=MoviePage.content\n",
    "    soup=BeautifulSoup(soup,\"html.parser\")\n",
    "    for i in soup.find_all('h3',class_=\"lister-item-header\"):\n",
    "        Movie_name.append(i.text.replace(\"\\n\",\"\"))\n",
    "    \n",
    "    for i in soup.find_all('div',class_=\"ipl-rating-star small\"):\n",
    "        rating.append(i.text.replace(\"\\n\",\"\"))\n",
    "    \n",
    "    for i in soup.find_all('span',class_=\"lister-item-year text-muted unbold\"):\n",
    "        year_release.append(i.text)\n",
    "    \n",
    "    dict={'MovieName':Movie_name,\"Rating\":rating,\"year_of_release\":year_release}\n",
    "    df=pd.DataFrame(dict)\n",
    "    print(df)"
   ]
  },
  {
   "cell_type": "code",
   "execution_count": 2,
   "id": "7de507db",
   "metadata": {},
   "outputs": [
    {
     "name": "stdout",
     "output_type": "stream",
     "text": [
      "                           MovieName Rating year_of_release\n",
      "0              1.The Godfather(1972)    9.2          (1972)\n",
      "1   2.The Shawshank Redemption(1994)    9.3          (1994)\n",
      "2           3.Schindler's List(1993)      9          (1993)\n",
      "3                4.Raging Bull(1980)    8.1          (1980)\n",
      "4                 5.Casablanca(1942)    8.5          (1942)\n",
      "..                               ...    ...             ...\n",
      "95              96.Rear Window(1954)    8.5          (1954)\n",
      "96            97.The Third Man(1949)    8.1          (1949)\n",
      "97    98.Rebel Without a Cause(1955)    7.6          (1955)\n",
      "98       99.North by Northwest(1959)    8.3          (1959)\n",
      "99     100.Yankee Doodle Dandy(1942)    7.6          (1942)\n",
      "\n",
      "[100 rows x 3 columns]\n"
     ]
    }
   ],
   "source": [
    "from bs4 import BeautifulSoup\n",
    "import requests\n",
    "import pandas as pd\n",
    "Mresponse=requests.get('https://www.imdb.com/list/ls055592025/')\n",
    "IMDB_top(Mresponse)"
   ]
  },
  {
   "cell_type": "markdown",
   "id": "95484541",
   "metadata": {},
   "source": [
    "2.Write a python program to scrape product name, price and discounts from https://www.meesho.com/bags-ladies/pl/3jo?page=1"
   ]
  },
  {
   "cell_type": "code",
   "execution_count": 3,
   "id": "3cd2e2d4",
   "metadata": {},
   "outputs": [
    {
     "name": "stdout",
     "output_type": "stream",
     "text": [
      "Product_name\n",
      "['TMN - Women Pink Vegan Leather Golden Chain Sling Bag']\n",
      "Discount_Price\n",
      "['₹449.00']\n",
      "Actual_Price\n",
      "['₹899.00']\n"
     ]
    }
   ],
   "source": [
    "import requests\n",
    "PeachResponse=requests.get('https://peachmode.com/products/tmn-women-pink-vegan-leather-golden-chain-sling-bag')\n",
    "#def Peach(PeachPage):\n",
    "soup=PeachResponse.content\n",
    "soup=BeautifulSoup(soup,'html.parser')\n",
    "product_name=[]\n",
    "Discount_price=[]\n",
    "Actual_price=[]\n",
    "#our_text=soup.select_one(' div a span ')\n",
    "#print(our_text.text)\n",
    "\n",
    "print(\"Product_name\")\n",
    "for i in soup.find_all('h1',class_=\"product-meta__title heading h4\"):\n",
    "    product_name.append(i.text)\n",
    "   # print(soup.text)\n",
    "print(product_name)\n",
    "print(\"Discount_Price\")\n",
    "for i in soup.find_all('span',class_=\"price price--highlight price--large\"):\n",
    "    Discount_price.append(i.text.replace('\\nSale price',\"\"))\n",
    "print(Discount_price)\n",
    "print(\"Actual_Price\")\n",
    "for i in soup.find_all('span',class_=\"price price--compare\"):\n",
    "    Actual_price.append(i.text.replace('\\nRegular price',\"\"))\n",
    "print(Actual_price)"
   ]
  },
  {
   "cell_type": "code",
   "execution_count": null,
   "id": "0148f67c",
   "metadata": {},
   "outputs": [],
   "source": []
  },
  {
   "cell_type": "code",
   "execution_count": null,
   "id": "5379fe44",
   "metadata": {},
   "outputs": [],
   "source": []
  },
  {
   "cell_type": "markdown",
   "id": "e1d0983e",
   "metadata": {},
   "source": [
    "3. Write a python program to scrape cricket rankings from icc-cricket.com. You have to scrape:\n",
    "a) Top 10 ODI teams in men’s cricket along with the records for matches, points and rating.\n",
    "b) Top 10 ODI Batsmen along with the records of their team and rating.\n",
    "c) Top 10 ODI bowlers along with the records of their team and rating"
   ]
  },
  {
   "cell_type": "code",
   "execution_count": 4,
   "id": "2e7d3893",
   "metadata": {},
   "outputs": [],
   "source": [
    "ODIResponse=requests.get(\"https://www.icc-cricket.com/rankings/team-rankings/mens/odi\")\n",
    "\n",
    "Team=[]\n",
    "iccsoup=ODIResponse.content\n",
    "  \n",
    "iccsoup=BeautifulSoup(iccsoup,'html.parser')\n",
    "team_rows=iccsoup.select('table.table tbody tr')\n",
    "table_rows=iccsoup.find_all('section',class_=\" container w-full \")\n",
    "#for row in table_rows:\n",
    "    ###cells = row.find_all(\"div\",class_=\"si-table-rows\")\n",
    "    #for cell in cells:\n",
    "      #  print(cell.text)\n",
    "     \n",
    "\n",
    "    #print(i)\n",
    "    #Team.append(i.text\n",
    "iccsoup.find('div',class_=\"si-table-body\")"
   ]
  },
  {
   "cell_type": "code",
   "execution_count": 5,
   "id": "540e52bb",
   "metadata": {},
   "outputs": [
    {
     "data": {
      "text/plain": [
       "[]"
      ]
     },
     "execution_count": 5,
     "metadata": {},
     "output_type": "execute_result"
    }
   ],
   "source": [
    "iccsoup.find_all('div',class_=\"si-table-section\")"
   ]
  },
  {
   "cell_type": "code",
   "execution_count": null,
   "id": "d317537e",
   "metadata": {},
   "outputs": [],
   "source": []
  },
  {
   "cell_type": "code",
   "execution_count": 6,
   "id": "521dc12f",
   "metadata": {},
   "outputs": [],
   "source": [
    "#"
   ]
  },
  {
   "cell_type": "code",
   "execution_count": 7,
   "id": "3db0c866",
   "metadata": {},
   "outputs": [],
   "source": [
    "url='https://www.icc-cricket.com/rankings/mens/player-rankings/odi/batting'\n",
    "r=requests.get(url).text"
   ]
  },
  {
   "cell_type": "code",
   "execution_count": 8,
   "id": "77651d3f",
   "metadata": {},
   "outputs": [],
   "source": [
    "soup=BeautifulSoup(r,'lxml')"
   ]
  },
  {
   "cell_type": "code",
   "execution_count": 9,
   "id": "a9090c79",
   "metadata": {},
   "outputs": [],
   "source": [
    "table=soup.find('table' ,attrs={\"class\":\"table ranking-table\"})"
   ]
  },
  {
   "cell_type": "code",
   "execution_count": 10,
   "id": "2236d1f4",
   "metadata": {},
   "outputs": [
    {
     "name": "stdout",
     "output_type": "stream",
     "text": [
      "None\n"
     ]
    }
   ],
   "source": [
    "print(table)"
   ]
  },
  {
   "cell_type": "code",
   "execution_count": 11,
   "id": "d59b9aae",
   "metadata": {},
   "outputs": [
    {
     "ename": "TypeError",
     "evalue": "'NoneType' object is not callable",
     "output_type": "error",
     "traceback": [
      "\u001b[1;31m---------------------------------------------------------------------------\u001b[0m",
      "\u001b[1;31mTypeError\u001b[0m                                 Traceback (most recent call last)",
      "Cell \u001b[1;32mIn[11], line 1\u001b[0m\n\u001b[1;32m----> 1\u001b[0m \u001b[38;5;28;01mfor\u001b[39;00m tr \u001b[38;5;129;01min\u001b[39;00m \u001b[43mtable\u001b[49m\u001b[43m(\u001b[49m\u001b[38;5;124;43m'\u001b[39;49m\u001b[38;5;124;43mtr\u001b[39;49m\u001b[38;5;124;43m'\u001b[39;49m\u001b[43m)\u001b[49m:\n\u001b[0;32m      2\u001b[0m     \u001b[38;5;28;01mfor\u001b[39;00m td \u001b[38;5;129;01min\u001b[39;00m table(\u001b[38;5;124m'\u001b[39m\u001b[38;5;124mtd\u001b[39m\u001b[38;5;124m'\u001b[39m):\n\u001b[0;32m      3\u001b[0m         \u001b[38;5;28mprint\u001b[39m(td)\n",
      "\u001b[1;31mTypeError\u001b[0m: 'NoneType' object is not callable"
     ]
    }
   ],
   "source": [
    "for tr in table('tr'):\n",
    "    for td in table('td'):\n",
    "        print(td)"
   ]
  },
  {
   "cell_type": "markdown",
   "id": "70405feb",
   "metadata": {},
   "source": [
    "4.Write a python program to scrape details of all the posts from https://www.patreon.com/coreyms .Scrape the\n",
    "heading, date, content and the likes for the video from the link for the youtube video from the post"
   ]
  },
  {
   "cell_type": "code",
   "execution_count": null,
   "id": "3fe1d30c",
   "metadata": {},
   "outputs": [],
   "source": [
    "import requests\n",
    "paturl='https://www.patreon.com/coreyms/posts'\n",
    "patresponse=requests.get(paturl)\n",
    "patsoup=patresponse.content\n",
    "patsoup=BeautifulSoup(patsoup,\"html.parser\")\n",
    "head=[]\n",
    "date=[]\n",
    "likes=[]\n",
    "head12=patsoup.find_all('div',class_=\"sc-d4f3hw-3 gURuLq\")\n",
    "#result=head1.find('div',class_=\"sc-dlVxhl gJYudr\")\n",
    "for i in patsoup.find_all('span',class_=\"sc-1hmaiaw-0 fIBzIT\"):\n",
    "        head.append(i.text)\n",
    "    #result=i.text\n",
    "print(head)\n",
    "#date.append(i.text)"
   ]
  },
  {
   "cell_type": "code",
   "execution_count": null,
   "id": "df8b4769",
   "metadata": {},
   "outputs": [],
   "source": [
    "div=patsoup.find_all('div',class_=\"sc-eicpiI ksoTFB\")\n",
    "for i in div:\n",
    "    #div1=i.find('div')\n",
    "    div2=i.find('span',class_=\"sc-1hmaiaw-0 fIBzIT\")\n",
    "print(div2)"
   ]
  },
  {
   "cell_type": "code",
   "execution_count": null,
   "id": "7b24f15e",
   "metadata": {},
   "outputs": [],
   "source": []
  },
  {
   "cell_type": "code",
   "execution_count": null,
   "id": "f6d9f44c",
   "metadata": {},
   "outputs": [],
   "source": [
    "res.parent.name"
   ]
  },
  {
   "cell_type": "code",
   "execution_count": null,
   "id": "8ef87b7a",
   "metadata": {},
   "outputs": [],
   "source": [
    "print(com)"
   ]
  },
  {
   "cell_type": "code",
   "execution_count": 25,
   "id": "c0ffbbe5",
   "metadata": {},
   "outputs": [
    {
     "name": "stdout",
     "output_type": "stream",
     "text": [
      "[]\n"
     ]
    }
   ],
   "source": [
    "# import requests, BeautifulSoup and pandas libraries\n",
    "import requests\n",
    "from bs4 import BeautifulSoup\n",
    "import pandas as pd\n",
    "\n",
    "# define the url of the web page\n",
    "url = \"https://www.patreon.com/coreyms/posts\"\n",
    "\n",
    "# get the response from the web page\n",
    "response = requests.get(url)\n",
    "\n",
    "# check if the response is successful\n",
    "if response.status_code == 200:\n",
    "    # create a soup object from the response content\n",
    "    soup = BeautifulSoup(response.content, \"html.parser\")\n",
    "\n",
    "    # find all the div elements that contain the post information\n",
    "    posts = soup.find_all(\"div\", class_=\"sc-d4f3hw-3 fPpudi\")\n",
    "\n",
    "    # create empty lists to store the extracted data\n",
    "    headings = []\n",
    "    dates = []\n",
    "    contents = []\n",
    "    likes = []\n",
    "    videos = []\n",
    "\n",
    "    # loop through the posts and extract the data\n",
    "    for post in posts:\n",
    "        # find the h2 element that contains the post heading\n",
    "        heading = post.find(\"a\",href=\"/posts/python-pandas-6-33658654\")\n",
    "        # append the text content of the heading element to the headings list\n",
    "        headings.append(heading.text)\n",
    "\n",
    "        # find the span element that contains the post date\n",
    "        date = post.find(\"span\", class_=\"sc-AxjAm sc-AxirZ eYjUWv\")\n",
    "        # append the text content of the date element to the dates list\n",
    "        dates.append(date.text)\n",
    "\n",
    "        # find the div element that contains the post content\n",
    "        content = post.find(\"div\", class_=\"sc-AxjAm sc-AxirZ iZQnVd\")\n",
    "        # append the text content of the content element to the contents list\n",
    "        contents.append(content.text)\n",
    "\n",
    "        # find the span element that contains the post likes\n",
    "        like = post.find(\"span\", class_=\"sc-AxjAm sc-AxirZ kGkOpn\")\n",
    "        # append the text content of the like element to the likes list\n",
    "        likes.append(like.text)\n",
    "\n",
    "        # find the iframe element that contains the youtube video link\n",
    "        video = post.find(\"iframe\", class_=\"sc-AxjAm sc-AxirZ gUuGve\")\n",
    "        # check if the video element exists\n",
    "        if video:\n",
    "            # append the src attribute of the video element to the videos list\n",
    "            videos.append(video[\"src\"])\n",
    "        else:\n",
    "            # append None to the videos list\n",
    "            videos.ap\n",
    "print(headings)"
   ]
  },
  {
   "cell_type": "code",
   "execution_count": null,
   "id": "23bbba72",
   "metadata": {},
   "outputs": [],
   "source": []
  },
  {
   "cell_type": "code",
   "execution_count": null,
   "id": "5db53339",
   "metadata": {},
   "outputs": [],
   "source": []
  },
  {
   "cell_type": "code",
   "execution_count": null,
   "id": "d2e5c5bc",
   "metadata": {},
   "outputs": [],
   "source": []
  },
  {
   "cell_type": "markdown",
   "id": "692ae6d8",
   "metadata": {},
   "source": [
    "5.Write a python program to scrape first 10 product details which include product name , price , Image URL from\n",
    "https://www.bewakoof.com/bestseller?sort=popular ."
   ]
  },
  {
   "cell_type": "code",
   "execution_count": null,
   "id": "69f18c01",
   "metadata": {},
   "outputs": [],
   "source": [
    "def bewkoof(bewKoofPage):\n",
    "\n",
    "    product_title=[]\n",
    "    images=[]\n",
    "    Actual_price=[]\n",
    "    price=[]\n",
    "   # response=requests.get('https://www.bewakoof.com/bestseller?sort=popular')\n",
    "    soup=bewKoofPage.content\n",
    "    soup=BeautifulSoup(soup,\"html.parser\")\n",
    "#print(soup.text)\n",
    "#print (\"product Name\")\n",
    "    for i in soup.find_all('div',class_=\"productNaming bkf-ellipsis\"):\n",
    "    \n",
    "        product_title.append(i.text.replace(\"Bewakoof®\",\"\"))\n",
    "    #print(product_title)\n",
    "#print(\"Product Image\")\n",
    "    for i in soup.find_all('img',class_=\"productImgTag\"):\n",
    "        images.append(i['src'])\n",
    "#print(images)\n",
    "\n",
    "    for i in soup.find_all('div',class_=\"loyaltyPriceBox\"):\n",
    "    \n",
    "        price.append(i.text.replace(\"For TriBe Members\",\"\"))\n",
    "#print(price)\n",
    "    df=pd.DataFrame({'Product_Name':product_title,'Image_Url':images,'Price':price})\n",
    "    print(df)\n",
    "#print(price)\n",
    "   # price=contents.content\n",
    "    \n",
    "    #Actual_price.append(i.text)\n",
    "#print(Actual_price)"
   ]
  },
  {
   "cell_type": "code",
   "execution_count": null,
   "id": "7276ff22",
   "metadata": {},
   "outputs": [],
   "source": [
    "url='https://www.bewakoof.com/bestseller?sort=popular'\n",
    "bewkoofResponse=requests.get(url)\n",
    "bewkoof(bewkoofResponse)"
   ]
  },
  {
   "cell_type": "code",
   "execution_count": null,
   "id": "97d3cf14",
   "metadata": {},
   "outputs": [],
   "source": []
  },
  {
   "cell_type": "code",
   "execution_count": null,
   "id": "f571f2ce",
   "metadata": {},
   "outputs": [],
   "source": []
  },
  {
   "cell_type": "code",
   "execution_count": null,
   "id": "27627f13",
   "metadata": {},
   "outputs": [],
   "source": []
  },
  {
   "cell_type": "code",
   "execution_count": null,
   "id": "d165d1dd",
   "metadata": {},
   "outputs": [],
   "source": []
  },
  {
   "cell_type": "code",
   "execution_count": null,
   "id": "fa8e57fa",
   "metadata": {},
   "outputs": [],
   "source": []
  },
  {
   "cell_type": "code",
   "execution_count": null,
   "id": "0e7efb76",
   "metadata": {},
   "outputs": [],
   "source": []
  },
  {
   "cell_type": "code",
   "execution_count": null,
   "id": "6b6880a9",
   "metadata": {},
   "outputs": [],
   "source": []
  },
  {
   "cell_type": "code",
   "execution_count": null,
   "id": "31c98b98",
   "metadata": {},
   "outputs": [],
   "source": []
  },
  {
   "cell_type": "code",
   "execution_count": null,
   "id": "c8ffb5ef",
   "metadata": {},
   "outputs": [],
   "source": []
  },
  {
   "cell_type": "code",
   "execution_count": null,
   "id": "f16b2402",
   "metadata": {},
   "outputs": [],
   "source": []
  },
  {
   "cell_type": "code",
   "execution_count": null,
   "id": "d8a973b3",
   "metadata": {},
   "outputs": [],
   "source": []
  },
  {
   "cell_type": "code",
   "execution_count": null,
   "id": "4ff2663b",
   "metadata": {},
   "outputs": [],
   "source": []
  },
  {
   "cell_type": "code",
   "execution_count": null,
   "id": "c4fc64fe",
   "metadata": {},
   "outputs": [],
   "source": []
  },
  {
   "cell_type": "code",
   "execution_count": null,
   "id": "e9a16e37",
   "metadata": {},
   "outputs": [],
   "source": []
  },
  {
   "cell_type": "code",
   "execution_count": null,
   "id": "c759c1f9",
   "metadata": {},
   "outputs": [],
   "source": []
  },
  {
   "cell_type": "code",
   "execution_count": null,
   "id": "141b97c2",
   "metadata": {},
   "outputs": [],
   "source": [
    "# import requests and BeautifulSoup libraries\n",
    "import requests\n",
    "from bs4 import BeautifulSoup\n",
    "\n",
    "# define the url of the web page\n",
    "url = \"https://www.icc-cricket.com/rankings/team-rankings/mens/odi\"\n",
    "\n",
    "# get the response from the web page\n",
    "response = requests.get(url)\n",
    "\n",
    "# check if the response is successful\n",
    "if response.status_code == 200:\n",
    "    # create a soup object from the response content using the \"lxml\" parser\n",
    "    soup = BeautifulSoup(response.content, \"lxml\")\n",
    "\n",
    "    # find the first div element with class \"si-table-data si-matches\"\n",
    "    div = soup.find(\"div\", class_=\"si-table-data si-matches\")\n",
    "\n",
    "    # get the text content of the div element using the get_text() method\n",
    "    text = div.text\n",
    "\n",
    "    # split the text content by whitespace and get a list of strings\n",
    "    data = text.split()\n",
    "\n",
    "    # create an empty list to store the team rankings\n",
    "    Team = []\n",
    "\n",
    "    # loop through the data list with a step of 5\n",
    "    for i in range(0, len(data), 5):\n",
    "        # get a sublist of 5 strings for each team's rank, name, matches, points, and rating\n",
    "        team = data[i:i+5]\n",
    "        # append the sublist to the Team list\n",
    "        Team.append(team)\n",
    "\n",
    "    # print the Team list\n",
    "    print(Team)\n",
    "else:\n",
    "    # print an error message if the response is not successful\n",
    "    print(\"Error: Unable to access the web page\")\n"
   ]
  },
  {
   "cell_type": "code",
   "execution_count": null,
   "id": "b527a6ec",
   "metadata": {},
   "outputs": [],
   "source": []
  },
  {
   "cell_type": "code",
   "execution_count": null,
   "id": "57c72392",
   "metadata": {},
   "outputs": [],
   "source": []
  },
  {
   "cell_type": "code",
   "execution_count": null,
   "id": "dd2808d2",
   "metadata": {},
   "outputs": [],
   "source": []
  },
  {
   "cell_type": "code",
   "execution_count": null,
   "id": "2b17bce6",
   "metadata": {},
   "outputs": [],
   "source": []
  },
  {
   "cell_type": "code",
   "execution_count": null,
   "id": "e1fc81bc",
   "metadata": {},
   "outputs": [],
   "source": []
  },
  {
   "cell_type": "code",
   "execution_count": null,
   "id": "fcf2af1a",
   "metadata": {},
   "outputs": [],
   "source": []
  },
  {
   "cell_type": "code",
   "execution_count": null,
   "id": "1a576363",
   "metadata": {},
   "outputs": [],
   "source": []
  },
  {
   "cell_type": "code",
   "execution_count": null,
   "id": "0fd074c0",
   "metadata": {},
   "outputs": [],
   "source": []
  },
  {
   "cell_type": "code",
   "execution_count": null,
   "id": "60827a05",
   "metadata": {},
   "outputs": [],
   "source": []
  },
  {
   "cell_type": "markdown",
   "id": "99538bb6",
   "metadata": {},
   "source": [
    "5.Write a python program to scrape house details from mentioned URL. It should include house title, location,\n",
    "area, EMI and price from https://www.nobroker.in/ .Enter three localities which are Indira Nagar, Jayanagar,\n",
    "Rajaji Nagar"
   ]
  },
  {
   "cell_type": "code",
   "execution_count": 13,
   "id": "3e5bf195",
   "metadata": {},
   "outputs": [],
   "source": [
    "def nobroker(BrokPage):\n",
    "#url='https://www.nobroker.in/property/rent/bangalore/multiple?searchParam=W3sibGF0IjoxMi45NzgzNjkyLCJsb24iOjc3LjY0MDgzNTYsInBsYWNlSWQiOiJDaElKa1FOM0dLUVdyanNSTmhCUUpyaEdEN1UiLCJwbGFjZU5hbWUiOiJJbmRpcmFuYWdhciJ9LHsibGF0IjoxMi45MzA3NzM1LCJsb24iOjc3LjU4MzgzMDIsInBsYWNlSWQiOiJDaElKMmRkbFo1Z1ZyanNSaDFCT0FhZi1vcnMiLCJwbGFjZU5hbWUiOiJKYXlhbmFnYXIifSx7ImxhdCI6MTIuOTc5Nzk0NywibG9uIjo3Ny41NDgzMjgyLCJwbGFjZUlkIjoiQ2hJSndTclNZLWs5cmpzUlhEcnJDUDYxVEhFIiwicGxhY2VOYW1lIjoiUmFqYWppIE5hZ2FyIEluZHVzdHJpYWwgVG93biwgUmFqYWppbmFnYXIifV0=&radius=2.0&sharedAccomodation=0&tenantType=MALE&accomodationType=PRIVATE_ROOM&city=bangalore&locality=Indiranagar,Jayanagar,Rajaji%20Nagar%20Industrial%20Town,%20Rajajinagar'\n",
    "    house_title=[]\n",
    "    location=[]\n",
    "    Area=[]\n",
    "    Deposit_price=[]\n",
    "    rent=[]\n",
    "    deposit_price=[]\n",
    "#response=requests.get(url)\n",
    "    soup=BrokPage.content\n",
    "    soup=BeautifulSoup(soup,'lxml')\n",
    "    for i in soup.find_all('div',class_=\"font-semibold whitespace-nowrap\"):\n",
    "        house_title.append(i.text)\n",
    "    print(house_title)\n",
    "    for i in soup.find_all('div',class_=\"mt-0.5p overflow-hidden overflow-ellipsis whitespace-nowrap max-w-70 text-gray-light leading-4 po:mb-0.1p po:max-w-95\"):\n",
    "        location.append(i.text)\n",
    "    print(location)\n",
    "    for i in soup.find_all('div',class_=\"flex flex-col w-33pe items-center tp:w-half po:w-full\"):\n",
    "        Area.append(i.text)\n",
    "    print(Area)\n",
    "    for i in soup.find_all('div',id=\"roomType\"):\n",
    "   # re.append(i.text)\n",
    "        Deposit_price.append(i.text)\n",
    "    print(Deposit_price)\n",
    "    for i in soup.find_all('div',id=\"minimumRent\"):\n",
    "   # re.append(i.text)\n",
    "        rent.append(i.text)\n",
    "    print(rent)\n"
   ]
  },
  {
   "cell_type": "code",
   "execution_count": 14,
   "id": "f2cab54e",
   "metadata": {},
   "outputs": [
    {
     "name": "stdout",
     "output_type": "stream",
     "text": [
      "['3 BHK', '1 BHK', '2 BHK', '1 RK', '1 BHK', '2 BHK', '2 BHK', '3 BHK', '3 BHK', '1 BHK', '2 BHK', '2 BHK', '3 BHK', '1 BHK', '1 BHK', '2 BHK', '1 BHK', '2 BHK', '2 BHK', '1 BHK', '1 RK', '1 BHK', '2 BHK', '1 BHK', '2 BHK', '1 BHK', '2 BHK', '1 BHK', '1 RK', '1 BHK', '3 BHK', '2 BHK', '1 BHK', '2 BHK', '1 BHK', '1 RK', '2 BHK', '1 BHK', '2 BHK', '1 RK', '2 BHK', '1 BHK', '2 BHK', '2 BHK', '1 BHK', '1 RK', '1 BHK', '2 BHK', '1 BHK', '2 BHK', '1 BHK', '2 BHK', '1 BHK', '1 RK', '1 BHK', '3 BHK', '2 BHK', '1 BHK', '2 BHK', '1 BHK', '1 RK', '2 BHK', '1 BHK', '2 BHK', '1 RK']\n",
      "['Standalone Building, 2nd Block, Near Ashoka Pillar Monument', 'Independent House, 6th Cross Road. 13th Main Road, Near Ozone Health Care Center, Doopanahalli', 'Kolimi Heights ', 'Independent House, Bannerughatta Approach Road Layout, near  Carmel Convent School', 'Standalone Building, HAL 3rd Stage, Near Chinmaya Mission', 'Independent House, HAL 3rd Stage, Near Chinmaya Mission', 'Independent House, Stage 2 near Indiranagar Metro Station', 'Standalone Building, 5th Block,Near Eat First ', 'Independent House, 11th main road, opposite Khazana', 'Independent House, Rajaji Nagar Industrial Town, Near Shaneshwara Punya Kshetra(Temple)', 'Standalone Building, Jayanagara 9th Block near RV Institute of Management', '329,GuruNilayem,16th A Main,35th Cross,4th T block,Jayanagar', 'Independent House, Himalaya Super Mart', 'Independent House, Tata Silk Farm, 6B Main, Behind kumarans school', 'standalone building, , H Colony, Near Silicon City Public School', 'Independent House,  Sarvagna Nagar Near Government High School', 'Independent House, HAL 3rd Stage, 1st Block, Near St.Thomas Public School', 'Independent House,  Church Main Road near St. Thomas Public School ', 'Standalone building, Halasuru, Karnataka, India', 'Metro Station Rd Near Halasuru Metro Station', 'Independent House, Near Halsuru Police Station', 'Standalone Building, Mahatma Gandhi Road Bazaar St Near Manohar Jewellers', 'Independent House, Ulsoor Market Road Near Pooja Pharma hanuman temple', 'standalone building, HAL Old Airport Rd, HAL 2nd Stage near Leela palace', 'Independent House, Near BEML Hospital, Bagmane Tech Park back gate', 'Standalone Building, GM Palya, Near BEML Hospital', 'Independent House, GM Palya,Near BEML Hospital ', \"Standalone Building, St John's Cross Rd, near Augustine Girls Hostel\", 'Independent House, Near Hotel Ganesh (Vegeterian)', \"standalone building, Tavarekere Main Road,  Near Prestige St. John's Wood\", 'Standalone Building, 10th cross,siddapura road ,near Elegance Lalbagh View Apartment', 'Independent House, Tavarekere, Maruti Nagar, 1st Stage, near Sri Venkateshwara First Grade College', 'Standalone Building, Dharmaram College Post , Bharathi Layout Near Christ school', '1st Main Rd Near Christ School', 'standalone building, 19th main rd Maruti Nagar, Near TASTY PG', 'Independent House,  1st Main Road, 6th Cross Balaji Nagar Near Good Earth High School', '1st Stage, Near Taverekere Post Office', 'Independent House, Tavarekere Main Rd Near Apollo Pharmacy', '20th Main Rd  Near Gangothri Bar and Restaurant', ' standalone building, NS Palya, Narayan Gowda Layout, 1st Stage Near Madina Masjid', 'Independent House,  Sarvagna Nagar Near Government High School', 'Independent House, HAL 3rd Stage, 1st Block, Near St.Thomas Public School', 'Independent House,  Church Main Road near St. Thomas Public School ', 'Standalone building, Halasuru, Karnataka, India', 'Metro Station Rd Near Halasuru Metro Station', 'Independent House, Near Halsuru Police Station', 'Standalone Building, Mahatma Gandhi Road Bazaar St Near Manohar Jewellers', 'Independent House, Ulsoor Market Road Near Pooja Pharma hanuman temple', 'standalone building, HAL Old Airport Rd, HAL 2nd Stage near Leela palace', 'Independent House, Near BEML Hospital, Bagmane Tech Park back gate', 'Standalone Building, GM Palya, Near BEML Hospital', 'Independent House, GM Palya,Near BEML Hospital ', \"Standalone Building, St John's Cross Rd, near Augustine Girls Hostel\", 'Independent House, Near Hotel Ganesh (Vegeterian)', \"standalone building, Tavarekere Main Road,  Near Prestige St. John's Wood\", 'Standalone Building, 10th cross,siddapura road ,near Elegance Lalbagh View Apartment', 'Independent House, Tavarekere, Maruti Nagar, 1st Stage, near Sri Venkateshwara First Grade College', 'Standalone Building, Dharmaram College Post , Bharathi Layout Near Christ school', '1st Main Rd Near Christ School', 'standalone building, 19th main rd Maruti Nagar, Near TASTY PG', 'Independent House,  1st Main Road, 6th Cross Balaji Nagar Near Good Earth High School', '1st Stage, Near Taverekere Post Office', 'Independent House, Tavarekere Main Rd Near Apollo Pharmacy', '20th Main Rd  Near Gangothri Bar and Restaurant', ' standalone building, NS Palya, Narayan Gowda Layout, 1st Stage Near Madina Masjid']\n",
      "['700 sqftBuiltup', '450 sqftBuiltup', '1,290 sqftBuiltup', '600 sqftBuiltup', '400 sqftBuiltup', '800 sqftBuiltup', '1,000 sqftBuiltup', '1,200 sqftBuiltup', '2,400 sqftBuiltup', '450 sqftBuiltup', '950 sqftBuiltup', '900 sqftBuiltup', '2,400 sqftBuiltup', '500 sqftBuiltup', '600 sqftBuiltup', '850 sqftBuiltup', '450 sqftBuiltup', '1,200 sqftBuiltup', '1,100 sqftBuiltup', '500 sqftBuiltup', '250 sqftBuiltup', '400 sqftBuiltup', '920 sqftBuiltup', '550 sqftBuiltup', '1,000 sqftBuiltup', '400 sqftBuiltup', '950 sqftBuiltup', '650 sqftBuiltup', '250 sqftBuiltup', '1,000 sqftBuiltup', '1,300 sqftBuiltup', '680 sqftBuiltup', '400 sqftBuiltup', '650 sqftBuiltup', '600 sqftBuiltup', '300 sqftBuiltup', '600 sqftBuiltup', '400 sqftBuiltup', '1,000 sqftBuiltup', '300 sqftBuiltup', '850 sqftBuiltup', '450 sqftBuiltup', '1,200 sqftBuiltup', '1,100 sqftBuiltup', '500 sqftBuiltup', '250 sqftBuiltup', '400 sqftBuiltup', '920 sqftBuiltup', '550 sqftBuiltup', '1,000 sqftBuiltup', '400 sqftBuiltup', '950 sqftBuiltup', '650 sqftBuiltup', '250 sqftBuiltup', '1,000 sqftBuiltup', '1,300 sqftBuiltup', '680 sqftBuiltup', '400 sqftBuiltup', '650 sqftBuiltup', '600 sqftBuiltup', '300 sqftBuiltup', '600 sqftBuiltup', '400 sqftBuiltup', '1,000 sqftBuiltup', '300 sqftBuiltup']\n",
      "['₹2,50,000', '₹1,00,000', '₹3,00,000', '₹50,000', '₹7,00,000', '₹8,00,000', '₹3,50,000', '₹3,00,000', '₹6,00,000', '₹1,00,000', '₹1,50,000', '₹1,00,000', '₹6,50,000', '₹85,000', '₹40,000', '₹1,80,000', '₹1,00,000', '₹80,000', '₹2,20,000', '₹1,50,000', '₹50,000', '₹80,000', '₹1,50,000', '₹50,000', '₹3,00,000', '₹40,000', '₹60,000', '₹30,000', '₹20,000', '₹75,000', '₹2,80,000', '₹12,00,000', '₹50,000', '₹75,000', '₹5,50,000', '₹30,000', '₹35,000', '₹40,000', '₹2,80,000', '₹30,000', '₹1,80,000', '₹1,00,000', '₹80,000', '₹2,20,000', '₹1,50,000', '₹50,000', '₹80,000', '₹1,50,000', '₹50,000', '₹3,00,000', '₹40,000', '₹60,000', '₹30,000', '₹20,000', '₹75,000', '₹2,80,000', '₹12,00,000', '₹50,000', '₹75,000', '₹5,50,000', '₹30,000', '₹35,000', '₹40,000', '₹2,80,000', '₹30,000']\n",
      "['₹ 28,000No Extra Maintenance', '₹ 17,000No Extra Maintenance', '₹ 48,000 +₹ 2,400Maintenance', '₹ 15,000No Extra Maintenance', 'Only DepositNo Extra Maintenance', 'Only DepositNo Extra Maintenance', '₹ 35,000No Extra Maintenance', '₹ 50,000No Extra Maintenance', '₹ 60,000No Extra Maintenance', '₹ 10,000No Extra Maintenance', '₹ 18,000No Extra Maintenance', '₹ 18,000No Extra Maintenance', '₹ 65,000No Extra Maintenance', '₹ 8,500No Extra Maintenance', '₹ 13,000No Extra Maintenance', '₹ 18,000No Extra Maintenance', '₹ 10,000No Extra Maintenance', '₹ 21,000No Extra Maintenance', '₹ 25,000No Extra Maintenance', '₹ 26,000No Extra Maintenance', '₹ 10,000No Extra Maintenance', '₹ 12,500No Extra Maintenance', '₹ 28,000No Extra Maintenance', '₹ 12,000No Extra Maintenance', '₹ 30,000No Extra Maintenance', '₹ 13,000No Extra Maintenance', '₹ 19,000No Extra Maintenance', '₹ 10,000No Extra Maintenance', '₹ 4,500No Extra Maintenance', '₹ 20,000No Extra Maintenance', '₹ 28,000No Extra Maintenance', 'Only DepositNo Extra Maintenance', '₹ 20,000No Extra Maintenance', '₹ 18,000No Extra Maintenance', 'Only DepositNo Extra Maintenance', '₹ 6,500No Extra Maintenance', '₹ 16,000No Extra Maintenance', '₹ 8,000No Extra Maintenance', '₹ 28,000No Extra Maintenance', '₹ 9,000No Extra Maintenance', '₹ 18,000No Extra Maintenance', '₹ 10,000No Extra Maintenance', '₹ 21,000No Extra Maintenance', '₹ 25,000No Extra Maintenance', '₹ 26,000No Extra Maintenance', '₹ 10,000No Extra Maintenance', '₹ 12,500No Extra Maintenance', '₹ 28,000No Extra Maintenance', '₹ 12,000No Extra Maintenance', '₹ 30,000No Extra Maintenance', '₹ 13,000No Extra Maintenance', '₹ 19,000No Extra Maintenance', '₹ 10,000No Extra Maintenance', '₹ 4,500No Extra Maintenance', '₹ 20,000No Extra Maintenance', '₹ 28,000No Extra Maintenance', 'Only DepositNo Extra Maintenance', '₹ 20,000No Extra Maintenance', '₹ 18,000No Extra Maintenance', 'Only DepositNo Extra Maintenance', '₹ 6,500No Extra Maintenance', '₹ 16,000No Extra Maintenance', '₹ 8,000No Extra Maintenance', '₹ 28,000No Extra Maintenance', '₹ 9,000No Extra Maintenance']\n"
     ]
    }
   ],
   "source": [
    "url='https://www.nobroker.in/property/rent/bangalore/multiple?searchParam=W3sibGF0IjoxMi45NzgzNjkyLCJsb24iOjc3LjY0MDgzNTYsInBsYWNlSWQiOiJDaElKa1FOM0dLUVdyanNSTmhCUUpyaEdEN1UiLCJwbGFjZU5hbWUiOiJJbmRpcmFuYWdhciJ9LHsibGF0IjoxMi45MzA3NzM1LCJsb24iOjc3LjU4MzgzMDIsInBsYWNlSWQiOiJDaElKMmRkbFo1Z1ZyanNSaDFCT0FhZi1vcnMiLCJwbGFjZU5hbWUiOiJKYXlhbmFnYXIifSx7ImxhdCI6MTIuOTc5Nzk0NywibG9uIjo3Ny41NDgzMjgyLCJwbGFjZUlkIjoiQ2hJSndTclNZLWs5cmpzUlhEcnJDUDYxVEhFIiwicGxhY2VOYW1lIjoiUmFqYWppIE5hZ2FyIEluZHVzdHJpYWwgVG93biwgUmFqYWppbmFnYXIifV0=&radius=2.0&sharedAccomodation=0&tenantType=MALE&accomodationType=PRIVATE_ROOM&city=bangalore&locality=Indiranagar,Jayanagar,Rajaji%20Nagar%20Industrial%20Town,%20Rajajinagar'\n",
    "ResponseBroker=requests.get(url)\n",
    "nobroker(ResponseBroker)"
   ]
  },
  {
   "cell_type": "code",
   "execution_count": null,
   "id": "236ad9b8",
   "metadata": {},
   "outputs": [],
   "source": []
  },
  {
   "cell_type": "code",
   "execution_count": null,
   "id": "4bd12b8d",
   "metadata": {},
   "outputs": [],
   "source": []
  },
  {
   "cell_type": "code",
   "execution_count": null,
   "id": "60f15742",
   "metadata": {},
   "outputs": [],
   "source": []
  },
  {
   "cell_type": "code",
   "execution_count": null,
   "id": "176f7427",
   "metadata": {},
   "outputs": [],
   "source": []
  },
  {
   "cell_type": "code",
   "execution_count": null,
   "id": "d0895f9f",
   "metadata": {},
   "outputs": [],
   "source": []
  },
  {
   "cell_type": "code",
   "execution_count": null,
   "id": "ed170e46",
   "metadata": {},
   "outputs": [],
   "source": []
  },
  {
   "cell_type": "code",
   "execution_count": null,
   "id": "9c94f270",
   "metadata": {},
   "outputs": [],
   "source": []
  },
  {
   "cell_type": "code",
   "execution_count": null,
   "id": "e97ae8d5",
   "metadata": {},
   "outputs": [],
   "source": []
  },
  {
   "cell_type": "code",
   "execution_count": null,
   "id": "d9421548",
   "metadata": {},
   "outputs": [],
   "source": []
  },
  {
   "cell_type": "code",
   "execution_count": null,
   "id": "208650ee",
   "metadata": {},
   "outputs": [],
   "source": []
  },
  {
   "cell_type": "code",
   "execution_count": null,
   "id": "e7049fa8",
   "metadata": {},
   "outputs": [],
   "source": []
  },
  {
   "cell_type": "code",
   "execution_count": null,
   "id": "05cac2b9",
   "metadata": {},
   "outputs": [],
   "source": []
  },
  {
   "cell_type": "code",
   "execution_count": null,
   "id": "0d782e7d",
   "metadata": {},
   "outputs": [],
   "source": []
  },
  {
   "cell_type": "code",
   "execution_count": null,
   "id": "721d07c5",
   "metadata": {},
   "outputs": [],
   "source": []
  },
  {
   "cell_type": "code",
   "execution_count": null,
   "id": "825a170a",
   "metadata": {},
   "outputs": [],
   "source": []
  },
  {
   "cell_type": "code",
   "execution_count": null,
   "id": "1874eddd",
   "metadata": {},
   "outputs": [],
   "source": []
  },
  {
   "cell_type": "code",
   "execution_count": null,
   "id": "40a8c757",
   "metadata": {},
   "outputs": [],
   "source": []
  },
  {
   "cell_type": "code",
   "execution_count": null,
   "id": "0f125884",
   "metadata": {},
   "outputs": [],
   "source": []
  },
  {
   "cell_type": "code",
   "execution_count": null,
   "id": "4ec2f5e5",
   "metadata": {},
   "outputs": [],
   "source": []
  },
  {
   "cell_type": "code",
   "execution_count": null,
   "id": "f04b1a98",
   "metadata": {},
   "outputs": [],
   "source": []
  },
  {
   "cell_type": "code",
   "execution_count": null,
   "id": "90b8f11c",
   "metadata": {},
   "outputs": [],
   "source": []
  },
  {
   "cell_type": "code",
   "execution_count": null,
   "id": "9cad8ead",
   "metadata": {},
   "outputs": [],
   "source": []
  },
  {
   "cell_type": "code",
   "execution_count": null,
   "id": "f43fa809",
   "metadata": {},
   "outputs": [],
   "source": []
  },
  {
   "cell_type": "code",
   "execution_count": null,
   "id": "bac757da",
   "metadata": {},
   "outputs": [],
   "source": []
  },
  {
   "cell_type": "code",
   "execution_count": null,
   "id": "d9e030e2",
   "metadata": {},
   "outputs": [],
   "source": []
  },
  {
   "cell_type": "code",
   "execution_count": null,
   "id": "9559ac67",
   "metadata": {},
   "outputs": [],
   "source": []
  },
  {
   "cell_type": "code",
   "execution_count": null,
   "id": "8ed96cb2",
   "metadata": {},
   "outputs": [],
   "source": []
  },
  {
   "cell_type": "code",
   "execution_count": null,
   "id": "8898479b",
   "metadata": {},
   "outputs": [],
   "source": []
  },
  {
   "cell_type": "code",
   "execution_count": null,
   "id": "032bcee8",
   "metadata": {},
   "outputs": [],
   "source": []
  },
  {
   "cell_type": "code",
   "execution_count": null,
   "id": "cfe96e61",
   "metadata": {},
   "outputs": [],
   "source": []
  },
  {
   "cell_type": "code",
   "execution_count": null,
   "id": "af13cd4e",
   "metadata": {},
   "outputs": [],
   "source": []
  },
  {
   "cell_type": "code",
   "execution_count": null,
   "id": "a875d46a",
   "metadata": {},
   "outputs": [],
   "source": []
  },
  {
   "cell_type": "code",
   "execution_count": null,
   "id": "fda899a6",
   "metadata": {},
   "outputs": [],
   "source": []
  },
  {
   "cell_type": "code",
   "execution_count": null,
   "id": "32915fd7",
   "metadata": {},
   "outputs": [],
   "source": []
  },
  {
   "cell_type": "code",
   "execution_count": null,
   "id": "64293538",
   "metadata": {},
   "outputs": [],
   "source": []
  },
  {
   "cell_type": "code",
   "execution_count": null,
   "id": "e6dd4aae",
   "metadata": {},
   "outputs": [],
   "source": []
  },
  {
   "cell_type": "code",
   "execution_count": null,
   "id": "b8099cd8",
   "metadata": {},
   "outputs": [],
   "source": []
  },
  {
   "cell_type": "code",
   "execution_count": null,
   "id": "44768111",
   "metadata": {},
   "outputs": [],
   "source": []
  },
  {
   "cell_type": "code",
   "execution_count": null,
   "id": "8d2f687d",
   "metadata": {},
   "outputs": [],
   "source": []
  },
  {
   "cell_type": "code",
   "execution_count": null,
   "id": "32fc119b",
   "metadata": {},
   "outputs": [],
   "source": []
  },
  {
   "cell_type": "code",
   "execution_count": null,
   "id": "53b59254",
   "metadata": {},
   "outputs": [],
   "source": []
  }
 ],
 "metadata": {
  "kernelspec": {
   "display_name": "Python 3 (ipykernel)",
   "language": "python",
   "name": "python3"
  },
  "language_info": {
   "codemirror_mode": {
    "name": "ipython",
    "version": 3
   },
   "file_extension": ".py",
   "mimetype": "text/x-python",
   "name": "python",
   "nbconvert_exporter": "python",
   "pygments_lexer": "ipython3",
   "version": "3.11.4"
  }
 },
 "nbformat": 4,
 "nbformat_minor": 5
}
