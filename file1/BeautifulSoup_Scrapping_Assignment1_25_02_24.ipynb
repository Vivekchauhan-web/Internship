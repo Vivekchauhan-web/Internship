{
 "cells": [
  {
   "cell_type": "markdown",
   "id": "3339bf23",
   "metadata": {},
   "source": [
    "1.Write a program to display IMDBS top rated 100 movies data(name ,rating, year of release) and make Dataframe"
   ]
  },
  {
   "cell_type": "code",
   "execution_count": 2,
   "id": "67151aef",
   "metadata": {},
   "outputs": [],
   "source": [
    "def IMDB_top(MoviePage):\n",
    "    Movie_name=[]\n",
    "    rating=[]\n",
    "    year_release=[]\n",
    "    soup=MoviePage.content\n",
    "    soup=BeautifulSoup(soup,\"html.parser\")\n",
    "    for i in soup.find_all('h3',class_=\"lister-item-header\"):\n",
    "        Movie_name.append(i.text.replace(\"\\n\",\"\"))\n",
    "    \n",
    "    for i in soup.find_all('div',class_=\"ipl-rating-star small\"):\n",
    "        rating.append(i.text.replace(\"\\n\",\"\"))\n",
    "    \n",
    "    for i in soup.find_all('span',class_=\"lister-item-year text-muted unbold\"):\n",
    "        year_release.append(i.text)\n",
    "    \n",
    "    dict={'MovieName':Movie_name,\"Rating\":rating,\"year_of_release\":year_release}\n",
    "    df=pd.DataFrame(dict)\n",
    "    print(df)"
   ]
  },
  {
   "cell_type": "code",
   "execution_count": 3,
   "id": "7de507db",
   "metadata": {},
   "outputs": [
    {
     "name": "stdout",
     "output_type": "stream",
     "text": [
      "                           MovieName Rating year_of_release\n",
      "0              1.The Godfather(1972)    9.2          (1972)\n",
      "1   2.The Shawshank Redemption(1994)    9.3          (1994)\n",
      "2           3.Schindler's List(1993)      9          (1993)\n",
      "3                4.Raging Bull(1980)    8.1          (1980)\n",
      "4                 5.Casablanca(1942)    8.5          (1942)\n",
      "..                               ...    ...             ...\n",
      "95              96.Rear Window(1954)    8.5          (1954)\n",
      "96            97.The Third Man(1949)    8.1          (1949)\n",
      "97    98.Rebel Without a Cause(1955)    7.6          (1955)\n",
      "98       99.North by Northwest(1959)    8.3          (1959)\n",
      "99     100.Yankee Doodle Dandy(1942)    7.6          (1942)\n",
      "\n",
      "[100 rows x 3 columns]\n"
     ]
    }
   ],
   "source": [
    "from bs4 import BeautifulSoup\n",
    "import requests\n",
    "import pandas as pd\n",
    "Mresponse=requests.get('https://www.imdb.com/list/ls055592025/')\n",
    "IMDB_top(Mresponse)"
   ]
  },
  {
   "cell_type": "markdown",
   "id": "95484541",
   "metadata": {},
   "source": [
    "2.Write a python program to scrape product name, price and discounts from https://www.meesho.com/bags-ladies/pl/3jo?page=1"
   ]
  },
  {
   "cell_type": "code",
   "execution_count": 4,
   "id": "3cd2e2d4",
   "metadata": {},
   "outputs": [
    {
     "name": "stdout",
     "output_type": "stream",
     "text": [
      "Product_name\n",
      "['TMN - Women Pink Vegan Leather Golden Chain Sling Bag']\n",
      "Discount_Price\n",
      "['₹449.00']\n",
      "Actual_Price\n",
      "['₹899.00']\n"
     ]
    }
   ],
   "source": [
    "import requests\n",
    "PeachResponse=requests.get('https://peachmode.com/products/tmn-women-pink-vegan-leather-golden-chain-sling-bag')\n",
    "#def Peach(PeachPage):\n",
    "soup=PeachResponse.content\n",
    "soup=BeautifulSoup(soup,'html.parser')\n",
    "product_name=[]\n",
    "Discount_price=[]\n",
    "Actual_price=[]\n",
    "#our_text=soup.select_one(' div a span ')\n",
    "#print(our_text.text)\n",
    "\n",
    "print(\"Product_name\")\n",
    "for i in soup.find_all('h1',class_=\"product-meta__title heading h4\"):\n",
    "    product_name.append(i.text)\n",
    "   # print(soup.text)\n",
    "print(product_name)\n",
    "print(\"Discount_Price\")\n",
    "for i in soup.find_all('span',class_=\"price price--highlight price--large\"):\n",
    "    Discount_price.append(i.text.replace('\\nSale price',\"\"))\n",
    "print(Discount_price)\n",
    "print(\"Actual_Price\")\n",
    "for i in soup.find_all('span',class_=\"price price--compare\"):\n",
    "    Actual_price.append(i.text.replace('\\nRegular price',\"\"))\n",
    "print(Actual_price)"
   ]
  },
  {
   "cell_type": "code",
   "execution_count": null,
   "id": "0148f67c",
   "metadata": {},
   "outputs": [],
   "source": []
  },
  {
   "cell_type": "code",
   "execution_count": null,
   "id": "5379fe44",
   "metadata": {},
   "outputs": [],
   "source": []
  },
  {
   "cell_type": "markdown",
   "id": "e1d0983e",
   "metadata": {},
   "source": [
    "3. Write a python program to scrape cricket rankings from icc-cricket.com. You have to scrape:\n",
    "a) Top 10 ODI teams in men’s cricket along with the records for matches, points and rating.\n",
    "b) Top 10 ODI Batsmen along with the records of their team and rating.\n",
    "c) Top 10 ODI bowlers along with the records of their team and rating"
   ]
  },
  {
   "cell_type": "code",
   "execution_count": 37,
   "id": "2e7d3893",
   "metadata": {},
   "outputs": [],
   "source": [
    "ODIResponse=requests.get(\"https://www.icc-cricket.com/rankings/batting/mens/odi\")\n",
    "\n",
    "Team=[]\n",
    "iccsoup=ODIResponse.content\n",
    "  \n",
    "iccsoup=BeautifulSoup(iccsoup,'html.parser')\n",
    "team_rows=iccsoup.select('table.table tbody tr')\n",
    "table_rows=iccsoup.find_all('div',class_=\"si-table-data si-player\")\n",
    "for row in table_rows:\n",
    "    cells = row.find_all(\"div\",class_=\"si-table-rows\")\n",
    "    for cell in cells:\n",
    "        print(cell.text)\n",
    "for i in iccsoup.find_all('div',class_=\"si-table-row\"):\n",
    "    print(i.text)"
   ]
  },
  {
   "cell_type": "code",
   "execution_count": 38,
   "id": "540e52bb",
   "metadata": {},
   "outputs": [
    {
     "data": {
      "text/plain": [
       "[]"
      ]
     },
     "execution_count": 38,
     "metadata": {},
     "output_type": "execute_result"
    }
   ],
   "source": [
    "table_rows"
   ]
  },
  {
   "cell_type": "code",
   "execution_count": 8,
   "id": "3db0c866",
   "metadata": {},
   "outputs": [],
   "source": [
    "url='https://www.icc-cricket.com/rankings/mens/player-rankings/odi/batting'\n",
    "r=requests.get(url).text"
   ]
  },
  {
   "cell_type": "code",
   "execution_count": 9,
   "id": "77651d3f",
   "metadata": {},
   "outputs": [],
   "source": [
    "soup=BeautifulSoup(r,'lxml')"
   ]
  },
  {
   "cell_type": "code",
   "execution_count": 10,
   "id": "a9090c79",
   "metadata": {},
   "outputs": [],
   "source": [
    "table=soup.find('table' ,attrs={\"class\":\"table ranking-table\"})"
   ]
  },
  {
   "cell_type": "code",
   "execution_count": 11,
   "id": "2236d1f4",
   "metadata": {},
   "outputs": [
    {
     "name": "stdout",
     "output_type": "stream",
     "text": [
      "None\n"
     ]
    }
   ],
   "source": [
    "print(table)"
   ]
  },
  {
   "cell_type": "code",
   "execution_count": null,
   "id": "d59b9aae",
   "metadata": {},
   "outputs": [],
   "source": []
  },
  {
   "cell_type": "markdown",
   "id": "70405feb",
   "metadata": {},
   "source": [
    "4.Write a python program to scrape details of all the posts from https://www.patreon.com/coreyms .Scrape the\n",
    "heading, date, content and the likes for the video from the link for the youtube video from the post"
   ]
  },
  {
   "cell_type": "code",
   "execution_count": 43,
   "id": "3fe1d30c",
   "metadata": {},
   "outputs": [
    {
     "name": "stdout",
     "output_type": "stream",
     "text": [
      "[]\n"
     ]
    }
   ],
   "source": [
    "import requests\n",
    "paturl='https://www.patreon.com/coreyms/posts'\n",
    "patresponse=requests.get(paturl)\n",
    "patsoup=patresponse.content\n",
    "patsoup=BeautifulSoup(patsoup,\"html.parser\")\n",
    "head=[]\n",
    "date=[]\n",
    "likes=[]\n",
    "head12=patsoup.find_all('div',class_=\"sc-d4f3hw-3 gURuLq\")\n",
    "#result=head1.find('div',class_=\"sc-dlVxhl gJYudr\")\n",
    "for i in patsoup.find_all('span',class_=\"sc-1hmaiaw-0 fIBzIT\"):\n",
    "        head.append(i.text)\n",
    "    #result=i.text\n",
    "print(head)\n",
    "#date.append(i.text)"
   ]
  },
  {
   "cell_type": "code",
   "execution_count": 77,
   "id": "df8b4769",
   "metadata": {},
   "outputs": [],
   "source": [
    "div=patsoup.find_all('div',class_=\"sc-eicpiI ksoTFB\")\n",
    "for i in div:\n",
    "    #div1=i.find('div')\n",
    "    div2=i.find('span',class_=\"sc-1hmaiaw-0 fIBzIT\")\n"
   ]
  },
  {
   "cell_type": "code",
   "execution_count": 79,
   "id": "7b24f15e",
   "metadata": {},
   "outputs": [
    {
     "name": "stdout",
     "output_type": "stream",
     "text": [
      "[]\n"
     ]
    }
   ],
   "source": [
    "from bs4 import BeautifulSoup \n",
    "from lxml import etree \n",
    "import requests \n",
    "\n",
    "\n",
    "URL = 'https://www.patreon.com/coreyms/posts'\n",
    "\n",
    "\n",
    "webpage = requests.get(URL) \n",
    "soup = BeautifulSoup(webpage.content, \"html.parser\") \n",
    "dom = etree.HTML(str(soup)) \n",
    "text = dom.xpath('//*[@id=\"renderPageContentWrapper\"]/div[1]/div/div[4]/div/div/div[4]/ul/li[1]/div/div/div/div/div[2]/div/div[1]/div[1]/div[1]/span/text()'[0])\n",
    "\n",
    "print(text)"
   ]
  },
  {
   "cell_type": "code",
   "execution_count": null,
   "id": "5db53339",
   "metadata": {},
   "outputs": [],
   "source": []
  },
  {
   "cell_type": "code",
   "execution_count": null,
   "id": "d2e5c5bc",
   "metadata": {},
   "outputs": [],
   "source": []
  },
  {
   "cell_type": "markdown",
   "id": "692ae6d8",
   "metadata": {},
   "source": [
    "5.Write a python program to scrape first 10 product details which include product name , price , Image URL from\n",
    "https://www.bewakoof.com/bestseller?sort=popular ."
   ]
  },
  {
   "cell_type": "code",
   "execution_count": 74,
   "id": "69f18c01",
   "metadata": {},
   "outputs": [],
   "source": [
    "def bewkoof(bewKoofPage):\n",
    "\n",
    "    product_title=[]\n",
    "    images=[]\n",
    "    Actual_price=[]\n",
    "    price=[]\n",
    "   # response=requests.get('https://www.bewakoof.com/bestseller?sort=popular')\n",
    "    soup=bewKoofPage.content\n",
    "    soup=BeautifulSoup(soup,\"html.parser\")\n",
    "#print(soup.text)\n",
    "#print (\"product Name\")\n",
    "    for i in soup.find_all('div',class_=\"productNaming bkf-ellipsis\"):\n",
    "    \n",
    "        product_title.append(i.text.replace(\"Bewakoof®\",\"\"))\n",
    "    #print(product_title)\n",
    "#print(\"Product Image\")\n",
    "    for i in soup.find_all('img',class_=\"productImgTag\"):\n",
    "        images.append(i['src'])\n",
    "#print(images)\n",
    "\n",
    "    for i in soup.find_all('div',class_=\"loyaltyPriceBox\"):\n",
    "    \n",
    "        price.append(i.text.replace(\"For TriBe Members\",\"\"))\n",
    "#print(price)\n",
    "    df=pd.DataFrame({'Product_Name':product_title,'Image_Url':images,'Price':price})\n",
    "    print(df)\n",
    "#print(price)\n",
    "   # price=contents.content\n",
    "    \n",
    "    #Actual_price.append(i.text)\n",
    "#print(Actual_price)"
   ]
  },
  {
   "cell_type": "code",
   "execution_count": 75,
   "id": "7276ff22",
   "metadata": {},
   "outputs": [
    {
     "name": "stdout",
     "output_type": "stream",
     "text": [
      "                                        Product_Name  \\\n",
      "0  bewakoof x looney tunesWomen's Blue Round in B...   \n",
      "1            Women's Orange All Over Printed Pyjamas   \n",
      "2                              Women's Black Pyjamas   \n",
      "3                                Men's Black T-shirt   \n",
      "4  bewakoof x marvelMen's Black Iron Man of War G...   \n",
      "5  bewakoof x dcMen's Black Batman Outline Logo T...   \n",
      "6                    Women's Black Boyfriend T-shirt   \n",
      "7                                Men's White T-shirt   \n",
      "8  bewakoof x friendsMen's Black Friends Logo T-s...   \n",
      "9                                Men's White T-shirt   \n",
      "\n",
      "                                           Image_Url Price  \n",
      "0  https://images.bewakoof.com/t640/women-s-blue-...  ₹499  \n",
      "1  https://images.bewakoof.com/t640/women-aop-reg...  ₹459  \n",
      "2  https://images.bewakoof.com/t640/women-s-black...  ₹549  \n",
      "3  https://images.bewakoof.com/t640/men-s-black-t...  ₹459  \n",
      "4  https://images.bewakoof.com/t640/iron-man-of-w...  ₹369  \n",
      "5  https://images.bewakoof.com/t640/men-s-black-b...  ₹369  \n",
      "6  https://images.bewakoof.com/t640/women-s-black...  ₹369  \n",
      "7  https://images.bewakoof.com/t640/men-s-white-t...  ₹409  \n",
      "8  https://images.bewakoof.com/t640/men-s-black-f...  ₹409  \n",
      "9  https://images.bewakoof.com/t640/men-s-white-t...  ₹459  \n"
     ]
    }
   ],
   "source": [
    "url='https://www.bewakoof.com/bestseller?sort=popular'\n",
    "bewkoofResponse=requests.get(url)\n",
    "bewkoof(bewkoofResponse)"
   ]
  },
  {
   "cell_type": "code",
   "execution_count": null,
   "id": "97d3cf14",
   "metadata": {},
   "outputs": [],
   "source": []
  },
  {
   "cell_type": "code",
   "execution_count": null,
   "id": "c4fc64fe",
   "metadata": {},
   "outputs": [],
   "source": []
  },
  {
   "cell_type": "code",
   "execution_count": null,
   "id": "e9a16e37",
   "metadata": {},
   "outputs": [],
   "source": [
    " 6.Write a python program to scrape first 10 product details which include product name , price , Image URL from\n",
    "https://www.bewakoof.com/bestseller?sort=popular"
   ]
  },
  {
   "cell_type": "code",
   "execution_count": 40,
   "id": "3e5bf195",
   "metadata": {},
   "outputs": [],
   "source": [
    "def nobroker(BrokPage):\n",
    "#url='https://www.nobroker.in/property/rent/bangalore/multiple?searchParam=W3sibGF0IjoxMi45NzgzNjkyLCJsb24iOjc3LjY0MDgzNTYsInBsYWNlSWQiOiJDaElKa1FOM0dLUVdyanNSTmhCUUpyaEdEN1UiLCJwbGFjZU5hbWUiOiJJbmRpcmFuYWdhciJ9LHsibGF0IjoxMi45MzA3NzM1LCJsb24iOjc3LjU4MzgzMDIsInBsYWNlSWQiOiJDaElKMmRkbFo1Z1ZyanNSaDFCT0FhZi1vcnMiLCJwbGFjZU5hbWUiOiJKYXlhbmFnYXIifSx7ImxhdCI6MTIuOTc5Nzk0NywibG9uIjo3Ny41NDgzMjgyLCJwbGFjZUlkIjoiQ2hJSndTclNZLWs5cmpzUlhEcnJDUDYxVEhFIiwicGxhY2VOYW1lIjoiUmFqYWppIE5hZ2FyIEluZHVzdHJpYWwgVG93biwgUmFqYWppbmFnYXIifV0=&radius=2.0&sharedAccomodation=0&tenantType=MALE&accomodationType=PRIVATE_ROOM&city=bangalore&locality=Indiranagar,Jayanagar,Rajaji%20Nagar%20Industrial%20Town,%20Rajajinagar'\n",
    "    house_title=[]\n",
    "    location=[]\n",
    "    Area=[]\n",
    "    Deposit_price=[]\n",
    "    rent=[]\n",
    "    deposit_price=[]\n",
    "#response=requests.get(url)\n",
    "    soup=BrokPage.content\n",
    "    soup=BeautifulSoup(soup,'lxml')\n",
    "    for i in soup.find_all('div',class_=\"font-semibold whitespace-nowrap\"):\n",
    "        house_title.append(i.text)\n",
    "    print(house_title)\n",
    "    for i in soup.find_all('div',class_=\"mt-0.5p overflow-hidden overflow-ellipsis whitespace-nowrap max-w-70 text-gray-light leading-4 po:mb-0.1p po:max-w-95\"):\n",
    "        location.append(i.text)\n",
    "    print(location)\n",
    "    for i in soup.find_all('div',class_=\"flex flex-col w-33pe items-center tp:w-half po:w-full\"):\n",
    "        Area.append(i.text)\n",
    "    print(Area)\n",
    "    for i in soup.find_all('div',id=\"roomType\"):\n",
    "   # re.append(i.text)\n",
    "        Deposit_price.append(i.text)\n",
    "    print(Deposit_price)\n",
    "    for i in soup.find_all('div',id=\"minimumRent\"):\n",
    "   # re.append(i.text)\n",
    "        rent.append(i.text)\n",
    "    print(rent)\n"
   ]
  },
  {
   "cell_type": "code",
   "execution_count": 41,
   "id": "f2cab54e",
   "metadata": {},
   "outputs": [
    {
     "name": "stdout",
     "output_type": "stream",
     "text": [
      "['3 BHK', '1 BHK', '1 BHK', '1 RK', '2 BHK', '1 BHK', '2 BHK', '2 BHK', '3 BHK', '3 BHK', '1 BHK', '2 BHK', '3 BHK', '1 BHK', '1 BHK', '2 BHK', '1 BHK', '2 BHK', '2 BHK', '1 BHK', '1 RK', '1 BHK', '2 BHK', '1 BHK', '2 BHK', '1 BHK', '2 BHK', '1 BHK', '1 RK', '1 BHK', '3 BHK', '2 BHK', '1 BHK', '2 BHK', '1 BHK', '1 RK', '2 BHK', '1 BHK', '2 BHK', '1 BHK', '2 BHK', '1 BHK', '2 BHK', '2 BHK', '1 BHK', '1 RK', '1 BHK', '2 BHK', '1 BHK', '2 BHK', '1 BHK', '2 BHK', '1 BHK', '1 RK', '1 BHK', '3 BHK', '2 BHK', '1 BHK', '2 BHK', '1 BHK', '1 RK', '2 BHK', '1 BHK', '2 BHK', '1 BHK']\n",
      "['Standalone Building, 2nd Block, Near Ashoka Pillar Monument', 'Independent House, 6th Cross Road. 13th Main Road, Near Ozone Health Care Center, Doopanahalli', '16th A Main Rd, behind  Ample Mart', 'Independent House, Bannerughatta Approach Road Layout, near  Carmel Convent School', 'Kolimi Heights ', 'Standalone Building, HAL 3rd Stage, Near Chinmaya Mission', 'Independent House, HAL 3rd Stage, Near Chinmaya Mission', 'Independent House, Stage 2 near Indiranagar Metro Station', 'Standalone Building, 5th Block,Near Eat First ', 'Independent House, 11th main road, opposite Khazana', 'Independent House, Rajaji Nagar Industrial Town, Near Shaneshwara Punya Kshetra(Temple)', 'Standalone Building, Jayanagara 9th Block near RV Institute of Management', 'Independent House, Himalaya Super Mart', 'Independent House, Tata Silk Farm, 6B Main, Behind kumarans school', 'standalone building, , H Colony, Near Silicon City Public School', 'Independent House,  Sarvagna Nagar Near Government High School', 'Independent House, HAL 3rd Stage, 1st Block, Near St.Thomas Public School', 'Independent House,  Church Main Road near St. Thomas Public School ', 'Standalone building, Halasuru, Karnataka, India', 'Metro Station Rd Near Halasuru Metro Station', 'Independent House, Near Halsuru Police Station', 'Standalone Building, Mahatma Gandhi Road Bazaar St Near Manohar Jewellers', 'Independent House, Ulsoor Market Road Near Pooja Pharma hanuman temple', 'standalone building, HAL Old Airport Rd, HAL 2nd Stage near Leela palace', 'Independent House, Near BEML Hospital, Bagmane Tech Park back gate', 'Standalone Building, GM Palya, Near BEML Hospital', 'Independent House, GM Palya,Near BEML Hospital ', \"Standalone Building, St John's Cross Rd, near Augustine Girls Hostel\", 'Independent House, Near Hotel Ganesh (Vegeterian)', \"standalone building, Tavarekere Main Road,  Near Prestige St. John's Wood\", 'Standalone Building, 10th cross,siddapura road ,near Elegance Lalbagh View Apartment', 'Independent House, Tavarekere, Maruti Nagar, 1st Stage, near Sri Venkateshwara First Grade College', 'Standalone Building, Dharmaram College Post , Bharathi Layout Near Christ school', '1st Main Rd Near Christ School', 'standalone building, 19th main rd Maruti Nagar, Near TASTY PG', 'Independent House,  1st Main Road, 6th Cross Balaji Nagar Near Good Earth High School', '1st Stage, Near Taverekere Post Office', 'Independent House, Tavarekere Main Rd Near Apollo Pharmacy', '20th Main Rd  Near Gangothri Bar and Restaurant', 'Independent House, Near manapuram gold loan', 'Independent House,  Sarvagna Nagar Near Government High School', 'Independent House, HAL 3rd Stage, 1st Block, Near St.Thomas Public School', 'Independent House,  Church Main Road near St. Thomas Public School ', 'Standalone building, Halasuru, Karnataka, India', 'Metro Station Rd Near Halasuru Metro Station', 'Independent House, Near Halsuru Police Station', 'Standalone Building, Mahatma Gandhi Road Bazaar St Near Manohar Jewellers', 'Independent House, Ulsoor Market Road Near Pooja Pharma hanuman temple', 'standalone building, HAL Old Airport Rd, HAL 2nd Stage near Leela palace', 'Independent House, Near BEML Hospital, Bagmane Tech Park back gate', 'Standalone Building, GM Palya, Near BEML Hospital', 'Independent House, GM Palya,Near BEML Hospital ', \"Standalone Building, St John's Cross Rd, near Augustine Girls Hostel\", 'Independent House, Near Hotel Ganesh (Vegeterian)', \"standalone building, Tavarekere Main Road,  Near Prestige St. John's Wood\", 'Standalone Building, 10th cross,siddapura road ,near Elegance Lalbagh View Apartment', 'Independent House, Tavarekere, Maruti Nagar, 1st Stage, near Sri Venkateshwara First Grade College', 'Standalone Building, Dharmaram College Post , Bharathi Layout Near Christ school', '1st Main Rd Near Christ School', 'standalone building, 19th main rd Maruti Nagar, Near TASTY PG', 'Independent House,  1st Main Road, 6th Cross Balaji Nagar Near Good Earth High School', '1st Stage, Near Taverekere Post Office', 'Independent House, Tavarekere Main Rd Near Apollo Pharmacy', '20th Main Rd  Near Gangothri Bar and Restaurant', 'Independent House, Near manapuram gold loan']\n",
      "['700 sqftBuiltup', '450 sqftBuiltup', '550 sqftBuiltup', '600 sqftBuiltup', '1,290 sqftBuiltup', '400 sqftBuiltup', '800 sqftBuiltup', '1,000 sqftBuiltup', '1,200 sqftBuiltup', '2,400 sqftBuiltup', '450 sqftBuiltup', '950 sqftBuiltup', '2,400 sqftBuiltup', '500 sqftBuiltup', '600 sqftBuiltup', '850 sqftBuiltup', '450 sqftBuiltup', '1,200 sqftBuiltup', '1,100 sqftBuiltup', '500 sqftBuiltup', '250 sqftBuiltup', '400 sqftBuiltup', '920 sqftBuiltup', '550 sqftBuiltup', '1,000 sqftBuiltup', '400 sqftBuiltup', '950 sqftBuiltup', '650 sqftBuiltup', '250 sqftBuiltup', '1,000 sqftBuiltup', '1,300 sqftBuiltup', '680 sqftBuiltup', '400 sqftBuiltup', '650 sqftBuiltup', '600 sqftBuiltup', '300 sqftBuiltup', '600 sqftBuiltup', '400 sqftBuiltup', '1,000 sqftBuiltup', '600 sqftBuiltup', '850 sqftBuiltup', '450 sqftBuiltup', '1,200 sqftBuiltup', '1,100 sqftBuiltup', '500 sqftBuiltup', '250 sqftBuiltup', '400 sqftBuiltup', '920 sqftBuiltup', '550 sqftBuiltup', '1,000 sqftBuiltup', '400 sqftBuiltup', '950 sqftBuiltup', '650 sqftBuiltup', '250 sqftBuiltup', '1,000 sqftBuiltup', '1,300 sqftBuiltup', '680 sqftBuiltup', '400 sqftBuiltup', '650 sqftBuiltup', '600 sqftBuiltup', '300 sqftBuiltup', '600 sqftBuiltup', '400 sqftBuiltup', '1,000 sqftBuiltup', '600 sqftBuiltup']\n",
      "['₹2,50,000', '₹1,00,000', '₹1,00,000', '₹50,000', '₹3,00,000', '₹7,00,000', '₹8,00,000', '₹3,50,000', '₹3,00,000', '₹6,00,000', '₹1,00,000', '₹1,50,000', '₹6,50,000', '₹85,000', '₹40,000', '₹1,80,000', '₹1,00,000', '₹80,000', '₹2,20,000', '₹1,50,000', '₹50,000', '₹80,000', '₹1,50,000', '₹50,000', '₹3,00,000', '₹40,000', '₹60,000', '₹30,000', '₹20,000', '₹75,000', '₹2,80,000', '₹12,00,000', '₹50,000', '₹75,000', '₹5,50,000', '₹30,000', '₹35,000', '₹40,000', '₹2,80,000', '₹40,000', '₹1,80,000', '₹1,00,000', '₹80,000', '₹2,20,000', '₹1,50,000', '₹50,000', '₹80,000', '₹1,50,000', '₹50,000', '₹3,00,000', '₹40,000', '₹60,000', '₹30,000', '₹20,000', '₹75,000', '₹2,80,000', '₹12,00,000', '₹50,000', '₹75,000', '₹5,50,000', '₹30,000', '₹35,000', '₹40,000', '₹2,80,000', '₹40,000']\n",
      "['₹ 28,000No Extra Maintenance', '₹ 17,000No Extra Maintenance', '₹ 14,500No Extra Maintenance', '₹ 15,000No Extra Maintenance', '₹ 48,000 +₹ 2,400Maintenance', 'Only DepositNo Extra Maintenance', 'Only DepositNo Extra Maintenance', '₹ 35,000No Extra Maintenance', '₹ 50,000No Extra Maintenance', '₹ 60,000No Extra Maintenance', '₹ 10,000No Extra Maintenance', '₹ 18,000No Extra Maintenance', '₹ 65,000No Extra Maintenance', '₹ 8,500No Extra Maintenance', '₹ 13,000No Extra Maintenance', '₹ 18,000No Extra Maintenance', '₹ 10,000No Extra Maintenance', '₹ 21,000No Extra Maintenance', '₹ 25,000No Extra Maintenance', '₹ 26,000No Extra Maintenance', '₹ 10,000No Extra Maintenance', '₹ 12,500No Extra Maintenance', '₹ 28,000No Extra Maintenance', '₹ 12,000No Extra Maintenance', '₹ 30,000No Extra Maintenance', '₹ 13,000No Extra Maintenance', '₹ 19,000No Extra Maintenance', '₹ 10,000No Extra Maintenance', '₹ 4,500No Extra Maintenance', '₹ 20,000No Extra Maintenance', '₹ 28,000No Extra Maintenance', 'Only DepositNo Extra Maintenance', '₹ 20,000No Extra Maintenance', '₹ 18,000No Extra Maintenance', 'Only DepositNo Extra Maintenance', '₹ 6,500No Extra Maintenance', '₹ 15,000No Extra Maintenance', '₹ 8,000No Extra Maintenance', '₹ 28,000No Extra Maintenance', '₹ 11,000 +₹ 500Maintenance', '₹ 18,000No Extra Maintenance', '₹ 10,000No Extra Maintenance', '₹ 21,000No Extra Maintenance', '₹ 25,000No Extra Maintenance', '₹ 26,000No Extra Maintenance', '₹ 10,000No Extra Maintenance', '₹ 12,500No Extra Maintenance', '₹ 28,000No Extra Maintenance', '₹ 12,000No Extra Maintenance', '₹ 30,000No Extra Maintenance', '₹ 13,000No Extra Maintenance', '₹ 19,000No Extra Maintenance', '₹ 10,000No Extra Maintenance', '₹ 4,500No Extra Maintenance', '₹ 20,000No Extra Maintenance', '₹ 28,000No Extra Maintenance', 'Only DepositNo Extra Maintenance', '₹ 20,000No Extra Maintenance', '₹ 18,000No Extra Maintenance', 'Only DepositNo Extra Maintenance', '₹ 6,500No Extra Maintenance', '₹ 15,000No Extra Maintenance', '₹ 8,000No Extra Maintenance', '₹ 28,000No Extra Maintenance', '₹ 11,000 +₹ 500Maintenance']\n"
     ]
    }
   ],
   "source": [
    "url='https://www.nobroker.in/property/rent/bangalore/multiple?searchParam=W3sibGF0IjoxMi45NzgzNjkyLCJsb24iOjc3LjY0MDgzNTYsInBsYWNlSWQiOiJDaElKa1FOM0dLUVdyanNSTmhCUUpyaEdEN1UiLCJwbGFjZU5hbWUiOiJJbmRpcmFuYWdhciJ9LHsibGF0IjoxMi45MzA3NzM1LCJsb24iOjc3LjU4MzgzMDIsInBsYWNlSWQiOiJDaElKMmRkbFo1Z1ZyanNSaDFCT0FhZi1vcnMiLCJwbGFjZU5hbWUiOiJKYXlhbmFnYXIifSx7ImxhdCI6MTIuOTc5Nzk0NywibG9uIjo3Ny41NDgzMjgyLCJwbGFjZUlkIjoiQ2hJSndTclNZLWs5cmpzUlhEcnJDUDYxVEhFIiwicGxhY2VOYW1lIjoiUmFqYWppIE5hZ2FyIEluZHVzdHJpYWwgVG93biwgUmFqYWppbmFnYXIifV0=&radius=2.0&sharedAccomodation=0&tenantType=MALE&accomodationType=PRIVATE_ROOM&city=bangalore&locality=Indiranagar,Jayanagar,Rajaji%20Nagar%20Industrial%20Town,%20Rajajinagar'\n",
    "ResponseBroker=requests.get(url)\n",
    "nobroker(ResponseBroker)"
   ]
  },
  {
   "cell_type": "code",
   "execution_count": null,
   "id": "236ad9b8",
   "metadata": {},
   "outputs": [],
   "source": []
  },
  {
   "cell_type": "code",
   "execution_count": null,
   "id": "4bd12b8d",
   "metadata": {},
   "outputs": [],
   "source": []
  },
  {
   "cell_type": "code",
   "execution_count": null,
   "id": "60f15742",
   "metadata": {},
   "outputs": [],
   "source": []
  },
  {
   "cell_type": "code",
   "execution_count": null,
   "id": "176f7427",
   "metadata": {},
   "outputs": [],
   "source": []
  },
  {
   "cell_type": "code",
   "execution_count": null,
   "id": "d0895f9f",
   "metadata": {},
   "outputs": [],
   "source": []
  },
  {
   "cell_type": "code",
   "execution_count": null,
   "id": "ed170e46",
   "metadata": {},
   "outputs": [],
   "source": []
  },
  {
   "cell_type": "code",
   "execution_count": null,
   "id": "9c94f270",
   "metadata": {},
   "outputs": [],
   "source": []
  },
  {
   "cell_type": "code",
   "execution_count": null,
   "id": "e97ae8d5",
   "metadata": {},
   "outputs": [],
   "source": []
  },
  {
   "cell_type": "code",
   "execution_count": null,
   "id": "d9421548",
   "metadata": {},
   "outputs": [],
   "source": []
  },
  {
   "cell_type": "code",
   "execution_count": null,
   "id": "208650ee",
   "metadata": {},
   "outputs": [],
   "source": []
  },
  {
   "cell_type": "code",
   "execution_count": null,
   "id": "e7049fa8",
   "metadata": {},
   "outputs": [],
   "source": []
  },
  {
   "cell_type": "code",
   "execution_count": null,
   "id": "05cac2b9",
   "metadata": {},
   "outputs": [],
   "source": []
  },
  {
   "cell_type": "code",
   "execution_count": null,
   "id": "0d782e7d",
   "metadata": {},
   "outputs": [],
   "source": []
  },
  {
   "cell_type": "code",
   "execution_count": null,
   "id": "721d07c5",
   "metadata": {},
   "outputs": [],
   "source": []
  },
  {
   "cell_type": "code",
   "execution_count": null,
   "id": "825a170a",
   "metadata": {},
   "outputs": [],
   "source": []
  },
  {
   "cell_type": "code",
   "execution_count": null,
   "id": "1874eddd",
   "metadata": {},
   "outputs": [],
   "source": []
  },
  {
   "cell_type": "code",
   "execution_count": null,
   "id": "40a8c757",
   "metadata": {},
   "outputs": [],
   "source": []
  },
  {
   "cell_type": "code",
   "execution_count": null,
   "id": "0f125884",
   "metadata": {},
   "outputs": [],
   "source": []
  },
  {
   "cell_type": "code",
   "execution_count": null,
   "id": "4ec2f5e5",
   "metadata": {},
   "outputs": [],
   "source": []
  },
  {
   "cell_type": "code",
   "execution_count": null,
   "id": "f04b1a98",
   "metadata": {},
   "outputs": [],
   "source": []
  },
  {
   "cell_type": "code",
   "execution_count": null,
   "id": "90b8f11c",
   "metadata": {},
   "outputs": [],
   "source": []
  },
  {
   "cell_type": "code",
   "execution_count": null,
   "id": "9cad8ead",
   "metadata": {},
   "outputs": [],
   "source": []
  },
  {
   "cell_type": "code",
   "execution_count": null,
   "id": "f43fa809",
   "metadata": {},
   "outputs": [],
   "source": []
  },
  {
   "cell_type": "code",
   "execution_count": null,
   "id": "bac757da",
   "metadata": {},
   "outputs": [],
   "source": []
  },
  {
   "cell_type": "code",
   "execution_count": null,
   "id": "d9e030e2",
   "metadata": {},
   "outputs": [],
   "source": []
  },
  {
   "cell_type": "code",
   "execution_count": null,
   "id": "9559ac67",
   "metadata": {},
   "outputs": [],
   "source": []
  },
  {
   "cell_type": "code",
   "execution_count": null,
   "id": "8ed96cb2",
   "metadata": {},
   "outputs": [],
   "source": []
  },
  {
   "cell_type": "code",
   "execution_count": null,
   "id": "8898479b",
   "metadata": {},
   "outputs": [],
   "source": []
  },
  {
   "cell_type": "code",
   "execution_count": null,
   "id": "032bcee8",
   "metadata": {},
   "outputs": [],
   "source": []
  },
  {
   "cell_type": "code",
   "execution_count": null,
   "id": "cfe96e61",
   "metadata": {},
   "outputs": [],
   "source": []
  },
  {
   "cell_type": "code",
   "execution_count": null,
   "id": "af13cd4e",
   "metadata": {},
   "outputs": [],
   "source": []
  },
  {
   "cell_type": "code",
   "execution_count": null,
   "id": "a875d46a",
   "metadata": {},
   "outputs": [],
   "source": []
  },
  {
   "cell_type": "code",
   "execution_count": null,
   "id": "fda899a6",
   "metadata": {},
   "outputs": [],
   "source": []
  },
  {
   "cell_type": "code",
   "execution_count": null,
   "id": "32915fd7",
   "metadata": {},
   "outputs": [],
   "source": []
  },
  {
   "cell_type": "code",
   "execution_count": null,
   "id": "64293538",
   "metadata": {},
   "outputs": [],
   "source": []
  },
  {
   "cell_type": "code",
   "execution_count": null,
   "id": "e6dd4aae",
   "metadata": {},
   "outputs": [],
   "source": []
  },
  {
   "cell_type": "code",
   "execution_count": null,
   "id": "b8099cd8",
   "metadata": {},
   "outputs": [],
   "source": []
  },
  {
   "cell_type": "code",
   "execution_count": null,
   "id": "44768111",
   "metadata": {},
   "outputs": [],
   "source": []
  },
  {
   "cell_type": "code",
   "execution_count": null,
   "id": "8d2f687d",
   "metadata": {},
   "outputs": [],
   "source": []
  },
  {
   "cell_type": "code",
   "execution_count": null,
   "id": "32fc119b",
   "metadata": {},
   "outputs": [],
   "source": []
  },
  {
   "cell_type": "code",
   "execution_count": null,
   "id": "53b59254",
   "metadata": {},
   "outputs": [],
   "source": []
  }
 ],
 "metadata": {
  "kernelspec": {
   "display_name": "Python 3 (ipykernel)",
   "language": "python",
   "name": "python3"
  },
  "language_info": {
   "codemirror_mode": {
    "name": "ipython",
    "version": 3
   },
   "file_extension": ".py",
   "mimetype": "text/x-python",
   "name": "python",
   "nbconvert_exporter": "python",
   "pygments_lexer": "ipython3",
   "version": "3.11.4"
  }
 },
 "nbformat": 4,
 "nbformat_minor": 5
}
