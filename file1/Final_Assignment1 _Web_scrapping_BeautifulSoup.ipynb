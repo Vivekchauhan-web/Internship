{
 "cells": [
  {
   "cell_type": "markdown",
   "id": "9c048701",
   "metadata": {},
   "source": [
    "1.Write a python program to display all the header tag from wikipedia.org"
   ]
  },
  {
   "cell_type": "code",
   "execution_count": 4,
   "id": "07f8fbf6",
   "metadata": {},
   "outputs": [],
   "source": [
    "def htm_header(page):\n",
    "    head_soup=BeautifulSoup(page.content)\n",
    "    header=head_soup.find_all(['h1','h2','h3'])\n",
    "    print(header)\n",
    "\n",
    "\n",
    "\n",
    "\n",
    "\n"
   ]
  },
  {
   "cell_type": "code",
   "execution_count": 17,
   "id": "9fb9777a",
   "metadata": {},
   "outputs": [
    {
     "name": "stdout",
     "output_type": "stream",
     "text": [
      "[<h1 class=\"firstHeading mw-first-heading\" id=\"firstHeading\" style=\"display: none\"><span class=\"mw-page-title-main\">Main Page</span></h1>, <h1><span class=\"mw-headline\" id=\"Welcome_to_Wikipedia\">Welcome to <a href=\"/wiki/Wikipedia\" title=\"Wikipedia\">Wikipedia</a></span></h1>, <h2 class=\"mp-h2\" id=\"mp-tfa-h2\"><span id=\"From_today.27s_featured_article\"></span><span class=\"mw-headline\" id=\"From_today's_featured_article\">From today's featured article</span></h2>, <h2 class=\"mp-h2\" id=\"mp-dyk-h2\"><span class=\"mw-headline\" id=\"Did_you_know_...\">Did you know ...</span></h2>, <h2 class=\"mp-h2\" id=\"mp-itn-h2\"><span class=\"mw-headline\" id=\"In_the_news\">In the news</span></h2>, <h2 class=\"mp-h2\" id=\"mp-otd-h2\"><span class=\"mw-headline\" id=\"On_this_day\">On this day</span></h2>, <h2 class=\"mp-h2\" id=\"mp-tfp-h2\"><span id=\"Today.27s_featured_picture\"></span><span class=\"mw-headline\" id=\"Today's_featured_picture\">Today's featured picture</span></h2>, <h2 class=\"mp-h2\" id=\"mp-other\"><span class=\"mw-headline\" id=\"Other_areas_of_Wikipedia\">Other areas of Wikipedia</span></h2>, <h2 class=\"mp-h2\" id=\"mp-sister\"><span id=\"Wikipedia.27s_sister_projects\"></span><span class=\"mw-headline\" id=\"Wikipedia's_sister_projects\">Wikipedia's sister projects</span></h2>, <h2 class=\"mp-h2\" id=\"mp-lang\"><span class=\"mw-headline\" id=\"Wikipedia_languages\">Wikipedia languages</span></h2>]\n"
     ]
    }
   ],
   "source": [
    "response=requests.get('https://en.wikipedia.org/wiki/Main_Page')\n",
    "htm_header(response)"
   ]
  },
  {
   "cell_type": "markdown",
   "id": "b6134318",
   "metadata": {},
   "source": [
    "2.Write a program to display IMDBS top rated 100 movies data(name ,rating, year of release) and make Dataframe "
   ]
  },
  {
   "cell_type": "code",
   "execution_count": 18,
   "id": "1a175571",
   "metadata": {},
   "outputs": [],
   "source": [
    "def IMDB_top(MoviePage):\n",
    "    Movie_name=[]\n",
    "    rating=[]\n",
    "    year_release=[]\n",
    "    soup=MoviePage.content\n",
    "    soup=BeautifulSoup(soup,\"html.parser\")\n",
    "    for i in soup.find_all('h3',class_=\"lister-item-header\"):\n",
    "        Movie_name.append(i.text.replace(\"\\n\",\"\"))\n",
    "    \n",
    "    for i in soup.find_all('div',class_=\"ipl-rating-star small\"):\n",
    "        rating.append(i.text.replace(\"\\n\",\"\"))\n",
    "    \n",
    "    for i in soup.find_all('span',class_=\"lister-item-year text-muted unbold\"):\n",
    "        year_release.append(i.text)\n",
    "    \n",
    "    dict={'MovieName':Movie_name,\"Rating\":rating,\"year_of_release\":year_release}\n",
    "    df=pd.DataFrame(dict)\n",
    "    print(df)"
   ]
  },
  {
   "cell_type": "code",
   "execution_count": 19,
   "id": "9930cd21",
   "metadata": {},
   "outputs": [
    {
     "name": "stdout",
     "output_type": "stream",
     "text": [
      "                           MovieName Rating year_of_release\n",
      "0              1.The Godfather(1972)    9.2          (1972)\n",
      "1   2.The Shawshank Redemption(1994)    9.3          (1994)\n",
      "2           3.Schindler's List(1993)      9          (1993)\n",
      "3                4.Raging Bull(1980)    8.1          (1980)\n",
      "4                 5.Casablanca(1942)    8.5          (1942)\n",
      "..                               ...    ...             ...\n",
      "95              96.Rear Window(1954)    8.5          (1954)\n",
      "96            97.The Third Man(1949)    8.1          (1949)\n",
      "97    98.Rebel Without a Cause(1955)    7.6          (1955)\n",
      "98       99.North by Northwest(1959)    8.3          (1959)\n",
      "99     100.Yankee Doodle Dandy(1942)    7.6          (1942)\n",
      "\n",
      "[100 rows x 3 columns]\n"
     ]
    }
   ],
   "source": [
    "import pandas as pd\n",
    "Mresponse=requests.get('https://www.imdb.com/list/ls055592025/')\n",
    "IMDB_top(Mresponse)"
   ]
  },
  {
   "cell_type": "code",
   "execution_count": null,
   "id": "f1723bf7",
   "metadata": {},
   "outputs": [],
   "source": [
    "3. Write a python program to scrape mentioned details from dineout.co.in : i) Restaurant name \n",
    "ii) Cuisine iii) Location iv) Ratings v) Image URL."
   ]
  },
  {
   "cell_type": "code",
   "execution_count": 110,
   "id": "9e21ce17",
   "metadata": {},
   "outputs": [],
   "source": [
    "def Dineout(DineResponse):\n",
    "    title=[]\n",
    "    location=[]\n",
    "    cousine=[]\n",
    "    location=[]\n",
    "    cous=[]\n",
    "    rating=[]\n",
    "    images=[]\n",
    "    soup=DineResponse.content\n",
    "    soup=BeautifulSoup(soup,\"html.parser\")\n",
    "    for i in soup.find_all('div',class_=\"restnt-info cursor\"):\n",
    "        title.append(i.text)\n",
    "    print(title)\n",
    "    for i in soup.find_all('span',class_=\"double-line-ellipsis\"):\n",
    "        cous=i.text.split(\"|\")\n",
    "        cousine.append(cous[1])\n",
    "    print(cousine)\n",
    "    for i in soup.find_all('div',class_=\"restnt-loc ellipsis\"):\n",
    "        location.append(i.text)\n",
    "    print(location)\n",
    "    for i in soup.find_all('img',class_=\"no-img\"):\n",
    "        images.append(i['data-src'])\n",
    "    print(images)\n",
    "    for i in soup.find_all('div',class_=\"restnt-rating rating-4\"):\n",
    "        rating.append(i.text)\n",
    "    print(rating)\n",
    "    dataset=zip_longest(title,location,cousine,rating,images)\n",
    "    dataset=list(dataset)\n",
    "    df=pd.DataFrame(dataset,columns=['Restaurant_Name','Location','Cousine','Rating','Image_URL'])\n",
    "    print(df)"
   ]
  },
  {
   "cell_type": "code",
   "execution_count": 111,
   "id": "c11a7142",
   "metadata": {},
   "outputs": [
    {
     "name": "stdout",
     "output_type": "stream",
     "text": [
      "['The G.T. RoadM-Block,Connaught Place, Central Delhi', 'Barbeque NationConnaught Place, Central Delhi', 'Castle BarbequeConnaught Place, Central Delhi', 'MISTThe Park Hotel,Connaught Place, Central Delhi', '24/7The Lalit New Delhi,Connaught Place, Central Delhi', 'Shang PalaceShangri La Eros New Delhi,Janpath, Central Delhi', 'The OneLe Meridien New Delhi,Janpath, Central Delhi', 'VarqThe Taj Mahal,Mansingh Road, Central Delhi', 'Yellow Brick RoadAmbassador,Khan Market, Central Delhi', 'PaatraJaypee Siddharth,Rajendra Place, West Delhi', 'The PavilionITC Maurya,Chanakyapuri, South Delhi', 'Spicy DuckTaj Palace New Delhi,Chanakyapuri, South Delhi', 'Masala ArtTaj Palace New Delhi,Chanakyapuri, South Delhi', 'The Barbeque CompanyKarkardooma, East Delhi', '64/6Country Inn and Suites By Radisson-Sahibabad,Sahibabad, Ghaziabad', 'Unlimited Food FactoryPreet Vihar, East Delhi', 'AmbrosiaThe Golden Palms Hotel,IP Extension, East Delhi', 'Clay 1 GrillKirti Nagar, West Delhi', 'PromenadePark Plaza Delhi CBD Shahdara,Shahdara, East Delhi', 'The MarketplaceKirti Nagar, West Delhi', 'Cafe KnoshThe Leela Ambience Convention Hotel,Shahdara, East Delhi']\n",
      "[' North Indian', ' North Indian, Chinese, Beverages', ' Chinese, North Indian', ' Continental, North Indian, Italian, Asian', ' Continental, North Indian, Asian, Italian', ' Chinese, Asian', ' Continental, Italian, European', ' Modern Indian', ' Continental, North Indian, Italian', ' Mughlai, North Indian, Awadhi', ' Chinese, Italian, North Indian, Continental', ' Chinese, Asian', ' North Indian', ' North Indian, Chinese', ' North Indian, Chinese, Continental', ' North Indian, Chinese', ' North Indian, Continental', ' North Indian, Chinese, Mughlai', ' North Indian, Continental, Asian', ' North Indian, Chinese', ' Italian, Continental']\n",
      "['M-Block,Connaught Place, Central Delhi', 'Connaught Place, Central Delhi', 'Connaught Place, Central Delhi', 'The Park Hotel,Connaught Place, Central Delhi', 'The Lalit New Delhi,Connaught Place, Central Delhi', 'Shangri La Eros New Delhi,Janpath, Central Delhi', 'Le Meridien New Delhi,Janpath, Central Delhi', 'The Taj Mahal,Mansingh Road, Central Delhi', 'Ambassador,Khan Market, Central Delhi', 'Jaypee Siddharth,Rajendra Place, West Delhi', 'ITC Maurya,Chanakyapuri, South Delhi', 'Taj Palace New Delhi,Chanakyapuri, South Delhi', 'Taj Palace New Delhi,Chanakyapuri, South Delhi', 'Karkardooma, East Delhi', 'Country Inn and Suites By Radisson-Sahibabad,Sahibabad, Ghaziabad', 'Preet Vihar, East Delhi', 'The Golden Palms Hotel,IP Extension, East Delhi', 'Kirti Nagar, West Delhi', 'Park Plaza Delhi CBD Shahdara,Shahdara, East Delhi', 'Kirti Nagar, West Delhi', 'The Leela Ambience Convention Hotel,Shahdara, East Delhi']\n",
      "['https://im1.dineout.co.in/images/uploads/restaurant/sharpen/3/m/u/p31393-15972091555f337a43bb961.jpg?tr=tr:n-medium', 'https://im1.dineout.co.in/images/uploads/restaurant/sharpen/5/l/m/p532-168239919964475fdfdb926.jpg?tr=tr:n-medium', 'https://im1.dineout.co.in/images/uploads/restaurant/sharpen/8/k/b/p86792-16062953735fbe1f4d3fb7e.jpg?tr=tr:n-medium', 'https://im1.dineout.co.in/images/uploads/restaurant/sharpen/2/b/u/p2890-1432884306556814525a16f.jpg?tr=tr:n-medium', 'https://im1.dineout.co.in/images/uploads/restaurant/sharpen/2/w/e/p2900-15610290405d0b69b0c589b.jpg?tr=tr:n-medium', 'https://im1.dineout.co.in/images/uploads/restaurant/sharpen/2/h/a/p22560-169043672064c20470ef1f5.jpg?tr=tr:n-medium', 'https://im1.dineout.co.in/images/uploads/restaurant/sharpen/4/w/j/p4891-144653017356384c7d32706.jpg?tr=tr:n-medium', 'https://im1.dineout.co.in/images/uploads/restaurant/sharpen/3/e/n/p3132-14527716315697892f5de48.jpg?tr=tr:n-medium', 'https://im1.dineout.co.in/images/uploads/restaurant/sharpen/1/q/u/p10239-144652724156384109a7ad7.jpg?tr=tr:n-medium', 'https://im1.dineout.co.in/images/uploads/restaurant/sharpen/2/k/x/p2903-15331919385b62a7028203a.jpg?tr=tr:n-medium', 'https://im1.dineout.co.in/images/uploads/restaurant/sharpen/2/r/p/p2917-14639996715742dcb75b8e2.jpg?tr=tr:n-medium', 'https://im1.dineout.co.in/images/uploads/restaurant/sharpen/2/m/z/p26744-1495178459591e9cdb6d730.jpg?tr=tr:n-medium', 'https://im1.dineout.co.in/images/uploads/restaurant/sharpen/2/t/u/p2941-14329005085568539c6972e.jpg?tr=tr:n-medium', 'https://im1.dineout.co.in/images/uploads/restaurant/sharpen/2/l/a/p25425-1646123614621dda5e455ec.jpg?tr=tr:n-medium', 'https://im1.dineout.co.in/images/uploads/restaurant/sharpen/8/k/i/p837-170531795065a5163e23958.jpg?tr=tr:n-medium', 'https://im1.dineout.co.in/images/uploads/restaurant/sharpen/3/t/p/p37498-15173939675a71982f6361f.jpg?tr=tr:n-medium', 'https://im1.dineout.co.in/images/uploads/restaurant/sharpen/2/o/z/p21588-145983768657035af6ac0eb.jpg?tr=tr:n-medium', 'https://im1.dineout.co.in/images/uploads/restaurant/sharpen/1/k/k/p12275-148861583558ba799be4139.jpg?tr=tr:n-medium', 'https://im1.dineout.co.in/images/uploads/restaurant/sharpen/5/u/d/p509-1467115775577268ff848db.jpg?tr=tr:n-medium', 'https://im1.dineout.co.in/images/uploads/restaurant/sharpen/5/j/z/p50001-167757585763fdc6b16966b.jpg?tr=tr:n-medium', 'https://im1.dineout.co.in/images/uploads/restaurant/sharpen/4/p/m/p406-15438184745c04ccea491bc.jpg?tr=tr:n-medium']\n",
      "['4.3', '4.3', '4', '3.9', '3.9', '4.3', '4.3', '4.4', '4.2', '4.3', '4.3', '4.2', '3.9', '4.1', '4.2', '3.8', '4.3']\n",
      "                                      Restaurant_Name  \\\n",
      "0   The G.T. RoadM-Block,Connaught Place, Central ...   \n",
      "1       Barbeque NationConnaught Place, Central Delhi   \n",
      "2       Castle BarbequeConnaught Place, Central Delhi   \n",
      "3   MISTThe Park Hotel,Connaught Place, Central Delhi   \n",
      "4   24/7The Lalit New Delhi,Connaught Place, Centr...   \n",
      "5   Shang PalaceShangri La Eros New Delhi,Janpath,...   \n",
      "6   The OneLe Meridien New Delhi,Janpath, Central ...   \n",
      "7      VarqThe Taj Mahal,Mansingh Road, Central Delhi   \n",
      "8   Yellow Brick RoadAmbassador,Khan Market, Centr...   \n",
      "9   PaatraJaypee Siddharth,Rajendra Place, West Delhi   \n",
      "10   The PavilionITC Maurya,Chanakyapuri, South Delhi   \n",
      "11  Spicy DuckTaj Palace New Delhi,Chanakyapuri, S...   \n",
      "12  Masala ArtTaj Palace New Delhi,Chanakyapuri, S...   \n",
      "13        The Barbeque CompanyKarkardooma, East Delhi   \n",
      "14  64/6Country Inn and Suites By Radisson-Sahibab...   \n",
      "15      Unlimited Food FactoryPreet Vihar, East Delhi   \n",
      "16  AmbrosiaThe Golden Palms Hotel,IP Extension, E...   \n",
      "17                Clay 1 GrillKirti Nagar, West Delhi   \n",
      "18  PromenadePark Plaza Delhi CBD Shahdara,Shahdar...   \n",
      "19             The MarketplaceKirti Nagar, West Delhi   \n",
      "20  Cafe KnoshThe Leela Ambience Convention Hotel,...   \n",
      "\n",
      "                                             Location  \\\n",
      "0              M-Block,Connaught Place, Central Delhi   \n",
      "1                      Connaught Place, Central Delhi   \n",
      "2                      Connaught Place, Central Delhi   \n",
      "3       The Park Hotel,Connaught Place, Central Delhi   \n",
      "4   The Lalit New Delhi,Connaught Place, Central D...   \n",
      "5    Shangri La Eros New Delhi,Janpath, Central Delhi   \n",
      "6        Le Meridien New Delhi,Janpath, Central Delhi   \n",
      "7          The Taj Mahal,Mansingh Road, Central Delhi   \n",
      "8               Ambassador,Khan Market, Central Delhi   \n",
      "9         Jaypee Siddharth,Rajendra Place, West Delhi   \n",
      "10               ITC Maurya,Chanakyapuri, South Delhi   \n",
      "11     Taj Palace New Delhi,Chanakyapuri, South Delhi   \n",
      "12     Taj Palace New Delhi,Chanakyapuri, South Delhi   \n",
      "13                            Karkardooma, East Delhi   \n",
      "14  Country Inn and Suites By Radisson-Sahibabad,S...   \n",
      "15                            Preet Vihar, East Delhi   \n",
      "16    The Golden Palms Hotel,IP Extension, East Delhi   \n",
      "17                            Kirti Nagar, West Delhi   \n",
      "18  Park Plaza Delhi CBD Shahdara,Shahdara, East D...   \n",
      "19                            Kirti Nagar, West Delhi   \n",
      "20  The Leela Ambience Convention Hotel,Shahdara, ...   \n",
      "\n",
      "                                         Cousine Rating  \\\n",
      "0                                   North Indian    4.3   \n",
      "1               North Indian, Chinese, Beverages    4.3   \n",
      "2                          Chinese, North Indian      4   \n",
      "3      Continental, North Indian, Italian, Asian    3.9   \n",
      "4      Continental, North Indian, Asian, Italian    3.9   \n",
      "5                                 Chinese, Asian    4.3   \n",
      "6                 Continental, Italian, European    4.3   \n",
      "7                                  Modern Indian    4.4   \n",
      "8             Continental, North Indian, Italian    4.2   \n",
      "9                  Mughlai, North Indian, Awadhi    4.3   \n",
      "10   Chinese, Italian, North Indian, Continental    4.3   \n",
      "11                                Chinese, Asian    4.2   \n",
      "12                                  North Indian    3.9   \n",
      "13                         North Indian, Chinese    4.1   \n",
      "14            North Indian, Chinese, Continental    4.2   \n",
      "15                         North Indian, Chinese    3.8   \n",
      "16                     North Indian, Continental    4.3   \n",
      "17                North Indian, Chinese, Mughlai   None   \n",
      "18              North Indian, Continental, Asian   None   \n",
      "19                         North Indian, Chinese   None   \n",
      "20                          Italian, Continental   None   \n",
      "\n",
      "                                            Image_URL  \n",
      "0   https://im1.dineout.co.in/images/uploads/resta...  \n",
      "1   https://im1.dineout.co.in/images/uploads/resta...  \n",
      "2   https://im1.dineout.co.in/images/uploads/resta...  \n",
      "3   https://im1.dineout.co.in/images/uploads/resta...  \n",
      "4   https://im1.dineout.co.in/images/uploads/resta...  \n",
      "5   https://im1.dineout.co.in/images/uploads/resta...  \n",
      "6   https://im1.dineout.co.in/images/uploads/resta...  \n",
      "7   https://im1.dineout.co.in/images/uploads/resta...  \n",
      "8   https://im1.dineout.co.in/images/uploads/resta...  \n",
      "9   https://im1.dineout.co.in/images/uploads/resta...  \n",
      "10  https://im1.dineout.co.in/images/uploads/resta...  \n",
      "11  https://im1.dineout.co.in/images/uploads/resta...  \n",
      "12  https://im1.dineout.co.in/images/uploads/resta...  \n",
      "13  https://im1.dineout.co.in/images/uploads/resta...  \n",
      "14  https://im1.dineout.co.in/images/uploads/resta...  \n",
      "15  https://im1.dineout.co.in/images/uploads/resta...  \n",
      "16  https://im1.dineout.co.in/images/uploads/resta...  \n",
      "17  https://im1.dineout.co.in/images/uploads/resta...  \n",
      "18  https://im1.dineout.co.in/images/uploads/resta...  \n",
      "19  https://im1.dineout.co.in/images/uploads/resta...  \n",
      "20  https://im1.dineout.co.in/images/uploads/resta...  \n"
     ]
    }
   ],
   "source": [
    "import pandas as pd\n",
    "import numpy as np\n",
    "from itertools import zip_longest\n",
    "DineResponse=requests.get('https://www.dineout.co.in/delhi-restaurants?city_name=delhi&limit=21&search_needle=delhi%20restaurants&start=0&cityId=0&listing=1&tag%5B%5D=Buffet&showAvailableTicket=0')\n",
    "Dineout(DineResponse)"
   ]
  },
  {
   "cell_type": "code",
   "execution_count": 86,
   "id": "d1d85a76",
   "metadata": {},
   "outputs": [
    {
     "data": {
      "text/plain": [
       "<Response [200]>"
      ]
     },
     "execution_count": 86,
     "metadata": {},
     "output_type": "execute_result"
    }
   ],
   "source": [
    "DineResponse\n"
   ]
  },
  {
   "cell_type": "code",
   "execution_count": null,
   "id": "6f85a125",
   "metadata": {},
   "outputs": [],
   "source": []
  },
  {
   "cell_type": "code",
   "execution_count": null,
   "id": "9581333e",
   "metadata": {},
   "outputs": [],
   "source": []
  },
  {
   "cell_type": "markdown",
   "id": "f3d89b66",
   "metadata": {},
   "source": [
    "4.Write a python program to display list of respected former president of India(Name and term of service)and make dataframe"
   ]
  },
  {
   "cell_type": "code",
   "execution_count": 75,
   "id": "e5e866d7",
   "metadata": {},
   "outputs": [],
   "source": [
    "def list_presidents(lstPres):\n",
    "    president_lst=[]\n",
    "    soup=lstPres.content\n",
    "    soup=BeautifulSoup(soup,\"html.parser\")\n",
    "    for i in soup.find_all('div',class_=\"desc-sec\"):\n",
    "        president_lst.append(i.text.replace(\"\\n\",\" \"))\n",
    "    \n",
    "    df=pd.DataFrame(president_lst,columns=['President List'])\n",
    "    print(df)"
   ]
  },
  {
   "cell_type": "code",
   "execution_count": 76,
   "id": "0efb6ace",
   "metadata": {},
   "outputs": [
    {
     "name": "stdout",
     "output_type": "stream",
     "text": [
      "                                       President List\n",
      "0       Shri Ram Nath Kovind 14th President of India \n",
      "1      Shri Pranab Mukherjee 13th President of India \n",
      "2    Smt Pratibha Devisingh Patil 12th President o...\n",
      "3     DR. A.P.J. Abdul Kalam 11th President of India \n",
      "4       Shri K. R. Narayanan 10th President of India \n",
      "5    Dr Shankar Dayal Sharma 9th  President of India \n",
      "6         Shri R Venkataraman 8th President of India \n",
      "7            Giani Zail Singh 7th President of India \n",
      "8    Shri Neelam Sanjiva Reddy 6th President of In...\n",
      "9    Dr. Fakhruddin Ali Ahmed 5th President of India \n",
      "10   Shri Varahagiri Venkata Giri 4th President of...\n",
      "11           Dr. Zakir Husain 3rd President of India \n",
      "12   Dr. Sarvepalli Radhakrishnan 2nd President of...\n",
      "13        Dr. Rajendra Prasad 1st President of India \n"
     ]
    }
   ],
   "source": [
    "PResponse=requests.get('https://presidentofindia.gov.in/index.php/former-presidents')\n",
    "list_presidents(PResponse)"
   ]
  },
  {
   "cell_type": "code",
   "execution_count": null,
   "id": "abc2106c",
   "metadata": {},
   "outputs": [],
   "source": []
  },
  {
   "cell_type": "code",
   "execution_count": null,
   "id": "56f2e844",
   "metadata": {},
   "outputs": [],
   "source": []
  }
 ],
 "metadata": {
  "kernelspec": {
   "display_name": "Python 3 (ipykernel)",
   "language": "python",
   "name": "python3"
  },
  "language_info": {
   "codemirror_mode": {
    "name": "ipython",
    "version": 3
   },
   "file_extension": ".py",
   "mimetype": "text/x-python",
   "name": "python",
   "nbconvert_exporter": "python",
   "pygments_lexer": "ipython3",
   "version": "3.11.4"
  }
 },
 "nbformat": 4,
 "nbformat_minor": 5
}
