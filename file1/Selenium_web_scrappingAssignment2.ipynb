{
 "cells": [
  {
   "cell_type": "markdown",
   "id": "2245f246",
   "metadata": {},
   "source": [
    "                WEB SCRAPPING ASSIGNMENT 2(SELENIUM)"
   ]
  },
  {
   "cell_type": "markdown",
   "id": "43cef91b",
   "metadata": {},
   "source": [
    "Q1: In this question you have to scrape data using the filters available on the webpage You have to use the location and \n",
    "salary filter. \n",
    "You have to scrape data for “Data Scientist” designation for first 10 job results. \n",
    "You have to scrape the job-title, job-location, company name, experience required. \n",
    "The location filter to be used is “Delhi/NCR”. The salary filter to be used is “3-6” lakh"
   ]
  },
  {
   "cell_type": "code",
   "execution_count": 1,
   "id": "b6419e38",
   "metadata": {},
   "outputs": [],
   "source": [
    "import selenium\n",
    "import pandas as pd \n",
    "from selenium import webdriver\n",
    "import warnings\n",
    "warnings .filterwarnings('ignore')\n",
    "from selenium.webdriver.common.by import By"
   ]
  },
  {
   "cell_type": "code",
   "execution_count": null,
   "id": "74b05976",
   "metadata": {},
   "outputs": [],
   "source": [
    "driver=webdriver.Chrome()"
   ]
  },
  {
   "cell_type": "code",
   "execution_count": 15,
   "id": "e08bdc77",
   "metadata": {},
   "outputs": [],
   "source": [
    "driver.get('https://www.naukri.com/')"
   ]
  },
  {
   "cell_type": "code",
   "execution_count": 16,
   "id": "380697e1",
   "metadata": {},
   "outputs": [],
   "source": [
    "designation=driver.find_element(By.XPATH,'/html/body/div[1]/div[7]/div/div/div[1]/div/div/div/div[1]/div/input')\n",
    "designation.send_keys('Data Scientist')"
   ]
  },
  {
   "cell_type": "code",
   "execution_count": 17,
   "id": "6ac92e8b",
   "metadata": {},
   "outputs": [],
   "source": [
    "location=driver.find_element(By.XPATH,'/html/body/div[1]/div[7]/div/div/div[5]/div/div/div/div[1]/div/input')\n",
    "location.send_keys('Delhi/NCR')"
   ]
  },
  {
   "cell_type": "code",
   "execution_count": 12,
   "id": "0fc2aee7",
   "metadata": {},
   "outputs": [],
   "source": [
    "search=driver.find_element(By.CLASS_NAME,'qsbSubmit')\n",
    "search.click()"
   ]
  },
  {
   "cell_type": "code",
   "execution_count": 31,
   "id": "4153d8fb",
   "metadata": {},
   "outputs": [],
   "source": [
    "job_title=[]\n",
    "company_names=[]\n",
    "job_location=[]\n",
    "experience_required=[]"
   ]
  },
  {
   "cell_type": "code",
   "execution_count": 32,
   "id": "0479ff9b",
   "metadata": {},
   "outputs": [
    {
     "name": "stdout",
     "output_type": "stream",
     "text": [
      "['Data Scientist HTHD', 'Data Scientist', 'Data Scientist', 'Data Scientist II', 'Lead Data Scientist', 'Data Scientist', 'Lead Customer Success - Data Scientist', 'Fullstack Data Scientist', 'Data Scientist', 'Data Scientist']\n"
     ]
    }
   ],
   "source": [
    "title_tagss=driver.find_elements(By.XPATH,'//div[@class=\"cust-job-tuple layout-wrapper lay-2 sjw__tuple \"]/div/a')\n",
    "for i in title_tagss[0:10]:\n",
    "    title=i.text\n",
    "    job_title.append(title)\n",
    "print(job_title)"
   ]
  },
  {
   "cell_type": "code",
   "execution_count": 33,
   "id": "9ca14b08",
   "metadata": {},
   "outputs": [
    {
     "name": "stdout",
     "output_type": "stream",
     "text": [
      "['Ford', 'Deloitte', 'Blackbuck', 'Honeywell', 'Elitefit.ai', 'Fort Technologies', 'ZS Associates', 'Course5 Intelligence', 'Innovaccer', 'Times Internet']\n"
     ]
    }
   ],
   "source": [
    "companytags1=driver.find_elements(By.XPATH,'//div[@class=\" row2\"]/span/a[1]')\n",
    "for i in companytags1[0:10]:\n",
    "    company=i.text\n",
    "    company_names.append(company)\n",
    "print(company_names)"
   ]
  },
  {
   "cell_type": "code",
   "execution_count": 34,
   "id": "910f3e4e",
   "metadata": {},
   "outputs": [
    {
     "name": "stdout",
     "output_type": "stream",
     "text": [
      "['Kolkata, Mumbai, New Delhi, Hyderabad, Pune, Chennai, Bengaluru', 'Mumbai, Hyderabad, Gurugram', 'Gurugram, Bengaluru', 'Greater Noida, Bengaluru', 'Kolkata, Mumbai, New Delhi, Hyderabad/Secunderabad, Pune, Chennai, Bangalore/Bengaluru', 'Kolkata, Mumbai, New Delhi, Hyderabad, Pune, Chennai, Bengaluru', 'Pune, Gurugram', 'Mumbai, Gurugram, Bengaluru', 'Noida', 'Noida']\n"
     ]
    }
   ],
   "source": [
    "joblocations=driver.find_elements(By.XPATH,'//span[@class=\"locWdth\"]')\n",
    "for i in joblocations[0:10]:\n",
    "    loc=i.text\n",
    "    job_location.append(loc)\n",
    "print(job_location)"
   ]
  },
  {
   "cell_type": "code",
   "execution_count": 35,
   "id": "31243b82",
   "metadata": {},
   "outputs": [
    {
     "name": "stdout",
     "output_type": "stream",
     "text": [
      "['1-4 Yrs', '3-6 Yrs', '3-7 Yrs', '3-6 Yrs', '3-7 Yrs', '1-3 Yrs', '2-4 Yrs', '3-6 Yrs', '2-7 Yrs', '3-8 Yrs']\n"
     ]
    }
   ],
   "source": [
    "experience_tag=driver.find_elements(By.XPATH,'//span[@class=\"expwdth\"]')\n",
    "for i in experience_tag[0:10]:\n",
    "    exp=i.text\n",
    "    experience_required.append(exp)\n",
    "print(experience_required)"
   ]
  },
  {
   "cell_type": "code",
   "execution_count": 36,
   "id": "5581b903",
   "metadata": {},
   "outputs": [
    {
     "name": "stdout",
     "output_type": "stream",
     "text": [
      "10 10 10 10\n"
     ]
    }
   ],
   "source": [
    "print(len(job_title),len(job_location),len(experience_required),len(company_names))"
   ]
  },
  {
   "cell_type": "code",
   "execution_count": 37,
   "id": "7ac27876",
   "metadata": {},
   "outputs": [],
   "source": [
    "df=pd.DataFrame({'Job_Title':job_title,'Company':company_names,'Location':job_location,'Experience':experience_required})"
   ]
  },
  {
   "cell_type": "code",
   "execution_count": 38,
   "id": "455ee077",
   "metadata": {},
   "outputs": [
    {
     "data": {
      "text/html": [
       "<div>\n",
       "<style scoped>\n",
       "    .dataframe tbody tr th:only-of-type {\n",
       "        vertical-align: middle;\n",
       "    }\n",
       "\n",
       "    .dataframe tbody tr th {\n",
       "        vertical-align: top;\n",
       "    }\n",
       "\n",
       "    .dataframe thead th {\n",
       "        text-align: right;\n",
       "    }\n",
       "</style>\n",
       "<table border=\"1\" class=\"dataframe\">\n",
       "  <thead>\n",
       "    <tr style=\"text-align: right;\">\n",
       "      <th></th>\n",
       "      <th>Job_Title</th>\n",
       "      <th>Company</th>\n",
       "      <th>Location</th>\n",
       "      <th>Experience</th>\n",
       "    </tr>\n",
       "  </thead>\n",
       "  <tbody>\n",
       "    <tr>\n",
       "      <th>0</th>\n",
       "      <td>Data Scientist HTHD</td>\n",
       "      <td>Ford</td>\n",
       "      <td>Kolkata, Mumbai, New Delhi, Hyderabad, Pune, C...</td>\n",
       "      <td>1-4 Yrs</td>\n",
       "    </tr>\n",
       "    <tr>\n",
       "      <th>1</th>\n",
       "      <td>Data Scientist</td>\n",
       "      <td>Deloitte</td>\n",
       "      <td>Mumbai, Hyderabad, Gurugram</td>\n",
       "      <td>3-6 Yrs</td>\n",
       "    </tr>\n",
       "    <tr>\n",
       "      <th>2</th>\n",
       "      <td>Data Scientist</td>\n",
       "      <td>Blackbuck</td>\n",
       "      <td>Gurugram, Bengaluru</td>\n",
       "      <td>3-7 Yrs</td>\n",
       "    </tr>\n",
       "    <tr>\n",
       "      <th>3</th>\n",
       "      <td>Data Scientist II</td>\n",
       "      <td>Honeywell</td>\n",
       "      <td>Greater Noida, Bengaluru</td>\n",
       "      <td>3-6 Yrs</td>\n",
       "    </tr>\n",
       "    <tr>\n",
       "      <th>4</th>\n",
       "      <td>Lead Data Scientist</td>\n",
       "      <td>Elitefit.ai</td>\n",
       "      <td>Kolkata, Mumbai, New Delhi, Hyderabad/Secunder...</td>\n",
       "      <td>3-7 Yrs</td>\n",
       "    </tr>\n",
       "    <tr>\n",
       "      <th>5</th>\n",
       "      <td>Data Scientist</td>\n",
       "      <td>Fort Technologies</td>\n",
       "      <td>Kolkata, Mumbai, New Delhi, Hyderabad, Pune, C...</td>\n",
       "      <td>1-3 Yrs</td>\n",
       "    </tr>\n",
       "    <tr>\n",
       "      <th>6</th>\n",
       "      <td>Lead Customer Success - Data Scientist</td>\n",
       "      <td>ZS Associates</td>\n",
       "      <td>Pune, Gurugram</td>\n",
       "      <td>2-4 Yrs</td>\n",
       "    </tr>\n",
       "    <tr>\n",
       "      <th>7</th>\n",
       "      <td>Fullstack Data Scientist</td>\n",
       "      <td>Course5 Intelligence</td>\n",
       "      <td>Mumbai, Gurugram, Bengaluru</td>\n",
       "      <td>3-6 Yrs</td>\n",
       "    </tr>\n",
       "    <tr>\n",
       "      <th>8</th>\n",
       "      <td>Data Scientist</td>\n",
       "      <td>Innovaccer</td>\n",
       "      <td>Noida</td>\n",
       "      <td>2-7 Yrs</td>\n",
       "    </tr>\n",
       "    <tr>\n",
       "      <th>9</th>\n",
       "      <td>Data Scientist</td>\n",
       "      <td>Times Internet</td>\n",
       "      <td>Noida</td>\n",
       "      <td>3-8 Yrs</td>\n",
       "    </tr>\n",
       "  </tbody>\n",
       "</table>\n",
       "</div>"
      ],
      "text/plain": [
       "                                Job_Title               Company  \\\n",
       "0                     Data Scientist HTHD                  Ford   \n",
       "1                          Data Scientist              Deloitte   \n",
       "2                          Data Scientist             Blackbuck   \n",
       "3                       Data Scientist II             Honeywell   \n",
       "4                     Lead Data Scientist           Elitefit.ai   \n",
       "5                          Data Scientist     Fort Technologies   \n",
       "6  Lead Customer Success - Data Scientist         ZS Associates   \n",
       "7                Fullstack Data Scientist  Course5 Intelligence   \n",
       "8                          Data Scientist            Innovaccer   \n",
       "9                          Data Scientist        Times Internet   \n",
       "\n",
       "                                            Location Experience  \n",
       "0  Kolkata, Mumbai, New Delhi, Hyderabad, Pune, C...    1-4 Yrs  \n",
       "1                        Mumbai, Hyderabad, Gurugram    3-6 Yrs  \n",
       "2                                Gurugram, Bengaluru    3-7 Yrs  \n",
       "3                           Greater Noida, Bengaluru    3-6 Yrs  \n",
       "4  Kolkata, Mumbai, New Delhi, Hyderabad/Secunder...    3-7 Yrs  \n",
       "5  Kolkata, Mumbai, New Delhi, Hyderabad, Pune, C...    1-3 Yrs  \n",
       "6                                     Pune, Gurugram    2-4 Yrs  \n",
       "7                        Mumbai, Gurugram, Bengaluru    3-6 Yrs  \n",
       "8                                              Noida    2-7 Yrs  \n",
       "9                                              Noida    3-8 Yrs  "
      ]
     },
     "execution_count": 38,
     "metadata": {},
     "output_type": "execute_result"
    }
   ],
   "source": [
    "df"
   ]
  },
  {
   "cell_type": "markdown",
   "id": "3b2aff0b",
   "metadata": {},
   "source": [
    "Q2: Write a python program to scrape data for ““Data Scientist” Job position in “Bangalore” location. \n",
    "You have to scrape the job-title, job-location, company_name, experience_required. You have to \n",
    "scrape first 10 jobs data."
   ]
  },
  {
   "cell_type": "code",
   "execution_count": 49,
   "id": "bd39461a",
   "metadata": {},
   "outputs": [],
   "source": [
    "driver1=webdriver.Chrome()"
   ]
  },
  {
   "cell_type": "code",
   "execution_count": 50,
   "id": "fc57778a",
   "metadata": {},
   "outputs": [],
   "source": [
    "driver1.get('https://www.naukri.com/')"
   ]
  },
  {
   "cell_type": "code",
   "execution_count": 51,
   "id": "735e4e07",
   "metadata": {},
   "outputs": [],
   "source": [
    "designation1=driver1.find_element(By.CLASS_NAME,\"suggestor-input \")\n",
    "designation1.send_keys('Data Analyst')"
   ]
  },
  {
   "cell_type": "code",
   "execution_count": 54,
   "id": "802ab950",
   "metadata": {},
   "outputs": [],
   "source": [
    "location1=driver1.find_element(By.XPATH,'/html/body/div[1]/div[7]/div/div/div[5]/div/div/div/div[1]/div/input')\n",
    "location1.send_keys('Banglore')"
   ]
  },
  {
   "cell_type": "code",
   "execution_count": 56,
   "id": "f9ed470a",
   "metadata": {},
   "outputs": [],
   "source": [
    "search1=driver1.find_element(By.CLASS_NAME,\"qsbSubmit\")\n",
    "search1.click()"
   ]
  },
  {
   "cell_type": "code",
   "execution_count": 58,
   "id": "15bc0476",
   "metadata": {},
   "outputs": [],
   "source": [
    "job_title1=[]\n",
    "job_location1=[]\n",
    "experience_required1=[]\n",
    "company_name1=[]"
   ]
  },
  {
   "cell_type": "code",
   "execution_count": 59,
   "id": "a57f5a93",
   "metadata": {},
   "outputs": [
    {
     "name": "stdout",
     "output_type": "stream",
     "text": [
      "['Data Analyst', 'Online Data Analyst', 'ETL - Data Analyst', 'Data Analyst (automotive)', 'FP&A Data Analyst', 'Data Analyst', 'Data Analyst', 'Data Analyst', 'Data Analyst', 'Data Analyst']\n"
     ]
    }
   ],
   "source": [
    "job_tag=driver1.find_elements(By.XPATH,'//div[@class=\"cust-job-tuple layout-wrapper lay-2 sjw__tuple \"]/div/a')\n",
    "for i in job_tag[0:10]:\n",
    "    job_title1.append(i.text.strip())\n",
    "print(job_title1)"
   ]
  },
  {
   "cell_type": "code",
   "execution_count": 60,
   "id": "e25f9938",
   "metadata": {},
   "outputs": [
    {
     "name": "stdout",
     "output_type": "stream",
     "text": [
      "['Mensa Brand Technologies', 'TELUS International', '2coms', 'Fenyes Engineered Technology Pvt Ltd', 'Alphawave SEMI', 'Puresoftware', 'Tsit Digital Technologies', 'Objectwin Technology', 'PwC Service Delivery Center', 'Talent Sketchers']\n"
     ]
    }
   ],
   "source": [
    "com_tag=driver1.find_elements(By.XPATH,'//span[@class=\" comp-dtls-wrap\"]/a[1]')\n",
    "for i in com_tag[0:10]:\n",
    "    company_name1.append(i.text)\n",
    "print(company_name1)"
   ]
  },
  {
   "cell_type": "code",
   "execution_count": 61,
   "id": "b6d7f14a",
   "metadata": {},
   "outputs": [
    {
     "name": "stdout",
     "output_type": "stream",
     "text": [
      "['2-4 Yrs', '1-4 Yrs', '5-10 Yrs', '5-6 Yrs', '2-5 Yrs', '5-10 Yrs', '5-10 Yrs', '1-5 Yrs', '4-8 Yrs', '6-9 Yrs']\n"
     ]
    }
   ],
   "source": [
    "exp_tag=driver1.find_elements(By.XPATH,'//span[@class=\"expwdth\"]')\n",
    "for i in exp_tag[0:10]:\n",
    "    experience_required1.append(i.text)\n",
    "print(experience_required1)"
   ]
  },
  {
   "cell_type": "code",
   "execution_count": 62,
   "id": "cd523f1e",
   "metadata": {},
   "outputs": [
    {
     "name": "stdout",
     "output_type": "stream",
     "text": [
      "['Bengaluru', 'Kolkata, Mumbai, New Delhi, Hyderabad, Pune, Chennai, Bengaluru', 'Bengaluru', 'Bangalore/Bengaluru(Domlur)', 'Pune, Bengaluru', 'Remote', 'Hybrid - Hyderabad, Telangana, Bangalore Rural, Karnataka, Chennai, Tamil Nadu', 'Bengaluru(4th Phase JP Nagar)', 'Hybrid - Bengaluru', 'Hybrid - Bengaluru']\n"
     ]
    }
   ],
   "source": [
    "loc_tag=driver1.find_elements(By.XPATH,'//span[@class=\"locWdth\"]')\n",
    "for i in loc_tag[0:10]:\n",
    "    job_location1.append(i.text.strip())\n",
    "print(job_location1)"
   ]
  },
  {
   "cell_type": "code",
   "execution_count": 64,
   "id": "06d12dfe",
   "metadata": {},
   "outputs": [],
   "source": [
    "df2=pd.DataFrame({'Title':job_title1,'Company':company_name1,'Location':job_location1,'Experience':experience_required1})"
   ]
  },
  {
   "cell_type": "code",
   "execution_count": 63,
   "id": "ca4ad0a4",
   "metadata": {},
   "outputs": [
    {
     "name": "stdout",
     "output_type": "stream",
     "text": [
      "10 10 10 10\n"
     ]
    }
   ],
   "source": [
    "print(len(job_title1),len(company_name1),len(job_location1),len(experience_required1))"
   ]
  },
  {
   "cell_type": "code",
   "execution_count": 65,
   "id": "99456b2a",
   "metadata": {},
   "outputs": [
    {
     "data": {
      "text/html": [
       "<div>\n",
       "<style scoped>\n",
       "    .dataframe tbody tr th:only-of-type {\n",
       "        vertical-align: middle;\n",
       "    }\n",
       "\n",
       "    .dataframe tbody tr th {\n",
       "        vertical-align: top;\n",
       "    }\n",
       "\n",
       "    .dataframe thead th {\n",
       "        text-align: right;\n",
       "    }\n",
       "</style>\n",
       "<table border=\"1\" class=\"dataframe\">\n",
       "  <thead>\n",
       "    <tr style=\"text-align: right;\">\n",
       "      <th></th>\n",
       "      <th>Title</th>\n",
       "      <th>Company</th>\n",
       "      <th>Location</th>\n",
       "      <th>Experience</th>\n",
       "    </tr>\n",
       "  </thead>\n",
       "  <tbody>\n",
       "    <tr>\n",
       "      <th>0</th>\n",
       "      <td>Data Analyst</td>\n",
       "      <td>Mensa Brand Technologies</td>\n",
       "      <td>Bengaluru</td>\n",
       "      <td>2-4 Yrs</td>\n",
       "    </tr>\n",
       "    <tr>\n",
       "      <th>1</th>\n",
       "      <td>Online Data Analyst</td>\n",
       "      <td>TELUS International</td>\n",
       "      <td>Kolkata, Mumbai, New Delhi, Hyderabad, Pune, C...</td>\n",
       "      <td>1-4 Yrs</td>\n",
       "    </tr>\n",
       "    <tr>\n",
       "      <th>2</th>\n",
       "      <td>ETL - Data Analyst</td>\n",
       "      <td>2coms</td>\n",
       "      <td>Bengaluru</td>\n",
       "      <td>5-10 Yrs</td>\n",
       "    </tr>\n",
       "    <tr>\n",
       "      <th>3</th>\n",
       "      <td>Data Analyst (automotive)</td>\n",
       "      <td>Fenyes Engineered Technology Pvt Ltd</td>\n",
       "      <td>Bangalore/Bengaluru(Domlur)</td>\n",
       "      <td>5-6 Yrs</td>\n",
       "    </tr>\n",
       "    <tr>\n",
       "      <th>4</th>\n",
       "      <td>FP&amp;A Data Analyst</td>\n",
       "      <td>Alphawave SEMI</td>\n",
       "      <td>Pune, Bengaluru</td>\n",
       "      <td>2-5 Yrs</td>\n",
       "    </tr>\n",
       "    <tr>\n",
       "      <th>5</th>\n",
       "      <td>Data Analyst</td>\n",
       "      <td>Puresoftware</td>\n",
       "      <td>Remote</td>\n",
       "      <td>5-10 Yrs</td>\n",
       "    </tr>\n",
       "    <tr>\n",
       "      <th>6</th>\n",
       "      <td>Data Analyst</td>\n",
       "      <td>Tsit Digital Technologies</td>\n",
       "      <td>Hybrid - Hyderabad, Telangana, Bangalore Rural...</td>\n",
       "      <td>5-10 Yrs</td>\n",
       "    </tr>\n",
       "    <tr>\n",
       "      <th>7</th>\n",
       "      <td>Data Analyst</td>\n",
       "      <td>Objectwin Technology</td>\n",
       "      <td>Bengaluru(4th Phase JP Nagar)</td>\n",
       "      <td>1-5 Yrs</td>\n",
       "    </tr>\n",
       "    <tr>\n",
       "      <th>8</th>\n",
       "      <td>Data Analyst</td>\n",
       "      <td>PwC Service Delivery Center</td>\n",
       "      <td>Hybrid - Bengaluru</td>\n",
       "      <td>4-8 Yrs</td>\n",
       "    </tr>\n",
       "    <tr>\n",
       "      <th>9</th>\n",
       "      <td>Data Analyst</td>\n",
       "      <td>Talent Sketchers</td>\n",
       "      <td>Hybrid - Bengaluru</td>\n",
       "      <td>6-9 Yrs</td>\n",
       "    </tr>\n",
       "  </tbody>\n",
       "</table>\n",
       "</div>"
      ],
      "text/plain": [
       "                       Title                               Company  \\\n",
       "0               Data Analyst              Mensa Brand Technologies   \n",
       "1        Online Data Analyst                   TELUS International   \n",
       "2         ETL - Data Analyst                                 2coms   \n",
       "3  Data Analyst (automotive)  Fenyes Engineered Technology Pvt Ltd   \n",
       "4          FP&A Data Analyst                        Alphawave SEMI   \n",
       "5               Data Analyst                          Puresoftware   \n",
       "6               Data Analyst             Tsit Digital Technologies   \n",
       "7               Data Analyst                  Objectwin Technology   \n",
       "8               Data Analyst           PwC Service Delivery Center   \n",
       "9               Data Analyst                      Talent Sketchers   \n",
       "\n",
       "                                            Location Experience  \n",
       "0                                          Bengaluru    2-4 Yrs  \n",
       "1  Kolkata, Mumbai, New Delhi, Hyderabad, Pune, C...    1-4 Yrs  \n",
       "2                                          Bengaluru   5-10 Yrs  \n",
       "3                        Bangalore/Bengaluru(Domlur)    5-6 Yrs  \n",
       "4                                    Pune, Bengaluru    2-5 Yrs  \n",
       "5                                             Remote   5-10 Yrs  \n",
       "6  Hybrid - Hyderabad, Telangana, Bangalore Rural...   5-10 Yrs  \n",
       "7                      Bengaluru(4th Phase JP Nagar)    1-5 Yrs  \n",
       "8                                 Hybrid - Bengaluru    4-8 Yrs  \n",
       "9                                 Hybrid - Bengaluru    6-9 Yrs  "
      ]
     },
     "execution_count": 65,
     "metadata": {},
     "output_type": "execute_result"
    }
   ],
   "source": [
    "df2"
   ]
  },
  {
   "cell_type": "markdown",
   "id": "33af5c52",
   "metadata": {},
   "source": [
    "Q3: Scrape 100 reviews data from flipkart.com for iphone11 phone. You have to go the link: \n",
    "https://www.flipkart.com/apple-iphone-11-black-64-gb/product\u0002reviews/itm4e5041ba101fd?pid=MOBFWQ6BXGJCEYNY&lid=LSTMOBFWQ6BXGJCEYNYZXSHRJ&marketplace=FLIPKART\n",
    "    As shown in the above page you have to scrape the tick marked attributes. These are:\n",
    "1. Rating\n",
    "2. Review summary\n",
    "3. Full review\n",
    "4. You have to scrape this data for first 100reviews"
   ]
  },
  {
   "cell_type": "code",
   "execution_count": 20,
   "id": "f75cace1",
   "metadata": {},
   "outputs": [],
   "source": [
    "driver2=webdriver.Chrome()"
   ]
  },
  {
   "cell_type": "code",
   "execution_count": 21,
   "id": "31940334",
   "metadata": {},
   "outputs": [],
   "source": [
    "driver2.get('https://www.flipkart.com/apple-iphone-11-purple-64-gb/product-reviews/itm2b8d03427ddac?pid=MOBFWQ6BTFFJKGKE&lid=LSTMOBFWQ6BTFFJKGKEPGQVOJ&marketplace=FLIPKART')"
   ]
  },
  {
   "cell_type": "code",
   "execution_count": 154,
   "id": "36e11646",
   "metadata": {},
   "outputs": [],
   "source": []
  },
  {
   "cell_type": "code",
   "execution_count": 35,
   "id": "8aab6fa0",
   "metadata": {},
   "outputs": [],
   "source": [
    "\n",
    "ratingIphone=[]"
   ]
  },
  {
   "cell_type": "code",
   "execution_count": 39,
   "id": "6b0b576e",
   "metadata": {},
   "outputs": [
    {
     "name": "stdout",
     "output_type": "stream",
     "text": [
      "['5', '5', '5', '5', '5', '5', '5', '5', '5', '5', '5', '5', '5', '5', '5', '5', '5', '5', '5', '5', '5', '5', '5', '5', '5', '5', '5', '5', '5', '5', '5', '5', '5', '5', '5', '5', '5', '5', '5', '5', '5', '5', '5', '5', '5', '5', '5', '5', '5', '5', '5', '5', '5', '5', '5', '5', '5', '5', '5', '5', '5', '5', '5', '5', '5', '5', '5', '5', '5', '5', '5', '5', '5', '5', '5', '5', '5', '5', '5', '5', '5', '5', '5', '5', '5', '5', '5', '5', '5', '5', '5', '5', '5', '5', '5', '5', '5', '5', '5', '5']\n"
     ]
    }
   ],
   "source": [
    "import time\n",
    "# first 100 brand names from first 4 pages\n",
    "for page in range(0,10):\n",
    "    rating_tag=driver2.find_elements(By.XPATH,'//div[@class=\"_3LWZlK _1BLPMq\"]')\n",
    "    for i in rating_tag:\n",
    "\n",
    "        ratingIphone.append(i.text)\n",
    "    next_button=driver2.find_element(By.CLASS_NAME,\"_1LKTO3\")\n",
    "    next_button.click()\n",
    "    time.sleep(10)\n",
    "    rating_tag=driver2.find_elements(By.XPATH,'//div[@class=\"_3LWZlK _1BLPMq\"]')\n",
    "print(ratingIphone)"
   ]
  },
  {
   "cell_type": "code",
   "execution_count": 40,
   "id": "ef5728cf",
   "metadata": {},
   "outputs": [
    {
     "data": {
      "text/plain": [
       "100"
      ]
     },
     "execution_count": 40,
     "metadata": {},
     "output_type": "execute_result"
    }
   ],
   "source": [
    "len(ratingIphone)"
   ]
  },
  {
   "cell_type": "code",
   "execution_count": 60,
   "id": "824e2a95",
   "metadata": {},
   "outputs": [],
   "source": [
    "review_sum=[]"
   ]
  },
  {
   "cell_type": "code",
   "execution_count": 61,
   "id": "c10174df",
   "metadata": {},
   "outputs": [
    {
     "name": "stdout",
     "output_type": "stream",
     "text": [
      "['Best in the market!', 'Classy product', 'Worth every penny', 'Fabulous!', 'Wonderful', 'Terrific', 'Perfect product!', 'Terrific purchase', 'Just wow!', 'Brilliant', 'Must buy!', 'Brilliant', 'Awesome', 'Super!', 'Perfect product!', 'Excellent', 'Fabulous!', 'Terrific purchase', 'Must buy!', 'Highly recommended', 'Best in the market!', 'Classy product', 'Worth every penny', 'Wonderful', 'Fabulous!', 'Terrific', 'Perfect product!', 'Terrific purchase', 'Just wow!', 'Brilliant', 'Must buy!', 'Brilliant', 'Awesome', 'Super!', 'Perfect product!', 'Excellent', 'Fabulous!', 'Terrific purchase', 'Must buy!', 'Highly recommended', 'Best in the market!', 'Classy product', 'Worth every penny', 'Fabulous!', 'Wonderful', 'Terrific', 'Perfect product!', 'Terrific purchase', 'Just wow!', 'Brilliant', 'Must buy!', 'Brilliant', 'Awesome', 'Super!', 'Perfect product!', 'Excellent', 'Fabulous!', 'Terrific purchase', 'Must buy!', 'Highly recommended', 'Best in the market!', 'Classy product', 'Worth every penny', 'Fabulous!', 'Wonderful', 'Terrific', 'Perfect product!', 'Terrific purchase', 'Just wow!', 'Brilliant', 'Must buy!', 'Brilliant', 'Awesome', 'Super!', 'Perfect product!', 'Excellent', 'Fabulous!', 'Terrific purchase', 'Must buy!', 'Highly recommended', 'Best in the market!', 'Classy product', 'Worth every penny', 'Wonderful', 'Fabulous!', 'Terrific', 'Perfect product!', 'Terrific purchase', 'Just wow!', 'Brilliant', 'Must buy!', 'Brilliant', 'Awesome', 'Super!', 'Perfect product!', 'Excellent', 'Fabulous!', 'Terrific purchase', 'Must buy!', 'Highly recommended']\n"
     ]
    }
   ],
   "source": [
    "# first 100 product description from first 4 pages\n",
    "for page in range(1,11):\n",
    "    review_tag=driver2.find_elements(By.XPATH,'//p[@class=\"_2-N8zT\"]')\n",
    "    for i in review_tag:\n",
    "\n",
    "        review_sum.append(i.text)\n",
    "    next_buttonphone=driver2.find_element(By.CLASS_NAME,\"_1LKTO3\")\n",
    "    next_buttonphone.click()\n",
    "    time.sleep(10)\n",
    "    review_tag=driver2.find_elements(By.XPATH,'//p[@class=\"_2-N8zT\"]')\n",
    "print(review_sum)"
   ]
  },
  {
   "cell_type": "code",
   "execution_count": 62,
   "id": "d1699c04",
   "metadata": {},
   "outputs": [
    {
     "data": {
      "text/plain": [
       "100"
      ]
     },
     "execution_count": 62,
     "metadata": {},
     "output_type": "execute_result"
    }
   ],
   "source": [
    "len(review_sum)"
   ]
  },
  {
   "cell_type": "code",
   "execution_count": 64,
   "id": "48a6d7f2",
   "metadata": {},
   "outputs": [],
   "source": [
    "full_reviewsum=[]"
   ]
  },
  {
   "cell_type": "code",
   "execution_count": 65,
   "id": "20d81b48",
   "metadata": {},
   "outputs": [],
   "source": [
    "# first 100 product price from first 4 pages \n",
    "for page in range(1,11):\n",
    "    full_sum_tag=driver2.find_elements(By.XPATH,'//div[@class=\"t-ZTKy\"]/div/div')\n",
    "    for i in full_sum_tag:\n",
    "\n",
    "        full_reviewsum.append(i.text)\n",
    "    next_button=driver2.find_element(By.CLASS_NAME,\"_1LKTO3\")\n",
    "    next_button.click()\n",
    "    time.sleep(3)\n",
    "    full_sum_tag=driver2.find_elements(By.XPATH,'//div[@class=\"t-ZTKy\"]/div/div')\n",
    "#print(full_reviewsum)"
   ]
  },
  {
   "cell_type": "code",
   "execution_count": 69,
   "id": "a0cf66e0",
   "metadata": {},
   "outputs": [
    {
     "data": {
      "text/plain": [
       "100"
      ]
     },
     "execution_count": 69,
     "metadata": {},
     "output_type": "execute_result"
    }
   ],
   "source": [
    "len(full_reviewsum)"
   ]
  },
  {
   "cell_type": "code",
   "execution_count": 72,
   "id": "df8e6598",
   "metadata": {},
   "outputs": [],
   "source": [
    "dfflipkartiphone=pd.DataFrame({'Rating':ratingIphone,'Review Summary':review_sum,'Full Review Summary':full_reviewsum})"
   ]
  },
  {
   "cell_type": "code",
   "execution_count": 73,
   "id": "b41ed63d",
   "metadata": {},
   "outputs": [
    {
     "data": {
      "text/html": [
       "<div>\n",
       "<style scoped>\n",
       "    .dataframe tbody tr th:only-of-type {\n",
       "        vertical-align: middle;\n",
       "    }\n",
       "\n",
       "    .dataframe tbody tr th {\n",
       "        vertical-align: top;\n",
       "    }\n",
       "\n",
       "    .dataframe thead th {\n",
       "        text-align: right;\n",
       "    }\n",
       "</style>\n",
       "<table border=\"1\" class=\"dataframe\">\n",
       "  <thead>\n",
       "    <tr style=\"text-align: right;\">\n",
       "      <th></th>\n",
       "      <th>Rating</th>\n",
       "      <th>Review Summary</th>\n",
       "      <th>Full Review Summary</th>\n",
       "    </tr>\n",
       "  </thead>\n",
       "  <tbody>\n",
       "    <tr>\n",
       "      <th>0</th>\n",
       "      <td>5</td>\n",
       "      <td>Best in the market!</td>\n",
       "      <td>Good Camera</td>\n",
       "    </tr>\n",
       "    <tr>\n",
       "      <th>1</th>\n",
       "      <td>5</td>\n",
       "      <td>Classy product</td>\n",
       "      <td>Camera is awesome\\nBest battery backup\\nA perf...</td>\n",
       "    </tr>\n",
       "    <tr>\n",
       "      <th>2</th>\n",
       "      <td>5</td>\n",
       "      <td>Worth every penny</td>\n",
       "      <td>Feeling awesome after getting the delivery of ...</td>\n",
       "    </tr>\n",
       "    <tr>\n",
       "      <th>3</th>\n",
       "      <td>5</td>\n",
       "      <td>Fabulous!</td>\n",
       "      <td>This is amazing at all</td>\n",
       "    </tr>\n",
       "    <tr>\n",
       "      <th>4</th>\n",
       "      <td>5</td>\n",
       "      <td>Wonderful</td>\n",
       "      <td>Super🔥 and good performance 👌❤️</td>\n",
       "    </tr>\n",
       "    <tr>\n",
       "      <th>...</th>\n",
       "      <td>...</td>\n",
       "      <td>...</td>\n",
       "      <td>...</td>\n",
       "    </tr>\n",
       "    <tr>\n",
       "      <th>95</th>\n",
       "      <td>5</td>\n",
       "      <td>Excellent</td>\n",
       "      <td>NYC</td>\n",
       "    </tr>\n",
       "    <tr>\n",
       "      <th>96</th>\n",
       "      <td>5</td>\n",
       "      <td>Fabulous!</td>\n",
       "      <td>It’s very good battery life and display and vi...</td>\n",
       "    </tr>\n",
       "    <tr>\n",
       "      <th>97</th>\n",
       "      <td>5</td>\n",
       "      <td>Terrific purchase</td>\n",
       "      <td>Value for money 🖤🖤</td>\n",
       "    </tr>\n",
       "    <tr>\n",
       "      <th>98</th>\n",
       "      <td>5</td>\n",
       "      <td>Must buy!</td>\n",
       "      <td>Go for iPhone 11 , if confused between iPhone ...</td>\n",
       "    </tr>\n",
       "    <tr>\n",
       "      <th>99</th>\n",
       "      <td>5</td>\n",
       "      <td>Highly recommended</td>\n",
       "      <td>Awesome Battery Life...Camera clarity is too g...</td>\n",
       "    </tr>\n",
       "  </tbody>\n",
       "</table>\n",
       "<p>100 rows × 3 columns</p>\n",
       "</div>"
      ],
      "text/plain": [
       "   Rating       Review Summary  \\\n",
       "0       5  Best in the market!   \n",
       "1       5       Classy product   \n",
       "2       5    Worth every penny   \n",
       "3       5            Fabulous!   \n",
       "4       5            Wonderful   \n",
       "..    ...                  ...   \n",
       "95      5            Excellent   \n",
       "96      5            Fabulous!   \n",
       "97      5    Terrific purchase   \n",
       "98      5            Must buy!   \n",
       "99      5   Highly recommended   \n",
       "\n",
       "                                  Full Review Summary  \n",
       "0                                         Good Camera  \n",
       "1   Camera is awesome\\nBest battery backup\\nA perf...  \n",
       "2   Feeling awesome after getting the delivery of ...  \n",
       "3                              This is amazing at all  \n",
       "4                     Super🔥 and good performance 👌❤️  \n",
       "..                                                ...  \n",
       "95                                                NYC  \n",
       "96  It’s very good battery life and display and vi...  \n",
       "97                                 Value for money 🖤🖤  \n",
       "98  Go for iPhone 11 , if confused between iPhone ...  \n",
       "99  Awesome Battery Life...Camera clarity is too g...  \n",
       "\n",
       "[100 rows x 3 columns]"
      ]
     },
     "execution_count": 73,
     "metadata": {},
     "output_type": "execute_result"
    }
   ],
   "source": [
    "dfflipkartiphone"
   ]
  },
  {
   "cell_type": "code",
   "execution_count": null,
   "id": "1254c852",
   "metadata": {},
   "outputs": [],
   "source": []
  },
  {
   "cell_type": "markdown",
   "id": "7a3063df",
   "metadata": {},
   "source": [
    "Q4: Scrape data forfirst 100 sneakers you find whenyouvisitflipkart.com and search for “sneakers” inthe search\n",
    "field.\n",
    "You have to scrape 3 attributes of each sneaker:\n",
    "1. Brand\n",
    "2. ProductDescription\n",
    "3. Price"
   ]
  },
  {
   "cell_type": "code",
   "execution_count": 82,
   "id": "1553a77f",
   "metadata": {},
   "outputs": [],
   "source": [
    "driver3=webdriver.Chrome()"
   ]
  },
  {
   "cell_type": "code",
   "execution_count": 83,
   "id": "ba119c3d",
   "metadata": {},
   "outputs": [],
   "source": [
    "driver3.get('https://www.flipkart.com/')"
   ]
  },
  {
   "cell_type": "code",
   "execution_count": 84,
   "id": "7257307f",
   "metadata": {},
   "outputs": [],
   "source": [
    "search=driver3.find_element(By.XPATH,'/html/body/div[1]/div/div[1]/div/div/div/div/div[1]/div/div[1]/div/div[1]/div[1]/header/div[1]/div[2]/form/div/div/input')\n",
    "search.send_keys('sneakers')"
   ]
  },
  {
   "cell_type": "code",
   "execution_count": 85,
   "id": "b7ad7e9d",
   "metadata": {},
   "outputs": [],
   "source": [
    "brand_sneak=[]\n",
    "\n"
   ]
  },
  {
   "cell_type": "code",
   "execution_count": 86,
   "id": "8950882d",
   "metadata": {},
   "outputs": [
    {
     "name": "stdout",
     "output_type": "stream",
     "text": [
      "['BRUTON', 'BRUTON', 'URBANBOX', 'Deals4you', 'RED TAPE', 'PUMA', 'BRUTON', 'aadi', 'TREKIST', 'BIRDE', 'BRUTON', 'BRUTON', 'RED TAPE', 'BIRDE', 'Fizoo', 'BERSACHE', 'ATOM', 'BRUTON', 'RED TAPE', 'Arivo', 'XTREAMFEET', 'RED TAPE', 'RED TAPE', 'Ego by NS', 'Shozie', 'PUMA', 'RED TAPE', 'RED TAPE', 'WOODLAND', 'Layasa', 'RED TAPE', 'RED TAPE', 'U.S. POLO ASSN.', 'BIRDE', 'PUMA', 'VENDOZ', 'RED TAPE', 'RED TAPE', 'VENDOZ', 'PUMA', 'Field Care', 'Picaaso', 'DUCATI', 'PUMA', 'PUMA', 'PUMA', 'BERSACHE', 'BERSACHE', 'PUMA', 'New Balance', 'MOZAFIA', 'Airson', 'Robbie jones', 'PUMA', 'PUMA', 'Abros', 'Abros', 'New Balance', 'aadi', 'PUMA', 'Abros', 'Picaaso', 'CLYMB', 'Abros', 'Skechers', 'New Balance', 'LOUIS STITCH', 'RED TAPE', 'PUMA', 'PUMA', 'Abros', 'Abros', 'PUMA', 'PUMA', 'UNDER ARMOUR', 'Deals4you', 'ADIDAS', 'RED TAPE', 'asian', 'WOODLAND', 'UNDER ARMOUR', 'UNDER ARMOUR', 'U.S. POLO ASSN.', 'RED TAPE', 'PUMA', 'PUMA', 'Abros', 'MOZAFIA', 'asian', 'HOTSTYLE', 'LOUIS STITCH', 'NIKE', 'PUMA', 'BRUTON', 'U.S. POLO ASSN.', 'RUN SEVEN', 'ADIDAS', 'NIKE', 'Xtoon', 'PUMA']\n"
     ]
    },
    {
     "data": {
      "text/plain": [
       "100"
      ]
     },
     "execution_count": 86,
     "metadata": {},
     "output_type": "execute_result"
    }
   ],
   "source": [
    "import time\n",
    "for page in range(0,5):\n",
    "    brandtag=driver3.find_elements(By.XPATH,'//div[@class=\"_2WkVRV\"]')\n",
    "    for i in brandtag[0:20]:\n",
    "        brand_sneak.append(i.text)\n",
    "    next_button=driver3.find_element(By.XPATH,'//*[@id=\"container\"]/div/div[3]/div[1]/div[2]/div[12]/div/div/nav/a[11]')\n",
    "    next_button.click()\n",
    "    time.sleep(3)\n",
    "#snek=brand_sneak[0:100]\n",
    "print(brand_sneak)\n",
    "len(brand_sneak)"
   ]
  },
  {
   "cell_type": "code",
   "execution_count": null,
   "id": "3ca1fe4f",
   "metadata": {},
   "outputs": [],
   "source": []
  },
  {
   "cell_type": "code",
   "execution_count": 87,
   "id": "a7cec24c",
   "metadata": {},
   "outputs": [
    {
     "name": "stdout",
     "output_type": "stream",
     "text": [
      "['574 Sneakers For Men', 'Sneakers For Men', 'TIGER RUNNER II Sneakers For Men', 'NEW OGIY RETRO SHOES HIGH PREMIUM QUALITY WOMEN MEN KID...', 'Sneakers For Men', 'OG 85 Sneakers For Women', 'TIGER RUNNER II Sneakers For Men', '2003-NAAVY-6 Sneakers For Men', 'Casual Sneaker Shoes For Women | Stylish and Comfortabl...', 'Casual Shoes Sneakers For Women', 'Stylish Casual Sports Shoe Sneakers Training & Gym Shoe...', 'NEO MOTORSPORT Sneakers For Men', 'GRAND COURT BASE 3.0 M Sneakers For Men', 'Future Rider New Core Sneakers For Men', 'Casual Sneaker For Men | Soft Cushion Insole, Dynamic F...', 'Rider FV \"Future Vintage\" Sneakers For Men', 'R78 Sneakers For Men', 'Oricum Lightweight Casual Shoes with High Quality Sole ...', 'Rickie Classic Sneakers For Men', 'URBAN CHUNKY Sneakers For Men', '574 Sneakers For Men', 'Sneakers For Men', 'TIGER RUNNER II Sneakers For Men', 'NEW OGIY RETRO SHOES HIGH PREMIUM QUALITY WOMEN MEN KID...', 'Sneakers For Men', 'OG 85 Sneakers For Women', 'TIGER RUNNER II Sneakers For Men', '2003-NAAVY-6 Sneakers For Men', 'Casual Sneaker Shoes For Women | Stylish and Comfortabl...', 'Casual Shoes Sneakers For Women', 'Stylish Casual Sports Shoe Sneakers Training & Gym Shoe...', 'NEO MOTORSPORT Sneakers For Men', 'GRAND COURT BASE 3.0 M Sneakers For Men', 'Future Rider New Core Sneakers For Men', 'Casual Sneaker For Men | Soft Cushion Insole, Dynamic F...', 'Rider FV \"Future Vintage\" Sneakers For Men', 'R78 Sneakers For Men', 'Oricum Lightweight Casual Shoes with High Quality Sole ...', 'Rickie Classic Sneakers For Men', 'URBAN CHUNKY Sneakers For Men', '574 Sneakers For Men', 'Sneakers For Men', 'TIGER RUNNER II Sneakers For Men', 'NEW OGIY RETRO SHOES HIGH PREMIUM QUALITY WOMEN MEN KID...', 'Sneakers For Men', 'OG 85 Sneakers For Women', 'TIGER RUNNER II Sneakers For Men', '2003-NAAVY-6 Sneakers For Men', 'Casual Sneaker Shoes For Women | Stylish and Comfortabl...', 'Casual Shoes Sneakers For Women', 'Stylish Casual Sports Shoe Sneakers Training & Gym Shoe...', 'NEO MOTORSPORT Sneakers For Men', 'GRAND COURT BASE 3.0 M Sneakers For Men', 'Future Rider New Core Sneakers For Men', 'Casual Sneaker For Men | Soft Cushion Insole, Dynamic F...', 'Rider FV \"Future Vintage\" Sneakers For Men', 'R78 Sneakers For Men', 'Oricum Lightweight Casual Shoes with High Quality Sole ...', 'Rickie Classic Sneakers For Men', 'URBAN CHUNKY Sneakers For Men', '574 Sneakers For Men', 'Sneakers For Men', 'TIGER RUNNER II Sneakers For Men', 'NEW OGIY RETRO SHOES HIGH PREMIUM QUALITY WOMEN MEN KID...', 'Sneakers For Men', 'OG 85 Sneakers For Women', 'TIGER RUNNER II Sneakers For Men', '2003-NAAVY-6 Sneakers For Men', 'Casual Sneaker Shoes For Women | Stylish and Comfortabl...', 'Casual Shoes Sneakers For Women', 'Stylish Casual Sports Shoe Sneakers Training & Gym Shoe...', 'NEO MOTORSPORT Sneakers For Men', 'GRAND COURT BASE 3.0 M Sneakers For Men', 'Future Rider New Core Sneakers For Men', 'Casual Sneaker For Men | Soft Cushion Insole, Dynamic F...', 'Rider FV \"Future Vintage\" Sneakers For Men', 'R78 Sneakers For Men', 'Oricum Lightweight Casual Shoes with High Quality Sole ...', 'Rickie Classic Sneakers For Men', 'URBAN CHUNKY Sneakers For Men', '574 Sneakers For Men', 'Sneakers For Men', 'TIGER RUNNER II Sneakers For Men', 'NEW OGIY RETRO SHOES HIGH PREMIUM QUALITY WOMEN MEN KID...', 'Sneakers For Men', 'OG 85 Sneakers For Women', 'TIGER RUNNER II Sneakers For Men', '2003-NAAVY-6 Sneakers For Men', 'Casual Sneaker Shoes For Women | Stylish and Comfortabl...', 'Casual Shoes Sneakers For Women', 'Stylish Casual Sports Shoe Sneakers Training & Gym Shoe...', 'NEO MOTORSPORT Sneakers For Men', 'GRAND COURT BASE 3.0 M Sneakers For Men', 'Future Rider New Core Sneakers For Men', 'Casual Sneaker For Men | Soft Cushion Insole, Dynamic F...', 'Rider FV \"Future Vintage\" Sneakers For Men', 'R78 Sneakers For Men', 'Oricum Lightweight Casual Shoes with High Quality Sole ...', 'Rickie Classic Sneakers For Men', 'URBAN CHUNKY Sneakers For Men']\n"
     ]
    },
    {
     "data": {
      "text/plain": [
       "100"
      ]
     },
     "execution_count": 87,
     "metadata": {},
     "output_type": "execute_result"
    }
   ],
   "source": [
    "import time\n",
    "brand_desc=[]\n",
    "for page in range(0,5):\n",
    "    sneakdesctag=driver3.find_elements(By.CLASS_NAME,\"IRpwTa\")\n",
    "    for i in sneakdesctag[0:20]:\n",
    "        brand_desc.append(i.text)\n",
    "    next_button=driver3.find_element(By.XPATH,'//*[@id=\"container\"]/div/div[3]/div[1]/div[2]/div[12]/div/div/nav/a[11]')\n",
    "    next_button.click()\n",
    "    time.sleep(3)\n",
    "#snek=brand_sneak[0:100]\n",
    "print(brand_desc)\n",
    "len(brand_desc)"
   ]
  },
  {
   "cell_type": "code",
   "execution_count": 88,
   "id": "9b21dbce",
   "metadata": {},
   "outputs": [
    {
     "name": "stdout",
     "output_type": "stream",
     "text": [
      "['₹5,353', '₹549', '₹3,899', '₹749', '₹1,429', '₹2,929', '₹3,018', '₹362', '₹795', '₹299', '₹415', '₹779', '₹3,167', '₹3,149', '₹1,159', '₹4,319', '₹3,599', '₹632', '₹2,579', '₹967', '₹5,353', '₹549', '₹3,899', '₹749', '₹1,429', '₹2,929', '₹3,018', '₹362', '₹795', '₹299', '₹415', '₹779', '₹3,167', '₹3,149', '₹1,159', '₹4,319', '₹3,599', '₹632', '₹2,579', '₹967', '₹5,353', '₹549', '₹3,899', '₹749', '₹1,429', '₹2,929', '₹3,018', '₹362', '₹795', '₹299', '₹415', '₹779', '₹3,167', '₹3,149', '₹1,159', '₹4,319', '₹3,599', '₹632', '₹2,579', '₹967', '₹5,353', '₹549', '₹3,899', '₹749', '₹1,429', '₹2,929', '₹3,018', '₹362', '₹795', '₹299', '₹415', '₹779', '₹3,167', '₹3,149', '₹1,159', '₹4,319', '₹3,599', '₹632', '₹2,579', '₹967', '₹5,353', '₹549', '₹3,899', '₹749', '₹1,429', '₹2,929', '₹3,018', '₹362', '₹795', '₹299', '₹415', '₹779', '₹3,167', '₹3,149', '₹1,159', '₹4,319', '₹3,599', '₹632', '₹2,579', '₹967']\n"
     ]
    },
    {
     "data": {
      "text/plain": [
       "100"
      ]
     },
     "execution_count": 88,
     "metadata": {},
     "output_type": "execute_result"
    }
   ],
   "source": [
    "import time\n",
    "price_sneak=[]\n",
    "for page in range(0,5):\n",
    "    pricetag=driver3.find_elements(By.XPATH,'//div[@class=\"_25b18c\"]/div[1]')\n",
    "    for i in pricetag[0:20]:\n",
    "        price_sneak.append(i.text)\n",
    "    next_button=driver3.find_element(By.XPATH,'//*[@id=\"container\"]/div/div[3]/div[1]/div[2]/div[12]/div/div/nav/a[11]')\n",
    "    next_button.click()\n",
    "    time.sleep(3)\n",
    "#snek=brand_sneak[0:100]\n",
    "print(price_sneak)\n",
    "len(price_sneak)"
   ]
  },
  {
   "cell_type": "code",
   "execution_count": 89,
   "id": "be3f14b9",
   "metadata": {},
   "outputs": [
    {
     "name": "stdout",
     "output_type": "stream",
     "text": [
      "   Sneaker_Brand                                Sneaker_Description  \\\n",
      "0         BRUTON                               574 Sneakers For Men   \n",
      "1         BRUTON                                   Sneakers For Men   \n",
      "2       URBANBOX                   TIGER RUNNER II Sneakers For Men   \n",
      "3      Deals4you  NEW OGIY RETRO SHOES HIGH PREMIUM QUALITY WOME...   \n",
      "4       RED TAPE                                   Sneakers For Men   \n",
      "..           ...                                                ...   \n",
      "95     RUN SEVEN         Rider FV \"Future Vintage\" Sneakers For Men   \n",
      "96        ADIDAS                               R78 Sneakers For Men   \n",
      "97          NIKE  Oricum Lightweight Casual Shoes with High Qual...   \n",
      "98         Xtoon                    Rickie Classic Sneakers For Men   \n",
      "99          PUMA                      URBAN CHUNKY Sneakers For Men   \n",
      "\n",
      "   Sneaker_Price  \n",
      "0         ₹5,353  \n",
      "1           ₹549  \n",
      "2         ₹3,899  \n",
      "3           ₹749  \n",
      "4         ₹1,429  \n",
      "..           ...  \n",
      "95        ₹4,319  \n",
      "96        ₹3,599  \n",
      "97          ₹632  \n",
      "98        ₹2,579  \n",
      "99          ₹967  \n",
      "\n",
      "[100 rows x 3 columns]\n"
     ]
    }
   ],
   "source": [
    "dfsneak=pd.DataFrame({'Sneaker_Brand':brand_sneak,'Sneaker_Description':brand_desc,'Sneaker_Price':price_sneak})\n",
    "print(dfsneak)"
   ]
  },
  {
   "cell_type": "code",
   "execution_count": null,
   "id": "b67e56b6",
   "metadata": {},
   "outputs": [],
   "source": []
  },
  {
   "cell_type": "markdown",
   "id": "0d962bfc",
   "metadata": {},
   "source": [
    "Q5: Go to webpage https://www.amazon.in/ Enter “Laptop” in the search field and then click the search icon. Then set CPU\n",
    "Type filter to “Intel Core i7” as shown in the below image:\n",
    "Aftersetting the filters scrape first 10 laptops data. You have to scrape 3 attributes for each laptop:\n",
    "1. Title\n",
    "2. Ratings\n",
    "3. Price"
   ]
  },
  {
   "cell_type": "code",
   "execution_count": 106,
   "id": "a5075ee4",
   "metadata": {},
   "outputs": [],
   "source": [
    "driver4=webdriver.Chrome()"
   ]
  },
  {
   "cell_type": "code",
   "execution_count": 107,
   "id": "ecc9cac9",
   "metadata": {},
   "outputs": [],
   "source": [
    "driver4.get('https://www.amazon.in/')"
   ]
  },
  {
   "cell_type": "code",
   "execution_count": 108,
   "id": "96495080",
   "metadata": {},
   "outputs": [],
   "source": [
    "search=driver4.find_element(By.XPATH,'/html/body/div[1]/header/div/div[1]/div[2]/div/form/div[2]/div[1]/input')\n",
    "search.send_keys('Laptop')"
   ]
  },
  {
   "cell_type": "code",
   "execution_count": 143,
   "id": "bb35bec3",
   "metadata": {},
   "outputs": [
    {
     "name": "stdout",
     "output_type": "stream",
     "text": [
      "['(Refurbished) Lenovo ThinkPad T14 Intel Core i7 10th Gen 14-inch Full HD Laptop (16GB RAM/ 512GB SSD/ Windows 10 Pro/ Black/2 GB Graphics / 1.55 kg), 20S0S1MC00', '(Renewed) Lenovo Legion Y740 Intel 9th Gen Core i7 15.6-Inch (39.62 cms) 1920 x 1080 (Full HD) Laptop (16 GB/1TB SSD/Windows 10 Home/MS Office /NVIDIA GeForce RTX 2060/Black/2.2 Kg), 81UH006YIN', 'Lenovo IdeaPad Slim 3 Intel Core i7 12th Gen 15.6 inch (39.62cm) FHD Thin & Light Laptop (16GB/512GB SSD/Windows 11/Office 2021/3months Game Pass/Arctic Grey/1.63Kg), 82RK011EIN', 'MSI Modern 14, Intel 12th Gen. i7-1255U, 36CM FHD 60Hz Laptop (16GB/512GB NVMe SSD/Windows 11 Home/Intel Iris Xe Graphics/Classic Black/1.4Kg), C12M-459IN', 'ASUS TUF Gaming F15, 15.6\"(39.62 cms) FHD 144Hz, Intel Core i7-11800H 11th Gen, 4GB NVIDIA GeForce RTX 3050 Ti, Gaming Laptop (16GB/1TB SSD/Win 11/MSO/90WHrs Battery/Black/2.30 Kg), FX506HE-HN385WS', 'Acer Travelmate Business Laptop Intel Core i7-11th Gen (Windows 11 Home/16 GB Ram/1TB SSD/Intel Iris Xe Graphics/14.0 IPS Display/Backlit Keyboard/Fingerprint Sensor) TMP214-53', 'HP OMEN Gaming Laptop, Intel Core i7-14700HX (14th Gen), 8GB RTX 4060 GPU(140W), 16.1-inch (40.9 cm) FHD IPS 165Hz 300 nits, 16GB DDR5, 1TB SSD, RGB Backlit KB (Win 11, MSO, Black, 2.32 kg), wf1025TX', 'Dell Inspiron 5430 Laptop, 13th Gen Intel Core i7-1360P Processor/16GB/1TB SSD/14.0\" (35.56cm) FHD+ WVA 250 nits/Backlit KB + FPR/Win 11 + MSO\\'21/15 Month McAfee/Platinum Silver/Thin & Light- 1.59kg', 'HP Laptop 15s, 12th Gen Intel Core i7-1255U, 15.6-inch (39.6 cm), FHD, 16GB DDR4, 512GB SSD, Intel Iris Xe Graphics, Backlit KB, Thin & Light (Win 11, MSO 2021, Silver, 1.69 kg), fq5190TU', 'HP Pavilion X360 11th Gen Intel Core i7 14\" (35.6cm) FHD Multitouch 2in1 Laptop (16Gb Ram/512Gb Ssd/B&O/Win 11 Home/FPR/Backlit Kb/Intel Iris Xe Graphics/Pen/Alexa/Ms Office/Silver/1.52Kg)14-Dy1047Tu']\n"
     ]
    },
    {
     "data": {
      "text/plain": [
       "10"
      ]
     },
     "execution_count": 143,
     "metadata": {},
     "output_type": "execute_result"
    }
   ],
   "source": [
    "import time\n",
    "Laptop_title=[]\n",
    "#for page in range(0,5):\n",
    "laptitletag=driver4.find_elements(By.XPATH,'//h2[@class=\"a-size-mini a-spacing-none a-color-base s-line-clamp-2\"]/a/span')\n",
    "for i in laptitletag[0:10]:\n",
    "    \n",
    "    Laptop_title.append(i.text)\n",
    "#next_button=driver4.find_element(By.CSS_SELECTOR, \".s-pagination-item.s-pagination-next.s-pagination-button.s-pagination-separator\")\n",
    "#next_button.click()\n",
    "#time.sleep(3)\n",
    "   # laptitletag=driver4.find_elements(By.XPATH,'//h2[@class=\"a-size-mini a-spacing-none a-color-base s-line-clamp-2\"]/a/span')\n",
    "#snek=brand_sneak[0:100]\n",
    "print(Laptop_title)\n",
    "len(Laptop_title)"
   ]
  },
  {
   "cell_type": "code",
   "execution_count": 144,
   "id": "6b19f480",
   "metadata": {},
   "outputs": [
    {
     "name": "stdout",
     "output_type": "stream",
     "text": [
      "['63,110', '64,882', '62,400', '49,990', '74,990', '1,19,990', '49,990', '1,57,900', '83,490', '62,490']\n"
     ]
    },
    {
     "data": {
      "text/plain": [
       "10"
      ]
     },
     "execution_count": 144,
     "metadata": {},
     "output_type": "execute_result"
    }
   ],
   "source": [
    "import time\n",
    "Laptop_price=[]\n",
    "#for page in range(0,5):\n",
    "pricetag=driver4.find_elements(By.CSS_SELECTOR, \".a-price-whole\")\n",
    "for i in pricetag[0:10]:\n",
    "    \n",
    "    Laptop_price.append(i.text)\n",
    "    #next_button=driver4.find_element(By.CSS_SELECTOR, \".s-pagination-item.s-pagination-next.s-pagination-button.s-pagination-separator\")\n",
    "    #next_button.click()\n",
    "    #time.sleep(3)\n",
    "   # laptitletag=driver4.find_elements(By.XPATH,'//h2[@class=\"a-size-mini a-spacing-none a-color-base s-line-clamp-2\"]/a/span')\n",
    "#snek=brand_sneak[0:100]\n",
    "print(Laptop_price)\n",
    "len(Laptop_price)"
   ]
  },
  {
   "cell_type": "code",
   "execution_count": 142,
   "id": "785c0ecc",
   "metadata": {},
   "outputs": [
    {
     "name": "stdout",
     "output_type": "stream",
     "text": [
      "['', '', '', '', '', '', '', '', '', '', '', '', '', '', '', '', '', '', '', '', '', '', '']\n"
     ]
    },
    {
     "data": {
      "text/plain": [
       "23"
      ]
     },
     "execution_count": 142,
     "metadata": {},
     "output_type": "execute_result"
    }
   ],
   "source": [
    "import time\n",
    "Laptop_rating=[]\n",
    "#for page in range(0,5):\n",
    "ratingtag=driver4.find_elements(By.XPATH, '//a[@class=\"a-popover-trigger a-declarative\"]/i/span')\n",
    "for i in ratingtag:\n",
    "    \n",
    "    Laptop_rating.append(i.text)\n",
    "#next_button=driver4.find_element(By.CSS_SELECTOR, \".s-pagination-item.s-pagination-next.s-pagination-button.s-pagination-separator\")\n",
    "#next_button.click()\n",
    "#time.sleep(3)\n",
    "   # laptitletag=driver4.find_elements(By.XPATH,'//h2[@class=\"a-size-mini a-spacing-none a-color-base s-line-clamp-2\"]/a/span')\n",
    "#snek=brand_sneak[0:100]\n",
    "print(Laptop_rating)\n",
    "#len(Laptop_rating)"
   ]
  },
  {
   "cell_type": "code",
   "execution_count": 146,
   "id": "eb738586",
   "metadata": {},
   "outputs": [
    {
     "name": "stdout",
     "output_type": "stream",
     "text": [
      "                                        Laptop_Title     Price\n",
      "0  (Refurbished) Lenovo ThinkPad T14 Intel Core i...    63,110\n",
      "1  (Renewed) Lenovo Legion Y740 Intel 9th Gen Cor...    64,882\n",
      "2  Lenovo IdeaPad Slim 3 Intel Core i7 12th Gen 1...    62,400\n",
      "3  MSI Modern 14, Intel 12th Gen. i7-1255U, 36CM ...    49,990\n",
      "4  ASUS TUF Gaming F15, 15.6\"(39.62 cms) FHD 144H...    74,990\n",
      "5  Acer Travelmate Business Laptop Intel Core i7-...  1,19,990\n",
      "6  HP OMEN Gaming Laptop, Intel Core i7-14700HX (...    49,990\n",
      "7  Dell Inspiron 5430 Laptop, 13th Gen Intel Core...  1,57,900\n",
      "8  HP Laptop 15s, 12th Gen Intel Core i7-1255U, 1...    83,490\n",
      "9  HP Pavilion X360 11th Gen Intel Core i7 14\" (3...    62,490\n"
     ]
    }
   ],
   "source": [
    "dflaptop=pd.DataFrame({'Laptop_Title':Laptop_title,'Price':Laptop_price})\n",
    "print(dflaptop)"
   ]
  },
  {
   "cell_type": "code",
   "execution_count": null,
   "id": "e25f7b58",
   "metadata": {},
   "outputs": [],
   "source": []
  },
  {
   "cell_type": "markdown",
   "id": "8df109e7",
   "metadata": {},
   "source": [
    "Q6: Write a python program to scrape data for Top 1000 Quotes of All Time.\n",
    "The above task will be done in following steps:\n",
    "1. First get the webpage https://www.azquotes.com/\n",
    "2. Click on TopQuote\n",
    "3. Than scrap a)Quote b) Author c) Type Of Quotes"
   ]
  },
  {
   "cell_type": "code",
   "execution_count": null,
   "id": "e7ac1a8d",
   "metadata": {},
   "outputs": [],
   "source": []
  },
  {
   "cell_type": "code",
   "execution_count": 3,
   "id": "83bcdee9",
   "metadata": {},
   "outputs": [],
   "source": [
    "driver5=webdriver.Chrome()"
   ]
  },
  {
   "cell_type": "code",
   "execution_count": 4,
   "id": "31a46464",
   "metadata": {},
   "outputs": [],
   "source": [
    "driver5.get('https://www.azquotes.com/')"
   ]
  },
  {
   "cell_type": "code",
   "execution_count": 21,
   "id": "140b7f3b",
   "metadata": {},
   "outputs": [
    {
     "name": "stdout",
     "output_type": "stream",
     "text": [
      "['The essence of strategy is choosing what not to do.', 'One cannot and must not try to erase the past merely because it does not fit the present.', 'Patriotism means to stand by the country. It does not mean to stand by the president.', 'Death is something inevitable. When a man has done what he considers to be his duty to his people and his country, he can rest in peace. I believe I have made that effort and that is, therefore, why I will sleep for the eternity.', 'You have to love a nation that celebrates its independence every July 4, not with a parade of guns, tanks, and soldiers who file by the White House in a show of strength and muscle, but with family picnics where kids throw Frisbees, the potato salad gets iffy, and the flies die from happiness. You may think you have overeaten, but it is patriotism.', 'Be more concerned with your character than your reputation, because your character is what you really are, while your reputation is merely what others think you are.', 'Weak people revenge. Strong people forgive. Intelligent People Ignore.', \"A mind is like a parachute. It doesn't work if it is not open.\", 'Never be afraid to raise your voice for honesty and truth and compassion against injustice and lying and greed. If people all over the world...would do this, it would change the earth.', 'There are three kinds of men. The one that learns by reading. The few who learn by observation. The rest of them have to pee on the electric fence for themselves.', \"A strong nation, like a strong person, can afford to be gentle, firm, thoughtful, and restrained. It can afford to extend a helping hand to others. It's a weak nation, like a weak person, that must behave with bluster and boasting and rashness and other signs of insecurity.\", 'The difference between stupidity and genius is that genius has its limits.', 'We the people are the rightful masters of both Congress and the courts, not to overthrow the Constitution but to overthrow the men who pervert the Constitution.', 'With or without religion, you would have good people doing good things and evil people doing evil things. But for good people to do evil things, that takes religion.', 'Human kindness has never weakened the stamina or softened the fiber of a free people. A nation does not have to be cruel to be tough.', 'A person who never made a mistake never tried anything new.', 'My mission in life is not merely to survive, but to thrive; and to do so with some passion, some compassion, some humor, and some style', 'Life is short, Break the Rules. Forgive quickly, Kiss slowly. Love truly. Laugh uncontrollably And never regret ANYTHING That makes you smile.', 'This country will not be a good place for any of us to live in unless we make it a good place for all of us to live in.', 'In a world filled with hate, we must still dare to hope. In a world filled with anger, we must still dare to comfort. In a world filled with despair, we must still dare to dream. And in a world filled with distrust, we must still dare to believe.', 'Darkness cannot drive out darkness; only light can do that. Hate cannot drive out hate; only love can do that.', 'To be a Christian means to forgive the inexcusable because God has forgiven the inexcusable in you.', 'A man who is good enough to shed his blood for the country is good enough to be given a square deal afterwards.', 'Kindness is the language which the deaf can hear and the blind can see.', 'Most folks are as happy as they make up their minds to be.', 'A happy marriage is the union of two good forgivers.', 'I believe in Christianity as I believe that the sun has risen: not only because I see it, but because by it I see everything else.', 'Politics is the art of looking for trouble, finding it everywhere, diagnosing it incorrectly and applying the wrong remedies.', \"I believe in everything until it's disproved. So I believe in fairies, the myths, dragons. It all exists, even if it's in your mind. Who's to say that dreams and nightmares aren't as real as the here and now?\", 'At the end of your life, you will never regret not having passed one more test, not winning one more verdict or not closing one more deal. You will regret time not spent with a husband, a friend, a child, or a parent.', 'I never think of the future - it comes soon enough.', \"Our greatest fear should not be of failure but of succeeding at things in life that don't really matter.\", 'Failure is simply the opportunity to begin again, this time more intelligently.', 'Music expresses that which cannot be put into words.', 'Good actions are a guard against the blows of adversity.', 'Positive thinking will let you do everything better than negative thinking will.', \"You have enemies? Good. That means you've stood up for something, sometime in your life.\", \"You don't have to be great to start, but you have to start to be great\", 'Let every nation know, whether it wishes us well or ill, that we shall pay any price, bear any burden, meet any hardship, support any friend, oppose any foe to assure the survival and the success of liberty.', \"If you want total security, go to prison. There you're fed, clothed, given medical care and so on. The only thing lacking... is freedom.\", 'Socialism is a philosophy of failure, the creed of ignorance, and the gospel of envy, its inherent virtue is the equal sharing of misery.', 'It is the supreme art of the teacher to awaken joy in creative expression and knowledge.', \"Once you replace negative thoughts with positive ones, you'll start having positive results.\", \"You build on failure. You use it as a stepping stone. Close the door on the past. You don't try to forget the mistakes, but you don't dwell on it. You don't let it have any of your energy, or any of your time, or any of your space.\", 'All my life through, the new sights of Nature made me rejoice like a child.', \"I've learned that people will forget what you said, people will forget what you did, but people will never forget how you made them feel.\", 'Marriage is not a ritual or an end. It is a long, intricate, intimate dance together and nothing matters more than your own sense of balance and your choice of partner.', 'When obstacles arise, you change your direction to reach your goal; you do not change your decision to get there.', 'Time you enjoy wasting, was not wasted.', 'The next time some academics tell you how important diversity is, ask how many Republicans there are in their sociology department.', 'Faith is not the belief that God will do what you want. It is the belief that God will do what is right.', \"If you can't fly then run, if you can't run then walk, if you can't walk then crawl, but whatever you do you have to keep moving forward.\", 'It is hard to imagine a more stupid or more dangerous way of making decisions than by putting those decisions in the hands of people who pay no price for being wrong.', 'I say that the most liberating thing about beauty is realizing that you are the beholder.', 'The ultimate measure of a man is not where he stands in moments of comfort and convenience, but where he stands at times of challenge and controversy.', 'The soldier, above all other people, prays for peace, for he must suffer and bear the deepest wounds and scars of war.', 'A true leader has the confidence to stand alone, the courage to make tough decisions, and the compassion to listen to the needs of others. He does not set out to be a leader, but becomes one by the equality of his actions and the integrity of his intent.', 'I am a Soldier, I fight where I am told, and I win where I fight.', \"Trying to do the Lord's work in your own strength is the most confusing, exhausting, and tedious of all work. But when you are filled with the Holy Spirit, then the ministry of Jesus just flows out of you.\", \"Sports for me is when a guy walks off the court, and you really can't tell whether he won or lost, when he carries himself with pride either way.\", 'Expect the best. Prepare for the worst. Capitalize on what comes.', 'I became insane, with long intervals of horrible sanity.', 'Failure is a detour, not a dead-end street.', 'I am not a product of my circumstances. I am a product of my decisions.', 'You can cut all the flowers but you cannot keep spring from coming.', \"Life doesn't run away from nobody. Life runs at people.\", 'In order to succeed, your desire for success should be greater than your fear of failure.', \"It's difficult to think anything but pleasant thoughts while eating a homegrown tomato.\", 'Too many of us are not living our dreams because we are living our fears.', 'If the only prayer you ever say in your entire life is thank you, it will be enough.', \"It's just a job. Grass grows, birds fly, waves pound the sand. I beat people up.\", 'A man must be big enough to admit his mistakes, smart enough to profit from them, and strong enough to correct them.', 'Our greatest weakness lies in giving up. The most certain way to succeed is always to try just one more time.', \"It has been said, 'time heals all wounds.' I do not agree. The wounds remain. In time, the mind, protecting its sanity, covers them with scar tissue and the pain lessens. But it is never gone.\", 'This is one small step for a man, one giant leap for mankind.', \"I have held many things in my hands, and I have lost them all; but whatever I have placed in God's hands, that I still possess.\", \"Welfare's purpose should be to eliminate, as far as possible, the need for its own existence.\", 'Each time, before you intercede, be quiet first, and worship God in His glory. Think of what He can do, and how He delights to hear the prayers of His redeemed people. Think of your place and privilege in Christ, and expect great things!', \"Failure is not the opposite of success; it's part of success.\", 'No one has ever become poor by giving.', 'It is not my ability, but my response to God’s ability, that counts.', 'No one is born hating another person because of the color of his skin, or his background, or his religion. People must learn to hate, and if they can learn to hate, they can be taught to love, for love comes more naturally to the human heart than its opposite.', 'No matter what people tell you, words and ideas can change the world.', 'A man should never neglect his family for business.', 'Those who dare to fail miserably can achieve greatly.', 'The two most important days in your life are the day you are born and the day you find out why.', 'We must be global Christians with a global vision because our God is a global God.', 'With everything that has happened to you, you can either feel sorry for yourself or treat what has happened as a gift. Everything is either an opportunity to grow or an obstacle to keep you from growing. You get to choose.', 'Don’t let the noise of others’ opinions drown out your own inner voice.', 'History, despite its wrenching pain, cannot be unlived, but if faced with courage, need not be lived again.', \"How old would you be if you didn't know how old you are?\", 'Leadership is a privilege to better the lives of others. It is not an opportunity to satisfy personal greed.', 'If you have good thoughts they will shine out of your face like sunbeams and you will always look lovely.', 'Never cut a tree down in the wintertime. Never make a negative decision in the low time. Never make your most important decisions when you are in your worst moods. Wait. Be patient. The storm will pass. The spring will come.', 'An optimist stays up until midnight to see the new year in. A pessimist stays up to make sure the old year leaves.', 'When the going gets weird, the weird turn pro.', \"When a train goes through a tunnel and it gets dark, you don't throw away the ticket and jump off. You sit still and trust the engineer.\", 'If you think you are too small to make a difference, try sleeping with a mosquito.', \"God doesn't require us to succeed, he only requires that you try.\", 'Change your thoughts and you change your world.', 'Can words describe the fragrance of the very breath of spring?', 'Faith is to believe what you do not see; the reward of this faith is to see what you believe.', 'When everything seems to be going against you, remember that the airplane takes off against the wind, not with it.', 'I have found that if you love life, life will love you back.', 'To disarm the people... was the best and most effectual way to enslave them.', 'Today a reader, tomorrow a leader.', \"A dream doesn't become reality through magic; it takes sweat, determination and hard work.\", 'Whoever would overthrow the liberty of a nation must begin by subduing the freeness of speech.', \"It's better to be a lion for a day than a sheep all your life.\", 'Resolution One: I will live for God. Resolution Two: If no one else does, I still will.', 'Tell me and I forget. Teach me and I remember. Involve me and I learn.', 'Fear is the main source of superstition, and one of the main sources of cruelty. To conquer fear is the beginning of wisdom.', 'Do not be embarrassed by your failures, learn from them and start again.', 'Everyone should be respected as an individual, but no one idolized.', \"Our worst days are never so bad that you are beyond the reach of God's grace. And your best days are never so good that you are beyond the need of God's grace.\", 'The more you like yourself, the less you are like anyone else, which makes you unique.', 'If there is no struggle, there is no progress.', 'If more of us valued food and cheer and song above hoarded gold, it would be a merrier world.', 'Success consists of going from failure to failure without loss of enthusiasm.', \"Don't aim for success if you want it; just do what you love and believe in, and it will come naturally.\", \"You know why there's a Second Amendment? In case the government fails to follow the first one.\", 'Nothing will work unless you do.', 'There are no secrets to success. It is the result of preparation, hard work, and learning from failure.', 'The hunger for love is much more difficult to remove than the hunger for bread.', 'Love yourself. It is important to stay positive because beauty comes from the inside out.', \"Life's most persistent and urgent question is, 'What are you doing for others?'\", 'Be faithful in small things because it is in them that your strength lies.', 'There is no greater happiness for a man than approaching a door at the end of a day knowing someone on the other side of that door is waiting for the sound of his footsteps.', 'Underlying most arguments against the free market is a lack of belief in freedom itself.', 'I hear and I forget. I see and I remember. I do and I understand.', \"It happens to everyone as they grow up. You find out who you are and what you want, and then you realize that people you've known forever don't see things the way you do. So you keep the wonderful memories, but find yourself moving on.\", 'I have a dream that my four little children will one day live in a nation where they will not be judged by the color of their skin, but by the content of their character.', 'An intelligent hell would be better than a stupid paradise.', 'Never worry about numbers. Help one person at a time and always start with the person nearest you.', 'Run when you can, walk if you have to, crawl if you must; just never give up.', 'If you want others to be happy, practice compassion. If you want to be happy, practice compassion.', \"You are responsible for your life. You can't keep blaming somebody else for your dysfunction. Life is really about moving on.\", \"Don't limit yourself. Many people limit themselves to what they think they can do. You can go as far as your mind lets you. What you believe, remember, you can achieve.\", 'When we lose one blessing, another is often most unexpectedly given in its place.', 'I only regret that I have but one life to lose for my country.', 'The only place success comes before work is in the dictionary.', 'Music was my refuge. I could crawl into the space between the notes and curl my back to loneliness.', 'The greatest enemy to human souls is the self-righteous spirit which makes men look to themselves for salvation.', 'My religion is very simple. My religion is kindness.', 'The Marines I have seen around the world have the cleanest bodies, the filthiest minds, the highest morale, and the lowest morals of any group of animals I have ever seen. Thank God for the United States Marine Corps!', 'With God in charge, I believe everything will work out for the best in the end.', 'A government that robs Peter to pay Paul can always depend on the support of Paul.', \"We can't help everyone, but everyone can help someone.\", \"Tolerance implies no lack of commitment to one's own beliefs. Rather it condemns the oppression or persecution of others.\", 'Worry does not empty tomorrow of its sorrow. It empties today of its strength.', 'Luck is predictable; the harder you work, the luckier you get.', 'Beware of false knowledge; it is more dangerous than ignorance.', 'A successful man is one who can lay a firm foundation with the bricks others have thrown at him.', 'There is no substitute for hard work.', \"When you have a dream, you've got to grab it and never let go.\", 'Whoever said the pen is mightier than the sword obviously never encountered automatic weapons.', 'He is happiest, be he king or peasant, who finds peace in his home.', 'The greatest discovery of all time is that a person can change his future by merely changing his attitude.', 'The size of your success is measured by the strength of your desire; the size of your dream; and how you handle disappointment along the way.', \"The dog is a gentleman; I hope to go to his heaven not man's.\", \"Don't judge each day by the harvest you reap but by the seeds that you plant.\", 'I can be changed by what happens to me. But I refuse to be reduced by it.', 'To acquire knowledge, one must study; but to acquire wisdom, one must observe.', 'No person is your friend who demands your silence, or denies your right to grow.', \"If you can't make it good, at least make it look good.\", 'Love begins by taking care of the closest ones - the ones at home.', 'Our death is not an end if we can live on in our children and the younger generation. For they are us; our bodies are only wilted leaves on the tree of life.', 'All great change in America begins at the dinner table.', 'Winning takes talent; to repeat takes character.', \"Humility is not thinking less of yourself, it's thinking of yourself less.\", 'You are always a student, never a master. You have to keep moving forward.', \"That's the real trouble with the world, too many people grow up.\", 'If we want to find safe alternatives to obstetrics, we must rediscover midwifery. To rediscover midwifery is the same as giving back childbirth to women. And imagine the future if surgical teams were at the service of the midwives and the women instead of controlling them.', 'Women are made to be loved, not understood.', \"Don't wait. The time will never be just right.\", 'One of the greatest diseases is to be nobody to anybody.', 'Real loss is only possible when you love something more than you love yourself.', 'Opportunity is missed by most people because it is dressed in overalls and looks like work.', \"A mother's love for her child is like nothing else in the world. It knows no law, no pity, it dares all things and crushes down remorselessly all that stands in its path.\", 'When a woman becomes her own best friend life is easier.', 'One of the most tragic things I know about human nature is that all of us tend to put off living. We are all dreaming of some magical rose garden over the horizon instead of enjoying the roses that are blooming outside our windows today.', 'If your actions inspire others to dream more, learn more, do more and become more, you are a leader.', 'Children learn more from what you are than what you teach.', 'Optimism is a happiness magnet. If you stay positive, good things and good people will be drawn to you.', \"We cannot be both the world's leading champion of peace and the world's leading supplier of the weapons of war.\", \"Life isn't about finding yourself. Life is about creating yourself.\", 'The only thing worse than being blind is having sight but no vision.', \"I'd rather attempt to do something great and fail than to attempt to do nothing and succeed.\", 'Keep your dreams alive. Understand to achieve anything requires faith and belief in yourself, vision, hard work, determination, and dedication. Remember all things are possible for those who believe.', 'Whatever you want in life, other people are going to want it too. Believe in yourself enough to accept the idea that you have an equal right to it.', 'Even if I knew that tomorrow the world would go to pieces, I would still plant my apple tree.', 'Disciplining yourself to do what you know is right and important, although difficult, is the highroad to pride, self-esteem, and personal satisfaction.', 'All great achievements require time.', 'Success is not the key to happiness. Happiness is the key to success. If you love what you are doing, you will be successful.', 'When one door closes, another opens; but we often look so long and so regretfully upon the closed door that we do not see the one which has opened for us.', 'Discipline is the bridge between goals and accomplishment.', \"Don't find fault, find a remedy.\", \"I used to think the worst thing in life was to end up all alone. It's not. The worst thing in life is to end up with people who make you feel all alone.\", \"Friends and good manners will carry you where money won't go.\", 'If you want to make a permanent change, stop focusing on the size of your problems and start focusing on the size of you!', 'Success is not final, failure is not fatal: it is the courage to continue that counts.', 'A day of worry is more exhausting than a week of work.', 'Strive not to be a success, but rather to be of value.', 'Cancer can take away all of my physical abilities. It cannot touch my mind, it cannot touch my heart, and it cannot touch my soul.', 'Honesty is the first chapter in the book of wisdom.', 'Build your own dreams, or someone else will hire you to build theirs.', 'Intense love does not measure, it just gives.', \"Try to be a rainbow in someone's cloud.\", 'A failure is not always a mistake, it may simply be the best one can do under the circumstances. The real mistake is to stop trying.', 'Whatever we plant in our subconscious mind and nourish with repetition and emotion will one day become a reality.', 'I have decided to stick with love. Hate is too great a burden to bear.', 'All of our dreams can come true...', 'If I were not a physicist, I would probably be a musician. I often think in music. I live my daydreams in music. I see my life in terms of music.', 'Your most unhappy customers are your greatest source of learning.', 'Coming together is a beginning; keeping together is progress; working together is success.', 'Never do anything against conscience even if the state demands it.', 'The future belongs to those who believe in the beauty of their dreams.', 'Baseball was, is and always will be to me the best game in the world.', 'Go for it now. The future is promised to no one.', 'Monsters are real, and ghosts are real too. They live inside us, and sometimes, they win.', \"When you can't make them see the light, make them feel the heat.\", 'Never, never and never again shall it be that this beautiful land will again experience the oppression of one by another.', 'Action may not always bring happiness; but there is no happiness without action.', 'The way to get started is to quit talking and begin doing.', 'The soul always knows what to do to heal itself. The challenge is to silence the mind', 'What can you do to promote world peace? Go home and love your family.', \"You don't have to see the whole staircase, just take the first step.\", 'Our life is what our thoughts make it.', 'Delete the negative; accentuate the positive!', 'Boys, you must strive to find your own voice, because the longer you wait to begin the less likely you are to find it at all.', \"There are two ways of exerting one's strength: one is pushing down, the other is pulling up.\", 'Great minds have purposes; others have wishes.', \"Don't waste a minute not being happy. If one window closes, run to the next window- or break down a door.\", 'A good conscience is a continual Christmas.', \"A mother's arms are more comforting than anyone else's.\", 'Before anything else, preparation is the key to success.', 'Laziness may appear attractive, but work gives satisfaction.', 'Sometimes I am two people. Johnny is the nice one. Cash causes all the trouble. They fight.', 'Yesterday is not ours to recover, but tomorrow is ours to win or lose.', 'It does not matter how slowly you go as long as you do not stop.', 'Leadership is the capacity to translate vision into reality.', 'If you take responsibility for yourself you will develop a hunger to accomplish your dreams.', 'Success is getting what you want. Happiness is wanting what you get.', 'Optimism is the faith that leads to achievement. Nothing can be done without hope and confidence.', 'Success is having to worry about every damn thing in the world, except money.', 'No one remembers who came in second.', 'The object of war is not to die for your country but to make the other bastard die for his.', 'The way I see it, if you want the rainbow, you gotta put up with the rain.', 'Formal education will make you a living; self-education will make you a fortune.', 'A warm smile is the universal language of kindness.', 'To improve is to change; to be perfect is to change often.', \"I, not events, have the power to make me happy or unhappy today. I can choose which it shall be. Yesterday is dead, tomorrow hasn't arrived yet. I have just one day, today, and I'm going to be happy in it.\", \"Don't be pushed by your problems. Be led by your dreams.\", \"Don't wait around for other people to be happy for you. Any happiness you get you've got to make yourself.\", \"Our prime purpose in this life is to help others. And if you can't help them, at least don't hurt them.\", 'The amount of good luck coming your way depends on your willingness to act.', 'How people treat you is their karma; how you react is yours.', \"Be happy in the moment, that's enough. Each moment is all we need, not more.\", 'Live without pretending, love without depending, listen without defending, speak without offending.', \"I believe that everything happens for a reason. People change so that you can learn to let go, things go wrong so that you appreciate them when they're right, you believe lies so you eventually learn to trust no one but yourself, and sometimes good things fall apart so better things can fall together.\", \"Promise me you'll always remember: You're braver than you believe, and stronger than you seem, and smarter than you think.\", \"If winning isn't everything, why do they keep score?\", 'The only person you are destined to become is the person you decide to be.', 'Happiness is not something you postpone for the future; it is something you design for the present.', 'Love is a fruit in season at all times, and within reach of every hand.', \"You may be disappointed if you fail, but you are doomed if you don't try.\", \"My home is in Heaven. I'm just traveling through this world.\", \"Opportunities are usually disguised as hard work, so most people don't recognize them.\", 'History does not long entrust the care of freedom to the weak or the timid.', 'We all have ability. The difference is how we use it.', 'Too often we underestimate the power of a touch, a smile, a kind word, a listening ear, an honest compliment, or the smallest act of caring, all of which have the potential to turn a life around.', 'You know, one day you look at the person and you see something more than you did the night before. Like a switch has been flicked somewhere. And the person who was just a friend is... suddenly the only person you can ever imagine yourself with.', \"Let others lead small lives, but not you. Let others argue over small things, but not you. Let others cry over small hurts, but not you. Let others leave their future in someone else's hands, but not you.\", \"The Marine Corps has just been called by the New York Times, 'The elite of this country.' I think it is the elite of the world.\", \"I didn't fail the test, I just found 100 ways to do it wrong.\", 'Our life is frittered away by detail... simplify, simplify.', 'Strength does not come from physical capacity. It comes from an indomitable will.', 'All successful people, men and women, are big dreamers. They imagine what their future could be, ideal in every respect, and then they work every day toward their distant vision, that goal or purpose.', \"Never limit yourself because of others' limited imagination; never limit others because of your own limited imagination.\", 'Wherever you go, go with all your heart.', \"I wasn't afraid to fail. Something good always comes out of failure.\", 'A life spent making mistakes is not only more honorable, but more useful than a life spent doing nothing.', \"I don't believe you have to be better than everybody else. I believe you have to be better than you ever thought you could be.\", \"How do you tell a communist? Well, it's someone who reads Marx and Lenin. And how do you tell an anti-Communist? It's someone who understands Marx and Lenin.\", 'We can complain because rose bushes have thorns, or rejoice because thorn bushes have roses.', 'Getting over a painful experience is much like crossing monkey bars. You have to let go at some point in order to move forward.', \"I don't know the key to success, but the key to failure is trying to please everybody.\", 'The primary cause of unhappiness is never the situation but your thoughts about it.', 'Only those who will risk going too far can possibly find out how far one can go.', 'To change a habit, make a conscious decision, then act out the new behavior.', \"Don't worry about failure; you only have to be right once.\", \"Your present circumstances don't determine where you can go; they merely determine where you start.\", 'If you are not willing to risk the unusual, you will have to settle for the ordinary.', 'Happiness is when what you think, what you say, and what you do are in harmony.', 'The past cannot be changed. The future is yet in your power.', \"Don't watch the clock; do what it does. Keep going.\", \"Don't wait for extraordinary opportunities. Seize common occasions and make them great. Weak men wait for opportunities; strong men make them.\", \"If you're not careful, the newspapers will have you hating the people who are being oppressed, and loving the people who are doing the oppressing.\", 'I celebrated Thanksgiving in an old-fashioned way. I invited everyone in my neighborhood to my house, we had an enormous feast, and then I killed them and took their land.', \"One of the things I learned the hard way was that it doesn't pay to get discouraged. Keeping busy and making optimism a way of life can restore your faith in yourself.\", \"A dress should be tight enough to show you're a woman and loose enough to prove you're a lady.\", \"Sir, my concern is not whether God is on our side; my greatest concern is to be on God's side, for God is always right.\", 'If you love what you are doing, you will be successful.', 'Patience, persistence and perspiration make an unbeatable combination for success.', 'Christmas is the season of joy, of holiday greetings exchanged, of gift-giving,and of families united.', 'Setting goals is the first step in turning the invisible into the visible.', \"Above all, we must realize that no arsenal, or no weapon in the arsenals of the world, is so formidable as the will and moral courage of free men and women. It is a weapon our adversaries in today's world do not have.\", \"Take chances, make mistakes. That's how you grow. Pain nourishes your courage. You have to fail in order to practice being brave.\", \"Define success on your own terms, achieve it by your own rules, and build a life you're proud to live.\", 'If you judge people, you have no time to love them.', 'A nation that continues year after year to spend more money on military defense than on programs of social uplift is approaching spiritual doom.', \"Take care of your body. It's the only place you have to live.\", 'Only I can change my life. No one can do it for me.', \"Don't give up at half time. Concentrate on winning the second half.\", \"The most important thing is to enjoy your life - to be happy - it's all that matters.\", 'Never let your head hang down. Never give up and sit down and grieve. Find another way.', 'If you fell down yesterday, stand up today.', 'It is not how much we have, but how much we enjoy, that makes happiness.', 'Losers live in the past. Winners learn from the past and enjoy working in the present toward the future.', \"Don't dwell on what went wrong.\\nInstead, focus on what to do next.\\nSpend your energies on moving forward\\ntoward finding the answer.\", 'We must be willing to let go of the life we have planned, so as to have the life that is waiting for us.', 'A mind that is stretched by a new experience can never go back to its old dimensions.', 'The most important thing a father can do for his children is to love their mother.', 'The starting point of all achievement is desire.', 'Pray, and let God worry.', 'Work harder on yourself than you do on your job.', 'Nothing in life is to be feared, it is only to be understood. Now is the time to understand more, so that we may fear less.', \"Set your goals high, and don't stop till you get there.\", \"What is a teacher? I'll tell you: it isn't someone who teaches something, but someone who inspires the student to give of her best in order to discover what she already knows.\", 'Like slavery and apartheid, poverty is not natural. It is man-made and it can be overcome and eradicated by the actions of human beings.', 'Success depends upon previous preparation, and without such preparation there is sure to be failure.', 'We must let go of the life we have planned, so as to accept the one that is waiting for us.', 'A leader is a dealer in hope.', \"You don't learn to walk by following rules. You learn by doing, and by falling over.\", \"A leader takes people where they want to go. A great leader takes people where they don't necessarily want to go, but ought to be.\", 'Belief in oneself is one of the most important bricks in building any successful venture.', 'Experience is simply the name we give our mistakes.', 'The meaning of life is to find your gift. The purpose of life is to give it away.', \"If you are a pop band, don't say you're a metal band. Poison and Warrant were about as metal as the Backstreet Boys.\", 'One person with passion is better than forty people merely interested.', 'Change the changeable, accept the unchangeable, and remove yourself from the unacceptable.', 'I like to see a man proud of the place in which he lives. I like to see a man live so that his place will be proud of him.', \"It's not what you look at that matters, it's what you see.\", \"Life is simple. Everything happens for you, not to you. Everything happens at exactly the right moment, neither too soon nor too late. You don't have to like it... it's just easier if you do.\", \"Hard work spotlights the character of people: some turn up their sleeves, some turn up their noses, and some don't turn up at all.\", 'A leader is one who knows the way, goes the way, and shows the way.', 'Never give up on a dream just because of the time it will take to accomplish it. The time will pass anyway.', 'It is not the employer who pays the wages. Employers only handle the money. It is the customer who pays the wages.', 'Love is friendship that has caught fire. It is quiet understanding, mutual confidence, sharing and forgiving. It is loyalty through good and bad times. It settles for less than perfection and makes allowances for human weaknesses.', 'People grow through experience if they meet life honestly and courageously. This is how character is built.', 'Extraordinary people survive under the most terrible circumstances and they become more extraordinary because of it.', 'It is in your moments of decision that your destiny is shaped.', 'Never go backward. Attempt, and do it with all your might. Determination is power.', \"Successful people are always looking for opportunities to help others. Unsuccessful people are always asking, What's in it for me?\", \"Experience is not what happens to you; it's what you do with what happens to you.\", 'I like to listen. I have learned a great deal from listening carefully. Most people never listen.', 'Defeat is not the worst of failures. Not to have tried is the true failure.', 'Courage is what it takes to stand up and speak; courage is also what it takes to sit down and listen.', 'All truth passes through three stages. First, it is ridiculed. Second, it is violently opposed. Third, it is accepted as being self-evident.', 'For over 221 years our Corps has done two things for this great Nation. We make Marines, and we win battles.', 'I have found the paradox, that if you love until it hurts, there can be no more hurt, only more love.', 'If you set goals and go after them with all the determination you can muster, your gifts will take you places that will amaze you.', 'If you smile when no one else is around, you really mean it.', 'The price of success is hard work, dedication to the job at hand, and the determination that whether we win or lose, we have applied the best of ourselves to the task at hand.', 'Trust is to human relationships what faith is to gospel living. It is the beginning place, the foundation upon which more can be built. Where trust is, love can flourish.', \"Don't go around saying the world owes you a living. The world owes you nothing. It was here first.\", 'Never apologize for showing feeling. When you do so, you apologize for the truth.', 'In the wake of 9/11, my meetings with Arab and Pakistani Americans, for example, have a more urgent quality, for the stories of detentions and FBI questioning and hard stares from neighbors have shaken their sense of security and belonging. They have been reminded that the history of immigration in this country has a dark underbelly; they need specific reassurances that their citizenship really means something, that America has learned the right lessons from the Japanese internments during World War II, and that I will stand with them should the political winds shift in an ugly direction.', 'I have nothing to offer but blood, toil, tears and sweat.', 'Correction does much, but encouragement does more.', 'You change your life by changing your heart.', \"Life is hard; it's harder if you're stupid.\", 'Lead me, follow me, or get out of my way.', 'The Constitution is the guide which I never will abandon.', 'The true secret of happiness lies in taking a genuine interest in all the details of daily life.', 'The deadliest weapon in the world is a MARINE and his rifle!', 'Failure is not fatal, but failure to change might be.', 'After climbing a great hill, one only finds that there are many more hills to climb.', 'The best preparation for good work tomorrow is to do good work today.', 'Blues is easy to play, but hard to feel.', \"I've found that luck is quite predictable. If you want more luck, take more chances. Be more active. Show up more often.\", 'Even if you are on the brink of damnation, even if you have one foot in hell, even if you have sold your soul to the devil as sorcerers do who practice black magic, and even if you are a heretic as obstinate as a devil, sooner or later you will be converted and will amend your life and will save your soul, if-and mark well what I say-if you say the Holy Rosary devoutly every day until death for the purpose of knowing the truth and obtaining contrition and pardon for your sins.', 'Success is falling nine times and getting up ten.', 'The whole purpose of education is to turn mirrors into windows.', 'The nation which forgets its defenders will be itself forgotten.', \"Don't let the fear of losing be greater than the excitement of winning.\", 'Every saint has a past, and every sinner has a future.', \"There is no pit so deep, that God's love is not deeper still.\", 'I am not afraid of storms for I am learning how to sail my ship.', 'There is only one success - to be able to spend your life in your own way.', \"It doesn't take a hero to order men into battle. It takes a hero to be one of those men who goes into battle.\", \"I have not failed. I've just found 10,000 ways that won't work.\", 'Only when we are no longer afraid do we begin to live.', 'Returning violence for violence multiplies violence, adding deeper darkness to a night already devoid of stars.', \"Be a yardstick of quality. Some people aren't used to an environment where excellence is expected.\", 'Risks must be taken because the greatest hazard in life is to risk nothing.', 'He who has never learned to obey cannot be a good commander.', 'Change before you have to.', \"I don't need a friend who changes when I change and who nods when I nod; my shadow does that much better.\", \"You don't get paid for the hour. You get paid for the value you bring to the hour.\", 'The only person who is educated is the one who has learned how to learn and change.', 'Carry out a random act of kindness, with no expectation of reward, safe in the knowledge that one day someone might do the same for you.', \"Don't be afraid to give up the good to go for the great.\", 'Character cannot be developed in ease and quiet. Only through experience of trial and suffering can the soul be strengthened, ambition inspired, and success achieved.', \"Honor to the soldier and sailor everywhere, who bravely bears his country's cause. Honor, also, to the citizen who cares for his brother in the field and serves, as he best can, the same cause.\", 'Everyone has talent. What is rare is the courage to follow the talent to the dark place where it leads.', 'My best successes came on the heels of failures.', 'A lie can travel half way around the world while the truth is putting on its shoes.', 'Most of the important things in the world have been accomplished by people who have kept on trying when there seemed to be no hope at all.', \"Wisdom is the reward you get for a lifetime of listening when you'd have preferred to talk.\", 'When we seek to discover the best in others, we somehow bring out the best in ourselves.', 'Creativity requires the courage to let go of certainties.', 'Positive anything is better than negative nothing.', \"Racism isn't born, folks, it's taught. I have a two-year-old son. You know what he hates? Naps! End of list.\", 'Spread love everywhere you go. Let no one ever come to you without leaving happier.', 'Turn your wounds into wisdom.', 'The most beautiful thing we can experience is the mysterious. It is the source of all true art and science.', 'I learned that courage was not the absence of fear, but the triumph over it. The brave man is not he who does not feel afraid, but he who conquers that fear.', 'Happiness is a direction, not a place.', 'A wise man can learn more from a foolish question than a fool can learn from a wise answer.', \"One of the greatest discoveries a man makes, one of his great surprises, is to find he can do what he was afraid he couldn't do.\", 'An appeaser is one who feeds a crocodile, hoping it will eat him last.', 'Courage - a perfect sensibility of the measure of danger, and a mental willingness to endure it.', 'If everyone is moving forward together, then success takes care of itself.', 'Time is more valuable than money. You can get more money, but you cannot get more time.', 'Money has never made man happy, nor will it, there is nothing in its nature to produce happiness. The more of it one has the more one wants.', 'The more you know the less you need to say.', \"Be miserable. Or motivate yourself. Whatever has to be done, it's always your choice.\", 'If you are carrying strong feelings about something that happened in your past, they may hinder your ability to live in the present.', \"I'm the one that's got to die when it's time for me to die, so let me live my life the way I want to.\", 'If one had but a single glance to give the world, one should gaze on Istanbul.', 'Bravery is the capacity to perform properly even when scared half to death.', \"When it is obvious that the goals cannot be reached, don't adjust the goals, adjust the action steps.\", \"Being the richest man in the cemetery doesn't matter to me ... Going to bed at night saying we've done something wonderful... that's what matters to me.\", \"And above all, watch with glittering eyes the whole world around you because the greatest secrets are always hidden in the most unlikely places. Those who don't believe in magic will never find it.\", 'Never give up, for that is just the place and time that the tide will turn.', 'Is prayer your steering wheel or your spare tire?', 'All change is not growth, as all movement is not forward.', \"Too many people spend money they haven't earned to buy things they don't want to impress people they don't like.\", 'Before marriage, a girl has to make love to a man to hold him. After marriage, she has to hold him to make love to him.', 'Some of us think holding on makes us strong; but sometimes it is letting go.', 'I would rather die of passion than of boredom.', 'Run often. Run long. But never outrun your joy of running.', 'Success is a personal standard, reaching for the highest that is in us, becoming all that we can be.', 'Happiness is not a goal; it is a by-product.', 'Destiny is no matter of chance. It is a matter of choice. It is not a thing to be waited for, it is a thing to be achieved.', 'Valor is stability, not of legs and arms, but of courage and the soul.', 'Yesterday is gone. Tomorrow has not yet come. We have only today. Let us begin.', 'The secret of getting ahead is getting started', 'If you want to lift yourself up, lift up someone else.', 'The only thing necessary for the triumph of evil is for good men to do nothing.', \"We all die. The goal isn't to live forever, the goal is to create something that will.\", 'Men have called me mad; but the question is not yet settled, whether madness is or is not the loftiest intelligence– whether much that is glorious– whether all that is profound– does not spring from disease of thought– from moods of mind exalted at the expense of the general intellect.', 'Do not let what you cannot do interfere with what you can do.', 'The greatest obstacle to discovery is not ignorance - it is the illusion of knowledge.', 'Time is what we want most, but what we use worst.', \"No matter what you've done for yourself or for humanity, if you can't look back on having given love and attention to your own family, what have you really accomplished?\", 'Imagination is more important than knowledge. Knowledge is limited. Imagination encircles the world.', 'He who avoids complaint invites happiness.', 'Sometimes the questions are complicated and the answers are simple.', \"Do not plan for ventures before finishing what's at hand.\", 'Doing what you love is the cornerstone of having abundance in your life.', 'Your life does not get better by chance, it gets better by change.', 'Overcoming poverty is not a gesture of charity. It is an act of justice. It is the protection of a fundamental human right, the right to dignity and a decent life . . .', 'Patience and time do more than strength or passion.', 'Do more than belong: participate. Do more than care: help. Do more than believe: practice. Do more than be fair: be kind. Do more than forgive: forget. Do more than dream: work.', 'If you have knowledge, let others light their candles in it.', 'Courage is resistance to fear, mastery of fear, not absence of fear.', 'Disneyland will never be completed. It will continue to grow as long as there is imagination left in the world.', 'Believe and act as if it were impossible to fail.', 'Everything we hear is an opinion, not a fact. Everything we see is a perspective, not the truth.', 'Money cannot buy peace of mind. It cannot heal ruptured relationships, or build meaning into a life that has none.', \"Don't worry that children never listen to you; worry that they are always watching you.\", 'If evolution really works, how come mothers only have two hands?', \"Don't wish it were easier, wish you were better.\", 'I have been driven many times upon my knees by the overwhelming conviction that I had no where else to go. My own wisdom and that of all about me seemed insufficient for that day.', 'A smile is the light in your window that tells others that there is a caring, sharing person inside.', 'You cannot find peace by avoiding life.', 'There are no failures - just experiences and your reactions to them', 'My message, especially to young people is to have courage to think differently, courage to invent, to travel the unexplored path, courage to discover the impossible and to conquer the problems and succeed. These are great qualities that they must work towards. This is my message to the young people.', 'Persistent people begin their success where others end in failure.', 'Imagination is more important than knowledge.', 'Love is the only force capable of transforming an enemy into friend.', \"Life is about not knowing, having to change, taking the moment and making the best of it, without knowing what's going to happen next.\", 'You cannot make progress without making decisions.', \"The grace of God means something like: Here is your life. You might never have been, but you are because the party wouldn't have been complete without you.\", 'Get mad, then get over it.', 'Everything that is really great and inspiring is created by the individual who can labor in freedom.', 'When the sun is shining I can do anything; no mountain is too high, no trouble too difficult to overcome.', 'I never learn anything talking. I only learn things when I ask questions.', 'Throughout life people will make you mad, disrespect you and treat you bad. Let God deal with the things they do, cause hate in your heart will consume you too.', \"Let our New Year's resolution be this: we will be there for one another as fellow members of humanity, in the finest sense of the word.\", \"Faith is taking the first step even when you don't see the whole staircase.\", 'Never lose sight of the fact that the most important yardstick of your success will be how you treat other people - your family, friends, and coworkers, and even strangers you meet along the way.', \"Potentially, a government is the most dangerous threat to man's rights: it holds a legal monopoly on the use of physical force against legally disarmed victims.\", 'Let us not seek the Republican answer or the Democratic answer, but the right answer. Let us not seek to fix the blame for the past. Let us accept our own responsibility for the future.', \"Life isn't a matter of milestones, but of moments.\", 'The time is always right to do what is right.', 'Whatever you want to do, do it now. There are only so many tomorrows.', \"be yourself- not your idea of what you think somebody else's idea of yourself should be.\", 'If music be the food of love, play on, Give me excess of it; that surfeiting, The appetite may sicken, and so die.', 'Eighty percent of success is showing up.', \"Marriage: If you want something to last forever, you treat it differently. You shield it and protect it. You never abuse it. You don't expose it to the elements. You don't make it common or ordinary. If it ever becomes tarnished, you lovingly polish it until it gleams like new. It becomes special because you have made it so, and it grows more beautiful and precious as time goes by.\", 'A hero is an ordinary individual who finds the strength to persevere and endure in spite of overwhelming obstacles.', 'Our dilemma is that we hate change and love it at the same time; what we really want is for things to remain the same but get better.', \"If you believe you can, you probably can. If you believe you won't, you most assuredly won't.\\nBelief is the ignition switch that gets you off the launching pad.\", \"It's easy to make a buck. It's a lot tougher to make a difference.\", \"Ever since I was a child I have had this instinctive urge for expansion and growth. To me, the function and duty of a quality human being is the sincere and honest development of one's potential.\", 'If you focus on results, you will never change. If you focus on change, you will get results.', 'To find joy in work is to discover the fountain of youth.', 'Expect great things from God, attempt great things for God.', \"The greatest day in your life and mine is when we take total responsibility for our attitudes. That's the day we truly grow up.\", 'Education is what remains after one has forgotten what one has learned in school.', \"I mean, if the relationship can't survive the long term, why on earth would it be worth my time and energy for the short term?\", 'Hating people is like burning down your own house to get rid of a rat.', 'The privilege of a lifetime is being who you are.', 'Trust yourself. Create the kind of self that you will be happy to live with all your life. Make the most of yourself by fanning the tiny, inner sparks of possibility into flames of achievement.', \"Your time is limited, so don't waste it living someone else's life.\", 'You will never reach your destination if you stop and throw stones at every dog that barks.', 'If I take care of my character, my reputation will take care of me.', \"Success is a lousy teacher. It seduces smart people into thinking they can't lose.\", 'Life can only be understood backwards; but it must be lived forwards.', 'A good friend is a connection to life - a tie to the past, a road to the future, the key to sanity in a totally insane world.', 'Speak when you are angry and you will make the best speech you will ever regret.', \"Anybody can become angry - that is easy, but to be angry with the right person and to the right degree and at the right time and for the right purpose, and in the right way - that is not within everybody's power and is not easy.\", 'Neither a wise man nor a brave man lies down on the tracks of history to wait for the train of the future to run over him.', 'Talent hits a target no one else can hit; Genius hits a target no one else can see.', 'A nation can survive its fools, and even the ambitious. But it cannot survive treason from within. An enemy at the gates is less formidable, for he is known and carries his banner openly. But the traitor moves amongst those within the gate freely, his sly whispers rustling through all the alleys, heard in the very halls of government itself.', 'Courage is grace under pressure.', 'Trust yourself. Create the kind of self that you will be happy to live with all your life.', 'Dream and give yourself permission to envision a You that you choose to be.', 'Live out of your imagination, not your history.', 'Love yourself first and everything else falls into line. You really have to love yourself to get anything done in this world.', 'Success is peace of mind which is a direct result of self-satisfaction in knowing you did your best to become the best you are capable of becoming.', 'Great achievement is usually born of great sacrifice, and is never the result of selfishness.', 'The connections between and among women are the most feared, the most problematic, and the most potentially transforming force on the planet.', \"Don't let the fear of striking out hold you back.\", 'Being ignorant is not so much a shame, as being unwilling to learn.', \"Even if you're on the right track, you'll get run over if you just sit there.\", 'There are only two options regarding commitment; you’re either in or you’re out.', 'Above all, be the heroine of your life, not the victim.', 'Think of all the beauty still left around you and be happy.', 'The entrepreneur always searches for change, responds to it, and exploits it as an opportunity.', \"If you spend your whole life waiting for the storm, you'll never enjoy the sunshine.\", 'If you want your children to improve, let them overhear the nice things you say about them to others.', 'Your success and happiness lies in you. Resolve to keep happy, and your joy and you shall form an invincible host against difficulties.', 'Start where you are, use what you have.', 'We make a living by what we get, but we make a life by what we give.', 'Many marriages would be better if the husband and the wife clearly understood that they are on the same side.', 'I would rather have a mind opened by wonder than one closed by belief.', 'Success is a state of mind. If you want success, start thinking of yourself as a success.', 'You must either modify your dreams or magnify your skills', 'You cannot escape the responsibility of tomorrow by evading it today.', 'I knew what my job was; it was to go out and meet the people and love them.', 'When we are no longer able to change a situation - we are challenged to change ourselves.', 'If you look the right way, you can see that the whole world is a garden.', 'To hell with circumstances; I create opportunities.', 'Education is for improving the lives of others and for leaving your community and world better than you found it.', 'There is no death, only a change of worlds.', 'A person who is nice to you, but rude to the waiter, is not a nice person.', 'I attribute my success to this - I never gave or took any excuse.', 'Success is nothing more than a few simple disciplines, practiced every day.', \"I have a very strict gun control policy: if there's a gun around, I want to be in control of it.\", 'If there must be trouble, let it be in my day, that my child may have peace.', \"I have learned over the years that when one's mind is made up, this diminishes fear; knowing what must be done does away with fear.\", 'The beautiful thing about learning is nobody can take it away from you.', 'I am always doing that which I cannot do, in order that I may learn how to do it.', 'Security is mostly a superstition. It does not exist in nature.', \"If you're offered a seat on a rocket ship, don't ask what seat! Just get on.\", \"Don't be distracted by criticism. Remember ~ the only taste of success some people have is when they take a bite out of you.\", \"It's not your job to like me - it's mine\", 'We gain strength, and courage, and confidence by each experience in which we really stop to look fear in the face... we must do that which we think we cannot.', 'Aging is not \"lost youth\" but a new stage of opportunity and strength.', 'Gratitude makes sense of our past, brings peace for today, and creates a vision for tomorrow.', 'The pessimist complains about the wind; the optimist expects it to change; the realist adjusts the sails.', \"I hated every minute of training, but I said, 'Don't quit. Suffer now and live the rest of your life as a champion.'\", 'It is better to look ahead and prepare than to look back and regret.', 'Far and away the best prize that life has to offer is the chance to work hard at work worth doing.', 'If you are neutral in situations of injustice, you have chosen the side of the oppressor. If an elephant has its foot on the tail of a mouse and you say that you are neutral, the mouse will not appreciate your neutrality.', 'Perfection is not attainable, but if we chase perfection we can catch excellence.', 'Fame is a vapor, popularity an accident, and riches take wings. Only one thing endures and that is character.', 'One good thing about music, when it hits you, you feel no pain.', 'Happiness in intelligent people is the rarest thing I know.', 'Develop an attitude of gratitude, and give thanks for everything that happens to you, knowing that every step forward is a step toward achieving something bigger and better than your current situation.', \"For every failure, there's an alternative course of action. You just have to find it. When you come to a roadblock, take a detour.\", 'The best way to make your dreams come true is to wake up.', 'Life is 10 percent what you make it, and 90 percent how you take it.', 'My heroes are the ones who survived doing it wrong, who made mistakes, but recovered from them.', 'Small deeds done are better than great deeds planned.', \"Tis' better to live your own life imperfectly than to imitate someone else's perfectly.\", 'You are the average of the five people you spend the most time with.', 'A loving person lives in a loving world. A hostile person lives in a hostile world.', 'Make everything as simple as possible, but not simpler.', 'The most beautiful people we have known are those who have known defeat, known suffering, known struggle, known loss, and have found their way out of those depths.', 'Successful people ask better questions, and as a result, they get better answers.', 'There are three constants in life... change, choice and principles.', 'Young people need models, not critics.', \"Advice is what we ask for when we already know the answer but wish we didn't.\", 'The great use of life is to spend it for something that will outlast it.', 'Clear thinking requires courage rather than intelligence.', 'A man is not old until regrets take the place of dreams.', 'A part of kindness consists in loving people more than they deserve.', 'When you start to develop your powers of empathy and imagination, the whole world opens up to you.', 'Judge a man by his questions rather than his answers.', 'If you make a sale, you can make a living. If you make an investment of time and good service in a customer, you can make a fortune.', 'Never let a problem to be solved become more important than a person to be loved.', 'If a free society cannot help the many who are poor, it cannot save the few who are rich.', 'Our happiest moments as tourists always seem to come when we stumble upon one thing while in pursuit of something else.', 'People might not get all they work for in this world, but they must certainly work for all they get.', 'We should regret our mistakes and learn from them, but never carry them forward into the future with us.', 'You cannot create experience. You must undergo it.', 'Do you know what my favorite part of the game is? The opportunity to play.', \"The miracle isn't that I finished. The miracle is that I had the courage to start.\", 'It is easy to sit up and take notice, What is difficult is getting up and taking action.', 'Happiness is not a destination. It is a method of life.', 'The more anger towards the past you carry in your heart, the less capable you are of loving in the present.', 'Meditation is not a way of making your mind quiet. It is a way of entering into the quiet that is already there - buried under the 50,000 thoughts the average person thinks every day', 'It takes as much energy to wish as it does to plan.', \"If you hear a voice within you say 'you cannot paint,' then by all means paint, and that voice will be silenced.\", \"If you tell the truth, you don't have to remember anything.\", 'The only way to get the best of an argument is to avoid it.', 'Our incomes are like our shoes; if too small, they gall and pinch us; but if too large, they cause us to stumble and to trip.', 'Perseverance is failing 19 times and succeeding the 20th.', \"You don't need strength to let go of something. What you really need is understanding.\", 'You never really understand a person until you consider things from his point of view.', \"Until you value yourself, you won't value your time. Until you value your time, you will not do anything with it.\", 'Goodbyes are only for those who love with their eyes. Because for those who love with heart and soul there is no such thing as separation.', 'Human behavior flows from three main sources: desire, emotion, and knowledge.', 'Courage is contagious. When a brave man takes a stand, the spines of others are often stiffened.', 'A mediocre idea that generates enthusiasm will go further than a great idea that inspires no one.', 'Death is a challenge. It tells us not to waste time... It tells us to tell each other right now that we love each other.', \"Only those who have learned the power of sincere and selfless contribution experience life's deepest joy: true fulfillment.\", 'More things are wrought by prayer than this world dreams of.', 'I learned the value of hard work by working hard.', 'A child who is allowed to be disrespectful to his parents will not have true respect for anyone.', 'An effort made for the happiness of others lifts above ourselves.', 'The kind of beauty I want most is the hard-to-get kind that comes from within - strength, courage, dignity.', \"I can accept failure, everyone fails at something. But I can't accept not trying.\", 'If you want to be happy, be.', \"It's fine to celebrate success but it is more important to heed the lessons of failure.\", 'There is little success where there is little laughter.', 'Experience is a hard teacher because she gives the test first, the lesson afterward.', 'Should I kill myself, or have a cup of coffee?', \"Life shrinks or expands in proportion to one's courage.\", 'The ultimate reason for setting goals is to entice you to become the person it takes to achieve them', \"The key is not to prioritize what's on your schedule, but to schedule your priorities.\", 'He who learns but does not think, is lost. He who thinks but does not learn is in great danger.', 'Of the billionaires I have known, money just brings out the basic traits in them. If they were jerks before they had money, they are simply jerks with a billion dollars.', 'Christmas is the time when kids tell Santa what they want and adults pay for it. Deficits are when adults tell government what they want and their kids pay for it.', 'When the Holy Rosary is said well, it gives Jesus and Mary more glory and is more meritorious than any other prayer.', 'A well regulated militia, composed of the body of the people, trained in arms, is the best most natural defense of a free country.', \"We've begun to raise daughters more like sons... but few have the courage to raise our sons more like our daughters.\", \"A woman's perfume tells more about her than her handwriting.\", 'I am always ready to learn although I do not always like being taught.', 'Simply put, you believer that things or people make you unhappy, but this is not accurate. You make yourself unhappy.', \"People won't have time for you if you are always angry or complaining.\", \"I don't believe people are looking for the meaning of life as much as they are looking for the experience of being alive.\", \"I believe that whatever doesn't kill you, simply makes you... stranger.\", \"Don't wish it was easier wish you were better. Don't wish for less problems wish for more skills. Don't wish for less challenge wish for more wisdom\", 'Excuses are the nails used to build a house of failure.', 'Everything will line up perfectly when knowing and living the truth becomes more important than looking good.', 'There is no medicine like hope, no incentive so great, and no tonic so powerful as expectation of something tomorrow.', \"The Christian life is not a constant high. I have my moments of deep discouragement. I have to go to God in prayer with tears in my eyes, and say, 'O God, forgive me,' or 'Help me.'\", 'For every minute you remain angry, you give up sixty seconds of peace of mind.', 'As long as I live, I\\'ll hear waterfalls and birds and winds sing. I\\'ll interpret the rocks, learn the language of flood, storm, and the avalanche. I\\'ll acquaint myself with the glaciers and wild gardens, and get as near the heart of the world as I can\".', 'The greatest achievement was at first and for a time a dream. The oak sleeps in the acorn, the bird waits in the egg, and in the highest vision of the soul a waking angel stirs. Dreams are the seedlings of realities.', 'Learning never exhausts the mind.', \"It's not the events of our lives that shape us, but our beliefs as to what those events mean.\", 'What we fear doing most is usually what we most need to do.', \"Victory is sweetest when you've known defeat.\", 'The body does not want you to do this. As you run, it tells you to stop but the mind must be strong. You always go too far for your body. You must handle the pain with strategy...It is not age; it is not diet. It is the will to succeed.', \"What sunshine is to flowers, smiles are to humanity. These are but trifles, to be sure; but scattered along life's pathway, the good they do is inconceivable.\", 'The way to get things done is not to mind who gets the credit for doing them.', 'You cannot change your destination overnight, but you can change your direction overnight.', 'Success is the sum of small efforts, repeated day-in and day-out.', \"You will never 'find' time for anything. If you want time, you must make it.\", 'You have succeeded in life when all you really want is only what you really need.', 'If you realized how powerful your thoughts are, you would never think a negative thought.', 'The harder you work, the harder it is to surrender.', 'Winning is great, sure, but if you are really going to do something in life, the secret is learning how to lose.', 'You must take personal responsibility. You cannot change the circumstances, the seasons, or the wind, but you can change yourself. That is something you have charge of.', 'If you only read the books that everyone else is reading, you can only think what everyone else is thinking.', 'Not everything that is faced can be changed. But nothing can be changed until it is faced.', 'In all human affairs there are efforts, and there are results, and the strength of the effort is the measure of the result.', 'It is so hard to leave—until you leave. And then it is the easiest goddamned thing in the world.', 'People who boast about their I.Q. are losers.', 'To understand the heart and mind of a person, look not at what he has already achieved, but at what he aspires to.', \"Miss a meal if you have to, but don't miss a book.\", 'It is better to be alone than in bad company.', 'Try to learn something about everything and everything about something.', 'Help others achieve their dreams and you will achieve yours.', \"You don't fight racism with racism, the best way to fight racism is with solidarity.\", 'Effort and courage are not enough without purpose and direction.', \"One doesn't discover new lands without consenting to lose sight, for a very long time, of the shore.\", 'We are what we pretend to be, so we must be careful what we pretend to be.', 'All things are difficult before they are easy.', 'People ask the difference between a leader and a boss. The leader leads, and the boss drives.', 'The thing that is really hard, and really amazing, is giving up on being perfect and beginning the work of becoming yourself.', 'Love is the ability and willingness to allow those that you care for to be what they choose for themselves without any insistence that they satisfy you.', 'Sooner or later, those who win are those who think they can.', \"Those who matter don't mind, and those who mind don't matter.\", 'You were born to win, but to be a winner, you must plan to win, prepare to win, and expect to win.', \"If you don't like something, change it. If you can't change it, change your attitude.\", 'Gratitude unlocks the fullness of life. It turns what we have into enough, and more. It turns denial into acceptance, chaos to order, confusion to clarity. It can turn a meal into a feast, a house into a home, a stranger into a friend.', 'Everyone seems to have a clear idea of how other people should lead their lives, but none about his or her own.', \"I don't go by the rule book... I lead from the heart, not the head.\", 'A hero is someone who has given his or her life to something bigger than oneself.', 'The more one judges, the less one loves.', 'Man never made any material as resilient as the human spirit.', 'The best way to find out if you can trust somebody is to trust them.', \"At the end of the day, all you can hope for is to go on. The older I get, the more I realize that just keeping on keeping on is what life's all about.\", 'I cannot always control what goes on outside. But I can always control what goes on inside.', 'Expect trouble as an inevitable part of life and when it comes, hold your head high, look it squarely in the eye and say “I will be bigger than you. You cannot defeat me.” Then repeat to yourself the most comforting of all words , “This too shall pass.”', 'I have witnessed the softening of the hardest of hearts by a simple smile.', 'When you judge another, you do not define them, you define yourself.', 'The only way to live is to accept each minute as an unrepeatable miracle, which is exactly what it is: a miracle and unrepeatable.', 'We are all here for some special reason. Stop being a prisoner of your past. Become the architect of your future.', 'He who is not everyday conquering some fear has not learned the secret of life.', \"When I do good, I feel good. When I do bad, I feel bad. That's my religion.\", \"I don't know what the future may hold, but I know who holds the future.\", 'The best way out is always through.', 'People become really quite remarkable when they start thinking that they can do things. When they believe in themselves they have the first secret of success.', 'Always walk through life as if you have something new to learn, and you will.', \"The elevator to success is out of order. You'll have to use the stairs... one step at a time.\", 'True terror is to wake up one morning and discover that your high school class is running the country.', 'Silence is the sleep that nourishes wisdom.', \"Every time you don't follow your inner guidance, you feel a loss of energy, loss of power, a sense of spiritual deadness.\", \"Believe in love. Believe in magic. Hell, believe in Santa Clause. Believe in others. Believe in yourself. Believe in your dreams. If you don't, who will?\", 'Never mistake motion for action.', 'Maxim for life: You get treated in life the way you teach people to treat you.', 'Stay committed to your decisions, but stay flexible in your approach.', 'You can tell whether a man is clever by his answers. You can tell whether a man is wise by his questions.', 'If one advances confidently in the direction of his dreams, and endeavors to live the life which he has imagined, he will meet with a success unexpected in common hours.', 'Develop success from failures. Discouragement and failure are two of the surest stepping stones to success.', \"The very purpose of Christ's coming into the world was that He might offer up His life as a sacrifice for the sins of men. He came to die. This is the heart of Christmas.\", 'You have to grow from the inside out. None can teach you, none can make you spiritual. There is no other teacher but your own soul.', 'If Tyranny and Oppression come to this land, it will be in the guise of fighting a foreign enemy.', 'God has given us two hands, one to receive with and the other to give with.', \"You can close your eyes to the things you don't want to see, but you can't close your heart to the things you don't want to feel.\", \"The most common way people give up their power is by thinking they don't have any.\", 'If you can believe it, the mind can achieve it.', \"I do believe we're all connected. I do believe in positive energy. I do believe in the power of prayer. I do believe in putting good out into the world. And I believe in taking care of each other.\", 'What we think or what we know or what we believe is in the end of little consequence. The only thing of consequence is what we do', 'Never dull your shine for somebody else.', 'It can not be emphasized too strongly or too often that this great nation was founded, not by religionists, but by Christians, not on religions, but on the gospel of Jesus Christ!', 'To give thanks in solitude is enough. Thanksgiving has wings and goes where it must go. Your prayer knows much more about it than you do.', 'The tree of liberty must be refreshed from time to time with the blood of patriots and tyrants.', \"Don't compare your life to others. You have no idea what they have been through.\", 'The minute I heard my first love story, I started looking for you.', 'Knowledge is of no value unless you put it into practice.', 'All the great things are simple, and many can be expressed in a single word: freedom, justice, honor, duty, mercy, hope.', 'Faith is the strength by which a shattered world shall emerge into the light.', 'Today, more than ever before, life must be characterized by a sense of Universal responsibility, not only nation to nation and human to human, but also human to other forms of life.', 'If you are losing faith in human nature, go out and watch a marathon.', 'From what we get, we can make a living; what we give, however, makes a life.', \"I've read the last page of the Bible. It's all going to turn out all right.\", \"Just because Fate doesn't deal you the right cards, it doesn't mean you should give up. It just means you have to play the cards you get to their maximum potential.\", \"Don't you ever let a soul in the world tell you that you can't be exactly who you are.\", 'We must overcome the notion that we must be regular... it robs you of the chance to be extraordinary and leads you to the mediocre.', 'You have not lived today until you have done something for someone who can never repay you.', \"Exercise is king. Nutrition is queen. Put them together and you've got a kingdom.\", 'Humor is by far the most significant activity of the human brain.', 'Talent is cheaper than table salt. What separates the talented individual from the successful one is a lot of hard work.', 'Watch your manner of speech if you wish to develop a peaceful state of mind. Start each day by affirming peaceful, contented and happy attitudes and your days will tend to be pleasant and successful.', 'Nothing is so permanent as a temporary government program.', 'When a person really desires something, all the universe conspires to help that person to realize his dream.', 'The brighter you are, the more you have to learn.', \"When you dance, your purpose is not to get to a certain place on the floor. It's to enjoy each step along the way.\", \"Most people ask for happiness on condition. Happiness can only be felt if you don't set any condition.\", 'The person born with a talent they are meant to use will find their greatest happiness in using it.', 'Effort only fully releases its reward after a person refuses to quit.', \"You're never as good as everyone tells you when you win, and you're never as bad as they say when you lose.\", 'I do not think much of a man who is not wiser today than he was yesterday.', 'When you arise in the morning, think of what a precious privilege it is to be alive - to breathe, to think, to enjoy, to love.', 'As the family goes, so goes the nation and so goes the whole world in which we live.', 'We should certainly count our blessings, but we should also make our blessings count.', \"Everyone has inside of him a piece of good news. The good news is that you don't know how great you can be! How much you can love! What you can accomplish! And what your potential is!\", \"If everyone is thinking alike, then somebody isn't thinking.\", 'Act as if what you do makes a difference. It does.', 'The supreme art of war is to subdue the enemy without fighting.', \"I have never met a man so ignorant that I couldn't learn something from him.\", \"When you are offended at any man's fault, turn to yourself and study your own failings. Then you will forget your anger.\", 'It is foolish and wrong to mourn the men who died. Rather we should thank God that such men lived.', 'An invincible determination can accomplish almost anything and in this lies the great distinction between great men and little men.', 'The quality of a leader is reflected in the standards they set for themselves.', \"You've got to get to the stage in life where going for it is more important than winning or losing.\", 'Can anything be sadder than work left unfinished? Yes, work never begun.', \"Don't just read the easy stuff. You may be entertained by it, but you will never grow from it.\", 'And by the way, everything in life is writable about if you have the outgoing guts to do it, and the imagination to improvise. The worst enemy to creativity is self-doubt.', \"One of the hardest things in life is having words in your heart that you can't utter.\", 'Success is not to be pursued; it is to be attracted by the person you become.', 'Never allow someone to be your priority while allowing yourself to be their option.', 'Realize that true happiness lies within you. Waste no time and effort searching for peace and contentment and joy in the world outside. Remember that there is no happiness in having or in getting, but only in giving. Reach out. Share. Smile. Hug. Happiness is a perfume you cannot pour on others without getting a few drops on yourself.', \"You can't separate peace from freedom because no one can be at peace unless he has his freedom.\", 'There is little difference in people, but that little difference makes a big difference. The little difference is attitude. The big difference is whether it is positive or negative.', 'America will never be destroyed from the outside. If we falter and lose our freedoms, it will be because we destroyed ourselves.', 'Faithful servants never retire. You can retire from your career, but you will never retire from serving God.', 'The average dog is a nicer person than the average person.', 'I prefer to be true to myself, even at the hazard of incurring the ridicule of others, rather than to be false, and to incur my own abhorrence.', 'In matters of style, swim with the current; in matters of principle, stand like a rock.', \"Dad needs to show an incredible amount of respect and humor and friendship toward his mate so the kids understand their parents are sexy, they're fun, they do things together, they're best friends. Kids learn by example. If I respect Mom, they're going to respect Mom.\", 'We are United States Marines, and for two and a quarter centuries we have defined the standards of courage, esprit, and military prowess.', 'Peace cannot be kept by force; it can only be achieved by understanding.', 'Patience is the companion of wisdom.', 'The two hardest tests on the spiritual road are the patience to wait for the right moment and the courage not to be disappointed with what we encounter.', 'The revolution is not an apple that falls when it is ripe. You have to make it fall.', \"We can always choose to perceive things differently. You can focus on what's wrong in your life, or you can focus on what's right.\", 'Always seek out the seed of triumph in every adversity.', 'Self-worth comes from one thing - thinking that you are worthy.', 'The best vision is insight.', \"You may have a fresh start any moment you choose, for this thing that we call 'failure' is not the falling down, but the staying down.\", 'Learning is the beginning of wealth. Learning is the beginning of health. Learning is the beginning of spirituality. Searching and learning is where the miracle process all begins.', 'Being entirely honest with oneself is a good exercise.', \"Take it from a guy: If you're in love with somebody, you will swim the stream, you will climb the mountain, you will slay the dragon. You're going to get to her somehow, some way.\", 'If you break your neck, if you have nothing to eat, if your house is on fire, then you got a problem. Everything else is inconvenience.', 'The best and most beautiful things in the world cannot be seen or even touched - they must be felt with the heart.', 'You can love someone so much...But you can never love people as much as you can miss them.', 'Gratitude is riches. Complaint is poverty.', 'Your attitude is like a box of crayons that color your world. Constantly color your picture gray, and your picture will always be bleak. Try adding some bright colors to the picture by including humor, and your picture begins to lighten up.', 'Miracles come in moments. Be ready and willing.', 'Stop acting as if life is a rehearsal. Live this day as if it were your last. The past is over and gone. The future is not guaranteed.', 'The harder the conflict, the more glorious the triumph.', \"It's amazing what ordinary people can do if they set out without preconceived notions.\", 'You teach best what you most need to learn.', 'All I have seen teaches me to trust the creator for all I have not seen.', 'Either you run the day or the day runs you.', 'Never forget the three powerful resources you always have available to you: love, prayer, and forgiveness.', 'It is impossible for a man to learn what he thinks he already knows.', 'My attitude is that if you push me towards something that you think is a weakness, then I will turn that perceived weakness into a strength.', 'In the beginning of a change the patriot is a scarce man, and brave, and hated and scorned. When his cause succeeds, the timid join him, for then it costs nothing to be a patriot.', 'Without leaps of imagination, or dreaming, we lose the excitement of possibilities. Dreaming, after all, is a form of planning.', 'I have just returned from visiting the Marines at the front, and there is not a finer fighting organization in the world!', 'The successful man will profit from his mistakes and try again in a different way.', 'Your family and your love must be cultivated like a garden. Time, effort, and imagination must be summoned constantly to keep any relationship flourishing and growing.', 'Our freedom can be measured by the number of things we can walk away from.', 'Being ready is not what matters. What matters is winning after you get there.', 'Let my soul smile through my heart and my heart smile through my eyes, that I may scatter rich smiles in sad hearts.', 'We should not judge people by their peak of excellence; but by the distance they have traveled from the point where they started.', 'One reason so few of us achieve what we truly want is that we never direct our focus; we never concentrate our power. Most people dabble their way through life, never deciding to master anything in particular.', 'Learning is not attained by chance, it must be sought for with ardor and diligence.', \"We've all got both light and dark inside us. What matters is the part we choose to act on. That's who we really are.\", 'The highest form of worship is the worship of unselfish Christian service. The greatest form of praise is the sound of consecrated feet seeking out the lost and helpless.', \"One isn't necessarily born with courage, but one is born with potential. Without courage, we cannot practice any other virtue with consistency. We can't be kind, true, merciful, generous, or honest.\", \"Nothing I've ever done has given me more joys and rewards than being a father to my children.\", 'What is hell? I maintain that it is the suffering of being unable to love.', 'If you can learn to love yourself and all the flaws, you can love other people so much better. And that makes you so happy.', \"There is only one corner of the universe you can be certain of improving, and that's your own self.\", 'There is not one blade of grass, there is no color in this world that is not intended to make men rejoice.', 'Stay away from what might have been, and look at what can be.', 'Success is achieved by developing our strengths, not by eliminating our weaknesses.', 'Do not seek to follow in the footsteps of the wise. Seek what they sought.', \"In three words I can sum up everything I've learned about life: it goes on.\", 'We think too much and feel too little.', 'Failure is simply a few errors in judgment, repeated every day.', \"You just can't beat the person who never gives up.\", \"Missions is not the ultimate goal of the church. Worship is. Missions exists because worship doesn't.\", \"It's what you learn after you know it all that counts.\", 'Great spirits have always encountered opposition from mediocre minds. The mediocre mind is incapable of understanding the man who refuses to bow blindly to conventional prejudices and chooses instead to express his opinions courageously and honestly.', 'Maturity is the ability to think, speak and act your feelings within the bounds of dignity. The measure of your maturity is how spiritual you become during the midst of your frustrations.', \"Do what you feel in your heart to be right - for you'll be criticized anyway. You'll be damned if you do, and damned if you don't.\", 'As we express our gratitude, we must never forget that the highest appreciation is not to utter words, but to live by them.', 'Human beings can alter their lives by altering their attitudes of mind.', 'I pretended to be somebody I wanted to be until finally I became that person. Or he became me.', 'You must make a decision that you are going to move on. It wont happen automatically. You will have to rise up and say, ‘I don’t care how hard this is, I don’t care how disappointed I am, I’m not going to let this get the best of me. I’m moving on with my life.', \"The only way that I could figure they could improve upon Coca-Cola, one of life's most delightful elixirs, which studies prove will heal the sick and occasionally raise the dead, is to put bourbon in it.\", 'It is not until you become a mother that your judgment slowly turns to compassion and understanding.', \"If you don't stand for something you will fall for anything.\", 'Searching and learning is where the miracle process all begins.', \"I firmly believe that any man's finest hour, the greatest fulfillment of all that he holds dear, is that moment when he has worked his heart out in a good cause and lies exhausted on the field of battle - victorious.\", \"These young guys are playing checkers. I'm out there playing chess.\", \"If we're growing, we're always going to be out of our comfort zone.\", 'Greed is a bottomless pit which exhausts the person in an endless effort to satisfy the need without ever reaching satisfaction.', \"It doesn't matter which side of the fence you get off on sometimes. What matters most is getting off. You cannot make progress without making decisions.\", 'Out of suffering have emerged the strongest souls; the most massive characters are seared with scars.', 'When I was 5 years old, my mother always told me that happiness was the key to life. When I went to school, they asked me what I wanted to be when I grew up. I wrote down ‘happy’. They told me I didn’t understand the assignment, and I told them they didn’t understand life.', 'The happiness of your life depends upon the quality of your thoughts.', 'Common sense is the collection of prejudices acquired by age eighteen.', 'Our attitude towards others determines their attitude towards us.', \"Be nice to people on your way up because you'll meet them on your way down.\", \"There is some good in this world, and it's worth fighting for.\", 'If we learn to open our hearts, anyone, including the people who drive us crazy, can be our teacher.', 'The cost of freedom is always high, but Americans have always paid it. And one path we shall never choose, and that is the path of surrender, or submission.', 'Carpe diem! Rejoice while you are alive; enjoy the day; live life to the fullest; make the most of what you have. It is later than you think.', \"You're mind is working at its best when you're being paranoid. You explore every avenue and possibility of your situation at high speed with total clarity.\", 'Without a sense of urgency, desire loses its value.', 'Whatever good things we build end up building us.', 'The purpose of life is to live it, to taste experience to the utmost, to reach out eagerly and without fear for newer and richer experience.', \"They're on our right, they're on our left, they're in front of us, they're behind us; they can't get away from us this time.\", \"I'm not in this world to live up to your expectations and you're not in this world to live up to mine.\", 'The major value in life is not what you get. The major value in life is what you become.', 'Give me six hours to chop down a tree and I will spend the first four sharpening the axe.', 'We have to be careful in how we use this light shined on us.', 'To solve any problem, here are three questions to ask yourself: First, what could I do? Second, what could I read? And third, who could I ask?', \"You've got to know your limitations. I don't know what your limitations are. I found out what mine were when I was twelve. I found out that there weren't too many limitations, if I did it my way.\", 'I always wonder why birds choose to stay in the same place when they can fly anywhere on the earth, then I ask myself the same question.', 'To love means loving the unlovable. To forgive means pardoning the unpardonable. Faith means believing the unbelievable. Hope means hoping when everything seems hopeless.', 'Be brave. Take risks. Nothing can substitute experience.', \"If you really want to do something, you'll find a way. If you don't, you'll find an excuse.\", 'It is neither wealth nor splendor; but tranquility and occupation which give you happiness.', 'A thousand words will not leave so deep an impression as one deed.', 'Courage is the price that life exacts for granting peace.', 'The worst evils which mankind has ever had to endure were inflicted by bad governments.', 'The moment we begin to fear the opinions of others and hesitate to tell the truth that is in us, and from motives of policy are silent when we should speak, the divine floods of light and life no longer flow into our souls.', 'Trust yourself, you know more than you think you do.', 'Some people want it to happen, some wish it would happen, others make it happen.', 'High achievement always takes place in the framework of high expectation.', 'The body is your temple. Keep it pure and clean for the soul to reside in.', 'Be like a duck. Calm on the surface, but always paddling like the dickens underneath.', 'Tears shed for self are tears of weakness, but tears shed for others are a sign of strength.', 'Success is neither magical nor mysterious. Success is the natural consequence of consistently applying the basic fundamentals.', 'It is wise to direct your anger towards problems - not people; to focus your energies on answers - not excuses.', 'If we did all the things we are capable of doing, we would literally astound ourselves.', 'Love is our true destiny. We do not find the meaning of life by ourselves alone - we find it with another.', 'I ask, sir, what is the militia? It is the whole people except for a few public officials.', \"As long as there's pasta and Chinese food in the world, I'm okay.\", 'The few who do are the envy of the many who only watch.', \"Don't brood. Get on with living and loving. You don't have forever.\", \"Tricks and treachery are the practice of fools, that don't have brains enough to be honest.\", 'The Marines have landed and the situation is well in hand.', \"Life is one big road with lots of signs,\\nSo when you riding through the ruts,\\nDon't you complicate your mind\\nFlee from hate, mischief and jealousy\\nDon't bury your thoughts; put your vision to reality.\", 'There is always some madness in love. But there is also always some reason in madness.', 'For peace of mind, we need to resign as general manager of the universe.', 'I am free, no matter what rules surround me. If I find them tolerable, I tolerate them; if I find them too obnoxious, I break them. I am free because I know that I alone am morally responsible for everything I do.', 'Only put off until tomorrow what you are willing to die having left undone.', 'The will to win, the desire to succeed, the urge to reach your full potential... these are the keys that will unlock the door to personal excellence.', 'Difficulties are meant to rouse, not discourage. The human spirit is to grow strong by conflict.', \"It's very hard in the beginning to understand that the whole idea is not to beat the other runners. Eventually you learn that the competition is against the little voice inside you that wants you to quit.\", 'A well-developed sense of humor is the pole that adds balance to your steps as you walk the tightrope of life.', 'We relish news of our heroes, forgetting that we are extraordinary to somebody too.', 'It takes less time to do a thing right, than it does to explain why you did it wrong.', \"It isn't the mountain ahead that wears you out; it's the grain of sand in your shoe.\", 'Empty your mind, be formless. Shapeless, like water. If you put water into a cup, it becomes the cup. You put water into a bottle and it becomes the bottle. You put it in a teapot it becomes the teapot. Now, water can flow or it can crash. Be water, my friend.', 'The longer we dwell on our misfortunes, the greater is their power to harm us', \"Sometimes I've believed as many as six impossible things before breakfast.\", 'Do not fear mistakes. There are none.', 'Expose yourself to your deepest fear; after that, fear has no power, and the fear of freedom shrinks and vanishes. You are free.', 'Anger is an acid that can do more harm to the vessel in which it is stored than to anything on which it is poured.', 'Failure is success if we learn from it.', 'You are here to enable the divine purpose of the Universe to unfold. That is how important you are!', 'People like us, who believe in physics, know that the distinction between past, present, and future is only a stubbornly persistent illusion.', 'I still need Marines who can shoot and salute. But I need Marines who can fix jet engines and man sophisticated radar sets, as well.', \"You can't expect to hit the jackpot if you don't put a few nickels in the machine.\", 'One of the penalties for refusing to participate in politics is that you end up being governed by your inferiors.', 'It is what we know already that often prevents us from learning.', 'The only limit to our realization of tomorrow will be our doubts of today.', \"I've learned that making a 'living' is not the same thing as 'making a life'.\", 'Every time you smile at someone, it is an action of love, a gift to that person, a beautiful thing.', 'The spirit, the will to win, and the will to excel are the things that endure. These qualities are so much more important than the events that occur.', 'When I started counting my blessings, my whole life turned around.', 'Ninety-nine percent of the failures come from people who have the habit of making excuses.', 'Everything comes to us that belongs to us if we create the capacity to receive it.', \"What doesn't kill you makes you smaller\", 'The difficulties you meet will resolve themselves as you advance. Proceed, and light will dawn, and shine with increasing clearness on your path.', \"It's not what's happening to you now or what has happened in your past that determines who you become. Rather, it's your decisions about what to focus on, what things mean to you, and what you're going to do about them that will determine your ultimate destiny.\", 'Live your life and forget your age.', 'We may not be able to prepare the future for our children, but we can at least prepare our children for the future.', 'Men occasionally stumble over the truth, but most of them pick themselves up and hurry off as if nothing had happened.', \"That's been one of my mantras - focus and simplicity. Simple can be harder than complex: You have to work hard to get your thinking clean to make it simple. But it's worth it in the end because once you get there, you can move mountains.\", 'The trouble with most of us is that we would rather be ruined by praise than saved by criticism.', 'The smallest deed is better than the greatest intention.', \"Only two things are infinite, the universe and human stupidity, and I'm not sure about the former.\", 'A nation of sheep will beget a government of wolves.', \"Nothing else can quite substitute for a few well-chosen,\\nwell-timed, sincere words of praise.\\nThey're absolutely free and worth a fortune\", \"There is nothing in a caterpillar that tells you it's going to be a butterfly.\", \"A charming woman... doesn't follow the crowd. She is herself.\", \"You don't understand anything until you learn it more than one way.\", 'Doubt yourself and you doubt everything you see. Judge yourself and you see judges everywhere. But if you listen to the sound of your own voice, you can rise above doubt and judgment. And you can see forever.', \"Find the good. It's all around you. Find it, showcase it and you'll start believing in it.\", 'Happiness in marriage is entirely a matter of chance.', 'The difference between a mountain and a molehill is your perspective.', 'It is best to act with confidence, no matter how little right you have to it.', \"People usually consider walking on water or in thin air a miracle. But I think the real miracle is not to walk either on water or in thin air, but to walk on earth. Every day we are engaged in a miracle which we don't even recognize: a blue sky, white clouds, green leaves, the black, curious eyes of a child -- our own two eyes. All is a miracle.\", 'Freedom means the opportunity to be what we never thought we would be.', 'For it was not into my ear you whispered, but into my heart. It was not my lips you kissed, but my soul.', 'I will love the light for it shows me the way, yet I will endure the darkness because it shows me the stars.', \"If you run, you are a runner. It doesn't matter how fast or how far. It doesn't matter if today is your first day or if you've been running for twenty years. There is no test to pass, no license to earn, no membership card to get. You just run.\", \"The world is a dangerous place to live; not because of the people who are evil, but because of the people who don't do anything about it.\", 'The deepest principle in human nature is the craving to be appreciated.', \"About all you can do in life is be who you are. Some people will love you for you. Most will love you for what you can do for them, and some won't like you at all.\", 'To find out what one is fitted to do, and to secure an opportunity to do it, is the key to happiness.', 'Forgiveness says you are given another chance to make a new beginning.', 'What is success? I think it is a mixture of having a flair for the thing that you are doing; knowing that it is not enough, that you have got to have hard work and a certain sense of purpose.', 'The past has no power over the present moment.', \"Do not let your fire go out, spark by irreplaceable spark in the hopeless swamps of the not-quite, the not-yet, and the not-at-all. Do not let the hero in your soul perish in lonely frustration for the life you deserved and have never been able to reach. The world you desire can be won. It exists.. it is real.. it is possible.. it's yours.\", 'No person was ever honored for what he received. Honor has been the reward for what he gave.', 'Love yourself-accept yourself-forgive yourself-and be good to yourself, because without you the rest of us are without a source of many wonderful things.', 'Wherever you are, and whatever you do, be in love.', 'Whenever you find yourself on the side of the majority, it is time to pause and reflect.', 'And those who were seen dancing were thought to be insane by those who could not hear the music.', \"I love things that age well - things that don't date, that stand the test of time and that become living examples of the absolute best.\", 'Better be wise by the misfortunes of others than by your own.', 'The person, be it gentleman or lady, who has not pleasure in a good novel, must be intolerably stupid.', \"The opposite of love is not hate, it's indifference. The opposite of art is not ugliness, it's indifference. The opposite of faith is not heresy, it's indifference. And the opposite of life is not death, it's indifference.\", 'Curiosity is one of the most permanent and certain characteristics of a vigorous intellect.', 'Leaders must be close enough to relate to others, but far enough ahead to motivate them.', 'Regret for the things we did can be tempered by time; it is regret for the things we did not do that is inconsolable.', 'America... just a nation of two hundred million used car salesmen with all the money we need to buy guns and no qualms about killing anybody else in the world who tries to make us uncomfortable.', 'For every disciplined effort there is a multiple reward.', \"The spiritual journey is individual, highly personal. It can't be organized or regulated. It isn't true that everyone should follow one path. Listen to your own truth.\", 'The mind is not a vessel to be filled but a fire to be kindled.']\n"
     ]
    },
    {
     "data": {
      "text/plain": [
       "1000"
      ]
     },
     "execution_count": 21,
     "metadata": {},
     "output_type": "execute_result"
    }
   ],
   "source": [
    "import time\n",
    "Quote=[]\n",
    "for page in range(0,10):\n",
    "    Quotetag=driver5.find_elements(By.XPATH, '//a[@class=\"title\"]')\n",
    "    for i in Quotetag:\n",
    "    \n",
    "        Quote.append(i.text)\n",
    "    next_button5=driver5.find_element(By.CSS_SELECTOR, \".next\")\n",
    "    next_button5.click()\n",
    "    time.sleep(3)\n",
    "    #Quotetag=driver5.find_elements(By.XPATH, '//a[@class=\"title\"]')\n",
    "#snek=brand_sneak[0:100]\n",
    "print(Quote)\n",
    "len(Quote)"
   ]
  },
  {
   "cell_type": "code",
   "execution_count": 23,
   "id": "0db39396",
   "metadata": {},
   "outputs": [
    {
     "name": "stdout",
     "output_type": "stream",
     "text": [
      "['Michael Porter', 'Golda Meir', 'Theodore Roosevelt', 'Nelson Mandela', 'Erma Bombeck', 'John Wooden', 'Albert Einstein', 'Frank Zappa', 'William Faulkner', 'Will Rogers', 'Jimmy Carter', 'Albert Einstein', 'Abraham Lincoln', 'Steven Weinberg', 'Franklin D. Roosevelt', 'Albert Einstein', 'Maya Angelou', 'Mark Twain', 'Theodore Roosevelt', 'Michael Jackson', 'Martin Luther King, Jr.', 'C. S. Lewis', 'Theodore Roosevelt', 'Mark Twain', 'Abraham Lincoln', 'Ruth Graham', 'C. S. Lewis', 'Groucho Marx', 'John Lennon', 'Barbara Bush', 'Albert Einstein', 'Francis Chan', 'Henry Ford', 'Victor Hugo', 'Abu Bakr', 'Zig Ziglar', 'Winston Churchill', 'Zig Ziglar', 'John F. Kennedy', 'Dwight D. Eisenhower', 'Winston Churchill', 'Albert Einstein', 'Willie Nelson', 'Johnny Cash', 'Marie Curie', 'Maya Angelou', 'Amy Bloom', 'Zig Ziglar', 'John Lennon', 'Thomas Sowell', 'Max Lucado', 'Martin Luther King, Jr.', 'Thomas Sowell', 'Salma Hayek', 'Martin Luther King, Jr.', 'Douglas MacArthur', 'Douglas MacArthur', 'George S. Patton', 'Corrie Ten Boom', 'Jim Courier', 'Zig Ziglar', 'Edgar Allan Poe', 'Zig Ziglar', 'Stephen Covey', 'Pablo Neruda', 'Joe Frazier', 'Bill Cosby', 'Lewis Grizzard', 'Les Brown', 'Meister Eckhart', 'Muhammad Ali', 'John C. Maxwell', 'Thomas A. Edison', 'Rose Kennedy', 'Neil Armstrong', 'Martin Luther', 'Ronald Reagan', 'Andrew Murray', 'Arianna Huffington', 'Anne Frank', 'Corrie Ten Boom', 'Nelson Mandela', 'Robin Williams', 'Walt Disney', 'John F. Kennedy', 'Mark Twain', 'John Stott', 'Wayne Dyer', 'Steve Jobs', 'Maya Angelou', 'Satchel Paige', 'Mwai Kibaki', 'Roald Dahl', 'Robert H. Schuller', 'Bill Vaughan', 'Hunter S. Thompson', 'Corrie Ten Boom', 'Dalai Lama', 'Mother Teresa', 'Norman Vincent Peale', 'Neltje Blanchan', 'Saint Augustine', 'Henry Ford', 'Arthur Rubinstein', 'George Mason', 'Margaret Fuller', 'Colin Powell', 'Benjamin Franklin', 'Elizabeth Kenny', 'Jonathan Edwards', 'Xunzi', 'Bertrand Russell', 'Richard Branson', 'Albert Einstein', 'Jerry Bridges', 'Walt Disney', 'Frederick Douglass', 'J. R. R. Tolkien', 'Winston Churchill', 'David Frost', 'Rush Limbaugh', 'Maya Angelou', 'Colin Powell', 'Mother Teresa', 'Jenn Proske', 'Martin Luther King, Jr.', 'Mother Teresa', 'Ronald Reagan', 'Milton Friedman', 'Confucius', 'Nicholas Sparks', 'Martin Luther King, Jr.', 'Victor Hugo', 'Mother Teresa', 'Dean Karnazes', 'Dalai Lama', 'Oprah Winfrey', 'Mary Kay Ash', 'C. S. Lewis', 'Nathan Hale', 'Vince Lombardi', 'Maya Angelou', 'Charles Spurgeon', 'Dalai Lama', 'Eleanor Roosevelt', 'Henry Ford', 'George Bernard Shaw', 'Ronald Reagan', 'John F. Kennedy', 'Corrie Ten Boom', 'Brian Tracy', 'George Bernard Shaw', 'David Brinkley', 'Thomas A. Edison', 'Carol Burnett', 'Douglas MacArthur', 'Johann Wolfgang von Goethe', 'Oprah Winfrey', 'Robert Kiyosaki', 'Mark Twain', 'Robert Louis Stevenson', 'Maya Angelou', 'Marilyn vos Savant', 'Alice Walker', 'Bill Gates', 'Mother Teresa', 'Albert Einstein', 'Ronald Reagan', 'John Wooden', 'C. S. Lewis', 'Conrad Hall', 'Walt Disney', 'Michel Odent', 'Oscar Wilde', 'Napoleon Hill', 'Mother Teresa', 'Robin Williams', 'Thomas A. Edison', 'Agatha Christie', 'Diane von Furstenberg', 'Dale Carnegie', 'John Quincy Adams', 'W. E. B. Du Bois', 'Mary Lou Retton', 'Jimmy Carter', 'George Bernard Shaw', 'Helen Keller', 'Robert H. Schuller', 'Gail Devers', 'Diane Sawyer', 'Martin Luther', 'Margaret Thatcher', 'Maya Angelou', 'Albert Schweitzer', 'Alexander Graham Bell', 'Jim Rohn', 'Henry Ford', 'Robin Williams', 'Margaret Walker', 'T. Harv Eker', 'Winston Churchill', 'John Lubbock', 'Albert Einstein', 'Jim Valvano', 'Thomas Jefferson', 'Farrah Gray', 'Mother Teresa', 'Maya Angelou', 'B. F. Skinner', 'Earl Nightingale', 'Martin Luther King, Jr.', 'Walt Disney', 'Albert Einstein', 'Bill Gates', 'Henry Ford', 'Albert Einstein', 'Eleanor Roosevelt', 'Babe Ruth', 'Wayne Dyer', 'Stephen King', 'Ronald Reagan', 'Nelson Mandela', 'Benjamin Disraeli', 'Walt Disney', 'Caroline Myss', 'Mother Teresa', 'Martin Luther King, Jr.', 'Marcus Aurelius', 'Donna Karan', 'Robin Williams', 'Booker T. Washington', 'Washington Irving', 'Brooke Shields', 'Benjamin Franklin', 'Princess Diana', 'Alexander Graham Bell', 'Anne Frank', 'Johnny Cash', 'Lyndon B. Johnson', 'Confucius', 'Warren G. Bennis', 'Les Brown', 'Dale Carnegie', 'Helen Keller', 'Johnny Cash', 'Walter Hagen', 'George S. Patton', 'Dolly Parton', 'Jim Rohn', 'William Arthur Ward', 'Winston Churchill', 'Groucho Marx', 'Ralph Waldo Emerson', 'Alice Walker', 'Dalai Lama', 'Barbara Sher', 'Wayne Dyer', 'Mother Teresa', 'Drake', 'Marilyn Monroe', 'A. A. Milne', 'Vince Lombardi', 'Ralph Waldo Emerson', 'Jim Rohn', 'Mother Teresa', 'Beverly Sills', 'Billy Graham', 'Ann Landers', 'Dwight D. Eisenhower', 'Stevie Wonder', 'Leo Buscaglia', 'Gillian Anderson', 'Jim Rohn', 'William Halsey', 'Benjamin Franklin', 'Henry David Thoreau', 'Mahatma Gandhi', 'Brian Tracy', 'Mae Jemison', 'Confucius', 'Anne Baxter', 'George Bernard Shaw', 'Ken Venturi', 'Ronald Reagan', 'Abraham Lincoln', 'C. S. Lewis', 'Bill Cosby', 'Eckhart Tolle', 'T. S. Eliot', 'Maxwell Maltz', 'Drew Houston', 'Nido R Qubein', 'Jim Rohn', 'Mahatma Gandhi', 'Mary Pickford', 'Sam Levenson', 'Orison Swett Marden', 'Malcolm X', 'Jon Stewart', 'Lucille Ball', 'Edith Head', 'Abraham Lincoln', 'Albert Schweitzer', 'Napoleon Hill', 'Norman Vincent Peale', 'Tony Robbins', 'Ronald Reagan', 'Mary Tyler Moore', 'Anne Sweeney', 'Mother Teresa', 'Martin Luther King, Jr.', 'Jim Rohn', 'Carol Burnett', 'Bear Bryant', 'Audrey Hepburn', 'Satchel Paige', 'H. G. Wells', 'Charles Spurgeon', 'Denis Waitley', 'Denis Waitley', 'E. M. Forster', 'Oliver Wendell Holmes, Jr.', 'Theodore Hesburgh', 'Napoleon Hill', 'Martin Luther', 'Jim Rohn', 'Marie Curie', 'Bo Jackson', 'Paulo Coelho', 'Nelson Mandela', 'Confucius', 'Joseph Campbell', 'Napoleon Bonaparte', 'Richard Branson', 'Rosalynn Carter', 'Lydia M. Child', 'Oscar Wilde', 'Pablo Picasso', 'Geezer Butler', 'E. M. Forster', 'Denis Waitley', 'Abraham Lincoln', 'Henry David Thoreau', 'Byron Katie', 'Sam Ewing', 'John C. Maxwell', 'Earl Nightingale', 'Henry Ford', 'Ann Landers', 'Eleanor Roosevelt', 'Robertson Davies', 'Tony Robbins', 'Charles Simmons', 'Brian Tracy', 'Aldous Huxley', 'Ernest Hemingway', 'George Edward Woodberry', 'Winston Churchill', 'Arthur Schopenhauer', 'Charles C. Krulak', 'Mother Teresa', 'Les Brown', 'Andy Rooney', 'Vince Lombardi', 'Barbara Smith', 'Mark Twain', 'Benjamin Disraeli', 'Barack Obama', 'Winston Churchill', 'Johann Wolfgang von Goethe', 'Max Lucado', 'John Wayne', 'George S. Patton', 'George Washington', 'William Morris', 'John J. Pershing', 'John Wooden', 'Nelson Mandela', 'Elbert Hubbard', 'Jimi Hendrix', 'Brian Tracy', 'Louis de Montfort', 'Jon Bon Jovi', 'Sydney J. Harris', 'Calvin Coolidge', 'Robert Kiyosaki', 'Oscar Wilde', 'Corrie Ten Boom', 'Louisa May Alcott', 'Christopher Morley', 'Norman Schwarzkopf', 'Thomas A. Edison', 'Dorothy Thompson', 'Martin Luther King, Jr.', 'Steve Jobs', 'Leo Buscaglia', 'Aristotle', 'Jack Welch', 'Plutarch', 'Jim Rohn', 'Carl Rogers', 'Princess Diana', 'John D. Rockefeller', 'Helen Keller', 'Abraham Lincoln', 'Erica Jong', 'Barbara Corcoran', 'Charles Spurgeon', 'Dale Carnegie', 'Doug Larson', 'William Arthur Ward', 'Erich Fromm', 'Elbert Hubbard', 'Denis Leary', 'Mother Teresa', 'Oprah Winfrey', 'Albert Einstein', 'Nelson Mandela', 'Sydney J. Harris', 'Bruce Lee', 'Henry Ford', 'Winston Churchill', 'William Tecumseh Sherman', 'Henry Ford', 'Jim Rohn', 'Benjamin Franklin', 'Jim Rohn', 'Wayne Dyer', 'Les Brown', 'Jimi Hendrix', 'Alphonse de Lamartine', 'Omar N. Bradley', 'Confucius', 'Steve Jobs', 'Roald Dahl', 'Harriet Beecher Stowe', 'Corrie Ten Boom', 'Ellen Glasgow', 'Will Rogers', 'Marilyn Monroe', 'Hermann Hesse', 'Emile Zola', 'Julie Isphording', 'Zig Ziglar', 'Eleanor Roosevelt', 'William Jennings Bryan', 'Michel de Montaigne', 'Mother Teresa', 'Mark Twain', 'Booker T. Washington', 'Edmund Burke', 'Chuck Palahniuk', 'Edgar Allan Poe', 'John Wooden', 'Daniel J. Boorstin', 'William Penn', 'Lee Iacocca', 'Albert Einstein', 'Abu Bakr', 'Dr. Seuss', 'Euripides', 'Wayne Dyer', 'Jim Rohn', 'Nelson Mandela', 'Jean de La Fontaine', 'William Arthur Ward', 'Margaret Fuller', 'Mark Twain', 'Walt Disney', 'Charles Kettering', 'Marcus Aurelius', 'Richard DeVos', 'Robert Fulghum', 'Milton Berle', 'Jim Rohn', 'Abraham Lincoln', 'Denis Waitley', 'Virginia Woolf', 'Tom Krause', 'Abdul Kalam', 'Edward Eggleston', 'Albert Einstein', 'Martin Luther King, Jr.', 'Gilda Radner', 'Jim Rohn', 'Frederick Buechner', 'Colin Powell', 'Albert Einstein', 'Wilma Rudolph', 'Lou Holtz', 'Will Smith', 'Goran Persson', 'Martin Luther King, Jr.', 'Barbara Bush', 'Ayn Rand', 'John F. Kennedy', 'Rose Kennedy', 'Martin Luther King, Jr.', 'Michael Landon', 'Henry David Thoreau', 'William Shakespeare', 'Woody Allen', 'F. Burton Howard', 'Christopher Reeve', 'Sydney J. Harris', 'Denis Waitley', 'Tom Brokaw', 'Bruce Lee', 'Jack Dixon', 'Pearl S. Buck', 'William Carey', 'John C. Maxwell', 'Albert Einstein', 'Nicholas Sparks', 'Harry Emerson Fosdick', 'Joseph Campbell', 'Golda Meir', 'Steve Jobs', 'Winston Churchill', 'Dwight L. Moody', 'Bill Gates', 'Soren Kierkegaard', 'Lois Wyse', 'Ambrose Bierce', 'Aristotle', 'Dwight D. Eisenhower', 'Arthur Schopenhauer', 'Marcus Tullius Cicero', 'Ernest Hemingway', 'Golda Meir', 'Joy Page', 'Stephen Covey', 'Lucille Ball', 'John Wooden', 'Napoleon Hill', 'Adrienne Rich', 'Babe Ruth', 'Benjamin Franklin', 'Will Rogers', 'Pat Riley', 'Nora Ephron', 'Anne Frank', 'Peter Drucker', 'Morris West', 'Haim Ginott', 'Helen Keller', 'Arthur Ashe', 'Winston Churchill', 'Zig Ziglar', 'Gerry Spence', 'Joyce Brothers', 'Jim Rohn', 'Abraham Lincoln', 'Princess Diana', 'Viktor E. Frankl', 'Frances Hodgson Burnett', 'Bruce Lee', 'Marian Wright Edelman', 'Chief Seattle', 'Dave Barry', 'Florence Nightingale', 'Jim Rohn', 'Clint Eastwood', 'Thomas Paine', 'Rosa Parks', 'B. B. King', 'Pablo Picasso', 'Helen Keller', 'Sheryl Sandberg', 'Zig Ziglar', 'Byron Katie', 'Eleanor Roosevelt', 'Betty Friedan', 'Melody Beattie', 'William Arthur Ward', 'Muhammad Ali', 'Jackie Joyner-Kersee', 'Theodore Roosevelt', 'Desmond Tutu', 'Vince Lombardi', 'Horace Greeley', 'Bob Marley', 'Ernest Hemingway', 'Brian Tracy', 'Mary Kay Ash', 'Paul Valery', 'Irving Berlin', 'Bono', 'Peter Marshall', 'Elizabeth Gilbert', 'Jim Rohn', 'Ken Keyes Jr.', 'Albert Einstein', 'Elisabeth Kubler-Ross', 'Tony Robbins', 'Stephen Covey', 'John Wooden', 'Erica Jong', 'William James', 'Thomas Szasz', 'John Barrymore', 'Joseph Joubert', 'Susan Sarandon', 'Voltaire', 'Jim Rohn', 'Barbara Johnson', 'John F. Kennedy', 'Lawrence Block', 'Frederick Douglass', 'Lucy Maud Montgomery', 'Albert Camus', 'Mike Singletary', 'John Bingham', 'Honore de Balzac', 'Burton Hill', 'Barbara De Angelis', 'Deepak Chopra', 'Eleanor Roosevelt', 'Vincent Van Gogh', 'Mark Twain', 'Dale Carnegie', 'John Locke', 'Julie Andrews', 'Guy Finley', 'Harper Lee', 'M. Scott Peck', 'Rumi', 'Plato', 'Billy Graham', 'Mary Kay Ash', 'Leo Buscaglia', 'Tony Robbins', 'Alfred Lord Tennyson', 'Margaret Mead', 'Billy Graham', 'Lydia M. Child', 'Ruby Dee', 'Michael Jordan', 'Leo Tolstoy', 'Bill Gates', 'Andrew Carnegie', 'Vern Law', 'Albert Camus', 'Anais Nin', 'Jim Rohn', 'Stephen Covey', 'Confucius', 'Warren Buffett', 'Richard Lamm', 'Louis de Montfort', 'James Madison', 'Gloria Steinem', 'Christian Dior', 'Winston Churchill', 'Wayne Dyer', 'Stephen Hawking', 'Joseph Campbell', 'Heath Ledger', 'Jim Rohn', 'Jim Rohn', 'Alan Cohen', 'Orison Swett Marden', 'Billy Graham', 'Ralph Waldo Emerson', 'John Muir', 'James Allen', 'Leonardo da Vinci', 'Tony Robbins', 'Tim Ferriss', 'Malcolm Forbes', 'Jacqueline Gareau', 'Joseph Addison', 'Benjamin Jowett', 'Jim Rohn', 'Robert Collier', 'Charles Buxton', 'Vernon Howard', 'Peace Pilgrim', 'Vince Lombardi', 'Wilma Rudolph', 'Jim Rohn', 'Haruki Murakami', 'James A. Baldwin', 'James Allen', 'John Green', 'Stephen Hawking', 'Khalil Gibran', 'Jim Rohn', 'Unknown', 'Thomas Huxley', 'Les Brown', 'Bobby Seale', 'John F. Kennedy', 'Andre Gide', 'Kurt Vonnegut', 'Thomas Fuller', 'Theodore Roosevelt', 'Anna Quindlen', 'Wayne Dyer', 'Paul Tournier', 'Bernard Baruch', 'Zig Ziglar', 'Maya Angelou', 'Melody Beattie', 'Paulo Coelho', 'Princess Diana', 'Joseph Campbell', 'Honore de Balzac', 'Bernard Williams', 'Ernest Hemingway', 'Janis Ian', 'Wayne Dyer', 'Ann Landers', 'Goldie Hawn', 'Wayne Dyer', 'Storm Jameson', 'Robin Sharma', 'Ralph Waldo Emerson', 'Abraham Lincoln', 'Ralph Abernathy', 'Robert Frost', 'Norman Vincent Peale', 'Vernon Howard', 'Joe Girard', 'Kurt Vonnegut', 'Francis Bacon', 'Shakti Gawain', 'Jon Bon Jovi', 'Ernest Hemingway', 'Wayne Dyer', 'Tony Robbins', 'Naguib Mahfouz', 'Henry David Thoreau', 'Dale Carnegie', 'Billy Graham', 'Swami Vivekananda', 'James Madison', 'Billy Graham', 'Johnny Depp', 'Alice Walker', 'Ronnie Lott', 'Harvey Fierstein', 'John Ruskin', 'Tyra Banks', 'Unknown', 'Victor Hugo', 'Thomas Jefferson', 'Sam Cawthorn', 'Rumi', 'Anton Chekhov', 'Winston Churchill', 'Helen Keller', 'Dalai Lama', 'Kathrine Switzer', 'Arthur Ashe', 'Billy Graham', 'Les Brown', 'Lady Gaga', 'Uta Hagen', 'John Bunyan', 'Jack LaLanne', 'Edward de Bono', 'Stephen King', 'Norman Vincent Peale', 'Milton Friedman', 'Paulo Coelho', 'Don Herold', 'Wayne Dyer', 'Arthur Rubinstein', 'Johann Wolfgang von Goethe', 'Napoleon Hill', 'Lou Holtz', 'Abraham Lincoln', 'Marcus Aurelius', 'Pope John Paul II', 'Neal A. Maxwell', 'Anne Frank', 'George S. Patton', 'William James', 'Sun Tzu', 'Galileo Galilei', 'Epictetus', 'George S. Patton', 'Thomas Fuller', 'Ray Kroc', 'Arthur Ashe', 'Christina Rossetti', 'Jim Rohn', 'Sylvia Plath', 'James Earl Jones', 'Jim Rohn', 'Mark Twain', 'Og Mandino', 'Malcolm X', 'W. Clement Stone', 'Abraham Lincoln', 'Rick Warren', 'Andy Rooney', 'Frederick Douglass', 'Thomas Jefferson', 'Tim Allen', 'James L. Jones', 'Albert Einstein', 'Saint Augustine', 'Paulo Coelho', 'Che Guevara', 'Marianne Williamson', 'Og Mandino', 'Wayne Dyer', 'Malcolm Forbes', 'Mary Pickford', 'Jim Rohn', 'Sigmund Freud', 'Phil McGraw', 'Robert Fulghum', 'Helen Keller', 'John Green', 'Doris Day', 'Allen Klein', 'Wayne Dyer', 'Wayne Dyer', 'Thomas Paine', 'Ben Stein', 'Richard Bach', 'Ralph Waldo Emerson', 'Jim Rohn', 'H. Jackson Brown, Jr.', 'Epictetus', 'Michael Jordan', 'Mark Twain', 'Gloria Steinem', 'Douglas MacArthur', 'Dale Carnegie', 'Jim Rohn', 'Vernon Howard', 'Victor H. Krulak', 'Paramahansa Yogananda', 'Henry Ward Beecher', 'Tony Robbins', 'Abigail Adams', 'J. K. Rowling', 'Billy Graham', 'Maya Angelou', 'Bill Cosby', 'Fyodor Dostoevsky', 'Kristin Chenoweth', 'Aldous Huxley', 'John Calvin', 'Marsha Petrie Sue', 'Marilyn vos Savant', 'Matsuo Basho', 'Robert Frost', 'Charlie Chaplin', 'Jim Rohn', 'Babe Ruth', 'John Piper', 'John Wooden', 'Albert Einstein', 'Samuel Ullman', 'Eleanor Roosevelt', 'John F. Kennedy', 'William James', 'Cary Grant', 'Joel Osteen', 'Lewis Grizzard', 'Erma Bombeck', 'Malcolm X', 'Jim Rohn', 'Vince Lombardi', 'Kobe Bryant', 'John C. Maxwell', 'Erich Fromm', 'Jim Rohn', 'Khalil Gibran', 'John Lennon', 'Marcus Aurelius', 'Albert Einstein', 'Earl Nightingale', 'Wilson Mizner', 'J. R. R. Tolkien', 'Pema Chodron', 'John F. Kennedy', 'Horace', 'Banksy', 'Jim Rohn', 'Jim Rohn', 'Eleanor Roosevelt', 'Chesty Puller', 'Bruce Lee', 'Jim Rohn', 'Abraham Lincoln', 'Melinda Gates', 'Jim Rohn', 'Johnny Cash', 'Harun Yahya', 'Gilbert K. Chesterton', 'Paulo Coelho', 'Jim Rohn', 'Thomas Jefferson', 'Henrik Ibsen', 'Amelia Earhart', 'Ludwig von Mises', 'Elizabeth Cady Stanton', 'Benjamin Spock', 'Michael Jordan', 'Charles Kettering', 'B.K.S. Iyengar', 'Michael Caine', 'Billy Graham', 'Jim Rohn', 'William Arthur Ward', 'Thomas A. Edison', 'Thomas Merton', 'George Mason', 'Michael Chang', 'Jim Rohn', 'Leo Buscaglia', 'Benjamin Franklin', 'Richard Harding Davis', 'Bob Marley', 'Friedrich Nietzsche', 'Larry Eisenberg', 'Robert A. Heinlein', 'Pablo Picasso', 'Confucius', 'William Ellery Channing', 'George A. Sheehan', 'William Arthur Ward', 'Helen Hayes', 'Henry Wadsworth Longfellow', 'Robert W. Service', 'Bruce Lee', 'Voltaire', 'Lewis Carroll', 'Miles Davis', 'Jim Morrison', 'Mark Twain', 'Malcolm Forbes', 'Eckhart Tolle', 'Albert Einstein', 'Robert E. Cushman, Jr.', 'Flip Wilson', 'Plato', 'Claude Bernard', 'Franklin D. Roosevelt', 'Maya Angelou', 'Mother Teresa', 'Vince Lombardi', 'Willie Nelson', 'George Washington Carver', 'Rabindranath Tagore', 'Mario', 'Jim Rohn', 'Tony Robbins', 'Norman Vincent Peale', 'Franklin D. Roosevelt', 'Winston Churchill', 'Steve Jobs', 'Norman Vincent Peale', 'John Burroughs', 'Albert Einstein', 'Edward R. Murrow', 'Sam Walton', 'R. Buckminster Fuller', 'Loretta Young', 'Marvin Minsky', 'Nancy Lopez', 'Jesse Owens', 'Jane Austen', 'Al Neuharth', 'Lillian Hellman', 'Nhat Hanh', 'Daniel J. Boorstin', 'Judy Garland', 'Og Mandino', 'John Bingham', 'Albert Einstein', 'William James', 'Rita Mae Brown', 'John Dewey', 'Desmond Tutu', 'Margaret Thatcher', 'Eckhart Tolle', 'Ayn Rand', 'Calvin Coolidge', 'Leo Buscaglia', 'Rumi', 'Mark Twain', 'Friedrich Nietzsche', 'Giorgio Armani', 'Aesop', 'Jane Austen', 'Elie Wiesel', 'Samuel Johnson', 'John C. Maxwell', 'Sydney J. Harris', 'Hunter S. Thompson', 'Jim Rohn', 'Ram Dass', 'Plutarch']\n"
     ]
    },
    {
     "data": {
      "text/plain": [
       "1000"
      ]
     },
     "execution_count": 23,
     "metadata": {},
     "output_type": "execute_result"
    }
   ],
   "source": [
    "import time\n",
    "author=[]\n",
    "for page in range(0,10):\n",
    "    authortag=driver5.find_elements(By.XPATH, '//div[@class=\"author\"]/a')\n",
    "    for i in authortag:\n",
    "    \n",
    "        author.append(i.text)\n",
    "    next_button5=driver5.find_element(By.CSS_SELECTOR, \".next\")\n",
    "    next_button5.click()\n",
    "    time.sleep(3)\n",
    "    #Quotetag=driver5.find_elements(By.XPATH, '//a[@class=\"title\"]')\n",
    "#snek=brand_sneak[0:100]\n",
    "print(author)\n",
    "len(author)"
   ]
  },
  {
   "cell_type": "code",
   "execution_count": null,
   "id": "c349d6ce",
   "metadata": {},
   "outputs": [],
   "source": []
  },
  {
   "cell_type": "code",
   "execution_count": 25,
   "id": "7f1eec26",
   "metadata": {},
   "outputs": [
    {
     "name": "stdout",
     "output_type": "stream",
     "text": [
      "['Essence, Deep Thought, Transcendentalism', 'Inspiration, Past, Trying', 'Country, Peace, War', 'Inspirational, Motivational, Death', '4th Of July, Food, Patriotic', 'Inspirational, Success, Basketball', 'Strong, Revenge, Intelligent', 'Inspirational, Teacher, Religious', 'Truth, Honesty, Lying', 'Funny, Reading, Learning', 'Strong, Thoughtful, Compassion', 'Love, Funny, Life', 'Freedom, Men, Democracies Have', 'God, Religious, Atheist', 'Respect, Kindness, Character', 'Inspirational, Motivational, Change', 'Inspirational, Life, Inspiring', 'Love, Inspirational, Life', 'Inspiring, Country, 4th Of July', 'Inspirational, Dream, Hate', 'Love, Inspirational, Life', 'Forgiveness, God, Christian', 'Country, Men, Squares', 'Inspirational, Relationship, Positive', 'Inspirational, Motivational, Positive', 'Love, Friendship, Relationship', 'Faith, God, Christian', 'Art, Freedom, Political Will', 'Inspirational, Life, Faith', 'Inspirational, Life, Meaningful', 'Happiness, Time, Clever', 'Inspirational, Inspiring, Success', 'Love, Inspirational, Life', 'Music, Sound And Music, Musical Life', 'Adversity, Blow, Action', 'Positive, Thinking Of You, Attitude', 'Inspirational, Funny, Life', 'Inspirational, Life, Motivational', 'Inspirational, Memorial Day, Freedom', 'Freedom, Patriotic, Vaccines', 'Philosophy, Ignorance, Democratic Socialism', 'Inspirational, Dance, Education', 'Life, Change, Positive', 'Life, Bullying, Mistake', 'Life, Nature, Children', 'Inspirational, Life, Motivational', 'Marriage, Love You, Long', 'Inspirational, Motivational, Success', 'Love, Inspirational, Life', 'Diversity, Important, Liberty', 'Inspirational, God, Faith', 'Inspirational, Motivational, Inspiring', 'Business, Stupid, Government', 'Beauty, Love Yourself, Your Beautiful', 'Inspirational, Life, Motivational', 'Peace, Military, War', 'Inspirational, Leadership, Confidence', 'Motivational, Military, War', 'Christian, Jesus, Confusing', 'Inspirational, Success, Sports', 'Inspirational, Motivational, Success', 'Inspirational, Life, Clever', 'Inspirational, Death, Failure', 'Inspirational, Life, Motivational', 'Inspiring, Hope, Spring', 'Motivational, Running, People', 'Inspirational, Motivational, Positive', 'Summer, Food, Garden', 'Inspirational, Life, Motivational', 'Inspirational, Life, Thank You', 'Funny, Sports, Jobs', 'Being Strong, Wisdom, Stay Strong', 'Inspirational, Motivational, Positive', 'Time, Pain, Get Well', 'Motivational, Positive, Moon', 'Life, God, Christian', 'President, Needs, Purpose', 'God, Faith, Christian', 'Women, Failure, Successful', 'Inspirational, Morning, Kindness', 'Hiding Place, Ability, Baby Boom', 'Love, Inspirational, Life', 'Inspirational, Change, Philosophy', 'Inspirational, Family, Inspiring', 'Inspirational, Success, Courage', 'Inspirational, Life, Motivational', 'Christian, Vision, Missionary', 'Inspirational, Positive, Regret', 'Love, Inspirational, Life', 'Inspirational, Life, Encouragement', 'Happy Birthday, Baseball, Fun', 'Leadership, Power, Opportunity', 'Inspirational, Life, Positive', 'Inspirational, Encouraging, Patience', 'New Year, Fun, New Beginnings', 'Music, Sports, Hunting', 'Trust, Encouraging, Uplifting', 'Inspirational, Funny, Change', 'Success, God, Mother', 'Inspirational, Motivational, Change', 'Spring, April, Fragrance', 'Inspirational, Faith, Spiritual', 'Inspirational, Motivational, Positive', 'Love, Inspirational, Life', 'Strength, Peace, Gun', 'Inspirational, Happiness, Leadership', 'Motivational, Dream, Determination', 'Freedom, Independent, Science', 'Life, Being Strong, Wisdom', 'Happy, God, New Year', 'Inspiring, Leadership, Teacher', 'Inspirational, Motivational, Fear', 'Inspirational, Success, Business', 'Inspirational, Respect, Idols', 'God, Bridges, Grace', 'Inspirational, Life, Self Esteem', 'Inspirational, Change, Moving On', 'Life, Change, Happiness', 'Inspirational, Life, Motivational', 'Love, Success, Encouraging', 'Government, Gun Control, Second Amendment', 'Inspirational, Motivational, Moving On', 'Inspirational, Life, Motivational', 'Love, Life, Positive', 'Love, Loving Yourself, Stay Positive', 'Inspirational, Life, Motivational', 'Inspirational, Life, Motivational', 'Love, Marriage, Wedding', 'Freedom, Liberty, Libertarian', 'Inspirational, Motivational, Positive', 'Moving On, Growing Up, Memories', 'Dream, Kings, Children', 'Art, Philosophy, Crazy', 'Self Esteem, Helping Others, Numbers', 'Inspirational, Motivational, Sports', 'Inspirational, Happiness, Happy', 'Happiness, Moving On, Letting Go', 'Inspirational, Motivational, Success', 'Inspirational, Blessed, Blessing', 'Inspirational, Life, Country', 'Inspirational, Funny, Life', 'Inspirational, Music, Lonely', 'Men, Self, Soul', 'Inspirational, Success, God', 'Thank You, Military, Marine', 'Trust, God, Confidence', 'Inspirational, Funny, Witty', 'Inspirational, Motivational, Inspiring', 'Motivational, Commitment, Tolerance', 'Inspirational, Life, Motivational', 'Motivational, Perseverance, Work', 'Ignorance, Knowledge, Hunting', 'Inspirational, Motivational, Positive', 'Motivational, Perseverance, Morning', 'Inspirational, Success, Letting Go', 'Military, Army, Warfare', 'Happiness, Being Happy, Peace', 'Inspirational, Change, Positive', 'Strength, Inspiring, Dream', 'Dog, Men, Animal', 'Inspirational, Life, Motivational', 'Inspirational, Motivational, Change', 'Inspirational, Leadership, Wise', 'Friendship, Fake Friends, Memorable', 'Inspirational, Money, Business', 'Love, Marriage, Home', 'Life, Death, Wisdom', 'Change, America, Presidential', 'Basketball, Motivational Sports, Character', 'Inspirational, Inspiring, Christian', 'Inspirational, Education, Moving', 'Inspirational, Children, Growing Up', 'Inspiring, Children, Team', 'Love, Funny, Sarcastic', 'Inspirational, Motivational, Change', 'Inspirational, Relationship, Inspiring', 'Death, Philosophy, Real', 'Funny, Life, Motivational', 'Love, Birthday, Family', 'Life, Friendship, Best Friend', 'Inspirational, Life, Motivational', 'Inspirational, Life, Motivational', 'Teacher, Peace, Children', 'Inspirational, Life, Positive', 'Peace, War, Memorable', 'Inspirational, Life, Motivational', 'Inspirational, Women, Sight', 'Motivational, Success, Encouragement', 'Motivational, Faith, Sports', 'Positive, Inspiring, Success', 'Inspirational, Faith, Hope', 'Love, Inspirational, Motivational', 'Success, Encouraging, Patience', 'Love, Inspirational, Motivational', 'Love, Inspirational, Life', 'Inspirational, Life, Motivational', 'Inspirational, Motivational, Positive', 'Love, Life, Lonely', 'Love, Inspirational, Friendship', 'Inspirational, Change, Inspiring', 'Inspirational, Motivational, Positive', 'Motivational, Happiness, Letting Go', 'Inspirational, Motivational, Positive', 'Encouraging, Basketball, Uplifting', 'Inspirational, Positive, Wisdom', 'Inspirational, Motivational, Positive', 'Love, Wisdom, Inspiration', 'Inspirational, Relationship, Inspiring', 'Education, Perseverance, Giving Up', 'Inspirational, Motivational, Positive', 'Love, Inspirational, Inspiring', 'Inspirational, Dream, Children', 'Inspirational, Music, Spiritual', 'Leadership, Business, Motivation', 'Inspirational, Success, Leadership', 'Love, Life, God', 'Inspirational, Change, Positive', 'Baseball, Motivational Sports, Games', 'Motivational, Graduation, Dream', 'Hate, Real, Winning', 'Business, Light, Politics', 'Inspiring, Beautiful, Hair', 'Inspirational, Motivational, Positive', 'Inspirational, Motivational, Positive', 'Inspiring, Inspiration, Healing', 'Love, Family, Marriage', 'Inspirational, Positive, Faith', 'Inspirational, Life, Change', 'Positive, Fashion, Hair', 'Carpe Diem, Boys, Dead Poets Society', 'Positive, Strength, Success', 'Inspirational, Positive, Meaningful', 'Inspirational, Happy, Wise', 'Happiness, Christmas, Sarcastic', 'Mothers Day, Mom, Mother Daughter', 'Success, Stress, Congratulations', 'Motivational, Positive, Work', 'Nice, Fighting, Cash Flow', 'Inspirational, Life, Motivational', 'Inspirational, Motivational, Positive', 'Inspirational, Motivational, Leadership', 'Music, Dream, Teacher', 'Love, Inspirational, Funny', 'Inspirational, Motivational, Positive', 'Money, Worry, World', 'Memories, Remember, Second Place', 'Country, Military, War', 'Inspirational, Motivational, Positive', 'Motivational, Success, Education', 'Inspirational, Positive, Smile', 'Inspirational, Change, Inspiring', 'Inspirational, Happiness, Happy', 'Inspirational, Positive, Dream', 'Happiness, Success, Being Happy', 'Inspirational, Life, Motivational', 'Good Luck, Lucky, Way', 'Inspirational, Life, Karma', 'Inspirational, Birthday, Happiness', 'Life, Humble, Positivity', 'Love, Inspirational, Life', 'Love, Inspirational, Friendship', 'Softball, Sports, Athlete', 'Inspirational, Motivational, Positive', 'Inspirational, Positive, Happiness', 'Love, Inspirational, Life', 'Inspirational, Motivational, Positive', 'Christian, Travel, Home', 'Inspirational, Motivational, Success', 'Veterans Day, Freedom, Military', 'Inspirational, Life, Inspiring', 'Inspirational, Motivational, Positive', 'Relationship, Night, Just Friends', 'Life, Motivational, Positive', 'Country, New York, Military', 'Inspirational, Inspiring, Perseverance', 'Life, Business, Simple', 'Inspirational, Motivational, Positive', 'Inspirational, Life, Motivational', 'Inspiring, Strong Women, History', 'Inspirational, Happiness, Graduation', 'Motivational, Failure, Inspiration', 'Inspirational, Life, Motivational', 'Motivational, Get Well, Believe', 'Business, Government, Political', 'Inspirational, Positive, Happiness', 'Inspirational, Change, Inspiring', 'Inspirational, Motivational, Success', 'Inspirational, Life, Happiness', 'Inspirational, Life, Motivational', 'Change, Decision, Cybernetics', 'Inspirational, Motivational, Business', 'Inspirational, Life, Motivational', 'Inspirational, Motivational, Success', 'Inspirational, Positive, Happiness', 'Inspirational, Motivational, Positive', 'Motivational, Moving On, Success', 'Inspirational, Strength, Strong', 'Hate, Lying, Media', 'Funny, Thanksgiving, Holiday', 'Inspirational, Life, Positive', 'Fashion, Eyebrows, Icons', 'Leadership, God, Wisdom', 'Happiness, Success, Happy', 'Inspirational, Positive, Success', 'Christmas, Holiday, Giving', 'Inspirational, Motivational, Powerful', 'Courage, War, Patriotic', 'Inspirational, Positive, Courage', 'Positive, Inspiring, Success', 'Inspirational, Friendship, Positive', 'Change, Uplifting, Spiritual', 'Life, Motivational, Inspiring', 'Inspirational, Change, Attitude', 'Inspirational, Sports, Football', 'Life, Happiness, Happy', 'Inspirational, Encouraging, Sports', 'Motivational, Strength, Moving On', 'Positive, Happiness, Being Happy', 'Motivational, Past, Insightful', 'Success, Moving On, Letting Go', 'Break Up, Letting Go, Breakup', 'Inspirational, Wise, Travel', 'Love, Inspirational, Funny', 'Inspirational, Motivational, Success', 'Trust, Encouraging, Hope', 'Spiritual, Jobs, Work', 'Life, Encouraging, Being Strong', 'Inspirational, Motivational, Sports', 'Inspiring, Teacher, Teaching', 'Men, Justice, Overcoming', 'Success, Congratulations, Failure', 'Inspirational, Life, Change', 'Inspirational, Leadership, Encouraging', 'Inspirational, Success, Encouraging', 'Motivational, Leadership, People', 'Inspirational, Motivational, Success', 'Inspirational, Funny, Motivational', 'Inspirational, Life, Inspiring', 'Music, Boys, Poison', 'Football, Motivation, Passion', 'Motivational, Change, Stay Strong', 'Inspirational, Life, 4th Of July', 'Inspirational, Motivational, Positive', 'Life, Positive, Wisdom', 'Motivational, Success, Attitude', 'Inspirational, Leadership, Basketball', 'Inspirational, Motivational, Success', 'Inspirational, Loyalty, Money', 'Love, Friendship, Forgiveness', 'Inspirational, Life, Motivational', 'Courage, Adversity, Ordinary Extraordinary', 'Inspirational, Life, Motivational', 'Determination, Power, Trying', 'Inspirational, Positive, Success', 'Inspirational, Life, Motivational', 'Inspirational, Relationship, Peace', 'Inspirational, Success, Motivational Sports', 'Inspirational, Motivational, Strength', 'Inspirational, Witty, Truth', 'Military, Marine, Winning', 'Love, Positive, Marriage', 'Inspirational, Motivational, Determination', 'Love, Happiness, Smile', 'Inspirational, Motivational, Success', 'Love, Life, Trust', 'Life, Graduation, Wise', 'Inspirational, Being Yourself, Clever', 'Country, War, Mean', 'Determination, Military, War', 'Inspirational, Funny, Motivational', 'Inspirational, Change, Uplifting', 'Funny, Life, Leadership', 'Leadership, Military, Bad Ass', '4th Of July, America, Liberty', 'Inspirational, Life, Positive', 'Military, Marine, Rifles', 'Inspirational, Life, Change', 'Inspirational, Motivational, Inspiring', 'Morning, Business, Work', 'Play, Easy, Feels', 'Inspirational, Motivational, Success', 'Christian, Religious, Prayer', 'Positive, Success, Fall', 'Graduation, Education, Wall', 'Military, Army, Navy', 'Inspirational, Motivational, Success', 'Inspirational, Funny, Life', 'Inspirational, Motivational, Love Is', 'Inspirational, Confidence, Wisdom', 'Inspirational, Life, Positive', 'Inspiring, Courage, Veterans Day', 'Inspirational, Funny, Motivational', 'Love, Inspirational, Motivational', 'Kings, Stars, Hate', 'Inspirational, Motivational, Leadership', 'Inspirational, Life, Motivational', 'Inspirational, Leadership, Insperational', 'Life, Motivational, Change', 'Friendship, Change, Philosophy', 'Funny, Motivational, Positive Thinking', 'Inspirational, Motivational, Education', 'Inspirational, Motivational, Kindness', 'Inspirational, Motivational, Positive', 'Inspirational, Life, Motivational', 'Country, Veterans Day, Brother', 'Inspirational, Life, Success', 'Inspirational, Strong Women, Empowering', 'Trust, Travel, Truth', 'Inspirational, Life, Motivational', 'Inspirational, Wise, Wisdom', 'Inspirational, Friendship, Relationship', 'Letting Go, Spiritual, Courage', 'Motivational, Positive, Gratitude', 'Powerful, Hate, Son', 'Love, Positive, Happiness', 'Inspirational, Life, Positive', 'Inspirational, Life, Friendship', 'Inspirational, Inspiring, Courage', 'Happiness, Happy, Being Happy', 'Wise, Wisdom, Stupid', 'Inspirational, Life, Education', 'Nature, Educational, Humorous', 'Courage, Men, Perfect', 'Inspirational, Motivational, Success', 'Inspirational, Money, Time', 'Happiness, Witty, Money', 'Inspirational, Life, Wisdom', 'Inspirational, Motivational, Positive', 'Strong, Powerful, Past', 'Inspirational, Life, Music', 'Travel, Istanbul, Cities', 'Memorial Day, Courage, Adventure', 'Inspirational, Motivational, Change', 'Inspirational, Attitude, Yoga', 'Inspirational, Life, Believe', 'Inspirational, Motivational, Moving On', 'Faith, God, Christian', 'Change, Positive, Organization', 'Inspirational, Life, Positive', 'Love, Funny, Relationship', 'Love, Life, Strength', 'Inspirational, Life, Positive', 'Running, Long, Joy', 'Motivational, Success, Business', 'Happiness, Success, Happy', 'Inspirational, Life, Motivational', 'Veterans Day, Memorial Day, Courage', 'Life, New Year, Mother', 'Inspirational, Life, Motivational', 'Inspirational, Life, Motivational', 'Inspirational, Wisdom, Witty', 'Inspirational, Life, Inspiring', 'Depression, Spring, Science', 'Inspirational, Life, Motivational', 'Inspiring, Education, Wisdom', 'Time, Top Management, Want', 'Love, Family, Wise', 'Inspirational, Education, Knowledge', 'Complaints, Caliphs, Invites', 'Inspirational, Life, Inspiring', 'Inspirational, Wisdom, Hands', 'Motivational, Spiritual, Work', 'Inspirational, Life, Motivational', 'Justice, Overcoming, Fundamentals', 'Inspirational, Strength, Being Strong', 'Inspirational, Motivational, Dream', 'Inspirational, Positive, Education', 'Inspirational, Motivational, Positive', 'Inspirational, Positive Thinking, Long', 'Motivational, Positive, Faith', 'Truth, Intelligent, Greatness', 'Life, Relationship, Money', 'Marriage, Mother, Children', 'Funny, Mothers Day, Hilarious', 'Inspirational, Motivational, Positive', 'Motivational, Faith, Attitude', 'Love, Happiness, Smile', 'Life, Meaningful, Peace', 'Inspirational, Positive, Cheer', 'Courage, Thinking, People', 'Change, Success, Running', 'Inspirational, Positive, Leadership', 'Love, Friendship, Change', 'Life, Change, Goodbye', 'Inspirational, Decisions You Make, Progress', 'Life, God, Christian', 'Life, Moving On, Wise', 'Motivational, Education, Freedom', 'Inspirational, Positive, Determination', 'Inspirational, Volleyball, Football', 'Forgiveness, Jealousy, Hater', 'Inspirational, New Year, Time', 'Inspirational, Motivational, Change', 'Success, Congratulations, Teaching', 'Men, Rights, Use', '4th Of July, Responsibility, Past', 'Inspirational, Life, Change', 'Inspirational, Positive, Inspiring', 'Motivational, Positive, Death', 'Inspirational, Being Yourself, Real', 'Music, Food, Unrequited Love', 'Inspirational, Positive, Inspiring', 'Love, Family, Marriage', 'Inspirational, Motivational, Strength', 'Love, Funny, Change', 'Positive, Confidence, Buddhist', 'Inspirational, Appreciation, Motivation', 'Children, Greatness, Organization', 'Motivational, Change, Basketball', 'Inspirational, Monday, Work', 'Christian, Spiritual, Religion', 'Inspirational, Spiritual, Growing Up', 'Inspirational, Education, Learning', 'Relationship, Mean, Long', 'Inspirational, Funny, Sad', 'Inspirational, Being Yourself, Appreciation', 'Motivational, Happiness, Happy', 'Inspirational, Life, Motivational', 'Inspirational, Inspiring, Dog', 'Leadership, Character, Care', 'Inspirational, Success, Teacher', 'Love, Life, Positive', 'Life, Friendship, Best Friend', 'Inspirational, Cute, Sad', 'Life, Success, Wisdom', 'Life, Change, Wise', 'Inspirational, Life, Beautiful', 'Moving, Tyrants, World Government', 'Inspirational, Positive, Courage', 'Inspirational, Life, Change', 'Dream, Giving, Permission', 'Inspirational, Motivational, Courage', 'Love, Inspirational, Relationship', 'Inspirational, Motivational, Success', 'Love, Inspirational, Family', 'Inspirational, Motivational, Feminist', 'Success, Baseball, Fear', 'Inspirational, Learning, Ignorance', 'Inspirational, Funny, Life', 'Inspirational, Basketball, Sports', 'Life, Inspiring, Encouraging', 'Inspirational, Life, Positive', 'Inspirational, Motivational, Business', 'Happiness, Summer, Christian', 'Children, Nice, Self Esteem', 'Inspirational, Life, Motivational', 'Inspirational, Motivational, Positive', 'Love, Inspirational, Life', 'Inspirational, Funny, Life', 'Life, Faith, Religious', 'Positive, Success, Determination', 'Motivational, Success, Dream', 'Inspirational, Basketball, Peace', 'Jobs, Women, Princess', 'Inspirational, Change, Positive', 'Cheer Up, Positive Attitude, Garden', \"Motivation, Don't Give Up, Positivity\", 'Education, Learning, Community', 'Change, Sympathy, Native American', 'Inspirational, Motivational, Respect', 'Inspirational, Life, Motivational', 'Inspiring, Success, Life And Love', 'Funny, Gun, Want', 'Veterans Day, Time, Peace', 'Inspirational, Positive, Inspiring', 'Love, Inspirational, Life', 'Inspirational, Life, Success', 'Death, Spiritual, Courage', 'Inspirational, Life, Motivational', 'Inspirational, Motivational, Encouraging', 'Inspiring, Boyfriend, Strong Women', 'Inspirational, Life, Motivational', 'Birthday, Strength, Inspiring', 'Happiness, Thanksgiving, Thank You', 'Inspirational, Inspiring, Leadership', 'Inspirational, Motivational, Sports', 'Inspirational, Motivational, Success', 'Inspirational, Life, Motivational', 'Bullying, Peace, Elephants', 'Inspirational, Life, Motivational', 'Wisdom, Character, Wings', 'Funny, Music, Wisdom', 'Life, Happiness, Happy', 'Thankful, Gratitude, Appreciation', 'Inspiring, Success, Failure', 'Inspirational, Motivational, Positive', 'Life, Veterans Day, Attitude', 'Love, Inspirational, Motivational', 'Love, Motivational, Family', 'Life, Being Yourself, Positivity', 'Inspirational, Motivational, Success', 'Love, Inspirational, Positive', 'Inspirational, Funny, Witty', 'Inspirational, Beauty, Beautiful', 'Success, Tattoo, Business', 'Life, Change, Bad Ass', 'Basketball, Youth Of Today, Nba', 'Funny, Being Strong, Spiritual', 'Inspirational, Life, Motivational', 'Courage, Thinking, Clear', 'Love, Inspirational, Life', 'Love, Kindness, Women', 'Kindness, Power, Imagination', 'Wisdom, Clever, Men', 'Inspirational, Business, Investment', 'Love, Inspirational, Life', 'Inspirational, Success, Helping Others', 'Inspirational, Funny, Travel', 'Life, Freedom, Work', 'Regret, Mistake, Should', 'Understanding, Experience, Minimalist', 'Inspirational, Sports, Football', 'Inspirational, Softball, Sports', 'Inspirational, Motivational, Helping Others', 'Inspirational, Life, Happiness', 'Love, Letting Go, Meaningful', 'Spiritual, Yoga, Positive Thinking', 'Inspirational, Life, Motivational', 'Inspirational, Motivational, Positive', 'Life, Cheating, Funny Inspirational', 'Sweet, Grandchildren, Way', 'Funny, Money, Shoes', 'Inspirational, Positive, Success', 'Inspirational, Single, Letting Go', 'Powerful, Positivity, Sunshine', 'Inspirational, Funny, Motivational', 'Sympathy, Death, True Love', 'Plato, Desire, Three', 'Motivational, Veterans Day, Memorial Day', 'Inspirational, Success, Enthusiasm For Life', 'Love, Death, Positivity', 'Inspirational, Life, Family', 'Dream, Spiritual, Prayer', 'Uplifting, Determination, Work', 'Family, Respect, Children', 'Happiness, Happy, Helping Others', 'Strength, Inspiring, Beauty', 'Inspirational, Motivational, Change', 'Life, Birthday, Happiness', 'Inspirational, Success, Motivation', 'Motivational, Success, Encouragement', 'Inspirational, Sports, Education', 'Suicide, Coffee, Optimistic', 'Inspirational, Life, Motivational', 'Goal, Self Help, Reason', 'Inspirational, Inspiring, Life Changing', 'Education, Giving Up, Philosophical', 'Money, Business, Dollars', 'Funny, Christmas, Xmas', 'Christian, Jesus, Prayer', 'Country, People, Liberty', 'Mother Daughter, Courage, Honesty', 'Love, Fashion, Women', 'Funny, Leadership, Education', 'Motivational, Happiness, People', 'Anger, People, Always Complaining', 'Inspirational, Life, Happiness', 'Believe, Dark, Knights', 'Inspirational, Motivational, Positive', 'Motivational, Failure, House', 'Inspirational, Being Yourself, Truth', 'Hope, Powerful, Get Well Soon', 'Life, Faith, Forgiveness', 'Inspirational, Success, Forgiveness', 'Nature, Heart, Garden', 'Inspirational, Dream, Sleep', 'Inspirational, Education, Teaching', 'Life, Motivational, Spiritual', 'Inspirational, Positive, Inspiring', 'Positive, Success, Gymnastics', 'Motivational, Fitness, Running', 'Inspirational, Life, Friendship', 'Life, Positive, Business', 'Motivational, Change, Greatness', 'Inspirational, Motivational, Success', 'Inspirational, Motivational, Change', 'Life, Happiness, Success', 'Inspirational, Positive, Trust', 'Inspirational, Motivational, Basketball', 'Sports, Running, Winning', 'Inspirational, Life, Change', 'Inspirational, Book, Reading', 'Inspirational, Change, Leadership', 'Strength, Determination, Service Culture', 'Inspirational, Life, Hipster', 'Education, Science, People', 'Inspirational, Life, Dream', 'Inspirational, Missing You, Book', 'Inspirational, Friendship, Lonely', 'Graduation, Witty, Educational', 'Inspirational, Inspiring, Success', 'Fighting, Racism, Brotherhood', 'Inspirational, Leadership, Basketball', 'Inspirational, Motivational, Change', 'Life, Happiness, Wisdom', 'Inspirational, Motivational, Positive', 'Leadership, Differences, People', 'Confidence, Letting Go, Being Yourself', 'Love, Anxiety, Self Improvement', 'Positive, Sports, Confidence', 'Inspirational, Funny, Life', 'Inspirational, Life, Motivational', 'Inspirational, Motivational, Change', 'Inspirational, Life, Change', 'Inspirational, Life, Happiness', 'Women, Book, Heart', 'Life, Inspiring, Veterans Day', 'Love, Inspiring, Positivity', 'Inspirational, Positive, Inspiring', 'Relationship, Inspiring, Trust', 'The End Of The Day, Goes On, Realizing', 'Inspirational, Life, Motivational', 'Inspirational, Life, Motivational', 'Happiness, Smile, Inspiration', 'Inspirational, Leadership, Karma', 'Life, Miracle, Way To Live', 'Life, Positive, Time', 'Inspirational, Life, Fear', 'Inspirational, Positive, Religious', 'Future, Kwanzaa, African American', 'Inspirational, Motivational, Positive', 'Inspirational, Life, Motivational', 'Inspirational, Life, Inspiring', 'Inspirational, Motivational, Inspiring', 'Funny, Running, Country', 'Wise, Wisdom, Clever', 'Inspirational, Motivational, Spiritual', 'Inspiring, Christmas, Dream', 'Positive, Witty, Mistake', 'Life, Karma, People', 'Inspirational, Education, Teacher', 'Inspirational, Leadership, Wise', 'Love, Inspirational, Life', 'Inspirational, Success, Encouraging', 'Christmas, Xmas, Heart', 'Inspirational, Motivational, Spiritual', 'Inspirational, Freedom, Fear', 'Motivational, God, Religious', 'Inspirational, Relationship, Broken Heart', 'Inspirational, Motivational, Positive', 'Graduation, Sports, Football', 'Positive, Prayer, Life Changing', 'Motivational, Believe, Acceptance', 'Confidence, Being Yourself, Self Esteem', 'Bible, God, Education', 'Thanksgiving, Prayer, Wings', 'Strength, Wisdom, Veterans Day', 'Inspirational, Life, Jealousy', 'Anniversary, Marriage, Valentines Day', 'Knowledge, Technology, Practice', 'Inspirational, Hope, Freedom', 'Softball, Faith, Inspiration', 'Peace, Nature, Inspiration', 'Faith, Sports, Running', 'Inspirational, Kindness, Teaching', 'Hope, Wisdom, Godly', 'Giving Up, Powerful, Mean', 'Inspirational, Confidence, Cute Relationship', 'Life, Self Esteem, Women', 'Motivational, Success, Perseverance', 'Inspirational, Motivational, Sports', 'Funny, Wisdom, Humorous', 'Motivational, Success, Encouragement', 'Love, Motivational, Family', 'Government, Liberty, Libertarian', 'Inspirational, Motivational, Positive', 'Learning, Intelligent, Perspective', 'Inspirational, Happiness, Inspiring', 'Life, Happiness, People', 'Happiness, Teaching, Use', 'Inspirational, Perseverance, Determination', 'Motivational, Basketball, Confidence', 'Inspirational, Life, Motivational', 'Love, Inspirational, Life', 'Family, Faith, Inspiration', 'Motivational, Thanksgiving, Gratitude', 'Love, Inspirational, Motivational', 'Motivational, Business, Military', 'Inspirational, Motivational, Positive', 'Art, Crazy, War', 'Inspirational, Attitude, Learning', 'Forgiveness, Spiritual, Wisdom', 'Sympathy, Death, Wisdom', 'Inspirational, Motivational, Determination', 'Inspirational, Motivational, Leadership', 'Life, Motivation, Winning', 'Inspirational, Work, Women', 'Inspirational, Life, Motivational', 'Life, Sad, Writing', 'Love, Life, Heart', 'Inspirational, Success, Basketball', 'Life, Broken Heart, Heartbreak', 'Happiness, Smile, Happy', 'Peace, Freedom, Inspiration', 'Inspirational, Life, Positive', 'Wisdom, Religious, Freedom', 'Reality, Servant Of God, Careers', 'Inspirational, Funny, Dog', 'Respect, Fear, Integrity', 'Inspirational, Motivational, Success', 'Friendship, Teamwork, Mom', 'Military, Marine, Two', 'Love, Inspirational, Life', 'Inspirational, Patience, Spiritual', 'Love, Life, Patience', 'Fall, Revolutionary Leaders, Apples', 'Love, Forgiveness, Peace', 'Wisdom, Adversity, Triumph', 'Motivational, Spiritual, Self Esteem', 'Inspirational, Business, Imagination', 'Inspirational, Life, Motivational', 'Motivational, Success, Education', 'Inspiring, Education, Teacher', 'Determination, Dragons, Hiking', 'Life, Positive, Encouraging', 'Love, Inspirational, Funny', 'Moving On, Break Up, I Miss You', 'Thanksgiving, Thankful, Gratitude', 'Attitude, Positive Thinking, Positivity', 'Inspiration, Miracle, Preparation', 'Life, Motivational, Positive', 'Inspirational, Life, Motivational', 'Inspirational, Success, Determination', 'Education, Wisdom, Teaching', 'Trust, Faith, Spiritual', 'Inspirational, Life, Motivational', 'Love, Inspirational, Forgiveness', 'Inspirational, Change, Inspiring', 'Inspirational, Motivational, Strength', 'Change, Thank You, Memorial Day', 'Inspirational, Life, Motivational', 'Military, Fighting, Marine', 'Inspirational, Motivational, Success', 'Love, Family, Marriage', 'Freedom, Numbers, Being Free', 'Motivational, Military, Marine', 'Inspirational, Change, Smile', 'Leadership, Wisdom, Distance', 'Inspirational, Funny, Life', 'Inspirational, Education, Perseverance', 'Love, Inspirational, Dark', 'Christian, Feet, Sound', 'Inspirational, Strength, Inspiring', 'Family, Fathers Day, Children', 'Love, Life, Suffering', 'Love, Life, Happy', 'Inspirational, Motivational, Positive', 'Inspirational, Spiritual, Nature', 'New Year, New Beginnings, Might', 'Inspirational, Strength, Success', 'Inspirational, Life, Positive', 'Inspirational, Life, Motivational', 'Kindness, Thinking, Wicked World', 'Success, Greatness, Errors', 'Life, Motivational, Stay Strong', 'Christian, Goal, Church', 'Motivational, Inspiring, Graduation', 'Inspirational, Life, Being Yourself', 'Inspirational, Spiritual, Time', 'Integrity, Heart, Positivity', 'Inspirational, Thank You, Thanksgiving', 'Inspirational, Positive, Success', 'Writing, Self Improvement, Self Help', 'Inspirational, Positive, Moving On', 'Drinking, Sick, Way', 'Family, Mom, Mother', 'Love, Inspirational, Life', 'Learning, Miracle, Process', 'Inspirational, Motivational, Positive', 'Funny, Basketball, Sports', 'Change, Positive, Courage', 'Effort, Greed, Needs', 'Inspirational, Greatness, What Matters', 'Inspirational, Life, Motivational', 'Inspirational, Life, Motivational', 'Inspirational, Life, Motivational', 'Inspirational, Funny, Leadership', 'Inspirational, Positive, Determination', 'Inspirational, Success, Graduation', 'Hope, Optimistic, Fighting', 'Teacher, Inspirational Love, Peace', 'Inspirational, Memorial Day, Freedom', 'Inspirational, Life, Positive', 'Art, Creativity, Mind', 'Motivational, Good Life, Greatness', 'Self Esteem, Greatness, Goal', 'Inspirational, Life, Fear', 'War, Military, Marine', 'Inspirational, Life, Karma', 'Inspirational, Life, Fitness Motivational', 'Inspirational, Motivational, Leadership', 'Light, Use, Be Careful', 'Inspirational, Mistake, Learning', 'Twelve, Way, Found', 'Inspirational, Success, Travel', 'Love, Inspirational, Success', 'Encouraging, Courage, Inspiration', 'Inspirational, Motivational, Success', 'Life, Happiness, Work', 'Inspirational, Inspiring, Positivity', 'Inspirational, Life, Success', 'Peace, War, Government', 'Life, Strength, Courage', 'Positive, Family, Trust', 'Inspirational, Life, Motivational', 'Inspirational, Motivational, Teacher', 'Success, Spiritual, Wisdom', 'Inspiring, Encouragement, Bad Day', 'Strength, Christian, Self', 'Life, Motivational, Success', 'Inspirational, Success, Basketball', 'Inspirational, Motivational, Positive', 'Love, Valentines Day, Fate', 'Gun, People, Second Amendment', 'Long, Chinese, World', 'Inspirational, Greatness, Envy', 'Love, Inspiring, Positivity', 'Practice, Political, Deception', 'Military, Marine, Hands', 'Inspirational, Life, Motivational', 'Love, Life, Crush', 'Inspirational, Motivational, Peace', 'Inspirational, Freedom, Responsibility', 'Inspirational, Life, Motivational', 'Inspirational, Positive, Success', 'Inspirational, God, Stay Strong', 'Motivational, Running, Ideas', 'Inspirational, Life, Happiness', 'Sports, Hero, News', 'Inspirational, Funny, Positive', 'Anger, Adversity, Climbing', 'Inspirational, Inspiring, Friends', 'Motivational, Inspiration, Adversity', 'Children, Creativity, Ignorance', 'Life, Music, Beautiful', 'Inspirational, Positive, Freedom', 'Inspirational, Life, Bullying', 'Inspirational, Motivational, Success', 'Inspirational, Inspiring, Beauty', 'Witty, Attitude, Freedom', 'Military, Marine, Men', 'Motivational, Success, Positivity', 'Plato, War, Government', 'Inspirational, Educational, Learning', 'Inspirational, Motivational, Success', 'Inspirational, Life, Second Chance', 'Love, Happiness, Smile', 'Motivational, Sports, Football', 'Thanksgiving, Thankful, Gratitude', 'Inspirational, Motivational, Badass', 'Life, Inspiring, Encouragement', 'Funny, Humorous, Character', 'Moving On, Famous Inspirational, Greatness', 'Motivational, Happiness, Mean', 'Life, Birthday, Inspiring', 'Children, Educational, Future', 'Inspirational, Funny, Life', 'Change, Inspiring, Life Changing', 'Inspirational, Integrity, Yoga', 'Inspirational, Positive, Wisdom', 'Funny, Hilarious, Education', 'Sheep, Government, Political', 'Leadership, Appreciation, Team Building', 'Inspirational, Change, Success', 'Empowerment, Crowds, Empowering Women', 'Education, Learning, Knowledge', 'Fear, Positivity, Doubting Everything', 'Inspirational, Motivational, Sports', 'Happiness, Inspiring, Happy', 'Funny, Attitude, Climbing', 'Confidence, Littles, Matter', 'Motivational, Buddhist, Children', 'Mean, Opportunity, Nerd', 'Love, Funny, Romantic', 'Inspirational, Positive, Stars', 'Running, Years, Tests', 'Peace, Integrity, Patriotic', 'Inspirational, Motivational, Relationship', 'Love, Life, Being Yourself', 'Happiness, Work, Opportunity', 'Inspiring, Forgiveness, New Beginnings', 'Motivational, Success, Work', 'Positive, Wisdom, Philosophical', 'Inspirational, Life, Motivational', 'Life, Leadership, Motivational Sports', 'Love, Confidence, Forgiving', 'Spiritual, Sufi, Wherever You Are', 'Inspirational, Motivational, Change', 'Inspirational, Life, Music', 'Artist, Age, Example', 'Inspirational, Motivational, Wise', 'Inspirational, Funny, Stupid', 'Love, Inspirational, Life', 'Education, Curiosity, Genius', 'Motivational, Inspiring, Leadership', 'Love, Inspirational, Motivational', 'Gun, Two, Qualms About', 'Inspirational, Greatness, Best Effort', 'Spiritual, Truth, Yoga', 'Inspirational, Leadership, Education']\n"
     ]
    },
    {
     "data": {
      "text/plain": [
       "1000"
      ]
     },
     "execution_count": 25,
     "metadata": {},
     "output_type": "execute_result"
    }
   ],
   "source": [
    "import time\n",
    "quote_type=[]\n",
    "for page in range(0,10):\n",
    "    quotetypetag=driver5.find_elements(By.XPATH, '//div[@class=\"tags\"]')\n",
    "    for i in quotetypetag:\n",
    "    \n",
    "        quote_type.append(i.text)\n",
    "    next_button5=driver5.find_element(By.CSS_SELECTOR, \".next\")\n",
    "    next_button5.click()\n",
    "    time.sleep(3)\n",
    "    \n",
    "\n",
    "print(quote_type)\n",
    "len(quote_type)"
   ]
  },
  {
   "cell_type": "code",
   "execution_count": 27,
   "id": "22b62566",
   "metadata": {},
   "outputs": [],
   "source": [
    "dfQuote=pd.DataFrame({'Quote':Quote,'Author':author,'Quote_Type':quote_type})"
   ]
  },
  {
   "cell_type": "code",
   "execution_count": 28,
   "id": "d856d838",
   "metadata": {},
   "outputs": [
    {
     "data": {
      "text/html": [
       "<div>\n",
       "<style scoped>\n",
       "    .dataframe tbody tr th:only-of-type {\n",
       "        vertical-align: middle;\n",
       "    }\n",
       "\n",
       "    .dataframe tbody tr th {\n",
       "        vertical-align: top;\n",
       "    }\n",
       "\n",
       "    .dataframe thead th {\n",
       "        text-align: right;\n",
       "    }\n",
       "</style>\n",
       "<table border=\"1\" class=\"dataframe\">\n",
       "  <thead>\n",
       "    <tr style=\"text-align: right;\">\n",
       "      <th></th>\n",
       "      <th>Quote</th>\n",
       "      <th>Author</th>\n",
       "      <th>Quote_Type</th>\n",
       "    </tr>\n",
       "  </thead>\n",
       "  <tbody>\n",
       "    <tr>\n",
       "      <th>0</th>\n",
       "      <td>The essence of strategy is choosing what not t...</td>\n",
       "      <td>Michael Porter</td>\n",
       "      <td>Essence, Deep Thought, Transcendentalism</td>\n",
       "    </tr>\n",
       "    <tr>\n",
       "      <th>1</th>\n",
       "      <td>One cannot and must not try to erase the past ...</td>\n",
       "      <td>Golda Meir</td>\n",
       "      <td>Inspiration, Past, Trying</td>\n",
       "    </tr>\n",
       "    <tr>\n",
       "      <th>2</th>\n",
       "      <td>Patriotism means to stand by the country. It d...</td>\n",
       "      <td>Theodore Roosevelt</td>\n",
       "      <td>Country, Peace, War</td>\n",
       "    </tr>\n",
       "    <tr>\n",
       "      <th>3</th>\n",
       "      <td>Death is something inevitable. When a man has ...</td>\n",
       "      <td>Nelson Mandela</td>\n",
       "      <td>Inspirational, Motivational, Death</td>\n",
       "    </tr>\n",
       "    <tr>\n",
       "      <th>4</th>\n",
       "      <td>You have to love a nation that celebrates its ...</td>\n",
       "      <td>Erma Bombeck</td>\n",
       "      <td>4th Of July, Food, Patriotic</td>\n",
       "    </tr>\n",
       "    <tr>\n",
       "      <th>...</th>\n",
       "      <td>...</td>\n",
       "      <td>...</td>\n",
       "      <td>...</td>\n",
       "    </tr>\n",
       "    <tr>\n",
       "      <th>995</th>\n",
       "      <td>Regret for the things we did can be tempered b...</td>\n",
       "      <td>Sydney J. Harris</td>\n",
       "      <td>Love, Inspirational, Motivational</td>\n",
       "    </tr>\n",
       "    <tr>\n",
       "      <th>996</th>\n",
       "      <td>America... just a nation of two hundred millio...</td>\n",
       "      <td>Hunter S. Thompson</td>\n",
       "      <td>Gun, Two, Qualms About</td>\n",
       "    </tr>\n",
       "    <tr>\n",
       "      <th>997</th>\n",
       "      <td>For every disciplined effort there is a multip...</td>\n",
       "      <td>Jim Rohn</td>\n",
       "      <td>Inspirational, Greatness, Best Effort</td>\n",
       "    </tr>\n",
       "    <tr>\n",
       "      <th>998</th>\n",
       "      <td>The spiritual journey is individual, highly pe...</td>\n",
       "      <td>Ram Dass</td>\n",
       "      <td>Spiritual, Truth, Yoga</td>\n",
       "    </tr>\n",
       "    <tr>\n",
       "      <th>999</th>\n",
       "      <td>The mind is not a vessel to be filled but a fi...</td>\n",
       "      <td>Plutarch</td>\n",
       "      <td>Inspirational, Leadership, Education</td>\n",
       "    </tr>\n",
       "  </tbody>\n",
       "</table>\n",
       "<p>1000 rows × 3 columns</p>\n",
       "</div>"
      ],
      "text/plain": [
       "                                                 Quote              Author  \\\n",
       "0    The essence of strategy is choosing what not t...      Michael Porter   \n",
       "1    One cannot and must not try to erase the past ...          Golda Meir   \n",
       "2    Patriotism means to stand by the country. It d...  Theodore Roosevelt   \n",
       "3    Death is something inevitable. When a man has ...      Nelson Mandela   \n",
       "4    You have to love a nation that celebrates its ...        Erma Bombeck   \n",
       "..                                                 ...                 ...   \n",
       "995  Regret for the things we did can be tempered b...    Sydney J. Harris   \n",
       "996  America... just a nation of two hundred millio...  Hunter S. Thompson   \n",
       "997  For every disciplined effort there is a multip...            Jim Rohn   \n",
       "998  The spiritual journey is individual, highly pe...            Ram Dass   \n",
       "999  The mind is not a vessel to be filled but a fi...            Plutarch   \n",
       "\n",
       "                                   Quote_Type  \n",
       "0    Essence, Deep Thought, Transcendentalism  \n",
       "1                   Inspiration, Past, Trying  \n",
       "2                         Country, Peace, War  \n",
       "3          Inspirational, Motivational, Death  \n",
       "4                4th Of July, Food, Patriotic  \n",
       "..                                        ...  \n",
       "995         Love, Inspirational, Motivational  \n",
       "996                    Gun, Two, Qualms About  \n",
       "997     Inspirational, Greatness, Best Effort  \n",
       "998                    Spiritual, Truth, Yoga  \n",
       "999      Inspirational, Leadership, Education  \n",
       "\n",
       "[1000 rows x 3 columns]"
      ]
     },
     "execution_count": 28,
     "metadata": {},
     "output_type": "execute_result"
    }
   ],
   "source": [
    "dfQuote"
   ]
  },
  {
   "cell_type": "code",
   "execution_count": null,
   "id": "b36d1f38",
   "metadata": {},
   "outputs": [],
   "source": []
  },
  {
   "cell_type": "code",
   "execution_count": null,
   "id": "bfb6b6ac",
   "metadata": {},
   "outputs": [],
   "source": []
  },
  {
   "cell_type": "markdown",
   "id": "1b2e69e7",
   "metadata": {},
   "source": [
    "Q8: Write a python program to display list of 50 Most expensive cars in the world\n",
    "(i.e. Car name and Price) from https://www.motor1.com/\n",
    "    This task will be done in following steps:\n",
    "1. First get the webpage https://www.motor1.com/\n",
    "2. Then You have to type in the search bar ’50 most expensive cars’\n",
    "3. Then click on 50 most expensive carsin the world..\n",
    "4. Then scrap thementioned data and make the dataframe"
   ]
  },
  {
   "cell_type": "code",
   "execution_count": 4,
   "id": "5b54dd8c",
   "metadata": {},
   "outputs": [],
   "source": [
    "driver8=webdriver.Chrome()"
   ]
  },
  {
   "cell_type": "code",
   "execution_count": 5,
   "id": "bfe0e48a",
   "metadata": {},
   "outputs": [],
   "source": [
    "driver8.get('https://www.motor1.com/')"
   ]
  },
  {
   "cell_type": "code",
   "execution_count": 6,
   "id": "e3c411f9",
   "metadata": {},
   "outputs": [],
   "source": [
    "search=driver8.find_element(By.XPATH,'/html/body/div[9]/div[2]/div/div/div[3]/div/div/div/form/input')\n",
    "search.send_keys('50 most expensive cars')"
   ]
  },
  {
   "cell_type": "code",
   "execution_count": 10,
   "id": "3a001a89",
   "metadata": {},
   "outputs": [
    {
     "name": "stdout",
     "output_type": "stream",
     "text": [
      "['Aston Martin Valour', 'McLaren Elva', 'Czinger 21C', 'Ferrari Monza', 'Gordon Murray T.33', 'Koenigsegg Gemera', 'Zenvo TSR-S', 'Hennessey Venom F5', 'Bentley Bacalar', 'Hispano Suiza Carmen Boulogne', 'Bentley Mulliner Batur', 'Deus Vayanne', 'SSC Tuatara', 'Lotus Evija', 'Aston Martin Vulcan', 'Delage D12', 'Ferrari Daytona SP3', 'McLaren Speedtail', 'Rimac Nevera', 'Pagani Utopia', 'Pininfarina Battista', 'Gordon Murray T.50', 'Lamborghini Countach', 'Mercedes-AMG Project One', 'Zenvo Aurora', 'Aston Martin Victor', 'Hennessey Venom F5 Roadster', 'Koenigsegg Jesko', 'Aston Martin Valkyrie', 'W Motors Lykan Hypersport', 'McLaren Solus', 'Lamborghini Sian', 'Koenigsegg CC850', 'Bugatti Chiron Super Sport 300+', 'Lamborghini Veneno', 'Bugatti Bolide', 'Pininfarina B95 Speedster', 'Bugatti Mistral', 'Pagani Huayra Imola', 'Bugatti Divo', 'SP Automotive Chaos', 'Pagani Codalunga', '777 Hypercar', 'Mercedes-Maybach Exelero', 'Bugatti Centodieci', 'Bugatti Chiron Profilée', 'Rolls-Royce Sweptail', 'Bugatti La Voiture Noire', 'Rolls-Royce Boat Tail*', 'Rolls-Royce La Rose Noire Droptail']\n"
     ]
    },
    {
     "data": {
      "text/plain": [
       "50"
      ]
     },
     "execution_count": 10,
     "metadata": {},
     "output_type": "execute_result"
    }
   ],
   "source": [
    "\n",
    "car_name=[]\n",
    "\n",
    "cartag=driver8.find_elements(By.XPATH, '//h3[@class=\"subheader\"]')\n",
    "for i in cartag[0:50]:\n",
    "    car_name.append(i.text)\n",
    "    \n",
    "\n",
    "print(car_name)\n",
    "len(car_name)"
   ]
  },
  {
   "cell_type": "code",
   "execution_count": 9,
   "id": "933393e3",
   "metadata": {},
   "outputs": [
    {
     "name": "stdout",
     "output_type": "stream",
     "text": [
      "[' $1.5 Million', ' $1.7 Million', ' $1.7 Million', ' $1.7 Million', ' $1.7 Million', ' $1.7 Million', ' $1.7 Million', ' $1.8 Million', ' $1.9 Million', ' $1.9 Million', ' $2.0 Million', ' $2.0 Million', ' $2.0 Million', ' $2.1 Million', ' $2.3 Million', ' $2.3 Million', ' $2.3 Million', ' $2.3 Million', ' $2.4 Million', ' $2.5 Million', ' $2.5 Million', ' $2.6 Million', ' $2.6 Million', ' $2.7 Million', ' $2.8 Million', ' $3.0 Million', '$3.0 Million', ' $3.0 Million', ' $3.2 Million', ' $3.4 Million', '$3.5 Million', ' $3.6 million', ' $3.7 Million', ' $3.9 Million', ' $4.5 Million', ' $4.7 Million', ' $4.8 Million', ' $5.0 Million', ' $5.4 Million', ' $5.8 Million', ' $6.4 Million', ' $7.4 Million', ' $7.5 Million', ' $8.0 Million', ' $9.0 Million', ' $10.8 Million', ' $12.8 Million', ' $13.4 Million', ' $28.0 Million (est.)', ' $30 Million (est.)']\n"
     ]
    },
    {
     "data": {
      "text/plain": [
       "50"
      ]
     },
     "execution_count": 9,
     "metadata": {},
     "output_type": "execute_result"
    }
   ],
   "source": [
    "car_price=[]\n",
    "\n",
    "carpricetag=driver8.find_elements(By.XPATH, \".//strong\")\n",
    "for i in carpricetag:\n",
    "    car_price.append(i.text.replace('Price:',''))\n",
    "    \n",
    "\n",
    "print(car_price)\n",
    "len(car_price)"
   ]
  },
  {
   "cell_type": "code",
   "execution_count": 13,
   "id": "c4830697",
   "metadata": {},
   "outputs": [
    {
     "name": "stdout",
     "output_type": "stream",
     "text": [
      "                              Car_Name                  Price\n",
      "0                  Aston Martin Valour           $1.5 Million\n",
      "1                         McLaren Elva           $1.7 Million\n",
      "2                          Czinger 21C           $1.7 Million\n",
      "3                        Ferrari Monza           $1.7 Million\n",
      "4                   Gordon Murray T.33           $1.7 Million\n",
      "5                    Koenigsegg Gemera           $1.7 Million\n",
      "6                          Zenvo TSR-S           $1.7 Million\n",
      "7                   Hennessey Venom F5           $1.8 Million\n",
      "8                      Bentley Bacalar           $1.9 Million\n",
      "9        Hispano Suiza Carmen Boulogne           $1.9 Million\n",
      "10              Bentley Mulliner Batur           $2.0 Million\n",
      "11                        Deus Vayanne           $2.0 Million\n",
      "12                         SSC Tuatara           $2.0 Million\n",
      "13                         Lotus Evija           $2.1 Million\n",
      "14                 Aston Martin Vulcan           $2.3 Million\n",
      "15                          Delage D12           $2.3 Million\n",
      "16                 Ferrari Daytona SP3           $2.3 Million\n",
      "17                   McLaren Speedtail           $2.3 Million\n",
      "18                        Rimac Nevera           $2.4 Million\n",
      "19                       Pagani Utopia           $2.5 Million\n",
      "20                Pininfarina Battista           $2.5 Million\n",
      "21                  Gordon Murray T.50           $2.6 Million\n",
      "22                Lamborghini Countach           $2.6 Million\n",
      "23            Mercedes-AMG Project One           $2.7 Million\n",
      "24                        Zenvo Aurora           $2.8 Million\n",
      "25                 Aston Martin Victor           $3.0 Million\n",
      "26         Hennessey Venom F5 Roadster           $3.0 Million\n",
      "27                    Koenigsegg Jesko           $3.0 Million\n",
      "28               Aston Martin Valkyrie           $3.2 Million\n",
      "29           W Motors Lykan Hypersport           $3.4 Million\n",
      "30                       McLaren Solus           $3.5 Million\n",
      "31                    Lamborghini Sian           $3.6 million\n",
      "32                    Koenigsegg CC850           $3.7 Million\n",
      "33     Bugatti Chiron Super Sport 300+           $3.9 Million\n",
      "34                  Lamborghini Veneno           $4.5 Million\n",
      "35                      Bugatti Bolide           $4.7 Million\n",
      "36           Pininfarina B95 Speedster           $4.8 Million\n",
      "37                     Bugatti Mistral           $5.0 Million\n",
      "38                 Pagani Huayra Imola           $5.4 Million\n",
      "39                        Bugatti Divo           $5.8 Million\n",
      "40                 SP Automotive Chaos           $6.4 Million\n",
      "41                    Pagani Codalunga           $7.4 Million\n",
      "42                        777 Hypercar           $7.5 Million\n",
      "43            Mercedes-Maybach Exelero           $8.0 Million\n",
      "44                  Bugatti Centodieci           $9.0 Million\n",
      "45             Bugatti Chiron Profilée          $10.8 Million\n",
      "46                Rolls-Royce Sweptail          $12.8 Million\n",
      "47            Bugatti La Voiture Noire          $13.4 Million\n",
      "48              Rolls-Royce Boat Tail*   $28.0 Million (est.)\n",
      "49  Rolls-Royce La Rose Noire Droptail     $30 Million (est.)\n"
     ]
    }
   ],
   "source": [
    "dfcar=pd.DataFrame({'Car_Name':car_name,'Price':car_price})\n",
    "print(dfcar)"
   ]
  },
  {
   "cell_type": "code",
   "execution_count": null,
   "id": "ee7d7c3a",
   "metadata": {},
   "outputs": [],
   "source": []
  },
  {
   "cell_type": "code",
   "execution_count": 61,
   "id": "c875bc34",
   "metadata": {},
   "outputs": [],
   "source": []
  }
 ],
 "metadata": {
  "kernelspec": {
   "display_name": "Python 3 (ipykernel)",
   "language": "python",
   "name": "python3"
  },
  "language_info": {
   "codemirror_mode": {
    "name": "ipython",
    "version": 3
   },
   "file_extension": ".py",
   "mimetype": "text/x-python",
   "name": "python",
   "nbconvert_exporter": "python",
   "pygments_lexer": "ipython3",
   "version": "3.11.4"
  }
 },
 "nbformat": 4,
 "nbformat_minor": 5
}
